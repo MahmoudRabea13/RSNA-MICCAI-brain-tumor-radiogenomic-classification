{
 "cells": [
  {
   "cell_type": "code",
   "execution_count": 1,
   "id": "137214a1",
   "metadata": {
    "_cell_guid": "b1076dfc-b9ad-4769-8c92-a6c4dae69d19",
    "_uuid": "8f2839f25d086af736a60e9eeb907d3b93b6e0e5",
    "execution": {
     "iopub.execute_input": "2024-01-07T02:57:25.896510Z",
     "iopub.status.busy": "2024-01-07T02:57:25.895765Z",
     "iopub.status.idle": "2024-01-07T02:57:38.517897Z",
     "shell.execute_reply": "2024-01-07T02:57:38.517091Z"
    },
    "papermill": {
     "duration": 12.633878,
     "end_time": "2024-01-07T02:57:38.520156",
     "exception": false,
     "start_time": "2024-01-07T02:57:25.886278",
     "status": "completed"
    },
    "tags": []
   },
   "outputs": [
    {
     "name": "stderr",
     "output_type": "stream",
     "text": [
      "/opt/conda/lib/python3.10/site-packages/scipy/__init__.py:146: UserWarning: A NumPy version >=1.16.5 and <1.23.0 is required for this version of SciPy (detected version 1.24.3\n",
      "  warnings.warn(f\"A NumPy version >={np_minversion} and <{np_maxversion}\"\n"
     ]
    }
   ],
   "source": [
    "import pandas as pd\n",
    "import tensorflow as tf\n",
    "import matplotlib.pyplot as plt\n",
    "import numpy as np\n",
    "import os\n",
    "from sklearn.model_selection import train_test_split\n",
    "import math\n",
    "from tensorflow.keras.metrics import AUC\n",
    "from tensorflow.keras.callbacks import EarlyStopping, ReduceLROnPlateau\n",
    "from glob import glob\n",
    "import pydicom\n",
    "from pydicom.pixel_data_handlers.util import apply_voi_lut\n",
    "import seaborn as sns"
   ]
  },
  {
   "cell_type": "code",
   "execution_count": 2,
   "id": "1f802278",
   "metadata": {
    "execution": {
     "iopub.execute_input": "2024-01-07T02:57:38.536893Z",
     "iopub.status.busy": "2024-01-07T02:57:38.536403Z",
     "iopub.status.idle": "2024-01-07T02:57:38.540925Z",
     "shell.execute_reply": "2024-01-07T02:57:38.540131Z"
    },
    "papermill": {
     "duration": 0.01474,
     "end_time": "2024-01-07T02:57:38.542765",
     "exception": false,
     "start_time": "2024-01-07T02:57:38.528025",
     "status": "completed"
    },
    "tags": []
   },
   "outputs": [],
   "source": [
    "HEIGHT = WIDTH = 300\n",
    "BATCH_SIZE = 64\n",
    "EPOCHS = 20\n",
    "TRAIN_PROP = 0.9\n",
    "AUTOTUNE = tf.data.AUTOTUNE"
   ]
  },
  {
   "cell_type": "code",
   "execution_count": 3,
   "id": "03b36495",
   "metadata": {
    "execution": {
     "iopub.execute_input": "2024-01-07T02:57:38.558511Z",
     "iopub.status.busy": "2024-01-07T02:57:38.558205Z",
     "iopub.status.idle": "2024-01-07T02:57:38.574000Z",
     "shell.execute_reply": "2024-01-07T02:57:38.573300Z"
    },
    "papermill": {
     "duration": 0.025702,
     "end_time": "2024-01-07T02:57:38.575844",
     "exception": false,
     "start_time": "2024-01-07T02:57:38.550142",
     "status": "completed"
    },
    "tags": []
   },
   "outputs": [],
   "source": [
    "df = pd.read_csv(\"/kaggle/input/rsna-miccai-brain-tumor-radiogenomic-classification/train_labels.csv\")"
   ]
  },
  {
   "cell_type": "code",
   "execution_count": 4,
   "id": "9df12daa",
   "metadata": {
    "execution": {
     "iopub.execute_input": "2024-01-07T02:57:38.591843Z",
     "iopub.status.busy": "2024-01-07T02:57:38.591582Z",
     "iopub.status.idle": "2024-01-07T02:57:38.604453Z",
     "shell.execute_reply": "2024-01-07T02:57:38.603799Z"
    },
    "papermill": {
     "duration": 0.022971,
     "end_time": "2024-01-07T02:57:38.606312",
     "exception": false,
     "start_time": "2024-01-07T02:57:38.583341",
     "status": "completed"
    },
    "tags": []
   },
   "outputs": [],
   "source": [
    "rem = [109, 123, 709]\n",
    "df = df[~df.BraTS21ID.isin(rem)].reset_index(drop = True)"
   ]
  },
  {
   "cell_type": "code",
   "execution_count": 5,
   "id": "b909a6f9",
   "metadata": {
    "execution": {
     "iopub.execute_input": "2024-01-07T02:57:38.622031Z",
     "iopub.status.busy": "2024-01-07T02:57:38.621759Z",
     "iopub.status.idle": "2024-01-07T02:57:38.633893Z",
     "shell.execute_reply": "2024-01-07T02:57:38.633127Z"
    },
    "papermill": {
     "duration": 0.022019,
     "end_time": "2024-01-07T02:57:38.635729",
     "exception": false,
     "start_time": "2024-01-07T02:57:38.613710",
     "status": "completed"
    },
    "tags": []
   },
   "outputs": [],
   "source": [
    "def full_ids(data):\n",
    "    zeros = 5 - len(str(data))\n",
    "    if zeros > 0:\n",
    "        prefix = ''.join(['0' for i in range(zeros)])\n",
    "    \n",
    "    return prefix+str(data)\n",
    "        \n",
    "\n",
    "df['BraTS21ID_full'] = df['BraTS21ID'].apply(full_ids)\n",
    "\n",
    "root_dir_train = \"/kaggle/input/rsna-miccai-png/\"\n",
    "\n",
    "df['flair'] = df['BraTS21ID_full'].apply(lambda file_id : root_dir_train+'train/'+file_id+'/FLAIR/')\n",
    "df['t1w'] = df['BraTS21ID_full'].apply(lambda file_id : root_dir_train+'train/'+file_id+'/T1w/')\n",
    "df['t1wce'] = df['BraTS21ID_full'].apply(lambda file_id : root_dir_train+'train/'+file_id+'/T1wCE/')\n",
    "df['t2w'] = df['BraTS21ID_full'].apply(lambda file_id : root_dir_train+'train/'+file_id+'/T2w/')\n"
   ]
  },
  {
   "cell_type": "code",
   "execution_count": 6,
   "id": "fc914091",
   "metadata": {
    "execution": {
     "iopub.execute_input": "2024-01-07T02:57:38.651397Z",
     "iopub.status.busy": "2024-01-07T02:57:38.651130Z",
     "iopub.status.idle": "2024-01-07T02:57:38.662695Z",
     "shell.execute_reply": "2024-01-07T02:57:38.661884Z"
    },
    "papermill": {
     "duration": 0.021538,
     "end_time": "2024-01-07T02:57:38.664584",
     "exception": false,
     "start_time": "2024-01-07T02:57:38.643046",
     "status": "completed"
    },
    "tags": []
   },
   "outputs": [],
   "source": [
    "def train_df(mri_type):\n",
    "    all_img_files = []\n",
    "    all_img_labels = []\n",
    "    all_img_patient_ids = []\n",
    "    for row in df.iterrows():\n",
    "        \n",
    "        img_dir = row[1][mri_type]\n",
    "        img_files = os.listdir(img_dir)\n",
    "        img_nums = sorted([int(ele.replace('Image-', '').replace('.png', '')) for ele in img_files])\n",
    "        mid_point = int(len(img_nums)/2)\n",
    "        start_point = mid_point - max(int(mid_point*0.1), 1)\n",
    "        end_point = mid_point + max(int(mid_point*0.1), 1)\n",
    "        img_names = [f'Image-{img_nums[i]}.png' for i in range(start_point, end_point+1)]\n",
    "        img_paths = [img_dir+image for image in img_names]\n",
    "        img_labels = [row[1]['MGMT_value']]*len(img_paths)\n",
    "        img_patient_ids = [row[1]['BraTS21ID']]*len(img_paths)\n",
    "        all_img_files.extend(img_paths)\n",
    "        all_img_labels.extend(img_labels)\n",
    "        all_img_patient_ids.extend(img_patient_ids)\n",
    "        \n",
    "    train_val_df = pd.DataFrame({'patient_ids': all_img_patient_ids,\n",
    "                  'labels': all_img_labels,\n",
    "                  'file_paths': all_img_files})\n",
    "    \n",
    "    classes_splits  = {}\n",
    "    for i in range(2):\n",
    "        train_val_label_class = train_val_df[train_val_df['labels']==i]\n",
    "        train_val_list_ids =  list(train_val_label_class['patient_ids'].unique())\n",
    "        train_threshold = math.ceil(TRAIN_PROP*len(train_val_list_ids))\n",
    "        train_ids = train_val_list_ids[:train_threshold]\n",
    "        val_ids = train_val_list_ids[train_threshold:]\n",
    "        classes_splits[f'train_{i}'] = train_val_label_class[train_val_label_class['patient_ids'].isin(train_ids)]\n",
    "        classes_splits[f'val_{i}'] = val_df = train_val_label_class[train_val_label_class['patient_ids'].isin(val_ids)]\n",
    "        \n",
    "    train_df = pd.concat([classes_splits['train_0'], classes_splits['train_1']], axis=0)\n",
    "    val_df = pd.concat([classes_splits['val_0'], classes_splits['val_1']], axis=0)\n",
    "\n",
    "    return train_df, val_df"
   ]
  },
  {
   "cell_type": "code",
   "execution_count": 7,
   "id": "388a356f",
   "metadata": {
    "execution": {
     "iopub.execute_input": "2024-01-07T02:57:38.680112Z",
     "iopub.status.busy": "2024-01-07T02:57:38.679862Z",
     "iopub.status.idle": "2024-01-07T02:59:44.354289Z",
     "shell.execute_reply": "2024-01-07T02:59:44.353467Z"
    },
    "papermill": {
     "duration": 125.684764,
     "end_time": "2024-01-07T02:59:44.356653",
     "exception": false,
     "start_time": "2024-01-07T02:57:38.671889",
     "status": "completed"
    },
    "tags": []
   },
   "outputs": [],
   "source": [
    "train_val = []\n",
    "for mri_type in ['flair', 't1w', 't1wce', 't2w']:\n",
    "    train_val.append(train_df(mri_type))"
   ]
  },
  {
   "cell_type": "code",
   "execution_count": 8,
   "id": "89ad658f",
   "metadata": {
    "execution": {
     "iopub.execute_input": "2024-01-07T02:59:44.373553Z",
     "iopub.status.busy": "2024-01-07T02:59:44.372834Z",
     "iopub.status.idle": "2024-01-07T02:59:44.378626Z",
     "shell.execute_reply": "2024-01-07T02:59:44.377794Z"
    },
    "papermill": {
     "duration": 0.016051,
     "end_time": "2024-01-07T02:59:44.380489",
     "exception": false,
     "start_time": "2024-01-07T02:59:44.364438",
     "status": "completed"
    },
    "tags": []
   },
   "outputs": [],
   "source": [
    "@tf.function\n",
    "def load_data(path, label):\n",
    "    image = tf.io.read_file(path)\n",
    "    image = tf.image.decode_png(image,channels=3)\n",
    "    image = tf.image.resize(image, (HEIGHT,WIDTH)) / 255.0\n",
    "    image = tf.expand_dims(image, axis=0)\n",
    "\n",
    "    return(image,label)"
   ]
  },
  {
   "cell_type": "code",
   "execution_count": 9,
   "id": "59981847",
   "metadata": {
    "execution": {
     "iopub.execute_input": "2024-01-07T02:59:44.396952Z",
     "iopub.status.busy": "2024-01-07T02:59:44.396684Z",
     "iopub.status.idle": "2024-01-07T02:59:44.401248Z",
     "shell.execute_reply": "2024-01-07T02:59:44.400439Z"
    },
    "papermill": {
     "duration": 0.015313,
     "end_time": "2024-01-07T02:59:44.403206",
     "exception": false,
     "start_time": "2024-01-07T02:59:44.387893",
     "status": "completed"
    },
    "tags": []
   },
   "outputs": [],
   "source": [
    "def form_dataset(paths,labels):\n",
    "    \n",
    "    dataset = tf.data.Dataset.from_tensor_slices((paths,labels))\n",
    "    \n",
    "    dataset = (\n",
    "        dataset\n",
    "        .map(load_data, num_parallel_calls = AUTOTUNE)\n",
    "        .prefetch(AUTOTUNE)\n",
    "    )\n",
    "    \n",
    "    return dataset"
   ]
  },
  {
   "cell_type": "code",
   "execution_count": 10,
   "id": "1a4f09e4",
   "metadata": {
    "execution": {
     "iopub.execute_input": "2024-01-07T02:59:44.418900Z",
     "iopub.status.busy": "2024-01-07T02:59:44.418642Z",
     "iopub.status.idle": "2024-01-07T02:59:44.432539Z",
     "shell.execute_reply": "2024-01-07T02:59:44.431760Z"
    },
    "papermill": {
     "duration": 0.023951,
     "end_time": "2024-01-07T02:59:44.434492",
     "exception": false,
     "start_time": "2024-01-07T02:59:44.410541",
     "status": "completed"
    },
    "tags": []
   },
   "outputs": [
    {
     "data": {
      "text/html": [
       "<div>\n",
       "<style scoped>\n",
       "    .dataframe tbody tr th:only-of-type {\n",
       "        vertical-align: middle;\n",
       "    }\n",
       "\n",
       "    .dataframe tbody tr th {\n",
       "        vertical-align: top;\n",
       "    }\n",
       "\n",
       "    .dataframe thead th {\n",
       "        text-align: right;\n",
       "    }\n",
       "</style>\n",
       "<table border=\"1\" class=\"dataframe\">\n",
       "  <thead>\n",
       "    <tr style=\"text-align: right;\">\n",
       "      <th></th>\n",
       "      <th>patient_ids</th>\n",
       "      <th>labels</th>\n",
       "      <th>file_paths</th>\n",
       "    </tr>\n",
       "  </thead>\n",
       "  <tbody>\n",
       "    <tr>\n",
       "      <th>6</th>\n",
       "      <td>3</td>\n",
       "      <td>0</td>\n",
       "      <td>/kaggle/input/rsna-miccai-png/train/00003/T1w/...</td>\n",
       "    </tr>\n",
       "    <tr>\n",
       "      <th>7</th>\n",
       "      <td>3</td>\n",
       "      <td>0</td>\n",
       "      <td>/kaggle/input/rsna-miccai-png/train/00003/T1w/...</td>\n",
       "    </tr>\n",
       "    <tr>\n",
       "      <th>8</th>\n",
       "      <td>3</td>\n",
       "      <td>0</td>\n",
       "      <td>/kaggle/input/rsna-miccai-png/train/00003/T1w/...</td>\n",
       "    </tr>\n",
       "    <tr>\n",
       "      <th>18</th>\n",
       "      <td>9</td>\n",
       "      <td>0</td>\n",
       "      <td>/kaggle/input/rsna-miccai-png/train/00009/T1w/...</td>\n",
       "    </tr>\n",
       "    <tr>\n",
       "      <th>19</th>\n",
       "      <td>9</td>\n",
       "      <td>0</td>\n",
       "      <td>/kaggle/input/rsna-miccai-png/train/00009/T1w/...</td>\n",
       "    </tr>\n",
       "    <tr>\n",
       "      <th>...</th>\n",
       "      <td>...</td>\n",
       "      <td>...</td>\n",
       "      <td>...</td>\n",
       "    </tr>\n",
       "    <tr>\n",
       "      <th>5635</th>\n",
       "      <td>773</td>\n",
       "      <td>1</td>\n",
       "      <td>/kaggle/input/rsna-miccai-png/train/00773/T1w/...</td>\n",
       "    </tr>\n",
       "    <tr>\n",
       "      <th>5636</th>\n",
       "      <td>773</td>\n",
       "      <td>1</td>\n",
       "      <td>/kaggle/input/rsna-miccai-png/train/00773/T1w/...</td>\n",
       "    </tr>\n",
       "    <tr>\n",
       "      <th>5637</th>\n",
       "      <td>773</td>\n",
       "      <td>1</td>\n",
       "      <td>/kaggle/input/rsna-miccai-png/train/00773/T1w/...</td>\n",
       "    </tr>\n",
       "    <tr>\n",
       "      <th>5638</th>\n",
       "      <td>773</td>\n",
       "      <td>1</td>\n",
       "      <td>/kaggle/input/rsna-miccai-png/train/00773/T1w/...</td>\n",
       "    </tr>\n",
       "    <tr>\n",
       "      <th>5639</th>\n",
       "      <td>773</td>\n",
       "      <td>1</td>\n",
       "      <td>/kaggle/input/rsna-miccai-png/train/00773/T1w/...</td>\n",
       "    </tr>\n",
       "  </tbody>\n",
       "</table>\n",
       "<p>5655 rows × 3 columns</p>\n",
       "</div>"
      ],
      "text/plain": [
       "      patient_ids  labels                                         file_paths\n",
       "6               3       0  /kaggle/input/rsna-miccai-png/train/00003/T1w/...\n",
       "7               3       0  /kaggle/input/rsna-miccai-png/train/00003/T1w/...\n",
       "8               3       0  /kaggle/input/rsna-miccai-png/train/00003/T1w/...\n",
       "18              9       0  /kaggle/input/rsna-miccai-png/train/00009/T1w/...\n",
       "19              9       0  /kaggle/input/rsna-miccai-png/train/00009/T1w/...\n",
       "...           ...     ...                                                ...\n",
       "5635          773       1  /kaggle/input/rsna-miccai-png/train/00773/T1w/...\n",
       "5636          773       1  /kaggle/input/rsna-miccai-png/train/00773/T1w/...\n",
       "5637          773       1  /kaggle/input/rsna-miccai-png/train/00773/T1w/...\n",
       "5638          773       1  /kaggle/input/rsna-miccai-png/train/00773/T1w/...\n",
       "5639          773       1  /kaggle/input/rsna-miccai-png/train/00773/T1w/...\n",
       "\n",
       "[5655 rows x 3 columns]"
      ]
     },
     "execution_count": 10,
     "metadata": {},
     "output_type": "execute_result"
    }
   ],
   "source": [
    "train_val[1][0]"
   ]
  },
  {
   "cell_type": "code",
   "execution_count": 11,
   "id": "50eff0d5",
   "metadata": {
    "execution": {
     "iopub.execute_input": "2024-01-07T02:59:44.451338Z",
     "iopub.status.busy": "2024-01-07T02:59:44.450697Z",
     "iopub.status.idle": "2024-01-07T02:59:45.642730Z",
     "shell.execute_reply": "2024-01-07T02:59:45.641781Z"
    },
    "papermill": {
     "duration": 1.203005,
     "end_time": "2024-01-07T02:59:45.645088",
     "exception": false,
     "start_time": "2024-01-07T02:59:44.442083",
     "status": "completed"
    },
    "tags": []
   },
   "outputs": [],
   "source": [
    "val_datasets = []\n",
    "\n",
    "for data in train_val:\n",
    "    val_datasets.append(\n",
    "        form_dataset(\n",
    "            data[1][\"file_paths\"],\n",
    "            data[1][\"labels\"]\n",
    "        )\n",
    "    )"
   ]
  },
  {
   "cell_type": "code",
   "execution_count": 12,
   "id": "82637109",
   "metadata": {
    "execution": {
     "iopub.execute_input": "2024-01-07T02:59:45.662325Z",
     "iopub.status.busy": "2024-01-07T02:59:45.661984Z",
     "iopub.status.idle": "2024-01-07T03:00:09.200434Z",
     "shell.execute_reply": "2024-01-07T03:00:09.199565Z"
    },
    "papermill": {
     "duration": 23.549552,
     "end_time": "2024-01-07T03:00:09.202732",
     "exception": false,
     "start_time": "2024-01-07T02:59:45.653180",
     "status": "completed"
    },
    "tags": []
   },
   "outputs": [],
   "source": [
    "models = []\n",
    "\n",
    "for mri_type in ['flair', 't1w', 't1wce', 't2w']:\n",
    "    models.append(tf.keras.models.load_model(f\"/kaggle/input/efficientnetb3-mpmri-models/{mri_type}_model.h5\"))"
   ]
  },
  {
   "cell_type": "code",
   "execution_count": 13,
   "id": "758d72f2",
   "metadata": {
    "execution": {
     "iopub.execute_input": "2024-01-07T03:00:09.219621Z",
     "iopub.status.busy": "2024-01-07T03:00:09.219326Z",
     "iopub.status.idle": "2024-01-07T03:00:34.675293Z",
     "shell.execute_reply": "2024-01-07T03:00:34.674455Z"
    },
    "papermill": {
     "duration": 25.467037,
     "end_time": "2024-01-07T03:00:34.677670",
     "exception": false,
     "start_time": "2024-01-07T03:00:09.210633",
     "status": "completed"
    },
    "tags": []
   },
   "outputs": [
    {
     "name": "stdout",
     "output_type": "stream",
     "text": [
      "279/279 [==============================] - 7s 12ms/step\n",
      "325/325 [==============================] - 6s 12ms/step\n",
      "323/323 [==============================] - 6s 12ms/step\n",
      "267/267 [==============================] - 5s 12ms/step\n"
     ]
    }
   ],
   "source": [
    "all_val_preds = []\n",
    "val_dfs = []\n",
    "\n",
    "for i, model_name in enumerate(['flair', 't1w', 't1wce', 't2w']):\n",
    "    val_df = train_val[i][1]\n",
    "    \n",
    "    val_ds = val_datasets[i]\n",
    "    model = models[i]\n",
    "    \n",
    "    val_pred = model.predict(val_ds, steps=len(val_ds))\n",
    "    val_df[\"pred_y\"] = val_pred\n",
    "    \n",
    "    val_dfs.append(val_df)\n",
    "    \n",
    "    mean_pred = val_pred.mean()\n",
    "    test_pred_agg = val_df.groupby('patient_ids').apply(\n",
    "        lambda x: x['pred_y'].max()\n",
    "        if (x['pred_y'].max() - mean_pred) > (mean_pred - x['pred_y'].min()) \n",
    "        else x['pred_y'].min())\n",
    "    all_val_preds.append(test_pred_agg.values)"
   ]
  },
  {
   "cell_type": "code",
   "execution_count": 14,
   "id": "33d7ece8",
   "metadata": {
    "execution": {
     "iopub.execute_input": "2024-01-07T03:00:34.733032Z",
     "iopub.status.busy": "2024-01-07T03:00:34.732636Z",
     "iopub.status.idle": "2024-01-07T03:00:34.740102Z",
     "shell.execute_reply": "2024-01-07T03:00:34.739280Z"
    },
    "papermill": {
     "duration": 0.037021,
     "end_time": "2024-01-07T03:00:34.741940",
     "exception": false,
     "start_time": "2024-01-07T03:00:34.704919",
     "status": "completed"
    },
    "tags": []
   },
   "outputs": [],
   "source": [
    "val_df = val_dfs[0][[\"patient_ids\",\"labels\"]]\n",
    "val_df = val_df.drop_duplicates().reset_index(drop=True)"
   ]
  },
  {
   "cell_type": "code",
   "execution_count": 15,
   "id": "15ade07c",
   "metadata": {
    "execution": {
     "iopub.execute_input": "2024-01-07T03:00:34.805725Z",
     "iopub.status.busy": "2024-01-07T03:00:34.804566Z",
     "iopub.status.idle": "2024-01-07T03:00:34.810246Z",
     "shell.execute_reply": "2024-01-07T03:00:34.809398Z"
    },
    "papermill": {
     "duration": 0.045224,
     "end_time": "2024-01-07T03:00:34.814437",
     "exception": false,
     "start_time": "2024-01-07T03:00:34.769213",
     "status": "completed"
    },
    "tags": []
   },
   "outputs": [],
   "source": [
    "all_val_preds = np.array(all_val_preds)\n",
    "preds = all_val_preds.mean(0)"
   ]
  },
  {
   "cell_type": "code",
   "execution_count": 16,
   "id": "5511fd24",
   "metadata": {
    "execution": {
     "iopub.execute_input": "2024-01-07T03:00:34.881893Z",
     "iopub.status.busy": "2024-01-07T03:00:34.881470Z",
     "iopub.status.idle": "2024-01-07T03:00:34.892658Z",
     "shell.execute_reply": "2024-01-07T03:00:34.890517Z"
    },
    "papermill": {
     "duration": 0.044852,
     "end_time": "2024-01-07T03:00:34.895060",
     "exception": false,
     "start_time": "2024-01-07T03:00:34.850208",
     "status": "completed"
    },
    "tags": []
   },
   "outputs": [],
   "source": [
    "val_df[\"preds\"] = preds"
   ]
  },
  {
   "cell_type": "code",
   "execution_count": 17,
   "id": "f0e44ddb",
   "metadata": {
    "execution": {
     "iopub.execute_input": "2024-01-07T03:00:34.971380Z",
     "iopub.status.busy": "2024-01-07T03:00:34.970948Z",
     "iopub.status.idle": "2024-01-07T03:00:34.977108Z",
     "shell.execute_reply": "2024-01-07T03:00:34.976280Z"
    },
    "papermill": {
     "duration": 0.046976,
     "end_time": "2024-01-07T03:00:34.979445",
     "exception": false,
     "start_time": "2024-01-07T03:00:34.932469",
     "status": "completed"
    },
    "tags": []
   },
   "outputs": [],
   "source": [
    "val_df[\"preds_binary\"] = val_df[\"preds\"] >= 0.5\n",
    "val_df[\"preds_binary\"] = val_df[\"preds_binary\"].astype(int)"
   ]
  },
  {
   "cell_type": "code",
   "execution_count": 18,
   "id": "4f576771",
   "metadata": {
    "execution": {
     "iopub.execute_input": "2024-01-07T03:00:35.103288Z",
     "iopub.status.busy": "2024-01-07T03:00:35.102295Z",
     "iopub.status.idle": "2024-01-07T03:00:35.121111Z",
     "shell.execute_reply": "2024-01-07T03:00:35.120285Z"
    },
    "papermill": {
     "duration": 0.054566,
     "end_time": "2024-01-07T03:00:35.123446",
     "exception": false,
     "start_time": "2024-01-07T03:00:35.068880",
     "status": "completed"
    },
    "tags": []
   },
   "outputs": [
    {
     "data": {
      "text/html": [
       "<div>\n",
       "<style scoped>\n",
       "    .dataframe tbody tr th:only-of-type {\n",
       "        vertical-align: middle;\n",
       "    }\n",
       "\n",
       "    .dataframe tbody tr th {\n",
       "        vertical-align: top;\n",
       "    }\n",
       "\n",
       "    .dataframe thead th {\n",
       "        text-align: right;\n",
       "    }\n",
       "</style>\n",
       "<table border=\"1\" class=\"dataframe\">\n",
       "  <thead>\n",
       "    <tr style=\"text-align: right;\">\n",
       "      <th></th>\n",
       "      <th>patient_ids</th>\n",
       "      <th>labels</th>\n",
       "      <th>preds</th>\n",
       "      <th>preds_binary</th>\n",
       "    </tr>\n",
       "  </thead>\n",
       "  <tbody>\n",
       "    <tr>\n",
       "      <th>0</th>\n",
       "      <td>778</td>\n",
       "      <td>0</td>\n",
       "      <td>0.566138</td>\n",
       "      <td>1</td>\n",
       "    </tr>\n",
       "    <tr>\n",
       "      <th>1</th>\n",
       "      <td>780</td>\n",
       "      <td>0</td>\n",
       "      <td>0.559691</td>\n",
       "      <td>1</td>\n",
       "    </tr>\n",
       "    <tr>\n",
       "      <th>2</th>\n",
       "      <td>788</td>\n",
       "      <td>0</td>\n",
       "      <td>0.564338</td>\n",
       "      <td>1</td>\n",
       "    </tr>\n",
       "    <tr>\n",
       "      <th>3</th>\n",
       "      <td>792</td>\n",
       "      <td>0</td>\n",
       "      <td>0.501971</td>\n",
       "      <td>1</td>\n",
       "    </tr>\n",
       "    <tr>\n",
       "      <th>4</th>\n",
       "      <td>796</td>\n",
       "      <td>0</td>\n",
       "      <td>0.497523</td>\n",
       "      <td>0</td>\n",
       "    </tr>\n",
       "    <tr>\n",
       "      <th>5</th>\n",
       "      <td>797</td>\n",
       "      <td>0</td>\n",
       "      <td>0.443227</td>\n",
       "      <td>0</td>\n",
       "    </tr>\n",
       "    <tr>\n",
       "      <th>6</th>\n",
       "      <td>799</td>\n",
       "      <td>0</td>\n",
       "      <td>0.514848</td>\n",
       "      <td>1</td>\n",
       "    </tr>\n",
       "    <tr>\n",
       "      <th>7</th>\n",
       "      <td>800</td>\n",
       "      <td>0</td>\n",
       "      <td>0.501233</td>\n",
       "      <td>1</td>\n",
       "    </tr>\n",
       "    <tr>\n",
       "      <th>8</th>\n",
       "      <td>802</td>\n",
       "      <td>0</td>\n",
       "      <td>0.479611</td>\n",
       "      <td>0</td>\n",
       "    </tr>\n",
       "    <tr>\n",
       "      <th>9</th>\n",
       "      <td>803</td>\n",
       "      <td>0</td>\n",
       "      <td>0.504892</td>\n",
       "      <td>1</td>\n",
       "    </tr>\n",
       "    <tr>\n",
       "      <th>10</th>\n",
       "      <td>804</td>\n",
       "      <td>0</td>\n",
       "      <td>0.478182</td>\n",
       "      <td>0</td>\n",
       "    </tr>\n",
       "    <tr>\n",
       "      <th>11</th>\n",
       "      <td>805</td>\n",
       "      <td>0</td>\n",
       "      <td>0.483002</td>\n",
       "      <td>0</td>\n",
       "    </tr>\n",
       "    <tr>\n",
       "      <th>12</th>\n",
       "      <td>806</td>\n",
       "      <td>0</td>\n",
       "      <td>0.530599</td>\n",
       "      <td>1</td>\n",
       "    </tr>\n",
       "    <tr>\n",
       "      <th>13</th>\n",
       "      <td>809</td>\n",
       "      <td>0</td>\n",
       "      <td>0.502624</td>\n",
       "      <td>1</td>\n",
       "    </tr>\n",
       "    <tr>\n",
       "      <th>14</th>\n",
       "      <td>810</td>\n",
       "      <td>0</td>\n",
       "      <td>0.447023</td>\n",
       "      <td>0</td>\n",
       "    </tr>\n",
       "    <tr>\n",
       "      <th>15</th>\n",
       "      <td>814</td>\n",
       "      <td>0</td>\n",
       "      <td>0.512734</td>\n",
       "      <td>1</td>\n",
       "    </tr>\n",
       "    <tr>\n",
       "      <th>16</th>\n",
       "      <td>818</td>\n",
       "      <td>0</td>\n",
       "      <td>0.509444</td>\n",
       "      <td>1</td>\n",
       "    </tr>\n",
       "    <tr>\n",
       "      <th>17</th>\n",
       "      <td>820</td>\n",
       "      <td>0</td>\n",
       "      <td>0.480011</td>\n",
       "      <td>0</td>\n",
       "    </tr>\n",
       "    <tr>\n",
       "      <th>18</th>\n",
       "      <td>824</td>\n",
       "      <td>0</td>\n",
       "      <td>0.487859</td>\n",
       "      <td>0</td>\n",
       "    </tr>\n",
       "    <tr>\n",
       "      <th>19</th>\n",
       "      <td>830</td>\n",
       "      <td>0</td>\n",
       "      <td>0.520543</td>\n",
       "      <td>1</td>\n",
       "    </tr>\n",
       "    <tr>\n",
       "      <th>20</th>\n",
       "      <td>834</td>\n",
       "      <td>0</td>\n",
       "      <td>0.487758</td>\n",
       "      <td>0</td>\n",
       "    </tr>\n",
       "    <tr>\n",
       "      <th>21</th>\n",
       "      <td>836</td>\n",
       "      <td>0</td>\n",
       "      <td>0.486186</td>\n",
       "      <td>0</td>\n",
       "    </tr>\n",
       "    <tr>\n",
       "      <th>22</th>\n",
       "      <td>837</td>\n",
       "      <td>0</td>\n",
       "      <td>0.495243</td>\n",
       "      <td>0</td>\n",
       "    </tr>\n",
       "    <tr>\n",
       "      <th>23</th>\n",
       "      <td>839</td>\n",
       "      <td>0</td>\n",
       "      <td>0.461093</td>\n",
       "      <td>0</td>\n",
       "    </tr>\n",
       "    <tr>\n",
       "      <th>24</th>\n",
       "      <td>1004</td>\n",
       "      <td>0</td>\n",
       "      <td>0.485977</td>\n",
       "      <td>0</td>\n",
       "    </tr>\n",
       "    <tr>\n",
       "      <th>25</th>\n",
       "      <td>1009</td>\n",
       "      <td>0</td>\n",
       "      <td>0.490372</td>\n",
       "      <td>0</td>\n",
       "    </tr>\n",
       "    <tr>\n",
       "      <th>26</th>\n",
       "      <td>1010</td>\n",
       "      <td>0</td>\n",
       "      <td>0.495662</td>\n",
       "      <td>0</td>\n",
       "    </tr>\n",
       "    <tr>\n",
       "      <th>27</th>\n",
       "      <td>775</td>\n",
       "      <td>1</td>\n",
       "      <td>0.473919</td>\n",
       "      <td>0</td>\n",
       "    </tr>\n",
       "    <tr>\n",
       "      <th>28</th>\n",
       "      <td>777</td>\n",
       "      <td>1</td>\n",
       "      <td>0.501559</td>\n",
       "      <td>1</td>\n",
       "    </tr>\n",
       "    <tr>\n",
       "      <th>29</th>\n",
       "      <td>781</td>\n",
       "      <td>1</td>\n",
       "      <td>0.469507</td>\n",
       "      <td>0</td>\n",
       "    </tr>\n",
       "    <tr>\n",
       "      <th>30</th>\n",
       "      <td>782</td>\n",
       "      <td>1</td>\n",
       "      <td>0.511821</td>\n",
       "      <td>1</td>\n",
       "    </tr>\n",
       "    <tr>\n",
       "      <th>31</th>\n",
       "      <td>784</td>\n",
       "      <td>1</td>\n",
       "      <td>0.495850</td>\n",
       "      <td>0</td>\n",
       "    </tr>\n",
       "    <tr>\n",
       "      <th>32</th>\n",
       "      <td>787</td>\n",
       "      <td>1</td>\n",
       "      <td>0.485289</td>\n",
       "      <td>0</td>\n",
       "    </tr>\n",
       "    <tr>\n",
       "      <th>33</th>\n",
       "      <td>789</td>\n",
       "      <td>1</td>\n",
       "      <td>0.513947</td>\n",
       "      <td>1</td>\n",
       "    </tr>\n",
       "    <tr>\n",
       "      <th>34</th>\n",
       "      <td>791</td>\n",
       "      <td>1</td>\n",
       "      <td>0.472804</td>\n",
       "      <td>0</td>\n",
       "    </tr>\n",
       "    <tr>\n",
       "      <th>35</th>\n",
       "      <td>793</td>\n",
       "      <td>1</td>\n",
       "      <td>0.460105</td>\n",
       "      <td>0</td>\n",
       "    </tr>\n",
       "    <tr>\n",
       "      <th>36</th>\n",
       "      <td>794</td>\n",
       "      <td>1</td>\n",
       "      <td>0.476475</td>\n",
       "      <td>0</td>\n",
       "    </tr>\n",
       "    <tr>\n",
       "      <th>37</th>\n",
       "      <td>795</td>\n",
       "      <td>1</td>\n",
       "      <td>0.486461</td>\n",
       "      <td>0</td>\n",
       "    </tr>\n",
       "    <tr>\n",
       "      <th>38</th>\n",
       "      <td>801</td>\n",
       "      <td>1</td>\n",
       "      <td>0.476407</td>\n",
       "      <td>0</td>\n",
       "    </tr>\n",
       "    <tr>\n",
       "      <th>39</th>\n",
       "      <td>807</td>\n",
       "      <td>1</td>\n",
       "      <td>0.493790</td>\n",
       "      <td>0</td>\n",
       "    </tr>\n",
       "    <tr>\n",
       "      <th>40</th>\n",
       "      <td>808</td>\n",
       "      <td>1</td>\n",
       "      <td>0.489748</td>\n",
       "      <td>0</td>\n",
       "    </tr>\n",
       "    <tr>\n",
       "      <th>41</th>\n",
       "      <td>811</td>\n",
       "      <td>1</td>\n",
       "      <td>0.481572</td>\n",
       "      <td>0</td>\n",
       "    </tr>\n",
       "    <tr>\n",
       "      <th>42</th>\n",
       "      <td>816</td>\n",
       "      <td>1</td>\n",
       "      <td>0.486733</td>\n",
       "      <td>0</td>\n",
       "    </tr>\n",
       "    <tr>\n",
       "      <th>43</th>\n",
       "      <td>819</td>\n",
       "      <td>1</td>\n",
       "      <td>0.481919</td>\n",
       "      <td>0</td>\n",
       "    </tr>\n",
       "    <tr>\n",
       "      <th>44</th>\n",
       "      <td>823</td>\n",
       "      <td>1</td>\n",
       "      <td>0.471682</td>\n",
       "      <td>0</td>\n",
       "    </tr>\n",
       "    <tr>\n",
       "      <th>45</th>\n",
       "      <td>828</td>\n",
       "      <td>1</td>\n",
       "      <td>0.428398</td>\n",
       "      <td>0</td>\n",
       "    </tr>\n",
       "    <tr>\n",
       "      <th>46</th>\n",
       "      <td>838</td>\n",
       "      <td>1</td>\n",
       "      <td>0.532364</td>\n",
       "      <td>1</td>\n",
       "    </tr>\n",
       "    <tr>\n",
       "      <th>47</th>\n",
       "      <td>840</td>\n",
       "      <td>1</td>\n",
       "      <td>0.485923</td>\n",
       "      <td>0</td>\n",
       "    </tr>\n",
       "    <tr>\n",
       "      <th>48</th>\n",
       "      <td>998</td>\n",
       "      <td>1</td>\n",
       "      <td>0.497979</td>\n",
       "      <td>0</td>\n",
       "    </tr>\n",
       "    <tr>\n",
       "      <th>49</th>\n",
       "      <td>999</td>\n",
       "      <td>1</td>\n",
       "      <td>0.532530</td>\n",
       "      <td>1</td>\n",
       "    </tr>\n",
       "    <tr>\n",
       "      <th>50</th>\n",
       "      <td>1000</td>\n",
       "      <td>1</td>\n",
       "      <td>0.510893</td>\n",
       "      <td>1</td>\n",
       "    </tr>\n",
       "    <tr>\n",
       "      <th>51</th>\n",
       "      <td>1001</td>\n",
       "      <td>1</td>\n",
       "      <td>0.455853</td>\n",
       "      <td>0</td>\n",
       "    </tr>\n",
       "    <tr>\n",
       "      <th>52</th>\n",
       "      <td>1002</td>\n",
       "      <td>1</td>\n",
       "      <td>0.482898</td>\n",
       "      <td>0</td>\n",
       "    </tr>\n",
       "    <tr>\n",
       "      <th>53</th>\n",
       "      <td>1003</td>\n",
       "      <td>1</td>\n",
       "      <td>0.537429</td>\n",
       "      <td>1</td>\n",
       "    </tr>\n",
       "    <tr>\n",
       "      <th>54</th>\n",
       "      <td>1005</td>\n",
       "      <td>1</td>\n",
       "      <td>0.475250</td>\n",
       "      <td>0</td>\n",
       "    </tr>\n",
       "    <tr>\n",
       "      <th>55</th>\n",
       "      <td>1007</td>\n",
       "      <td>1</td>\n",
       "      <td>0.532421</td>\n",
       "      <td>1</td>\n",
       "    </tr>\n",
       "    <tr>\n",
       "      <th>56</th>\n",
       "      <td>1008</td>\n",
       "      <td>1</td>\n",
       "      <td>0.470825</td>\n",
       "      <td>0</td>\n",
       "    </tr>\n",
       "  </tbody>\n",
       "</table>\n",
       "</div>"
      ],
      "text/plain": [
       "    patient_ids  labels     preds  preds_binary\n",
       "0           778       0  0.566138             1\n",
       "1           780       0  0.559691             1\n",
       "2           788       0  0.564338             1\n",
       "3           792       0  0.501971             1\n",
       "4           796       0  0.497523             0\n",
       "5           797       0  0.443227             0\n",
       "6           799       0  0.514848             1\n",
       "7           800       0  0.501233             1\n",
       "8           802       0  0.479611             0\n",
       "9           803       0  0.504892             1\n",
       "10          804       0  0.478182             0\n",
       "11          805       0  0.483002             0\n",
       "12          806       0  0.530599             1\n",
       "13          809       0  0.502624             1\n",
       "14          810       0  0.447023             0\n",
       "15          814       0  0.512734             1\n",
       "16          818       0  0.509444             1\n",
       "17          820       0  0.480011             0\n",
       "18          824       0  0.487859             0\n",
       "19          830       0  0.520543             1\n",
       "20          834       0  0.487758             0\n",
       "21          836       0  0.486186             0\n",
       "22          837       0  0.495243             0\n",
       "23          839       0  0.461093             0\n",
       "24         1004       0  0.485977             0\n",
       "25         1009       0  0.490372             0\n",
       "26         1010       0  0.495662             0\n",
       "27          775       1  0.473919             0\n",
       "28          777       1  0.501559             1\n",
       "29          781       1  0.469507             0\n",
       "30          782       1  0.511821             1\n",
       "31          784       1  0.495850             0\n",
       "32          787       1  0.485289             0\n",
       "33          789       1  0.513947             1\n",
       "34          791       1  0.472804             0\n",
       "35          793       1  0.460105             0\n",
       "36          794       1  0.476475             0\n",
       "37          795       1  0.486461             0\n",
       "38          801       1  0.476407             0\n",
       "39          807       1  0.493790             0\n",
       "40          808       1  0.489748             0\n",
       "41          811       1  0.481572             0\n",
       "42          816       1  0.486733             0\n",
       "43          819       1  0.481919             0\n",
       "44          823       1  0.471682             0\n",
       "45          828       1  0.428398             0\n",
       "46          838       1  0.532364             1\n",
       "47          840       1  0.485923             0\n",
       "48          998       1  0.497979             0\n",
       "49          999       1  0.532530             1\n",
       "50         1000       1  0.510893             1\n",
       "51         1001       1  0.455853             0\n",
       "52         1002       1  0.482898             0\n",
       "53         1003       1  0.537429             1\n",
       "54         1005       1  0.475250             0\n",
       "55         1007       1  0.532421             1\n",
       "56         1008       1  0.470825             0"
      ]
     },
     "execution_count": 18,
     "metadata": {},
     "output_type": "execute_result"
    }
   ],
   "source": [
    "val_df"
   ]
  },
  {
   "cell_type": "code",
   "execution_count": 19,
   "id": "74657f02",
   "metadata": {
    "execution": {
     "iopub.execute_input": "2024-01-07T03:00:35.187597Z",
     "iopub.status.busy": "2024-01-07T03:00:35.186836Z",
     "iopub.status.idle": "2024-01-07T03:00:35.192159Z",
     "shell.execute_reply": "2024-01-07T03:00:35.191322Z"
    },
    "papermill": {
     "duration": 0.035907,
     "end_time": "2024-01-07T03:00:35.194112",
     "exception": false,
     "start_time": "2024-01-07T03:00:35.158205",
     "status": "completed"
    },
    "tags": []
   },
   "outputs": [],
   "source": [
    "labels = val_df[\"labels\"]\n",
    "preds = val_df[\"preds\"]\n",
    "binary_preds = val_df[\"preds_binary\"]"
   ]
  },
  {
   "cell_type": "code",
   "execution_count": 20,
   "id": "c3db670c",
   "metadata": {
    "execution": {
     "iopub.execute_input": "2024-01-07T03:00:35.259588Z",
     "iopub.status.busy": "2024-01-07T03:00:35.259274Z",
     "iopub.status.idle": "2024-01-07T03:00:35.267810Z",
     "shell.execute_reply": "2024-01-07T03:00:35.266719Z"
    },
    "papermill": {
     "duration": 0.041857,
     "end_time": "2024-01-07T03:00:35.270382",
     "exception": false,
     "start_time": "2024-01-07T03:00:35.228525",
     "status": "completed"
    },
    "tags": []
   },
   "outputs": [],
   "source": [
    "from sklearn.metrics import confusion_matrix, accuracy_score, classification_report, roc_curve, auc\n",
    "\n",
    "cm = confusion_matrix(labels, binary_preds)"
   ]
  },
  {
   "cell_type": "code",
   "execution_count": 21,
   "id": "cbed3194",
   "metadata": {
    "execution": {
     "iopub.execute_input": "2024-01-07T03:00:35.327105Z",
     "iopub.status.busy": "2024-01-07T03:00:35.326753Z",
     "iopub.status.idle": "2024-01-07T03:00:35.332019Z",
     "shell.execute_reply": "2024-01-07T03:00:35.331190Z"
    },
    "papermill": {
     "duration": 0.035062,
     "end_time": "2024-01-07T03:00:35.333917",
     "exception": false,
     "start_time": "2024-01-07T03:00:35.298855",
     "status": "completed"
    },
    "tags": []
   },
   "outputs": [],
   "source": [
    "df_cm = pd.DataFrame(cm, index=['MGMT Absent', 'MGMT Present'], columns=['MGMT Absent', 'MGMT Present'])"
   ]
  },
  {
   "cell_type": "code",
   "execution_count": 22,
   "id": "cfb17e22",
   "metadata": {
    "execution": {
     "iopub.execute_input": "2024-01-07T03:00:35.389750Z",
     "iopub.status.busy": "2024-01-07T03:00:35.389069Z",
     "iopub.status.idle": "2024-01-07T03:00:35.724232Z",
     "shell.execute_reply": "2024-01-07T03:00:35.723298Z"
    },
    "papermill": {
     "duration": 0.365794,
     "end_time": "2024-01-07T03:00:35.726840",
     "exception": false,
     "start_time": "2024-01-07T03:00:35.361046",
     "status": "completed"
    },
    "tags": []
   },
   "outputs": [
    {
     "data": {
      "image/png": "[encoded data removed]",
      "text/plain": [
       "<Figure size 1500x500 with 2 Axes>"
      ]
     },
     "metadata": {},
     "output_type": "display_data"
    }
   ],
   "source": [
    "plt.figure(figsize=(15, 5))\n",
    "\n",
    "plt.title(\"Confusion matrix for EfficientNetB3 model\\n\")\n",
    "sns.heatmap(df_cm, annot=True, fmt=\"d\", cmap=\"YlGnBu\")\n",
    "plt.xlabel(\"Predicted\")\n",
    "plt.ylabel(\"Actual\")\n",
    "\n",
    "plt.show()"
   ]
  },
  {
   "cell_type": "code",
   "execution_count": 23,
   "id": "f1ff94da",
   "metadata": {
    "execution": {
     "iopub.execute_input": "2024-01-07T03:00:35.788894Z",
     "iopub.status.busy": "2024-01-07T03:00:35.788052Z",
     "iopub.status.idle": "2024-01-07T03:00:35.795454Z",
     "shell.execute_reply": "2024-01-07T03:00:35.794306Z"
    },
    "papermill": {
     "duration": 0.038881,
     "end_time": "2024-01-07T03:00:35.797622",
     "exception": false,
     "start_time": "2024-01-07T03:00:35.758741",
     "status": "completed"
    },
    "tags": []
   },
   "outputs": [
    {
     "name": "stdout",
     "output_type": "stream",
     "text": [
      "Model Accuracy Score: 0.40350877192982454\n"
     ]
    }
   ],
   "source": [
    "accuracy = accuracy_score(labels, binary_preds)\n",
    "print(f\"Model Accuracy Score: {accuracy}\")"
   ]
  },
  {
   "cell_type": "code",
   "execution_count": 24,
   "id": "d2254176",
   "metadata": {
    "execution": {
     "iopub.execute_input": "2024-01-07T03:00:35.856615Z",
     "iopub.status.busy": "2024-01-07T03:00:35.856181Z",
     "iopub.status.idle": "2024-01-07T03:00:35.873300Z",
     "shell.execute_reply": "2024-01-07T03:00:35.872088Z"
    },
    "papermill": {
     "duration": 0.048488,
     "end_time": "2024-01-07T03:00:35.875278",
     "exception": false,
     "start_time": "2024-01-07T03:00:35.826790",
     "status": "completed"
    },
    "tags": []
   },
   "outputs": [
    {
     "name": "stdout",
     "output_type": "stream",
     "text": [
      "EfficientNetB3 Model Classification Report\n",
      "=========================================\n",
      "              precision    recall  f1-score   support\n",
      "\n",
      " MGMT Absent       0.41      0.56      0.47        27\n",
      "MGMT Present       0.40      0.27      0.32        30\n",
      "\n",
      "    accuracy                           0.40        57\n",
      "   macro avg       0.40      0.41      0.39        57\n",
      "weighted avg       0.40      0.40      0.39        57\n",
      "\n"
     ]
    }
   ],
   "source": [
    "cr =classification_report(labels, binary_preds, target_names=['MGMT Absent', 'MGMT Present'])\n",
    "print(\"EfficientNetB3 Model Classification Report\")\n",
    "print(\"=========================================\")\n",
    "print(cr)"
   ]
  },
  {
   "cell_type": "code",
   "execution_count": 25,
   "id": "572125a8",
   "metadata": {
    "execution": {
     "iopub.execute_input": "2024-01-07T03:00:35.933555Z",
     "iopub.status.busy": "2024-01-07T03:00:35.932630Z",
     "iopub.status.idle": "2024-01-07T03:00:35.940164Z",
     "shell.execute_reply": "2024-01-07T03:00:35.938936Z"
    },
    "papermill": {
     "duration": 0.038835,
     "end_time": "2024-01-07T03:00:35.942085",
     "exception": false,
     "start_time": "2024-01-07T03:00:35.903250",
     "status": "completed"
    },
    "tags": []
   },
   "outputs": [
    {
     "name": "stdout",
     "output_type": "stream",
     "text": [
      "EfficientNetB3 Model\n",
      "=========================================\n",
      "MGMT Present : Sensitivity = 0.26666666666666666, Specificity = 0.5555555555555556\n"
     ]
    }
   ],
   "source": [
    "print(\"EfficientNetB3 Model\")\n",
    "print(\"=========================================\")\n",
    "sensitivity = cm[1, 1] / (cm[1, 1] + cm[1, 0])\n",
    "specificity = cm[0, 0] / (cm[0, 0] + cm[0, 1])\n",
    "\n",
    "print(f'MGMT Present : Sensitivity = {sensitivity}, Specificity = {specificity}')"
   ]
  },
  {
   "cell_type": "code",
   "execution_count": 26,
   "id": "44c87a5c",
   "metadata": {
    "execution": {
     "iopub.execute_input": "2024-01-07T03:00:36.002080Z",
     "iopub.status.busy": "2024-01-07T03:00:36.001165Z",
     "iopub.status.idle": "2024-01-07T03:00:36.289553Z",
     "shell.execute_reply": "2024-01-07T03:00:36.288645Z"
    },
    "papermill": {
     "duration": 0.319304,
     "end_time": "2024-01-07T03:00:36.291537",
     "exception": false,
     "start_time": "2024-01-07T03:00:35.972233",
     "status": "completed"
    },
    "tags": []
   },
   "outputs": [
    {
     "data": {
      "image/png": "[encoded data removed]",
      "text/plain": [
       "<Figure size 800x800 with 1 Axes>"
      ]
     },
     "metadata": {},
     "output_type": "display_data"
    }
   ],
   "source": [
    "fpr, tpr, thresholds = roc_curve(labels, preds)\n",
    "\n",
    "roc_auc = auc(fpr, tpr)\n",
    "\n",
    "plt.figure(figsize=(8, 8))\n",
    "plt.plot(fpr, tpr, color='darkorange', lw=2, label=f'ROC curve (AUC = {roc_auc:.5f})')\n",
    "plt.plot([0, 1], [0, 1], color='navy', lw=2, linestyle='--')\n",
    "plt.xlabel('False Positive Rate (1 - Specificity)')\n",
    "plt.ylabel('True Positive Rate (Sensitivity)')\n",
    "plt.title('ROC Curve (EfficientNetB3)')\n",
    "plt.legend(loc='lower right')\n",
    "plt.show()"
   ]
  },
  {
   "cell_type": "code",
   "execution_count": null,
   "id": "a7d713f0",
   "metadata": {
    "papermill": {
     "duration": 0.028288,
     "end_time": "2024-01-07T03:00:36.348651",
     "exception": false,
     "start_time": "2024-01-07T03:00:36.320363",
     "status": "completed"
    },
    "tags": []
   },
   "outputs": [],
   "source": []
  }
 ],
 "metadata": {
  "kaggle": {
   "accelerator": "gpu",
   "dataSources": [
    {
     "databundleVersionId": 2420395,
     "sourceId": 29653,
     "sourceType": "competition"
    },
    {
     "datasetId": 1467572,
     "sourceId": 2425289,
     "sourceType": "datasetVersion"
    },
    {
     "datasetId": 4269682,
     "sourceId": 7352032,
     "sourceType": "datasetVersion"
    }
   ],
   "dockerImageVersionId": 30627,
   "isGpuEnabled": true,
   "isInternetEnabled": true,
   "language": "python",
   "sourceType": "notebook"
  },
  "kernelspec": {
   "display_name": "Python 3",
   "language": "python",
   "name": "python3"
  },
  "language_info": {
   "codemirror_mode": {
    "name": "ipython",
    "version": 3
   },
   "file_extension": ".py",
   "mimetype": "text/x-python",
   "name": "python",
   "nbconvert_exporter": "python",
   "pygments_lexer": "ipython3",
   "version": "3.10.12"
  },
  "papermill": {
   "default_parameters": {},
   "duration": 196.567801,
   "end_time": "2024-01-07T03:00:39.151663",
   "environment_variables": {},
   "exception": null,
   "input_path": "__notebook__.ipynb",
   "output_path": "__notebook__.ipynb",
   "parameters": {},
   "start_time": "2024-01-07T02:57:22.583862",
   "version": "2.4.0"
  }
 },
 "nbformat": 4,
 "nbformat_minor": 5
}
