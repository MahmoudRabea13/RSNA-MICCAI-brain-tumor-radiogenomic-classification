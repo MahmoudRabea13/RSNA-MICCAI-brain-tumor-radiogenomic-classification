{
 "cells": [
  {
   "cell_type": "code",
   "execution_count": 1,
   "id": "7f8afca4",
   "metadata": {
    "_cell_guid": "b1076dfc-b9ad-4769-8c92-a6c4dae69d19",
    "_uuid": "8f2839f25d086af736a60e9eeb907d3b93b6e0e5",
    "execution": {
     "iopub.execute_input": "2024-01-07T03:01:18.124451Z",
     "iopub.status.busy": "2024-01-07T03:01:18.123617Z",
     "iopub.status.idle": "2024-01-07T03:01:31.235028Z",
     "shell.execute_reply": "2024-01-07T03:01:31.234031Z"
    },
    "papermill": {
     "duration": 13.123073,
     "end_time": "2024-01-07T03:01:31.237459",
     "exception": false,
     "start_time": "2024-01-07T03:01:18.114386",
     "status": "completed"
    },
    "tags": []
   },
   "outputs": [
    {
     "name": "stderr",
     "output_type": "stream",
     "text": [
      "/opt/conda/lib/python3.10/site-packages/scipy/__init__.py:146: UserWarning: A NumPy version >=1.16.5 and <1.23.0 is required for this version of SciPy (detected version 1.24.3\n",
      "  warnings.warn(f\"A NumPy version >={np_minversion} and <{np_maxversion}\"\n"
     ]
    }
   ],
   "source": [
    "import pandas as pd\n",
    "import tensorflow as tf\n",
    "import matplotlib.pyplot as plt\n",
    "import numpy as np\n",
    "import os\n",
    "from sklearn.model_selection import train_test_split\n",
    "import math\n",
    "from tensorflow.keras.metrics import AUC\n",
    "from tensorflow.keras.callbacks import EarlyStopping, ReduceLROnPlateau\n",
    "from glob import glob\n",
    "import pydicom\n",
    "from pydicom.pixel_data_handlers.util import apply_voi_lut\n",
    "import seaborn as sns"
   ]
  },
  {
   "cell_type": "code",
   "execution_count": 2,
   "id": "fe91b480",
   "metadata": {
    "execution": {
     "iopub.execute_input": "2024-01-07T03:01:31.254476Z",
     "iopub.status.busy": "2024-01-07T03:01:31.253984Z",
     "iopub.status.idle": "2024-01-07T03:01:31.258561Z",
     "shell.execute_reply": "2024-01-07T03:01:31.257731Z"
    },
    "papermill": {
     "duration": 0.014934,
     "end_time": "2024-01-07T03:01:31.260516",
     "exception": false,
     "start_time": "2024-01-07T03:01:31.245582",
     "status": "completed"
    },
    "tags": []
   },
   "outputs": [],
   "source": [
    "HEIGHT = WIDTH = 512\n",
    "BATCH_SIZE = 64\n",
    "EPOCHS = 20\n",
    "TRAIN_PROP = 0.9\n",
    "AUTOTUNE = tf.data.AUTOTUNE"
   ]
  },
  {
   "cell_type": "code",
   "execution_count": 3,
   "id": "41316d89",
   "metadata": {
    "execution": {
     "iopub.execute_input": "2024-01-07T03:01:31.276498Z",
     "iopub.status.busy": "2024-01-07T03:01:31.276239Z",
     "iopub.status.idle": "2024-01-07T03:01:31.295160Z",
     "shell.execute_reply": "2024-01-07T03:01:31.294300Z"
    },
    "papermill": {
     "duration": 0.02907,
     "end_time": "2024-01-07T03:01:31.297041",
     "exception": false,
     "start_time": "2024-01-07T03:01:31.267971",
     "status": "completed"
    },
    "tags": []
   },
   "outputs": [],
   "source": [
    "df = pd.read_csv(\"/kaggle/input/rsna-miccai-brain-tumor-radiogenomic-classification/train_labels.csv\")"
   ]
  },
  {
   "cell_type": "code",
   "execution_count": 4,
   "id": "4100ce72",
   "metadata": {
    "execution": {
     "iopub.execute_input": "2024-01-07T03:01:31.313313Z",
     "iopub.status.busy": "2024-01-07T03:01:31.313004Z",
     "iopub.status.idle": "2024-01-07T03:01:31.326758Z",
     "shell.execute_reply": "2024-01-07T03:01:31.326122Z"
    },
    "papermill": {
     "duration": 0.024108,
     "end_time": "2024-01-07T03:01:31.328563",
     "exception": false,
     "start_time": "2024-01-07T03:01:31.304455",
     "status": "completed"
    },
    "tags": []
   },
   "outputs": [],
   "source": [
    "rem = [109, 123, 709]\n",
    "df = df[~df.BraTS21ID.isin(rem)].reset_index(drop = True)"
   ]
  },
  {
   "cell_type": "code",
   "execution_count": 5,
   "id": "dafb465e",
   "metadata": {
    "execution": {
     "iopub.execute_input": "2024-01-07T03:01:31.344462Z",
     "iopub.status.busy": "2024-01-07T03:01:31.344186Z",
     "iopub.status.idle": "2024-01-07T03:01:31.356206Z",
     "shell.execute_reply": "2024-01-07T03:01:31.355493Z"
    },
    "papermill": {
     "duration": 0.022036,
     "end_time": "2024-01-07T03:01:31.358043",
     "exception": false,
     "start_time": "2024-01-07T03:01:31.336007",
     "status": "completed"
    },
    "tags": []
   },
   "outputs": [],
   "source": [
    "def full_ids(data):\n",
    "    zeros = 5 - len(str(data))\n",
    "    if zeros > 0:\n",
    "        prefix = ''.join(['0' for i in range(zeros)])\n",
    "    \n",
    "    return prefix+str(data)\n",
    "        \n",
    "\n",
    "df['BraTS21ID_full'] = df['BraTS21ID'].apply(full_ids)\n",
    "\n",
    "root_dir_train = \"/kaggle/input/rsna-miccai-png/\"\n",
    "\n",
    "df['flair'] = df['BraTS21ID_full'].apply(lambda file_id : root_dir_train+'train/'+file_id+'/FLAIR/')\n",
    "df['t1w'] = df['BraTS21ID_full'].apply(lambda file_id : root_dir_train+'train/'+file_id+'/T1w/')\n",
    "df['t1wce'] = df['BraTS21ID_full'].apply(lambda file_id : root_dir_train+'train/'+file_id+'/T1wCE/')\n",
    "df['t2w'] = df['BraTS21ID_full'].apply(lambda file_id : root_dir_train+'train/'+file_id+'/T2w/')\n"
   ]
  },
  {
   "cell_type": "code",
   "execution_count": 6,
   "id": "c22b75a4",
   "metadata": {
    "execution": {
     "iopub.execute_input": "2024-01-07T03:01:31.373920Z",
     "iopub.status.busy": "2024-01-07T03:01:31.373641Z",
     "iopub.status.idle": "2024-01-07T03:01:31.385067Z",
     "shell.execute_reply": "2024-01-07T03:01:31.384379Z"
    },
    "papermill": {
     "duration": 0.02138,
     "end_time": "2024-01-07T03:01:31.386869",
     "exception": false,
     "start_time": "2024-01-07T03:01:31.365489",
     "status": "completed"
    },
    "tags": []
   },
   "outputs": [],
   "source": [
    "def train_df(mri_type):\n",
    "    all_img_files = []\n",
    "    all_img_labels = []\n",
    "    all_img_patient_ids = []\n",
    "    for row in df.iterrows():\n",
    "        \n",
    "        img_dir = row[1][mri_type]\n",
    "        img_files = os.listdir(img_dir)\n",
    "        img_nums = sorted([int(ele.replace('Image-', '').replace('.png', '')) for ele in img_files])\n",
    "        mid_point = int(len(img_nums)/2)\n",
    "        start_point = mid_point - max(int(mid_point*0.1), 1)\n",
    "        end_point = mid_point + max(int(mid_point*0.1), 1)\n",
    "        img_names = [f'Image-{img_nums[i]}.png' for i in range(start_point, end_point+1)]\n",
    "        img_paths = [img_dir+image for image in img_names]\n",
    "        img_labels = [row[1]['MGMT_value']]*len(img_paths)\n",
    "        img_patient_ids = [row[1]['BraTS21ID']]*len(img_paths)\n",
    "        all_img_files.extend(img_paths)\n",
    "        all_img_labels.extend(img_labels)\n",
    "        all_img_patient_ids.extend(img_patient_ids)\n",
    "        \n",
    "    train_val_df = pd.DataFrame({'patient_ids': all_img_patient_ids,\n",
    "                  'labels': all_img_labels,\n",
    "                  'file_paths': all_img_files})\n",
    "    \n",
    "    classes_splits  = {}\n",
    "    for i in range(2):\n",
    "        train_val_label_class = train_val_df[train_val_df['labels']==i]\n",
    "        train_val_list_ids =  list(train_val_label_class['patient_ids'].unique())\n",
    "        train_threshold = math.ceil(TRAIN_PROP*len(train_val_list_ids))\n",
    "        train_ids = train_val_list_ids[:train_threshold]\n",
    "        val_ids = train_val_list_ids[train_threshold:]\n",
    "        classes_splits[f'train_{i}'] = train_val_label_class[train_val_label_class['patient_ids'].isin(train_ids)]\n",
    "        classes_splits[f'val_{i}'] = val_df = train_val_label_class[train_val_label_class['patient_ids'].isin(val_ids)]\n",
    "        \n",
    "    train_df = pd.concat([classes_splits['train_0'], classes_splits['train_1']], axis=0)\n",
    "    val_df = pd.concat([classes_splits['val_0'], classes_splits['val_1']], axis=0)\n",
    "\n",
    "    return train_df, val_df"
   ]
  },
  {
   "cell_type": "code",
   "execution_count": 7,
   "id": "ee077606",
   "metadata": {
    "execution": {
     "iopub.execute_input": "2024-01-07T03:01:31.402733Z",
     "iopub.status.busy": "2024-01-07T03:01:31.402480Z",
     "iopub.status.idle": "2024-01-07T03:03:03.977879Z",
     "shell.execute_reply": "2024-01-07T03:03:03.977070Z"
    },
    "papermill": {
     "duration": 92.586341,
     "end_time": "2024-01-07T03:03:03.980559",
     "exception": false,
     "start_time": "2024-01-07T03:01:31.394218",
     "status": "completed"
    },
    "tags": []
   },
   "outputs": [],
   "source": [
    "train_val = []\n",
    "for mri_type in ['flair', 't1w', 't1wce', 't2w']:\n",
    "    train_val.append(train_df(mri_type))"
   ]
  },
  {
   "cell_type": "code",
   "execution_count": 8,
   "id": "08a0b8cf",
   "metadata": {
    "execution": {
     "iopub.execute_input": "2024-01-07T03:03:03.997457Z",
     "iopub.status.busy": "2024-01-07T03:03:03.997183Z",
     "iopub.status.idle": "2024-01-07T03:03:04.002753Z",
     "shell.execute_reply": "2024-01-07T03:03:04.001962Z"
    },
    "papermill": {
     "duration": 0.015738,
     "end_time": "2024-01-07T03:03:04.004588",
     "exception": false,
     "start_time": "2024-01-07T03:03:03.988850",
     "status": "completed"
    },
    "tags": []
   },
   "outputs": [],
   "source": [
    "@tf.function\n",
    "def load_data(path, label):\n",
    "    image = tf.io.read_file(path)\n",
    "    image = tf.image.decode_png(image,channels=3)\n",
    "    image = tf.image.resize(image, (HEIGHT,WIDTH)) / 255.0\n",
    "    image = tf.expand_dims(image, axis=0)\n",
    "\n",
    "    return(image,label)"
   ]
  },
  {
   "cell_type": "code",
   "execution_count": 9,
   "id": "71ff2dc6",
   "metadata": {
    "execution": {
     "iopub.execute_input": "2024-01-07T03:03:04.020605Z",
     "iopub.status.busy": "2024-01-07T03:03:04.020351Z",
     "iopub.status.idle": "2024-01-07T03:03:04.025096Z",
     "shell.execute_reply": "2024-01-07T03:03:04.024233Z"
    },
    "papermill": {
     "duration": 0.014828,
     "end_time": "2024-01-07T03:03:04.026932",
     "exception": false,
     "start_time": "2024-01-07T03:03:04.012104",
     "status": "completed"
    },
    "tags": []
   },
   "outputs": [],
   "source": [
    "def form_dataset(paths,labels):\n",
    "    \n",
    "    dataset = tf.data.Dataset.from_tensor_slices((paths,labels))\n",
    "    \n",
    "    dataset = (\n",
    "        dataset\n",
    "        .map(load_data, num_parallel_calls = AUTOTUNE)\n",
    "        .prefetch(AUTOTUNE)\n",
    "    )\n",
    "    \n",
    "    return dataset"
   ]
  },
  {
   "cell_type": "code",
   "execution_count": 10,
   "id": "f6110f5d",
   "metadata": {
    "execution": {
     "iopub.execute_input": "2024-01-07T03:03:04.043378Z",
     "iopub.status.busy": "2024-01-07T03:03:04.043101Z",
     "iopub.status.idle": "2024-01-07T03:03:04.057278Z",
     "shell.execute_reply": "2024-01-07T03:03:04.056489Z"
    },
    "papermill": {
     "duration": 0.024364,
     "end_time": "2024-01-07T03:03:04.059223",
     "exception": false,
     "start_time": "2024-01-07T03:03:04.034859",
     "status": "completed"
    },
    "tags": []
   },
   "outputs": [
    {
     "data": {
      "text/html": [
       "<div>\n",
       "<style scoped>\n",
       "    .dataframe tbody tr th:only-of-type {\n",
       "        vertical-align: middle;\n",
       "    }\n",
       "\n",
       "    .dataframe tbody tr th {\n",
       "        vertical-align: top;\n",
       "    }\n",
       "\n",
       "    .dataframe thead th {\n",
       "        text-align: right;\n",
       "    }\n",
       "</style>\n",
       "<table border=\"1\" class=\"dataframe\">\n",
       "  <thead>\n",
       "    <tr style=\"text-align: right;\">\n",
       "      <th></th>\n",
       "      <th>patient_ids</th>\n",
       "      <th>labels</th>\n",
       "      <th>file_paths</th>\n",
       "    </tr>\n",
       "  </thead>\n",
       "  <tbody>\n",
       "    <tr>\n",
       "      <th>6</th>\n",
       "      <td>3</td>\n",
       "      <td>0</td>\n",
       "      <td>/kaggle/input/rsna-miccai-png/train/00003/T1w/...</td>\n",
       "    </tr>\n",
       "    <tr>\n",
       "      <th>7</th>\n",
       "      <td>3</td>\n",
       "      <td>0</td>\n",
       "      <td>/kaggle/input/rsna-miccai-png/train/00003/T1w/...</td>\n",
       "    </tr>\n",
       "    <tr>\n",
       "      <th>8</th>\n",
       "      <td>3</td>\n",
       "      <td>0</td>\n",
       "      <td>/kaggle/input/rsna-miccai-png/train/00003/T1w/...</td>\n",
       "    </tr>\n",
       "    <tr>\n",
       "      <th>18</th>\n",
       "      <td>9</td>\n",
       "      <td>0</td>\n",
       "      <td>/kaggle/input/rsna-miccai-png/train/00009/T1w/...</td>\n",
       "    </tr>\n",
       "    <tr>\n",
       "      <th>19</th>\n",
       "      <td>9</td>\n",
       "      <td>0</td>\n",
       "      <td>/kaggle/input/rsna-miccai-png/train/00009/T1w/...</td>\n",
       "    </tr>\n",
       "    <tr>\n",
       "      <th>...</th>\n",
       "      <td>...</td>\n",
       "      <td>...</td>\n",
       "      <td>...</td>\n",
       "    </tr>\n",
       "    <tr>\n",
       "      <th>5635</th>\n",
       "      <td>773</td>\n",
       "      <td>1</td>\n",
       "      <td>/kaggle/input/rsna-miccai-png/train/00773/T1w/...</td>\n",
       "    </tr>\n",
       "    <tr>\n",
       "      <th>5636</th>\n",
       "      <td>773</td>\n",
       "      <td>1</td>\n",
       "      <td>/kaggle/input/rsna-miccai-png/train/00773/T1w/...</td>\n",
       "    </tr>\n",
       "    <tr>\n",
       "      <th>5637</th>\n",
       "      <td>773</td>\n",
       "      <td>1</td>\n",
       "      <td>/kaggle/input/rsna-miccai-png/train/00773/T1w/...</td>\n",
       "    </tr>\n",
       "    <tr>\n",
       "      <th>5638</th>\n",
       "      <td>773</td>\n",
       "      <td>1</td>\n",
       "      <td>/kaggle/input/rsna-miccai-png/train/00773/T1w/...</td>\n",
       "    </tr>\n",
       "    <tr>\n",
       "      <th>5639</th>\n",
       "      <td>773</td>\n",
       "      <td>1</td>\n",
       "      <td>/kaggle/input/rsna-miccai-png/train/00773/T1w/...</td>\n",
       "    </tr>\n",
       "  </tbody>\n",
       "</table>\n",
       "<p>5655 rows × 3 columns</p>\n",
       "</div>"
      ],
      "text/plain": [
       "      patient_ids  labels                                         file_paths\n",
       "6               3       0  /kaggle/input/rsna-miccai-png/train/00003/T1w/...\n",
       "7               3       0  /kaggle/input/rsna-miccai-png/train/00003/T1w/...\n",
       "8               3       0  /kaggle/input/rsna-miccai-png/train/00003/T1w/...\n",
       "18              9       0  /kaggle/input/rsna-miccai-png/train/00009/T1w/...\n",
       "19              9       0  /kaggle/input/rsna-miccai-png/train/00009/T1w/...\n",
       "...           ...     ...                                                ...\n",
       "5635          773       1  /kaggle/input/rsna-miccai-png/train/00773/T1w/...\n",
       "5636          773       1  /kaggle/input/rsna-miccai-png/train/00773/T1w/...\n",
       "5637          773       1  /kaggle/input/rsna-miccai-png/train/00773/T1w/...\n",
       "5638          773       1  /kaggle/input/rsna-miccai-png/train/00773/T1w/...\n",
       "5639          773       1  /kaggle/input/rsna-miccai-png/train/00773/T1w/...\n",
       "\n",
       "[5655 rows x 3 columns]"
      ]
     },
     "execution_count": 10,
     "metadata": {},
     "output_type": "execute_result"
    }
   ],
   "source": [
    "train_val[1][0]"
   ]
  },
  {
   "cell_type": "code",
   "execution_count": 11,
   "id": "ba7d0e77",
   "metadata": {
    "execution": {
     "iopub.execute_input": "2024-01-07T03:03:04.075488Z",
     "iopub.status.busy": "2024-01-07T03:03:04.075207Z",
     "iopub.status.idle": "2024-01-07T03:03:05.276643Z",
     "shell.execute_reply": "2024-01-07T03:03:05.275686Z"
    },
    "papermill": {
     "duration": 1.21211,
     "end_time": "2024-01-07T03:03:05.278955",
     "exception": false,
     "start_time": "2024-01-07T03:03:04.066845",
     "status": "completed"
    },
    "tags": []
   },
   "outputs": [],
   "source": [
    "val_datasets = []\n",
    "\n",
    "for data in train_val:\n",
    "    val_datasets.append(\n",
    "        form_dataset(\n",
    "            data[1][\"file_paths\"],\n",
    "            data[1][\"labels\"]\n",
    "        )\n",
    "    )"
   ]
  },
  {
   "cell_type": "code",
   "execution_count": 12,
   "id": "3387f147",
   "metadata": {
    "execution": {
     "iopub.execute_input": "2024-01-07T03:03:05.296008Z",
     "iopub.status.busy": "2024-01-07T03:03:05.295678Z",
     "iopub.status.idle": "2024-01-07T03:03:19.181567Z",
     "shell.execute_reply": "2024-01-07T03:03:19.180784Z"
    },
    "papermill": {
     "duration": 13.896812,
     "end_time": "2024-01-07T03:03:19.183879",
     "exception": false,
     "start_time": "2024-01-07T03:03:05.287067",
     "status": "completed"
    },
    "tags": []
   },
   "outputs": [],
   "source": [
    "models = []\n",
    "\n",
    "for mri_type in ['flair', 't1w', 't1wce', 't2w']:\n",
    "    models.append(tf.keras.models.load_model(f\"/kaggle/input/resnet50-mpmri-models/{mri_type}_model.h5\"))"
   ]
  },
  {
   "cell_type": "code",
   "execution_count": 13,
   "id": "5c92d4fe",
   "metadata": {
    "execution": {
     "iopub.execute_input": "2024-01-07T03:03:19.200810Z",
     "iopub.status.busy": "2024-01-07T03:03:19.200495Z",
     "iopub.status.idle": "2024-01-07T03:03:41.228336Z",
     "shell.execute_reply": "2024-01-07T03:03:41.227338Z"
    },
    "papermill": {
     "duration": 22.038928,
     "end_time": "2024-01-07T03:03:41.230768",
     "exception": false,
     "start_time": "2024-01-07T03:03:19.191840",
     "status": "completed"
    },
    "tags": []
   },
   "outputs": [
    {
     "name": "stdout",
     "output_type": "stream",
     "text": [
      "279/279 [==============================] - 6s 14ms/step\n",
      "325/325 [==============================] - 5s 14ms/step\n",
      "323/323 [==============================] - 5s 13ms/step\n",
      "267/267 [==============================] - 5s 13ms/step\n"
     ]
    }
   ],
   "source": [
    "all_val_preds = []\n",
    "val_dfs = []\n",
    "\n",
    "for i, model_name in enumerate(['flair', 't1w', 't1wce', 't2w']):\n",
    "    val_df = train_val[i][1]\n",
    "    \n",
    "    val_ds = val_datasets[i]\n",
    "    model = models[i]\n",
    "    \n",
    "    val_pred = model.predict(val_ds, steps=len(val_ds))\n",
    "    val_df[\"pred_y\"] = val_pred\n",
    "    \n",
    "    val_dfs.append(val_df)\n",
    "    \n",
    "    mean_pred = val_pred.mean()\n",
    "    test_pred_agg = val_df.groupby('patient_ids').apply(\n",
    "        lambda x: x['pred_y'].max()\n",
    "        if (x['pred_y'].max() - mean_pred) > (mean_pred - x['pred_y'].min()) \n",
    "        else x['pred_y'].min())\n",
    "    all_val_preds.append(test_pred_agg.values)"
   ]
  },
  {
   "cell_type": "code",
   "execution_count": 14,
   "id": "525708ed",
   "metadata": {
    "execution": {
     "iopub.execute_input": "2024-01-07T03:03:41.294499Z",
     "iopub.status.busy": "2024-01-07T03:03:41.294172Z",
     "iopub.status.idle": "2024-01-07T03:03:41.302577Z",
     "shell.execute_reply": "2024-01-07T03:03:41.301591Z"
    },
    "papermill": {
     "duration": 0.042592,
     "end_time": "2024-01-07T03:03:41.304647",
     "exception": false,
     "start_time": "2024-01-07T03:03:41.262055",
     "status": "completed"
    },
    "tags": []
   },
   "outputs": [],
   "source": [
    "val_df = val_dfs[0][[\"patient_ids\",\"labels\"]]\n",
    "val_df = val_df.drop_duplicates().reset_index(drop=True)"
   ]
  },
  {
   "cell_type": "code",
   "execution_count": 15,
   "id": "2f945203",
   "metadata": {
    "execution": {
     "iopub.execute_input": "2024-01-07T03:03:41.369955Z",
     "iopub.status.busy": "2024-01-07T03:03:41.369608Z",
     "iopub.status.idle": "2024-01-07T03:03:41.374426Z",
     "shell.execute_reply": "2024-01-07T03:03:41.373489Z"
    },
    "papermill": {
     "duration": 0.039521,
     "end_time": "2024-01-07T03:03:41.376374",
     "exception": false,
     "start_time": "2024-01-07T03:03:41.336853",
     "status": "completed"
    },
    "tags": []
   },
   "outputs": [],
   "source": [
    "all_val_preds = np.array(all_val_preds)\n",
    "preds = all_val_preds.mean(0)"
   ]
  },
  {
   "cell_type": "code",
   "execution_count": 16,
   "id": "77f44d00",
   "metadata": {
    "execution": {
     "iopub.execute_input": "2024-01-07T03:03:41.440940Z",
     "iopub.status.busy": "2024-01-07T03:03:41.440626Z",
     "iopub.status.idle": "2024-01-07T03:03:41.446006Z",
     "shell.execute_reply": "2024-01-07T03:03:41.444365Z"
    },
    "papermill": {
     "duration": 0.039323,
     "end_time": "2024-01-07T03:03:41.448278",
     "exception": false,
     "start_time": "2024-01-07T03:03:41.408955",
     "status": "completed"
    },
    "tags": []
   },
   "outputs": [],
   "source": [
    "val_df[\"preds\"] = preds"
   ]
  },
  {
   "cell_type": "code",
   "execution_count": 17,
   "id": "ad75b4e8",
   "metadata": {
    "execution": {
     "iopub.execute_input": "2024-01-07T03:03:41.511069Z",
     "iopub.status.busy": "2024-01-07T03:03:41.510754Z",
     "iopub.status.idle": "2024-01-07T03:03:41.516288Z",
     "shell.execute_reply": "2024-01-07T03:03:41.515543Z"
    },
    "papermill": {
     "duration": 0.039005,
     "end_time": "2024-01-07T03:03:41.518094",
     "exception": false,
     "start_time": "2024-01-07T03:03:41.479089",
     "status": "completed"
    },
    "tags": []
   },
   "outputs": [],
   "source": [
    "val_df[\"preds_binary\"] = val_df[\"preds\"] >= 0.5\n",
    "val_df[\"preds_binary\"] = val_df[\"preds_binary\"].astype(int)"
   ]
  },
  {
   "cell_type": "code",
   "execution_count": 18,
   "id": "9911a239",
   "metadata": {
    "execution": {
     "iopub.execute_input": "2024-01-07T03:03:41.626227Z",
     "iopub.status.busy": "2024-01-07T03:03:41.625875Z",
     "iopub.status.idle": "2024-01-07T03:03:41.641453Z",
     "shell.execute_reply": "2024-01-07T03:03:41.640590Z"
    },
    "papermill": {
     "duration": 0.049378,
     "end_time": "2024-01-07T03:03:41.643460",
     "exception": false,
     "start_time": "2024-01-07T03:03:41.594082",
     "status": "completed"
    },
    "tags": []
   },
   "outputs": [
    {
     "data": {
      "text/html": [
       "<div>\n",
       "<style scoped>\n",
       "    .dataframe tbody tr th:only-of-type {\n",
       "        vertical-align: middle;\n",
       "    }\n",
       "\n",
       "    .dataframe tbody tr th {\n",
       "        vertical-align: top;\n",
       "    }\n",
       "\n",
       "    .dataframe thead th {\n",
       "        text-align: right;\n",
       "    }\n",
       "</style>\n",
       "<table border=\"1\" class=\"dataframe\">\n",
       "  <thead>\n",
       "    <tr style=\"text-align: right;\">\n",
       "      <th></th>\n",
       "      <th>patient_ids</th>\n",
       "      <th>labels</th>\n",
       "      <th>preds</th>\n",
       "      <th>preds_binary</th>\n",
       "    </tr>\n",
       "  </thead>\n",
       "  <tbody>\n",
       "    <tr>\n",
       "      <th>0</th>\n",
       "      <td>778</td>\n",
       "      <td>0</td>\n",
       "      <td>0.600380</td>\n",
       "      <td>1</td>\n",
       "    </tr>\n",
       "    <tr>\n",
       "      <th>1</th>\n",
       "      <td>780</td>\n",
       "      <td>0</td>\n",
       "      <td>0.571470</td>\n",
       "      <td>1</td>\n",
       "    </tr>\n",
       "    <tr>\n",
       "      <th>2</th>\n",
       "      <td>788</td>\n",
       "      <td>0</td>\n",
       "      <td>0.594527</td>\n",
       "      <td>1</td>\n",
       "    </tr>\n",
       "    <tr>\n",
       "      <th>3</th>\n",
       "      <td>792</td>\n",
       "      <td>0</td>\n",
       "      <td>0.427956</td>\n",
       "      <td>0</td>\n",
       "    </tr>\n",
       "    <tr>\n",
       "      <th>4</th>\n",
       "      <td>796</td>\n",
       "      <td>0</td>\n",
       "      <td>0.427393</td>\n",
       "      <td>0</td>\n",
       "    </tr>\n",
       "    <tr>\n",
       "      <th>5</th>\n",
       "      <td>797</td>\n",
       "      <td>0</td>\n",
       "      <td>0.466637</td>\n",
       "      <td>0</td>\n",
       "    </tr>\n",
       "    <tr>\n",
       "      <th>6</th>\n",
       "      <td>799</td>\n",
       "      <td>0</td>\n",
       "      <td>0.507922</td>\n",
       "      <td>1</td>\n",
       "    </tr>\n",
       "    <tr>\n",
       "      <th>7</th>\n",
       "      <td>800</td>\n",
       "      <td>0</td>\n",
       "      <td>0.502150</td>\n",
       "      <td>1</td>\n",
       "    </tr>\n",
       "    <tr>\n",
       "      <th>8</th>\n",
       "      <td>802</td>\n",
       "      <td>0</td>\n",
       "      <td>0.436736</td>\n",
       "      <td>0</td>\n",
       "    </tr>\n",
       "    <tr>\n",
       "      <th>9</th>\n",
       "      <td>803</td>\n",
       "      <td>0</td>\n",
       "      <td>0.473835</td>\n",
       "      <td>0</td>\n",
       "    </tr>\n",
       "    <tr>\n",
       "      <th>10</th>\n",
       "      <td>804</td>\n",
       "      <td>0</td>\n",
       "      <td>0.477568</td>\n",
       "      <td>0</td>\n",
       "    </tr>\n",
       "    <tr>\n",
       "      <th>11</th>\n",
       "      <td>805</td>\n",
       "      <td>0</td>\n",
       "      <td>0.467540</td>\n",
       "      <td>0</td>\n",
       "    </tr>\n",
       "    <tr>\n",
       "      <th>12</th>\n",
       "      <td>806</td>\n",
       "      <td>0</td>\n",
       "      <td>0.501696</td>\n",
       "      <td>1</td>\n",
       "    </tr>\n",
       "    <tr>\n",
       "      <th>13</th>\n",
       "      <td>809</td>\n",
       "      <td>0</td>\n",
       "      <td>0.475158</td>\n",
       "      <td>0</td>\n",
       "    </tr>\n",
       "    <tr>\n",
       "      <th>14</th>\n",
       "      <td>810</td>\n",
       "      <td>0</td>\n",
       "      <td>0.412777</td>\n",
       "      <td>0</td>\n",
       "    </tr>\n",
       "    <tr>\n",
       "      <th>15</th>\n",
       "      <td>814</td>\n",
       "      <td>0</td>\n",
       "      <td>0.450160</td>\n",
       "      <td>0</td>\n",
       "    </tr>\n",
       "    <tr>\n",
       "      <th>16</th>\n",
       "      <td>818</td>\n",
       "      <td>0</td>\n",
       "      <td>0.454348</td>\n",
       "      <td>0</td>\n",
       "    </tr>\n",
       "    <tr>\n",
       "      <th>17</th>\n",
       "      <td>820</td>\n",
       "      <td>0</td>\n",
       "      <td>0.461583</td>\n",
       "      <td>0</td>\n",
       "    </tr>\n",
       "    <tr>\n",
       "      <th>18</th>\n",
       "      <td>824</td>\n",
       "      <td>0</td>\n",
       "      <td>0.495347</td>\n",
       "      <td>0</td>\n",
       "    </tr>\n",
       "    <tr>\n",
       "      <th>19</th>\n",
       "      <td>830</td>\n",
       "      <td>0</td>\n",
       "      <td>0.495950</td>\n",
       "      <td>0</td>\n",
       "    </tr>\n",
       "    <tr>\n",
       "      <th>20</th>\n",
       "      <td>834</td>\n",
       "      <td>0</td>\n",
       "      <td>0.493576</td>\n",
       "      <td>0</td>\n",
       "    </tr>\n",
       "    <tr>\n",
       "      <th>21</th>\n",
       "      <td>836</td>\n",
       "      <td>0</td>\n",
       "      <td>0.551723</td>\n",
       "      <td>1</td>\n",
       "    </tr>\n",
       "    <tr>\n",
       "      <th>22</th>\n",
       "      <td>837</td>\n",
       "      <td>0</td>\n",
       "      <td>0.513812</td>\n",
       "      <td>1</td>\n",
       "    </tr>\n",
       "    <tr>\n",
       "      <th>23</th>\n",
       "      <td>839</td>\n",
       "      <td>0</td>\n",
       "      <td>0.468532</td>\n",
       "      <td>0</td>\n",
       "    </tr>\n",
       "    <tr>\n",
       "      <th>24</th>\n",
       "      <td>1004</td>\n",
       "      <td>0</td>\n",
       "      <td>0.514582</td>\n",
       "      <td>1</td>\n",
       "    </tr>\n",
       "    <tr>\n",
       "      <th>25</th>\n",
       "      <td>1009</td>\n",
       "      <td>0</td>\n",
       "      <td>0.483507</td>\n",
       "      <td>0</td>\n",
       "    </tr>\n",
       "    <tr>\n",
       "      <th>26</th>\n",
       "      <td>1010</td>\n",
       "      <td>0</td>\n",
       "      <td>0.458446</td>\n",
       "      <td>0</td>\n",
       "    </tr>\n",
       "    <tr>\n",
       "      <th>27</th>\n",
       "      <td>775</td>\n",
       "      <td>1</td>\n",
       "      <td>0.429676</td>\n",
       "      <td>0</td>\n",
       "    </tr>\n",
       "    <tr>\n",
       "      <th>28</th>\n",
       "      <td>777</td>\n",
       "      <td>1</td>\n",
       "      <td>0.507659</td>\n",
       "      <td>1</td>\n",
       "    </tr>\n",
       "    <tr>\n",
       "      <th>29</th>\n",
       "      <td>781</td>\n",
       "      <td>1</td>\n",
       "      <td>0.430709</td>\n",
       "      <td>0</td>\n",
       "    </tr>\n",
       "    <tr>\n",
       "      <th>30</th>\n",
       "      <td>782</td>\n",
       "      <td>1</td>\n",
       "      <td>0.452641</td>\n",
       "      <td>0</td>\n",
       "    </tr>\n",
       "    <tr>\n",
       "      <th>31</th>\n",
       "      <td>784</td>\n",
       "      <td>1</td>\n",
       "      <td>0.454058</td>\n",
       "      <td>0</td>\n",
       "    </tr>\n",
       "    <tr>\n",
       "      <th>32</th>\n",
       "      <td>787</td>\n",
       "      <td>1</td>\n",
       "      <td>0.442526</td>\n",
       "      <td>0</td>\n",
       "    </tr>\n",
       "    <tr>\n",
       "      <th>33</th>\n",
       "      <td>789</td>\n",
       "      <td>1</td>\n",
       "      <td>0.467194</td>\n",
       "      <td>0</td>\n",
       "    </tr>\n",
       "    <tr>\n",
       "      <th>34</th>\n",
       "      <td>791</td>\n",
       "      <td>1</td>\n",
       "      <td>0.431884</td>\n",
       "      <td>0</td>\n",
       "    </tr>\n",
       "    <tr>\n",
       "      <th>35</th>\n",
       "      <td>793</td>\n",
       "      <td>1</td>\n",
       "      <td>0.448044</td>\n",
       "      <td>0</td>\n",
       "    </tr>\n",
       "    <tr>\n",
       "      <th>36</th>\n",
       "      <td>794</td>\n",
       "      <td>1</td>\n",
       "      <td>0.450313</td>\n",
       "      <td>0</td>\n",
       "    </tr>\n",
       "    <tr>\n",
       "      <th>37</th>\n",
       "      <td>795</td>\n",
       "      <td>1</td>\n",
       "      <td>0.493683</td>\n",
       "      <td>0</td>\n",
       "    </tr>\n",
       "    <tr>\n",
       "      <th>38</th>\n",
       "      <td>801</td>\n",
       "      <td>1</td>\n",
       "      <td>0.408826</td>\n",
       "      <td>0</td>\n",
       "    </tr>\n",
       "    <tr>\n",
       "      <th>39</th>\n",
       "      <td>807</td>\n",
       "      <td>1</td>\n",
       "      <td>0.447971</td>\n",
       "      <td>0</td>\n",
       "    </tr>\n",
       "    <tr>\n",
       "      <th>40</th>\n",
       "      <td>808</td>\n",
       "      <td>1</td>\n",
       "      <td>0.478331</td>\n",
       "      <td>0</td>\n",
       "    </tr>\n",
       "    <tr>\n",
       "      <th>41</th>\n",
       "      <td>811</td>\n",
       "      <td>1</td>\n",
       "      <td>0.522434</td>\n",
       "      <td>1</td>\n",
       "    </tr>\n",
       "    <tr>\n",
       "      <th>42</th>\n",
       "      <td>816</td>\n",
       "      <td>1</td>\n",
       "      <td>0.516112</td>\n",
       "      <td>1</td>\n",
       "    </tr>\n",
       "    <tr>\n",
       "      <th>43</th>\n",
       "      <td>819</td>\n",
       "      <td>1</td>\n",
       "      <td>0.431022</td>\n",
       "      <td>0</td>\n",
       "    </tr>\n",
       "    <tr>\n",
       "      <th>44</th>\n",
       "      <td>823</td>\n",
       "      <td>1</td>\n",
       "      <td>0.424584</td>\n",
       "      <td>0</td>\n",
       "    </tr>\n",
       "    <tr>\n",
       "      <th>45</th>\n",
       "      <td>828</td>\n",
       "      <td>1</td>\n",
       "      <td>0.459221</td>\n",
       "      <td>0</td>\n",
       "    </tr>\n",
       "    <tr>\n",
       "      <th>46</th>\n",
       "      <td>838</td>\n",
       "      <td>1</td>\n",
       "      <td>0.516592</td>\n",
       "      <td>1</td>\n",
       "    </tr>\n",
       "    <tr>\n",
       "      <th>47</th>\n",
       "      <td>840</td>\n",
       "      <td>1</td>\n",
       "      <td>0.429642</td>\n",
       "      <td>0</td>\n",
       "    </tr>\n",
       "    <tr>\n",
       "      <th>48</th>\n",
       "      <td>998</td>\n",
       "      <td>1</td>\n",
       "      <td>0.497938</td>\n",
       "      <td>0</td>\n",
       "    </tr>\n",
       "    <tr>\n",
       "      <th>49</th>\n",
       "      <td>999</td>\n",
       "      <td>1</td>\n",
       "      <td>0.566193</td>\n",
       "      <td>1</td>\n",
       "    </tr>\n",
       "    <tr>\n",
       "      <th>50</th>\n",
       "      <td>1000</td>\n",
       "      <td>1</td>\n",
       "      <td>0.516356</td>\n",
       "      <td>1</td>\n",
       "    </tr>\n",
       "    <tr>\n",
       "      <th>51</th>\n",
       "      <td>1001</td>\n",
       "      <td>1</td>\n",
       "      <td>0.486332</td>\n",
       "      <td>0</td>\n",
       "    </tr>\n",
       "    <tr>\n",
       "      <th>52</th>\n",
       "      <td>1002</td>\n",
       "      <td>1</td>\n",
       "      <td>0.521121</td>\n",
       "      <td>1</td>\n",
       "    </tr>\n",
       "    <tr>\n",
       "      <th>53</th>\n",
       "      <td>1003</td>\n",
       "      <td>1</td>\n",
       "      <td>0.594308</td>\n",
       "      <td>1</td>\n",
       "    </tr>\n",
       "    <tr>\n",
       "      <th>54</th>\n",
       "      <td>1005</td>\n",
       "      <td>1</td>\n",
       "      <td>0.440703</td>\n",
       "      <td>0</td>\n",
       "    </tr>\n",
       "    <tr>\n",
       "      <th>55</th>\n",
       "      <td>1007</td>\n",
       "      <td>1</td>\n",
       "      <td>0.551989</td>\n",
       "      <td>1</td>\n",
       "    </tr>\n",
       "    <tr>\n",
       "      <th>56</th>\n",
       "      <td>1008</td>\n",
       "      <td>1</td>\n",
       "      <td>0.460151</td>\n",
       "      <td>0</td>\n",
       "    </tr>\n",
       "  </tbody>\n",
       "</table>\n",
       "</div>"
      ],
      "text/plain": [
       "    patient_ids  labels     preds  preds_binary\n",
       "0           778       0  0.600380             1\n",
       "1           780       0  0.571470             1\n",
       "2           788       0  0.594527             1\n",
       "3           792       0  0.427956             0\n",
       "4           796       0  0.427393             0\n",
       "5           797       0  0.466637             0\n",
       "6           799       0  0.507922             1\n",
       "7           800       0  0.502150             1\n",
       "8           802       0  0.436736             0\n",
       "9           803       0  0.473835             0\n",
       "10          804       0  0.477568             0\n",
       "11          805       0  0.467540             0\n",
       "12          806       0  0.501696             1\n",
       "13          809       0  0.475158             0\n",
       "14          810       0  0.412777             0\n",
       "15          814       0  0.450160             0\n",
       "16          818       0  0.454348             0\n",
       "17          820       0  0.461583             0\n",
       "18          824       0  0.495347             0\n",
       "19          830       0  0.495950             0\n",
       "20          834       0  0.493576             0\n",
       "21          836       0  0.551723             1\n",
       "22          837       0  0.513812             1\n",
       "23          839       0  0.468532             0\n",
       "24         1004       0  0.514582             1\n",
       "25         1009       0  0.483507             0\n",
       "26         1010       0  0.458446             0\n",
       "27          775       1  0.429676             0\n",
       "28          777       1  0.507659             1\n",
       "29          781       1  0.430709             0\n",
       "30          782       1  0.452641             0\n",
       "31          784       1  0.454058             0\n",
       "32          787       1  0.442526             0\n",
       "33          789       1  0.467194             0\n",
       "34          791       1  0.431884             0\n",
       "35          793       1  0.448044             0\n",
       "36          794       1  0.450313             0\n",
       "37          795       1  0.493683             0\n",
       "38          801       1  0.408826             0\n",
       "39          807       1  0.447971             0\n",
       "40          808       1  0.478331             0\n",
       "41          811       1  0.522434             1\n",
       "42          816       1  0.516112             1\n",
       "43          819       1  0.431022             0\n",
       "44          823       1  0.424584             0\n",
       "45          828       1  0.459221             0\n",
       "46          838       1  0.516592             1\n",
       "47          840       1  0.429642             0\n",
       "48          998       1  0.497938             0\n",
       "49          999       1  0.566193             1\n",
       "50         1000       1  0.516356             1\n",
       "51         1001       1  0.486332             0\n",
       "52         1002       1  0.521121             1\n",
       "53         1003       1  0.594308             1\n",
       "54         1005       1  0.440703             0\n",
       "55         1007       1  0.551989             1\n",
       "56         1008       1  0.460151             0"
      ]
     },
     "execution_count": 18,
     "metadata": {},
     "output_type": "execute_result"
    }
   ],
   "source": [
    "val_df"
   ]
  },
  {
   "cell_type": "code",
   "execution_count": 19,
   "id": "f13ef091",
   "metadata": {
    "execution": {
     "iopub.execute_input": "2024-01-07T03:03:41.707596Z",
     "iopub.status.busy": "2024-01-07T03:03:41.707277Z",
     "iopub.status.idle": "2024-01-07T03:03:41.711532Z",
     "shell.execute_reply": "2024-01-07T03:03:41.710707Z"
    },
    "papermill": {
     "duration": 0.038521,
     "end_time": "2024-01-07T03:03:41.713474",
     "exception": false,
     "start_time": "2024-01-07T03:03:41.674953",
     "status": "completed"
    },
    "tags": []
   },
   "outputs": [],
   "source": [
    "labels = val_df[\"labels\"]\n",
    "preds = val_df[\"preds\"]\n",
    "binary_preds = val_df[\"preds_binary\"]"
   ]
  },
  {
   "cell_type": "code",
   "execution_count": 20,
   "id": "fb372c63",
   "metadata": {
    "execution": {
     "iopub.execute_input": "2024-01-07T03:03:41.778004Z",
     "iopub.status.busy": "2024-01-07T03:03:41.777693Z",
     "iopub.status.idle": "2024-01-07T03:03:41.784883Z",
     "shell.execute_reply": "2024-01-07T03:03:41.784014Z"
    },
    "papermill": {
     "duration": 0.041925,
     "end_time": "2024-01-07T03:03:41.786886",
     "exception": false,
     "start_time": "2024-01-07T03:03:41.744961",
     "status": "completed"
    },
    "tags": []
   },
   "outputs": [],
   "source": [
    "from sklearn.metrics import confusion_matrix, accuracy_score, classification_report, roc_curve, auc\n",
    "\n",
    "cm = confusion_matrix(labels, binary_preds)"
   ]
  },
  {
   "cell_type": "code",
   "execution_count": 21,
   "id": "d3e991f3",
   "metadata": {
    "execution": {
     "iopub.execute_input": "2024-01-07T03:03:41.851764Z",
     "iopub.status.busy": "2024-01-07T03:03:41.851457Z",
     "iopub.status.idle": "2024-01-07T03:03:41.856059Z",
     "shell.execute_reply": "2024-01-07T03:03:41.855304Z"
    },
    "papermill": {
     "duration": 0.039083,
     "end_time": "2024-01-07T03:03:41.857969",
     "exception": false,
     "start_time": "2024-01-07T03:03:41.818886",
     "status": "completed"
    },
    "tags": []
   },
   "outputs": [],
   "source": [
    "df_cm = pd.DataFrame(cm, index=['MGMT Absent', 'MGMT Present'], columns=['MGMT Absent', 'MGMT Present'])"
   ]
  },
  {
   "cell_type": "code",
   "execution_count": 22,
   "id": "ae4562ec",
   "metadata": {
    "execution": {
     "iopub.execute_input": "2024-01-07T03:03:41.922357Z",
     "iopub.status.busy": "2024-01-07T03:03:41.922076Z",
     "iopub.status.idle": "2024-01-07T03:03:42.177952Z",
     "shell.execute_reply": "2024-01-07T03:03:42.177060Z"
    },
    "papermill": {
     "duration": 0.290436,
     "end_time": "2024-01-07T03:03:42.180095",
     "exception": false,
     "start_time": "2024-01-07T03:03:41.889659",
     "status": "completed"
    },
    "tags": []
   },
   "outputs": [
    {
     "data": {
      "image/png": "[encoded data removed]",
      "text/plain": [
       "<Figure size 1500x500 with 2 Axes>"
      ]
     },
     "metadata": {},
     "output_type": "display_data"
    }
   ],
   "source": [
    "plt.figure(figsize=(15, 5))\n",
    "\n",
    "plt.title(\"Confusion matrix for ResNet50 model\\n\")\n",
    "sns.heatmap(df_cm, annot=True, fmt=\"d\", cmap=\"YlGnBu\")\n",
    "plt.xlabel(\"Predicted\")\n",
    "plt.ylabel(\"Actual\")\n",
    "\n",
    "plt.show()"
   ]
  },
  {
   "cell_type": "code",
   "execution_count": 23,
   "id": "87940082",
   "metadata": {
    "execution": {
     "iopub.execute_input": "2024-01-07T03:03:42.245985Z",
     "iopub.status.busy": "2024-01-07T03:03:42.245608Z",
     "iopub.status.idle": "2024-01-07T03:03:42.252743Z",
     "shell.execute_reply": "2024-01-07T03:03:42.251803Z"
    },
    "papermill": {
     "duration": 0.042721,
     "end_time": "2024-01-07T03:03:42.254946",
     "exception": false,
     "start_time": "2024-01-07T03:03:42.212225",
     "status": "completed"
    },
    "tags": []
   },
   "outputs": [
    {
     "name": "stdout",
     "output_type": "stream",
     "text": [
      "Model Accuracy Score: 0.47368421052631576\n"
     ]
    }
   ],
   "source": [
    "accuracy = accuracy_score(labels, binary_preds)\n",
    "print(f\"Model Accuracy Score: {accuracy}\")"
   ]
  },
  {
   "cell_type": "code",
   "execution_count": 24,
   "id": "db9d566e",
   "metadata": {
    "execution": {
     "iopub.execute_input": "2024-01-07T03:03:42.322748Z",
     "iopub.status.busy": "2024-01-07T03:03:42.322443Z",
     "iopub.status.idle": "2024-01-07T03:03:42.337531Z",
     "shell.execute_reply": "2024-01-07T03:03:42.336471Z"
    },
    "papermill": {
     "duration": 0.049932,
     "end_time": "2024-01-07T03:03:42.339542",
     "exception": false,
     "start_time": "2024-01-07T03:03:42.289610",
     "status": "completed"
    },
    "tags": []
   },
   "outputs": [
    {
     "name": "stdout",
     "output_type": "stream",
     "text": [
      "ResNet50 Model Classification Report\n",
      "=========================================\n",
      "              precision    recall  f1-score   support\n",
      "\n",
      " MGMT Absent       0.46      0.67      0.55        27\n",
      "MGMT Present       0.50      0.30      0.37        30\n",
      "\n",
      "    accuracy                           0.47        57\n",
      "   macro avg       0.48      0.48      0.46        57\n",
      "weighted avg       0.48      0.47      0.46        57\n",
      "\n"
     ]
    }
   ],
   "source": [
    "cr =classification_report(labels, binary_preds, target_names=['MGMT Absent', 'MGMT Present'])\n",
    "print(\"ResNet50 Model Classification Report\")\n",
    "print(\"=========================================\")\n",
    "print(cr)"
   ]
  },
  {
   "cell_type": "code",
   "execution_count": 25,
   "id": "22e44876",
   "metadata": {
    "execution": {
     "iopub.execute_input": "2024-01-07T03:03:42.405945Z",
     "iopub.status.busy": "2024-01-07T03:03:42.405123Z",
     "iopub.status.idle": "2024-01-07T03:03:42.411278Z",
     "shell.execute_reply": "2024-01-07T03:03:42.410396Z"
    },
    "papermill": {
     "duration": 0.041149,
     "end_time": "2024-01-07T03:03:42.413214",
     "exception": false,
     "start_time": "2024-01-07T03:03:42.372065",
     "status": "completed"
    },
    "tags": []
   },
   "outputs": [
    {
     "name": "stdout",
     "output_type": "stream",
     "text": [
      "ResNet50 Model\n",
      "=========================================\n",
      "MGMT Present : Sensitivity = 0.3, Specificity = 0.6666666666666666\n"
     ]
    }
   ],
   "source": [
    "print(\"ResNet50 Model\")\n",
    "print(\"=========================================\")\n",
    "sensitivity = cm[1, 1] / (cm[1, 1] + cm[1, 0])\n",
    "specificity = cm[0, 0] / (cm[0, 0] + cm[0, 1])\n",
    "\n",
    "print(f'MGMT Present : Sensitivity = {sensitivity}, Specificity = {specificity}')"
   ]
  },
  {
   "cell_type": "code",
   "execution_count": 26,
   "id": "a37953ca",
   "metadata": {
    "execution": {
     "iopub.execute_input": "2024-01-07T03:03:42.480471Z",
     "iopub.status.busy": "2024-01-07T03:03:42.480172Z",
     "iopub.status.idle": "2024-01-07T03:03:42.812763Z",
     "shell.execute_reply": "2024-01-07T03:03:42.811836Z"
    },
    "papermill": {
     "duration": 0.369624,
     "end_time": "2024-01-07T03:03:42.814889",
     "exception": false,
     "start_time": "2024-01-07T03:03:42.445265",
     "status": "completed"
    },
    "tags": []
   },
   "outputs": [
    {
     "data": {
      "image/png": "[encoded data removed]",
      "text/plain": [
       "<Figure size 800x800 with 1 Axes>"
      ]
     },
     "metadata": {},
     "output_type": "display_data"
    }
   ],
   "source": [
    "fpr, tpr, thresholds = roc_curve(labels, preds)\n",
    "\n",
    "roc_auc = auc(fpr, tpr)\n",
    "\n",
    "plt.figure(figsize=(8, 8))\n",
    "plt.plot(fpr, tpr, color='darkorange', lw=2, label=f'ROC curve (AUC = {roc_auc:.5f})')\n",
    "plt.plot([0, 1], [0, 1], color='navy', lw=2, linestyle='--')\n",
    "plt.xlabel('False Positive Rate (1 - Specificity)')\n",
    "plt.ylabel('True Positive Rate (Sensitivity)')\n",
    "plt.title('ROC Curve (ResNet50)')\n",
    "plt.legend(loc='lower right')\n",
    "plt.show()"
   ]
  },
  {
   "cell_type": "code",
   "execution_count": null,
   "id": "ece53b68",
   "metadata": {
    "papermill": {
     "duration": 0.032942,
     "end_time": "2024-01-07T03:03:42.881119",
     "exception": false,
     "start_time": "2024-01-07T03:03:42.848177",
     "status": "completed"
    },
    "tags": []
   },
   "outputs": [],
   "source": []
  }
 ],
 "metadata": {
  "kaggle": {
   "accelerator": "gpu",
   "dataSources": [
    {
     "databundleVersionId": 2420395,
     "sourceId": 29653,
     "sourceType": "competition"
    },
    {
     "datasetId": 1467572,
     "sourceId": 2425289,
     "sourceType": "datasetVersion"
    },
    {
     "datasetId": 4269342,
     "sourceId": 7351509,
     "sourceType": "datasetVersion"
    }
   ],
   "dockerImageVersionId": 30627,
   "isGpuEnabled": true,
   "isInternetEnabled": true,
   "language": "python",
   "sourceType": "notebook"
  },
  "kernelspec": {
   "display_name": "Python 3",
   "language": "python",
   "name": "python3"
  },
  "language_info": {
   "codemirror_mode": {
    "name": "ipython",
    "version": 3
   },
   "file_extension": ".py",
   "mimetype": "text/x-python",
   "name": "python",
   "nbconvert_exporter": "python",
   "pygments_lexer": "ipython3",
   "version": "3.10.12"
  },
  "papermill": {
   "default_parameters": {},
   "duration": 150.55755,
   "end_time": "2024-01-07T03:03:45.373327",
   "environment_variables": {},
   "exception": null,
   "input_path": "__notebook__.ipynb",
   "output_path": "__notebook__.ipynb",
   "parameters": {},
   "start_time": "2024-01-07T03:01:14.815777",
   "version": "2.4.0"
  }
 },
 "nbformat": 4,
 "nbformat_minor": 5
}
