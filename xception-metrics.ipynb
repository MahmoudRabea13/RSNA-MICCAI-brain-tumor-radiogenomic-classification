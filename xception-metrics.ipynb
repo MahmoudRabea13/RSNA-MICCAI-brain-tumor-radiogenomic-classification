{
 "cells": [
  {
   "cell_type": "code",
   "execution_count": 1,
   "id": "60951168",
   "metadata": {
    "_cell_guid": "b1076dfc-b9ad-4769-8c92-a6c4dae69d19",
    "_uuid": "8f2839f25d086af736a60e9eeb907d3b93b6e0e5",
    "execution": {
     "iopub.execute_input": "2024-01-07T03:04:23.944129Z",
     "iopub.status.busy": "2024-01-07T03:04:23.943278Z",
     "iopub.status.idle": "2024-01-07T03:04:36.889716Z",
     "shell.execute_reply": "2024-01-07T03:04:36.888875Z"
    },
    "papermill": {
     "duration": 12.959061,
     "end_time": "2024-01-07T03:04:36.892077",
     "exception": false,
     "start_time": "2024-01-07T03:04:23.933016",
     "status": "completed"
    },
    "tags": []
   },
   "outputs": [
    {
     "name": "stderr",
     "output_type": "stream",
     "text": [
      "/opt/conda/lib/python3.10/site-packages/scipy/__init__.py:146: UserWarning: A NumPy version >=1.16.5 and <1.23.0 is required for this version of SciPy (detected version 1.24.3\n",
      "  warnings.warn(f\"A NumPy version >={np_minversion} and <{np_maxversion}\"\n"
     ]
    }
   ],
   "source": [
    "import pandas as pd\n",
    "import tensorflow as tf\n",
    "import matplotlib.pyplot as plt\n",
    "import numpy as np\n",
    "import os\n",
    "from sklearn.model_selection import train_test_split\n",
    "import math\n",
    "from tensorflow.keras.metrics import AUC\n",
    "from tensorflow.keras.callbacks import EarlyStopping, ReduceLROnPlateau\n",
    "from glob import glob\n",
    "import pydicom\n",
    "from pydicom.pixel_data_handlers.util import apply_voi_lut\n",
    "import seaborn as sns"
   ]
  },
  {
   "cell_type": "code",
   "execution_count": 2,
   "id": "10dc02e0",
   "metadata": {
    "execution": {
     "iopub.execute_input": "2024-01-07T03:04:36.909227Z",
     "iopub.status.busy": "2024-01-07T03:04:36.908758Z",
     "iopub.status.idle": "2024-01-07T03:04:36.913356Z",
     "shell.execute_reply": "2024-01-07T03:04:36.912477Z"
    },
    "papermill": {
     "duration": 0.015185,
     "end_time": "2024-01-07T03:04:36.915329",
     "exception": false,
     "start_time": "2024-01-07T03:04:36.900144",
     "status": "completed"
    },
    "tags": []
   },
   "outputs": [],
   "source": [
    "HEIGHT = WIDTH = 512\n",
    "BATCH_SIZE = 64\n",
    "EPOCHS = 20\n",
    "TRAIN_PROP = 0.9\n",
    "AUTOTUNE = tf.data.AUTOTUNE"
   ]
  },
  {
   "cell_type": "code",
   "execution_count": 3,
   "id": "3ca68d28",
   "metadata": {
    "execution": {
     "iopub.execute_input": "2024-01-07T03:04:36.932060Z",
     "iopub.status.busy": "2024-01-07T03:04:36.931779Z",
     "iopub.status.idle": "2024-01-07T03:04:36.947275Z",
     "shell.execute_reply": "2024-01-07T03:04:36.946611Z"
    },
    "papermill": {
     "duration": 0.02599,
     "end_time": "2024-01-07T03:04:36.949211",
     "exception": false,
     "start_time": "2024-01-07T03:04:36.923221",
     "status": "completed"
    },
    "tags": []
   },
   "outputs": [],
   "source": [
    "df = pd.read_csv(\"/kaggle/input/rsna-miccai-brain-tumor-radiogenomic-classification/train_labels.csv\")"
   ]
  },
  {
   "cell_type": "code",
   "execution_count": 4,
   "id": "5c2df5aa",
   "metadata": {
    "execution": {
     "iopub.execute_input": "2024-01-07T03:04:36.965139Z",
     "iopub.status.busy": "2024-01-07T03:04:36.964873Z",
     "iopub.status.idle": "2024-01-07T03:04:36.977779Z",
     "shell.execute_reply": "2024-01-07T03:04:36.977125Z"
    },
    "papermill": {
     "duration": 0.023121,
     "end_time": "2024-01-07T03:04:36.979783",
     "exception": false,
     "start_time": "2024-01-07T03:04:36.956662",
     "status": "completed"
    },
    "tags": []
   },
   "outputs": [],
   "source": [
    "rem = [109, 123, 709]\n",
    "df = df[~df.BraTS21ID.isin(rem)].reset_index(drop = True)"
   ]
  },
  {
   "cell_type": "code",
   "execution_count": 5,
   "id": "bed4ef21",
   "metadata": {
    "execution": {
     "iopub.execute_input": "2024-01-07T03:04:36.995619Z",
     "iopub.status.busy": "2024-01-07T03:04:36.995347Z",
     "iopub.status.idle": "2024-01-07T03:04:37.007189Z",
     "shell.execute_reply": "2024-01-07T03:04:37.006384Z"
    },
    "papermill": {
     "duration": 0.021918,
     "end_time": "2024-01-07T03:04:37.009150",
     "exception": false,
     "start_time": "2024-01-07T03:04:36.987232",
     "status": "completed"
    },
    "tags": []
   },
   "outputs": [],
   "source": [
    "def full_ids(data):\n",
    "    zeros = 5 - len(str(data))\n",
    "    if zeros > 0:\n",
    "        prefix = ''.join(['0' for i in range(zeros)])\n",
    "    \n",
    "    return prefix+str(data)\n",
    "        \n",
    "\n",
    "df['BraTS21ID_full'] = df['BraTS21ID'].apply(full_ids)\n",
    "\n",
    "root_dir_train = \"/kaggle/input/rsna-miccai-png/\"\n",
    "\n",
    "df['flair'] = df['BraTS21ID_full'].apply(lambda file_id : root_dir_train+'train/'+file_id+'/FLAIR/')\n",
    "df['t1w'] = df['BraTS21ID_full'].apply(lambda file_id : root_dir_train+'train/'+file_id+'/T1w/')\n",
    "df['t1wce'] = df['BraTS21ID_full'].apply(lambda file_id : root_dir_train+'train/'+file_id+'/T1wCE/')\n",
    "df['t2w'] = df['BraTS21ID_full'].apply(lambda file_id : root_dir_train+'train/'+file_id+'/T2w/')\n"
   ]
  },
  {
   "cell_type": "code",
   "execution_count": 6,
   "id": "f15ef004",
   "metadata": {
    "execution": {
     "iopub.execute_input": "2024-01-07T03:04:37.025475Z",
     "iopub.status.busy": "2024-01-07T03:04:37.025217Z",
     "iopub.status.idle": "2024-01-07T03:04:37.036430Z",
     "shell.execute_reply": "2024-01-07T03:04:37.035636Z"
    },
    "papermill": {
     "duration": 0.021549,
     "end_time": "2024-01-07T03:04:37.038426",
     "exception": false,
     "start_time": "2024-01-07T03:04:37.016877",
     "status": "completed"
    },
    "tags": []
   },
   "outputs": [],
   "source": [
    "def train_df(mri_type):\n",
    "    all_img_files = []\n",
    "    all_img_labels = []\n",
    "    all_img_patient_ids = []\n",
    "    for row in df.iterrows():\n",
    "        \n",
    "        img_dir = row[1][mri_type]\n",
    "        img_files = os.listdir(img_dir)\n",
    "        img_nums = sorted([int(ele.replace('Image-', '').replace('.png', '')) for ele in img_files])\n",
    "        mid_point = int(len(img_nums)/2)\n",
    "        start_point = mid_point - max(int(mid_point*0.1), 1)\n",
    "        end_point = mid_point + max(int(mid_point*0.1), 1)\n",
    "        img_names = [f'Image-{img_nums[i]}.png' for i in range(start_point, end_point+1)]\n",
    "        img_paths = [img_dir+image for image in img_names]\n",
    "        img_labels = [row[1]['MGMT_value']]*len(img_paths)\n",
    "        img_patient_ids = [row[1]['BraTS21ID']]*len(img_paths)\n",
    "        all_img_files.extend(img_paths)\n",
    "        all_img_labels.extend(img_labels)\n",
    "        all_img_patient_ids.extend(img_patient_ids)\n",
    "        \n",
    "    train_val_df = pd.DataFrame({'patient_ids': all_img_patient_ids,\n",
    "                  'labels': all_img_labels,\n",
    "                  'file_paths': all_img_files})\n",
    "    \n",
    "    classes_splits  = {}\n",
    "    for i in range(2):\n",
    "        train_val_label_class = train_val_df[train_val_df['labels']==i]\n",
    "        train_val_list_ids =  list(train_val_label_class['patient_ids'].unique())\n",
    "        train_threshold = math.ceil(TRAIN_PROP*len(train_val_list_ids))\n",
    "        train_ids = train_val_list_ids[:train_threshold]\n",
    "        val_ids = train_val_list_ids[train_threshold:]\n",
    "        classes_splits[f'train_{i}'] = train_val_label_class[train_val_label_class['patient_ids'].isin(train_ids)]\n",
    "        classes_splits[f'val_{i}'] = val_df = train_val_label_class[train_val_label_class['patient_ids'].isin(val_ids)]\n",
    "        \n",
    "    train_df = pd.concat([classes_splits['train_0'], classes_splits['train_1']], axis=0)\n",
    "    val_df = pd.concat([classes_splits['val_0'], classes_splits['val_1']], axis=0)\n",
    "\n",
    "    return train_df, val_df"
   ]
  },
  {
   "cell_type": "code",
   "execution_count": 7,
   "id": "3cac06dc",
   "metadata": {
    "execution": {
     "iopub.execute_input": "2024-01-07T03:04:37.054411Z",
     "iopub.status.busy": "2024-01-07T03:04:37.054155Z",
     "iopub.status.idle": "2024-01-07T03:06:00.416899Z",
     "shell.execute_reply": "2024-01-07T03:06:00.415953Z"
    },
    "papermill": {
     "duration": 83.373719,
     "end_time": "2024-01-07T03:06:00.419615",
     "exception": false,
     "start_time": "2024-01-07T03:04:37.045896",
     "status": "completed"
    },
    "tags": []
   },
   "outputs": [],
   "source": [
    "train_val = []\n",
    "for mri_type in ['flair', 't1w', 't1wce', 't2w']:\n",
    "    train_val.append(train_df(mri_type))"
   ]
  },
  {
   "cell_type": "code",
   "execution_count": 8,
   "id": "19d7b8c9",
   "metadata": {
    "execution": {
     "iopub.execute_input": "2024-01-07T03:06:00.436733Z",
     "iopub.status.busy": "2024-01-07T03:06:00.436382Z",
     "iopub.status.idle": "2024-01-07T03:06:00.442279Z",
     "shell.execute_reply": "2024-01-07T03:06:00.441345Z"
    },
    "papermill": {
     "duration": 0.016576,
     "end_time": "2024-01-07T03:06:00.444354",
     "exception": false,
     "start_time": "2024-01-07T03:06:00.427778",
     "status": "completed"
    },
    "tags": []
   },
   "outputs": [],
   "source": [
    "@tf.function\n",
    "def load_data(path, label):\n",
    "    image = tf.io.read_file(path)\n",
    "    image = tf.image.decode_png(image,channels=3)\n",
    "    image = tf.image.resize(image, (HEIGHT,WIDTH)) / 255.0\n",
    "    image = tf.expand_dims(image, axis=0)\n",
    "\n",
    "    return(image,label)"
   ]
  },
  {
   "cell_type": "code",
   "execution_count": 9,
   "id": "96b85b5f",
   "metadata": {
    "execution": {
     "iopub.execute_input": "2024-01-07T03:06:00.461270Z",
     "iopub.status.busy": "2024-01-07T03:06:00.460472Z",
     "iopub.status.idle": "2024-01-07T03:06:00.465624Z",
     "shell.execute_reply": "2024-01-07T03:06:00.464639Z"
    },
    "papermill": {
     "duration": 0.015564,
     "end_time": "2024-01-07T03:06:00.467719",
     "exception": false,
     "start_time": "2024-01-07T03:06:00.452155",
     "status": "completed"
    },
    "tags": []
   },
   "outputs": [],
   "source": [
    "def form_dataset(paths,labels):\n",
    "    \n",
    "    dataset = tf.data.Dataset.from_tensor_slices((paths,labels))\n",
    "    \n",
    "    dataset = (\n",
    "        dataset\n",
    "        .map(load_data, num_parallel_calls = AUTOTUNE)\n",
    "        .prefetch(AUTOTUNE)\n",
    "    )\n",
    "    \n",
    "    return dataset"
   ]
  },
  {
   "cell_type": "code",
   "execution_count": 10,
   "id": "51cfdd1f",
   "metadata": {
    "execution": {
     "iopub.execute_input": "2024-01-07T03:06:00.484296Z",
     "iopub.status.busy": "2024-01-07T03:06:00.484024Z",
     "iopub.status.idle": "2024-01-07T03:06:00.499226Z",
     "shell.execute_reply": "2024-01-07T03:06:00.498451Z"
    },
    "papermill": {
     "duration": 0.025434,
     "end_time": "2024-01-07T03:06:00.501279",
     "exception": false,
     "start_time": "2024-01-07T03:06:00.475845",
     "status": "completed"
    },
    "tags": []
   },
   "outputs": [
    {
     "data": {
      "text/html": [
       "<div>\n",
       "<style scoped>\n",
       "    .dataframe tbody tr th:only-of-type {\n",
       "        vertical-align: middle;\n",
       "    }\n",
       "\n",
       "    .dataframe tbody tr th {\n",
       "        vertical-align: top;\n",
       "    }\n",
       "\n",
       "    .dataframe thead th {\n",
       "        text-align: right;\n",
       "    }\n",
       "</style>\n",
       "<table border=\"1\" class=\"dataframe\">\n",
       "  <thead>\n",
       "    <tr style=\"text-align: right;\">\n",
       "      <th></th>\n",
       "      <th>patient_ids</th>\n",
       "      <th>labels</th>\n",
       "      <th>file_paths</th>\n",
       "    </tr>\n",
       "  </thead>\n",
       "  <tbody>\n",
       "    <tr>\n",
       "      <th>6</th>\n",
       "      <td>3</td>\n",
       "      <td>0</td>\n",
       "      <td>/kaggle/input/rsna-miccai-png/train/00003/T1w/...</td>\n",
       "    </tr>\n",
       "    <tr>\n",
       "      <th>7</th>\n",
       "      <td>3</td>\n",
       "      <td>0</td>\n",
       "      <td>/kaggle/input/rsna-miccai-png/train/00003/T1w/...</td>\n",
       "    </tr>\n",
       "    <tr>\n",
       "      <th>8</th>\n",
       "      <td>3</td>\n",
       "      <td>0</td>\n",
       "      <td>/kaggle/input/rsna-miccai-png/train/00003/T1w/...</td>\n",
       "    </tr>\n",
       "    <tr>\n",
       "      <th>18</th>\n",
       "      <td>9</td>\n",
       "      <td>0</td>\n",
       "      <td>/kaggle/input/rsna-miccai-png/train/00009/T1w/...</td>\n",
       "    </tr>\n",
       "    <tr>\n",
       "      <th>19</th>\n",
       "      <td>9</td>\n",
       "      <td>0</td>\n",
       "      <td>/kaggle/input/rsna-miccai-png/train/00009/T1w/...</td>\n",
       "    </tr>\n",
       "    <tr>\n",
       "      <th>...</th>\n",
       "      <td>...</td>\n",
       "      <td>...</td>\n",
       "      <td>...</td>\n",
       "    </tr>\n",
       "    <tr>\n",
       "      <th>5635</th>\n",
       "      <td>773</td>\n",
       "      <td>1</td>\n",
       "      <td>/kaggle/input/rsna-miccai-png/train/00773/T1w/...</td>\n",
       "    </tr>\n",
       "    <tr>\n",
       "      <th>5636</th>\n",
       "      <td>773</td>\n",
       "      <td>1</td>\n",
       "      <td>/kaggle/input/rsna-miccai-png/train/00773/T1w/...</td>\n",
       "    </tr>\n",
       "    <tr>\n",
       "      <th>5637</th>\n",
       "      <td>773</td>\n",
       "      <td>1</td>\n",
       "      <td>/kaggle/input/rsna-miccai-png/train/00773/T1w/...</td>\n",
       "    </tr>\n",
       "    <tr>\n",
       "      <th>5638</th>\n",
       "      <td>773</td>\n",
       "      <td>1</td>\n",
       "      <td>/kaggle/input/rsna-miccai-png/train/00773/T1w/...</td>\n",
       "    </tr>\n",
       "    <tr>\n",
       "      <th>5639</th>\n",
       "      <td>773</td>\n",
       "      <td>1</td>\n",
       "      <td>/kaggle/input/rsna-miccai-png/train/00773/T1w/...</td>\n",
       "    </tr>\n",
       "  </tbody>\n",
       "</table>\n",
       "<p>5655 rows × 3 columns</p>\n",
       "</div>"
      ],
      "text/plain": [
       "      patient_ids  labels                                         file_paths\n",
       "6               3       0  /kaggle/input/rsna-miccai-png/train/00003/T1w/...\n",
       "7               3       0  /kaggle/input/rsna-miccai-png/train/00003/T1w/...\n",
       "8               3       0  /kaggle/input/rsna-miccai-png/train/00003/T1w/...\n",
       "18              9       0  /kaggle/input/rsna-miccai-png/train/00009/T1w/...\n",
       "19              9       0  /kaggle/input/rsna-miccai-png/train/00009/T1w/...\n",
       "...           ...     ...                                                ...\n",
       "5635          773       1  /kaggle/input/rsna-miccai-png/train/00773/T1w/...\n",
       "5636          773       1  /kaggle/input/rsna-miccai-png/train/00773/T1w/...\n",
       "5637          773       1  /kaggle/input/rsna-miccai-png/train/00773/T1w/...\n",
       "5638          773       1  /kaggle/input/rsna-miccai-png/train/00773/T1w/...\n",
       "5639          773       1  /kaggle/input/rsna-miccai-png/train/00773/T1w/...\n",
       "\n",
       "[5655 rows x 3 columns]"
      ]
     },
     "execution_count": 10,
     "metadata": {},
     "output_type": "execute_result"
    }
   ],
   "source": [
    "train_val[1][0]"
   ]
  },
  {
   "cell_type": "code",
   "execution_count": 11,
   "id": "b3da709c",
   "metadata": {
    "execution": {
     "iopub.execute_input": "2024-01-07T03:06:00.518550Z",
     "iopub.status.busy": "2024-01-07T03:06:00.518068Z",
     "iopub.status.idle": "2024-01-07T03:06:01.747256Z",
     "shell.execute_reply": "2024-01-07T03:06:01.746288Z"
    },
    "papermill": {
     "duration": 1.240154,
     "end_time": "2024-01-07T03:06:01.749516",
     "exception": false,
     "start_time": "2024-01-07T03:06:00.509362",
     "status": "completed"
    },
    "tags": []
   },
   "outputs": [],
   "source": [
    "val_datasets = []\n",
    "\n",
    "for data in train_val:\n",
    "    val_datasets.append(\n",
    "        form_dataset(\n",
    "            data[1][\"file_paths\"],\n",
    "            data[1][\"labels\"]\n",
    "        )\n",
    "    )"
   ]
  },
  {
   "cell_type": "code",
   "execution_count": 12,
   "id": "3b91ffb6",
   "metadata": {
    "execution": {
     "iopub.execute_input": "2024-01-07T03:06:01.766958Z",
     "iopub.status.busy": "2024-01-07T03:06:01.766653Z",
     "iopub.status.idle": "2024-01-07T03:06:13.644600Z",
     "shell.execute_reply": "2024-01-07T03:06:13.643559Z"
    },
    "papermill": {
     "duration": 11.889472,
     "end_time": "2024-01-07T03:06:13.647357",
     "exception": false,
     "start_time": "2024-01-07T03:06:01.757885",
     "status": "completed"
    },
    "tags": []
   },
   "outputs": [],
   "source": [
    "models = []\n",
    "\n",
    "for mri_type in ['flair', 't1w', 't1wce', 't2w']:\n",
    "    models.append(tf.keras.models.load_model(f\"/kaggle/input/xception-mpmri-models/{mri_type}_model.h5\"))"
   ]
  },
  {
   "cell_type": "code",
   "execution_count": 13,
   "id": "7a04bc8d",
   "metadata": {
    "execution": {
     "iopub.execute_input": "2024-01-07T03:06:13.665717Z",
     "iopub.status.busy": "2024-01-07T03:06:13.665374Z",
     "iopub.status.idle": "2024-01-07T03:06:37.488624Z",
     "shell.execute_reply": "2024-01-07T03:06:37.487625Z"
    },
    "papermill": {
     "duration": 23.834872,
     "end_time": "2024-01-07T03:06:37.490847",
     "exception": false,
     "start_time": "2024-01-07T03:06:13.655975",
     "status": "completed"
    },
    "tags": []
   },
   "outputs": [
    {
     "name": "stdout",
     "output_type": "stream",
     "text": [
      "279/279 [==============================] - 6s 15ms/step\n",
      "325/325 [==============================] - 6s 15ms/step\n",
      "323/323 [==============================] - 6s 15ms/step\n",
      "267/267 [==============================] - 5s 15ms/step\n"
     ]
    }
   ],
   "source": [
    "all_val_preds = []\n",
    "val_dfs = []\n",
    "\n",
    "for i, model_name in enumerate(['flair', 't1w', 't1wce', 't2w']):\n",
    "    val_df = train_val[i][1]\n",
    "    \n",
    "    val_ds = val_datasets[i]\n",
    "    model = models[i]\n",
    "    \n",
    "    val_pred = model.predict(val_ds, steps=len(val_ds))\n",
    "    val_df[\"pred_y\"] = val_pred\n",
    "    \n",
    "    val_dfs.append(val_df)\n",
    "    \n",
    "    mean_pred = val_pred.mean()\n",
    "    test_pred_agg = val_df.groupby('patient_ids').apply(\n",
    "        lambda x: x['pred_y'].max()\n",
    "        if (x['pred_y'].max() - mean_pred) > (mean_pred - x['pred_y'].min()) \n",
    "        else x['pred_y'].min())\n",
    "    all_val_preds.append(test_pred_agg.values)"
   ]
  },
  {
   "cell_type": "code",
   "execution_count": 14,
   "id": "fa66ea62",
   "metadata": {
    "execution": {
     "iopub.execute_input": "2024-01-07T03:06:37.556353Z",
     "iopub.status.busy": "2024-01-07T03:06:37.556029Z",
     "iopub.status.idle": "2024-01-07T03:06:37.564467Z",
     "shell.execute_reply": "2024-01-07T03:06:37.563376Z"
    },
    "papermill": {
     "duration": 0.043673,
     "end_time": "2024-01-07T03:06:37.566876",
     "exception": false,
     "start_time": "2024-01-07T03:06:37.523203",
     "status": "completed"
    },
    "tags": []
   },
   "outputs": [],
   "source": [
    "val_df = val_dfs[0][[\"patient_ids\",\"labels\"]]\n",
    "val_df = val_df.drop_duplicates().reset_index(drop=True)"
   ]
  },
  {
   "cell_type": "code",
   "execution_count": 15,
   "id": "f32888eb",
   "metadata": {
    "execution": {
     "iopub.execute_input": "2024-01-07T03:06:37.639310Z",
     "iopub.status.busy": "2024-01-07T03:06:37.638996Z",
     "iopub.status.idle": "2024-01-07T03:06:37.643788Z",
     "shell.execute_reply": "2024-01-07T03:06:37.642770Z"
    },
    "papermill": {
     "duration": 0.042531,
     "end_time": "2024-01-07T03:06:37.646119",
     "exception": false,
     "start_time": "2024-01-07T03:06:37.603588",
     "status": "completed"
    },
    "tags": []
   },
   "outputs": [],
   "source": [
    "all_val_preds = np.array(all_val_preds)\n",
    "preds = all_val_preds.mean(0)"
   ]
  },
  {
   "cell_type": "code",
   "execution_count": 16,
   "id": "85c3ef5d",
   "metadata": {
    "execution": {
     "iopub.execute_input": "2024-01-07T03:06:37.715729Z",
     "iopub.status.busy": "2024-01-07T03:06:37.715441Z",
     "iopub.status.idle": "2024-01-07T03:06:37.719874Z",
     "shell.execute_reply": "2024-01-07T03:06:37.719005Z"
    },
    "papermill": {
     "duration": 0.040007,
     "end_time": "2024-01-07T03:06:37.721891",
     "exception": false,
     "start_time": "2024-01-07T03:06:37.681884",
     "status": "completed"
    },
    "tags": []
   },
   "outputs": [],
   "source": [
    "val_df[\"preds\"] = preds"
   ]
  },
  {
   "cell_type": "code",
   "execution_count": 17,
   "id": "6c259575",
   "metadata": {
    "execution": {
     "iopub.execute_input": "2024-01-07T03:06:37.786867Z",
     "iopub.status.busy": "2024-01-07T03:06:37.785824Z",
     "iopub.status.idle": "2024-01-07T03:06:37.791552Z",
     "shell.execute_reply": "2024-01-07T03:06:37.790826Z"
    },
    "papermill": {
     "duration": 0.040776,
     "end_time": "2024-01-07T03:06:37.793825",
     "exception": false,
     "start_time": "2024-01-07T03:06:37.753049",
     "status": "completed"
    },
    "tags": []
   },
   "outputs": [],
   "source": [
    "val_df[\"preds_binary\"] = val_df[\"preds\"] >= 0.5\n",
    "val_df[\"preds_binary\"] = val_df[\"preds_binary\"].astype(int)"
   ]
  },
  {
   "cell_type": "code",
   "execution_count": 18,
   "id": "b218a77b",
   "metadata": {
    "execution": {
     "iopub.execute_input": "2024-01-07T03:06:37.909152Z",
     "iopub.status.busy": "2024-01-07T03:06:37.908265Z",
     "iopub.status.idle": "2024-01-07T03:06:37.925311Z",
     "shell.execute_reply": "2024-01-07T03:06:37.924396Z"
    },
    "papermill": {
     "duration": 0.053715,
     "end_time": "2024-01-07T03:06:37.927543",
     "exception": false,
     "start_time": "2024-01-07T03:06:37.873828",
     "status": "completed"
    },
    "tags": []
   },
   "outputs": [
    {
     "data": {
      "text/html": [
       "<div>\n",
       "<style scoped>\n",
       "    .dataframe tbody tr th:only-of-type {\n",
       "        vertical-align: middle;\n",
       "    }\n",
       "\n",
       "    .dataframe tbody tr th {\n",
       "        vertical-align: top;\n",
       "    }\n",
       "\n",
       "    .dataframe thead th {\n",
       "        text-align: right;\n",
       "    }\n",
       "</style>\n",
       "<table border=\"1\" class=\"dataframe\">\n",
       "  <thead>\n",
       "    <tr style=\"text-align: right;\">\n",
       "      <th></th>\n",
       "      <th>patient_ids</th>\n",
       "      <th>labels</th>\n",
       "      <th>preds</th>\n",
       "      <th>preds_binary</th>\n",
       "    </tr>\n",
       "  </thead>\n",
       "  <tbody>\n",
       "    <tr>\n",
       "      <th>0</th>\n",
       "      <td>778</td>\n",
       "      <td>0</td>\n",
       "      <td>0.591941</td>\n",
       "      <td>1</td>\n",
       "    </tr>\n",
       "    <tr>\n",
       "      <th>1</th>\n",
       "      <td>780</td>\n",
       "      <td>0</td>\n",
       "      <td>0.560559</td>\n",
       "      <td>1</td>\n",
       "    </tr>\n",
       "    <tr>\n",
       "      <th>2</th>\n",
       "      <td>788</td>\n",
       "      <td>0</td>\n",
       "      <td>0.554617</td>\n",
       "      <td>1</td>\n",
       "    </tr>\n",
       "    <tr>\n",
       "      <th>3</th>\n",
       "      <td>792</td>\n",
       "      <td>0</td>\n",
       "      <td>0.434062</td>\n",
       "      <td>0</td>\n",
       "    </tr>\n",
       "    <tr>\n",
       "      <th>4</th>\n",
       "      <td>796</td>\n",
       "      <td>0</td>\n",
       "      <td>0.468475</td>\n",
       "      <td>0</td>\n",
       "    </tr>\n",
       "    <tr>\n",
       "      <th>5</th>\n",
       "      <td>797</td>\n",
       "      <td>0</td>\n",
       "      <td>0.458698</td>\n",
       "      <td>0</td>\n",
       "    </tr>\n",
       "    <tr>\n",
       "      <th>6</th>\n",
       "      <td>799</td>\n",
       "      <td>0</td>\n",
       "      <td>0.480239</td>\n",
       "      <td>0</td>\n",
       "    </tr>\n",
       "    <tr>\n",
       "      <th>7</th>\n",
       "      <td>800</td>\n",
       "      <td>0</td>\n",
       "      <td>0.460017</td>\n",
       "      <td>0</td>\n",
       "    </tr>\n",
       "    <tr>\n",
       "      <th>8</th>\n",
       "      <td>802</td>\n",
       "      <td>0</td>\n",
       "      <td>0.459732</td>\n",
       "      <td>0</td>\n",
       "    </tr>\n",
       "    <tr>\n",
       "      <th>9</th>\n",
       "      <td>803</td>\n",
       "      <td>0</td>\n",
       "      <td>0.436905</td>\n",
       "      <td>0</td>\n",
       "    </tr>\n",
       "    <tr>\n",
       "      <th>10</th>\n",
       "      <td>804</td>\n",
       "      <td>0</td>\n",
       "      <td>0.452059</td>\n",
       "      <td>0</td>\n",
       "    </tr>\n",
       "    <tr>\n",
       "      <th>11</th>\n",
       "      <td>805</td>\n",
       "      <td>0</td>\n",
       "      <td>0.462120</td>\n",
       "      <td>0</td>\n",
       "    </tr>\n",
       "    <tr>\n",
       "      <th>12</th>\n",
       "      <td>806</td>\n",
       "      <td>0</td>\n",
       "      <td>0.523671</td>\n",
       "      <td>1</td>\n",
       "    </tr>\n",
       "    <tr>\n",
       "      <th>13</th>\n",
       "      <td>809</td>\n",
       "      <td>0</td>\n",
       "      <td>0.467435</td>\n",
       "      <td>0</td>\n",
       "    </tr>\n",
       "    <tr>\n",
       "      <th>14</th>\n",
       "      <td>810</td>\n",
       "      <td>0</td>\n",
       "      <td>0.433358</td>\n",
       "      <td>0</td>\n",
       "    </tr>\n",
       "    <tr>\n",
       "      <th>15</th>\n",
       "      <td>814</td>\n",
       "      <td>0</td>\n",
       "      <td>0.517624</td>\n",
       "      <td>1</td>\n",
       "    </tr>\n",
       "    <tr>\n",
       "      <th>16</th>\n",
       "      <td>818</td>\n",
       "      <td>0</td>\n",
       "      <td>0.474630</td>\n",
       "      <td>0</td>\n",
       "    </tr>\n",
       "    <tr>\n",
       "      <th>17</th>\n",
       "      <td>820</td>\n",
       "      <td>0</td>\n",
       "      <td>0.461710</td>\n",
       "      <td>0</td>\n",
       "    </tr>\n",
       "    <tr>\n",
       "      <th>18</th>\n",
       "      <td>824</td>\n",
       "      <td>0</td>\n",
       "      <td>0.449755</td>\n",
       "      <td>0</td>\n",
       "    </tr>\n",
       "    <tr>\n",
       "      <th>19</th>\n",
       "      <td>830</td>\n",
       "      <td>0</td>\n",
       "      <td>0.470585</td>\n",
       "      <td>0</td>\n",
       "    </tr>\n",
       "    <tr>\n",
       "      <th>20</th>\n",
       "      <td>834</td>\n",
       "      <td>0</td>\n",
       "      <td>0.473518</td>\n",
       "      <td>0</td>\n",
       "    </tr>\n",
       "    <tr>\n",
       "      <th>21</th>\n",
       "      <td>836</td>\n",
       "      <td>0</td>\n",
       "      <td>0.457570</td>\n",
       "      <td>0</td>\n",
       "    </tr>\n",
       "    <tr>\n",
       "      <th>22</th>\n",
       "      <td>837</td>\n",
       "      <td>0</td>\n",
       "      <td>0.466713</td>\n",
       "      <td>0</td>\n",
       "    </tr>\n",
       "    <tr>\n",
       "      <th>23</th>\n",
       "      <td>839</td>\n",
       "      <td>0</td>\n",
       "      <td>0.442302</td>\n",
       "      <td>0</td>\n",
       "    </tr>\n",
       "    <tr>\n",
       "      <th>24</th>\n",
       "      <td>1004</td>\n",
       "      <td>0</td>\n",
       "      <td>0.488301</td>\n",
       "      <td>0</td>\n",
       "    </tr>\n",
       "    <tr>\n",
       "      <th>25</th>\n",
       "      <td>1009</td>\n",
       "      <td>0</td>\n",
       "      <td>0.459674</td>\n",
       "      <td>0</td>\n",
       "    </tr>\n",
       "    <tr>\n",
       "      <th>26</th>\n",
       "      <td>1010</td>\n",
       "      <td>0</td>\n",
       "      <td>0.465261</td>\n",
       "      <td>0</td>\n",
       "    </tr>\n",
       "    <tr>\n",
       "      <th>27</th>\n",
       "      <td>775</td>\n",
       "      <td>1</td>\n",
       "      <td>0.419894</td>\n",
       "      <td>0</td>\n",
       "    </tr>\n",
       "    <tr>\n",
       "      <th>28</th>\n",
       "      <td>777</td>\n",
       "      <td>1</td>\n",
       "      <td>0.430091</td>\n",
       "      <td>0</td>\n",
       "    </tr>\n",
       "    <tr>\n",
       "      <th>29</th>\n",
       "      <td>781</td>\n",
       "      <td>1</td>\n",
       "      <td>0.464784</td>\n",
       "      <td>0</td>\n",
       "    </tr>\n",
       "    <tr>\n",
       "      <th>30</th>\n",
       "      <td>782</td>\n",
       "      <td>1</td>\n",
       "      <td>0.442401</td>\n",
       "      <td>0</td>\n",
       "    </tr>\n",
       "    <tr>\n",
       "      <th>31</th>\n",
       "      <td>784</td>\n",
       "      <td>1</td>\n",
       "      <td>0.457053</td>\n",
       "      <td>0</td>\n",
       "    </tr>\n",
       "    <tr>\n",
       "      <th>32</th>\n",
       "      <td>787</td>\n",
       "      <td>1</td>\n",
       "      <td>0.452856</td>\n",
       "      <td>0</td>\n",
       "    </tr>\n",
       "    <tr>\n",
       "      <th>33</th>\n",
       "      <td>789</td>\n",
       "      <td>1</td>\n",
       "      <td>0.464561</td>\n",
       "      <td>0</td>\n",
       "    </tr>\n",
       "    <tr>\n",
       "      <th>34</th>\n",
       "      <td>791</td>\n",
       "      <td>1</td>\n",
       "      <td>0.470665</td>\n",
       "      <td>0</td>\n",
       "    </tr>\n",
       "    <tr>\n",
       "      <th>35</th>\n",
       "      <td>793</td>\n",
       "      <td>1</td>\n",
       "      <td>0.481101</td>\n",
       "      <td>0</td>\n",
       "    </tr>\n",
       "    <tr>\n",
       "      <th>36</th>\n",
       "      <td>794</td>\n",
       "      <td>1</td>\n",
       "      <td>0.476799</td>\n",
       "      <td>0</td>\n",
       "    </tr>\n",
       "    <tr>\n",
       "      <th>37</th>\n",
       "      <td>795</td>\n",
       "      <td>1</td>\n",
       "      <td>0.525686</td>\n",
       "      <td>1</td>\n",
       "    </tr>\n",
       "    <tr>\n",
       "      <th>38</th>\n",
       "      <td>801</td>\n",
       "      <td>1</td>\n",
       "      <td>0.443246</td>\n",
       "      <td>0</td>\n",
       "    </tr>\n",
       "    <tr>\n",
       "      <th>39</th>\n",
       "      <td>807</td>\n",
       "      <td>1</td>\n",
       "      <td>0.443592</td>\n",
       "      <td>0</td>\n",
       "    </tr>\n",
       "    <tr>\n",
       "      <th>40</th>\n",
       "      <td>808</td>\n",
       "      <td>1</td>\n",
       "      <td>0.479217</td>\n",
       "      <td>0</td>\n",
       "    </tr>\n",
       "    <tr>\n",
       "      <th>41</th>\n",
       "      <td>811</td>\n",
       "      <td>1</td>\n",
       "      <td>0.550120</td>\n",
       "      <td>1</td>\n",
       "    </tr>\n",
       "    <tr>\n",
       "      <th>42</th>\n",
       "      <td>816</td>\n",
       "      <td>1</td>\n",
       "      <td>0.555366</td>\n",
       "      <td>1</td>\n",
       "    </tr>\n",
       "    <tr>\n",
       "      <th>43</th>\n",
       "      <td>819</td>\n",
       "      <td>1</td>\n",
       "      <td>0.494936</td>\n",
       "      <td>0</td>\n",
       "    </tr>\n",
       "    <tr>\n",
       "      <th>44</th>\n",
       "      <td>823</td>\n",
       "      <td>1</td>\n",
       "      <td>0.472614</td>\n",
       "      <td>0</td>\n",
       "    </tr>\n",
       "    <tr>\n",
       "      <th>45</th>\n",
       "      <td>828</td>\n",
       "      <td>1</td>\n",
       "      <td>0.527186</td>\n",
       "      <td>1</td>\n",
       "    </tr>\n",
       "    <tr>\n",
       "      <th>46</th>\n",
       "      <td>838</td>\n",
       "      <td>1</td>\n",
       "      <td>0.537396</td>\n",
       "      <td>1</td>\n",
       "    </tr>\n",
       "    <tr>\n",
       "      <th>47</th>\n",
       "      <td>840</td>\n",
       "      <td>1</td>\n",
       "      <td>0.482622</td>\n",
       "      <td>0</td>\n",
       "    </tr>\n",
       "    <tr>\n",
       "      <th>48</th>\n",
       "      <td>998</td>\n",
       "      <td>1</td>\n",
       "      <td>0.575991</td>\n",
       "      <td>1</td>\n",
       "    </tr>\n",
       "    <tr>\n",
       "      <th>49</th>\n",
       "      <td>999</td>\n",
       "      <td>1</td>\n",
       "      <td>0.509880</td>\n",
       "      <td>1</td>\n",
       "    </tr>\n",
       "    <tr>\n",
       "      <th>50</th>\n",
       "      <td>1000</td>\n",
       "      <td>1</td>\n",
       "      <td>0.481891</td>\n",
       "      <td>0</td>\n",
       "    </tr>\n",
       "    <tr>\n",
       "      <th>51</th>\n",
       "      <td>1001</td>\n",
       "      <td>1</td>\n",
       "      <td>0.553207</td>\n",
       "      <td>1</td>\n",
       "    </tr>\n",
       "    <tr>\n",
       "      <th>52</th>\n",
       "      <td>1002</td>\n",
       "      <td>1</td>\n",
       "      <td>0.503588</td>\n",
       "      <td>1</td>\n",
       "    </tr>\n",
       "    <tr>\n",
       "      <th>53</th>\n",
       "      <td>1003</td>\n",
       "      <td>1</td>\n",
       "      <td>0.523580</td>\n",
       "      <td>1</td>\n",
       "    </tr>\n",
       "    <tr>\n",
       "      <th>54</th>\n",
       "      <td>1005</td>\n",
       "      <td>1</td>\n",
       "      <td>0.507989</td>\n",
       "      <td>1</td>\n",
       "    </tr>\n",
       "    <tr>\n",
       "      <th>55</th>\n",
       "      <td>1007</td>\n",
       "      <td>1</td>\n",
       "      <td>0.500437</td>\n",
       "      <td>1</td>\n",
       "    </tr>\n",
       "    <tr>\n",
       "      <th>56</th>\n",
       "      <td>1008</td>\n",
       "      <td>1</td>\n",
       "      <td>0.549833</td>\n",
       "      <td>1</td>\n",
       "    </tr>\n",
       "  </tbody>\n",
       "</table>\n",
       "</div>"
      ],
      "text/plain": [
       "    patient_ids  labels     preds  preds_binary\n",
       "0           778       0  0.591941             1\n",
       "1           780       0  0.560559             1\n",
       "2           788       0  0.554617             1\n",
       "3           792       0  0.434062             0\n",
       "4           796       0  0.468475             0\n",
       "5           797       0  0.458698             0\n",
       "6           799       0  0.480239             0\n",
       "7           800       0  0.460017             0\n",
       "8           802       0  0.459732             0\n",
       "9           803       0  0.436905             0\n",
       "10          804       0  0.452059             0\n",
       "11          805       0  0.462120             0\n",
       "12          806       0  0.523671             1\n",
       "13          809       0  0.467435             0\n",
       "14          810       0  0.433358             0\n",
       "15          814       0  0.517624             1\n",
       "16          818       0  0.474630             0\n",
       "17          820       0  0.461710             0\n",
       "18          824       0  0.449755             0\n",
       "19          830       0  0.470585             0\n",
       "20          834       0  0.473518             0\n",
       "21          836       0  0.457570             0\n",
       "22          837       0  0.466713             0\n",
       "23          839       0  0.442302             0\n",
       "24         1004       0  0.488301             0\n",
       "25         1009       0  0.459674             0\n",
       "26         1010       0  0.465261             0\n",
       "27          775       1  0.419894             0\n",
       "28          777       1  0.430091             0\n",
       "29          781       1  0.464784             0\n",
       "30          782       1  0.442401             0\n",
       "31          784       1  0.457053             0\n",
       "32          787       1  0.452856             0\n",
       "33          789       1  0.464561             0\n",
       "34          791       1  0.470665             0\n",
       "35          793       1  0.481101             0\n",
       "36          794       1  0.476799             0\n",
       "37          795       1  0.525686             1\n",
       "38          801       1  0.443246             0\n",
       "39          807       1  0.443592             0\n",
       "40          808       1  0.479217             0\n",
       "41          811       1  0.550120             1\n",
       "42          816       1  0.555366             1\n",
       "43          819       1  0.494936             0\n",
       "44          823       1  0.472614             0\n",
       "45          828       1  0.527186             1\n",
       "46          838       1  0.537396             1\n",
       "47          840       1  0.482622             0\n",
       "48          998       1  0.575991             1\n",
       "49          999       1  0.509880             1\n",
       "50         1000       1  0.481891             0\n",
       "51         1001       1  0.553207             1\n",
       "52         1002       1  0.503588             1\n",
       "53         1003       1  0.523580             1\n",
       "54         1005       1  0.507989             1\n",
       "55         1007       1  0.500437             1\n",
       "56         1008       1  0.549833             1"
      ]
     },
     "execution_count": 18,
     "metadata": {},
     "output_type": "execute_result"
    }
   ],
   "source": [
    "val_df"
   ]
  },
  {
   "cell_type": "code",
   "execution_count": 19,
   "id": "0a5dae98",
   "metadata": {
    "execution": {
     "iopub.execute_input": "2024-01-07T03:06:37.999711Z",
     "iopub.status.busy": "2024-01-07T03:06:37.999330Z",
     "iopub.status.idle": "2024-01-07T03:06:38.008026Z",
     "shell.execute_reply": "2024-01-07T03:06:38.006288Z"
    },
    "papermill": {
     "duration": 0.051152,
     "end_time": "2024-01-07T03:06:38.010854",
     "exception": false,
     "start_time": "2024-01-07T03:06:37.959702",
     "status": "completed"
    },
    "tags": []
   },
   "outputs": [],
   "source": [
    "labels = val_df[\"labels\"]\n",
    "preds = val_df[\"preds\"]\n",
    "binary_preds = val_df[\"preds_binary\"]"
   ]
  },
  {
   "cell_type": "code",
   "execution_count": 20,
   "id": "88641471",
   "metadata": {
    "execution": {
     "iopub.execute_input": "2024-01-07T03:06:38.085001Z",
     "iopub.status.busy": "2024-01-07T03:06:38.084706Z",
     "iopub.status.idle": "2024-01-07T03:06:38.091862Z",
     "shell.execute_reply": "2024-01-07T03:06:38.091042Z"
    },
    "papermill": {
     "duration": 0.042692,
     "end_time": "2024-01-07T03:06:38.093781",
     "exception": false,
     "start_time": "2024-01-07T03:06:38.051089",
     "status": "completed"
    },
    "tags": []
   },
   "outputs": [],
   "source": [
    "from sklearn.metrics import confusion_matrix, accuracy_score, classification_report, roc_curve, auc\n",
    "\n",
    "cm = confusion_matrix(labels, binary_preds)"
   ]
  },
  {
   "cell_type": "code",
   "execution_count": 21,
   "id": "f1859193",
   "metadata": {
    "execution": {
     "iopub.execute_input": "2024-01-07T03:06:38.158668Z",
     "iopub.status.busy": "2024-01-07T03:06:38.158383Z",
     "iopub.status.idle": "2024-01-07T03:06:38.162803Z",
     "shell.execute_reply": "2024-01-07T03:06:38.161887Z"
    },
    "papermill": {
     "duration": 0.039132,
     "end_time": "2024-01-07T03:06:38.164641",
     "exception": false,
     "start_time": "2024-01-07T03:06:38.125509",
     "status": "completed"
    },
    "tags": []
   },
   "outputs": [],
   "source": [
    "df_cm = pd.DataFrame(cm, index=['MGMT Absent', 'MGMT Present'], columns=['MGMT Absent', 'MGMT Present'])"
   ]
  },
  {
   "cell_type": "code",
   "execution_count": 22,
   "id": "eb8204c6",
   "metadata": {
    "execution": {
     "iopub.execute_input": "2024-01-07T03:06:38.228316Z",
     "iopub.status.busy": "2024-01-07T03:06:38.228074Z",
     "iopub.status.idle": "2024-01-07T03:06:38.564430Z",
     "shell.execute_reply": "2024-01-07T03:06:38.563476Z"
    },
    "papermill": {
     "duration": 0.370602,
     "end_time": "2024-01-07T03:06:38.566790",
     "exception": false,
     "start_time": "2024-01-07T03:06:38.196188",
     "status": "completed"
    },
    "tags": []
   },
   "outputs": [
    {
     "data": {
      "image/png": "[encoded data removed]",
      "text/plain": [
       "<Figure size 1500x500 with 2 Axes>"
      ]
     },
     "metadata": {},
     "output_type": "display_data"
    }
   ],
   "source": [
    "plt.figure(figsize=(15, 5))\n",
    "\n",
    "plt.title(\"Confusion matrix for Xception model\\n\")\n",
    "sns.heatmap(df_cm, annot=True, fmt=\"d\", cmap=\"YlGnBu\")\n",
    "plt.xlabel(\"Predicted\")\n",
    "plt.ylabel(\"Actual\")\n",
    "\n",
    "plt.show()"
   ]
  },
  {
   "cell_type": "code",
   "execution_count": 23,
   "id": "bfb1a824",
   "metadata": {
    "execution": {
     "iopub.execute_input": "2024-01-07T03:06:38.636456Z",
     "iopub.status.busy": "2024-01-07T03:06:38.636089Z",
     "iopub.status.idle": "2024-01-07T03:06:38.643489Z",
     "shell.execute_reply": "2024-01-07T03:06:38.642511Z"
    },
    "papermill": {
     "duration": 0.045102,
     "end_time": "2024-01-07T03:06:38.645818",
     "exception": false,
     "start_time": "2024-01-07T03:06:38.600716",
     "status": "completed"
    },
    "tags": []
   },
   "outputs": [
    {
     "name": "stdout",
     "output_type": "stream",
     "text": [
      "Model Accuracy Score: 0.6140350877192983\n"
     ]
    }
   ],
   "source": [
    "accuracy = accuracy_score(labels, binary_preds)\n",
    "print(f\"Model Accuracy Score: {accuracy}\")"
   ]
  },
  {
   "cell_type": "code",
   "execution_count": 24,
   "id": "f60e71ab",
   "metadata": {
    "execution": {
     "iopub.execute_input": "2024-01-07T03:06:38.715774Z",
     "iopub.status.busy": "2024-01-07T03:06:38.715486Z",
     "iopub.status.idle": "2024-01-07T03:06:38.731382Z",
     "shell.execute_reply": "2024-01-07T03:06:38.730285Z"
    },
    "papermill": {
     "duration": 0.052513,
     "end_time": "2024-01-07T03:06:38.733619",
     "exception": false,
     "start_time": "2024-01-07T03:06:38.681106",
     "status": "completed"
    },
    "tags": []
   },
   "outputs": [
    {
     "name": "stdout",
     "output_type": "stream",
     "text": [
      "Xception Model Classification Report\n",
      "=========================================\n",
      "              precision    recall  f1-score   support\n",
      "\n",
      " MGMT Absent       0.56      0.81      0.67        27\n",
      "MGMT Present       0.72      0.43      0.54        30\n",
      "\n",
      "    accuracy                           0.61        57\n",
      "   macro avg       0.64      0.62      0.60        57\n",
      "weighted avg       0.65      0.61      0.60        57\n",
      "\n"
     ]
    }
   ],
   "source": [
    "cr =classification_report(labels, binary_preds, target_names=['MGMT Absent', 'MGMT Present'])\n",
    "print(\"Xception Model Classification Report\")\n",
    "print(\"=========================================\")\n",
    "print(cr)"
   ]
  },
  {
   "cell_type": "code",
   "execution_count": 25,
   "id": "ce4f2c0a",
   "metadata": {
    "execution": {
     "iopub.execute_input": "2024-01-07T03:06:38.804238Z",
     "iopub.status.busy": "2024-01-07T03:06:38.803973Z",
     "iopub.status.idle": "2024-01-07T03:06:38.809536Z",
     "shell.execute_reply": "2024-01-07T03:06:38.808627Z"
    },
    "papermill": {
     "duration": 0.041484,
     "end_time": "2024-01-07T03:06:38.811668",
     "exception": false,
     "start_time": "2024-01-07T03:06:38.770184",
     "status": "completed"
    },
    "tags": []
   },
   "outputs": [
    {
     "name": "stdout",
     "output_type": "stream",
     "text": [
      "Xception Model\n",
      "=========================================\n",
      "MGMT Present : Sensitivity = 0.43333333333333335, Specificity = 0.8148148148148148\n"
     ]
    }
   ],
   "source": [
    "print(\"Xception Model\")\n",
    "print(\"=========================================\")\n",
    "sensitivity = cm[1, 1] / (cm[1, 1] + cm[1, 0])\n",
    "specificity = cm[0, 0] / (cm[0, 0] + cm[0, 1])\n",
    "\n",
    "print(f'MGMT Present : Sensitivity = {sensitivity}, Specificity = {specificity}')"
   ]
  },
  {
   "cell_type": "code",
   "execution_count": 26,
   "id": "e959b2ad",
   "metadata": {
    "execution": {
     "iopub.execute_input": "2024-01-07T03:06:38.877530Z",
     "iopub.status.busy": "2024-01-07T03:06:38.877254Z",
     "iopub.status.idle": "2024-01-07T03:06:39.172440Z",
     "shell.execute_reply": "2024-01-07T03:06:39.171545Z"
    },
    "papermill": {
     "duration": 0.330449,
     "end_time": "2024-01-07T03:06:39.174795",
     "exception": false,
     "start_time": "2024-01-07T03:06:38.844346",
     "status": "completed"
    },
    "tags": []
   },
   "outputs": [
    {
     "data": {
      "image/png": "[encoded data removed]",
      "text/plain": [
       "<Figure size 800x800 with 1 Axes>"
      ]
     },
     "metadata": {},
     "output_type": "display_data"
    }
   ],
   "source": [
    "fpr, tpr, thresholds = roc_curve(labels, preds)\n",
    "\n",
    "roc_auc = auc(fpr, tpr)\n",
    "\n",
    "plt.figure(figsize=(8, 8))\n",
    "plt.plot(fpr, tpr, color='darkorange', lw=2, label=f'ROC curve (AUC = {roc_auc:.5f})')\n",
    "plt.plot([0, 1], [0, 1], color='navy', lw=2, linestyle='--')\n",
    "plt.xlabel('False Positive Rate (1 - Specificity)')\n",
    "plt.ylabel('True Positive Rate (Sensitivity)')\n",
    "plt.title('ROC Curve (Xception)')\n",
    "plt.legend(loc='lower right')\n",
    "plt.show()"
   ]
  },
  {
   "cell_type": "code",
   "execution_count": null,
   "id": "9f3a2dad",
   "metadata": {
    "papermill": {
     "duration": 0.032982,
     "end_time": "2024-01-07T03:06:39.240776",
     "exception": false,
     "start_time": "2024-01-07T03:06:39.207794",
     "status": "completed"
    },
    "tags": []
   },
   "outputs": [],
   "source": []
  }
 ],
 "metadata": {
  "kaggle": {
   "accelerator": "gpu",
   "dataSources": [
    {
     "databundleVersionId": 2420395,
     "sourceId": 29653,
     "sourceType": "competition"
    },
    {
     "datasetId": 1467572,
     "sourceId": 2425289,
     "sourceType": "datasetVersion"
    },
    {
     "datasetId": 4269272,
     "sourceId": 7351406,
     "sourceType": "datasetVersion"
    }
   ],
   "dockerImageVersionId": 30627,
   "isGpuEnabled": true,
   "isInternetEnabled": true,
   "language": "python",
   "sourceType": "notebook"
  },
  "kernelspec": {
   "display_name": "Python 3",
   "language": "python",
   "name": "python3"
  },
  "language_info": {
   "codemirror_mode": {
    "name": "ipython",
    "version": 3
   },
   "file_extension": ".py",
   "mimetype": "text/x-python",
   "name": "python",
   "nbconvert_exporter": "python",
   "pygments_lexer": "ipython3",
   "version": "3.10.12"
  },
  "papermill": {
   "default_parameters": {},
   "duration": 141.549284,
   "end_time": "2024-01-07T03:06:42.083786",
   "environment_variables": {},
   "exception": null,
   "input_path": "__notebook__.ipynb",
   "output_path": "__notebook__.ipynb",
   "parameters": {},
   "start_time": "2024-01-07T03:04:20.534502",
   "version": "2.4.0"
  }
 },
 "nbformat": 4,
 "nbformat_minor": 5
}
