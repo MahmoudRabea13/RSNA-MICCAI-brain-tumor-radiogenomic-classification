{
 "cells": [
  {
   "cell_type": "markdown",
   "id": "ee4d2156",
   "metadata": {
    "papermill": {
     "duration": 0.008485,
     "end_time": "2024-01-03T23:07:44.723909",
     "exception": false,
     "start_time": "2024-01-03T23:07:44.715424",
     "status": "completed"
    },
    "tags": []
   },
   "source": [
    "## Use stacked images (3D) and Vit model"
   ]
  },
  {
   "cell_type": "code",
   "execution_count": 1,
   "id": "60613f40",
   "metadata": {
    "execution": {
     "iopub.execute_input": "2024-01-03T23:07:44.742103Z",
     "iopub.status.busy": "2024-01-03T23:07:44.741264Z",
     "iopub.status.idle": "2024-01-03T23:07:50.405429Z",
     "shell.execute_reply": "2024-01-03T23:07:50.404572Z"
    },
    "papermill": {
     "duration": 5.675544,
     "end_time": "2024-01-03T23:07:50.407686",
     "exception": false,
     "start_time": "2024-01-03T23:07:44.732142",
     "status": "completed"
    },
    "tags": []
   },
   "outputs": [
    {
     "name": "stderr",
     "output_type": "stream",
     "text": [
      "/opt/conda/lib/python3.10/site-packages/scipy/__init__.py:146: UserWarning: A NumPy version >=1.16.5 and <1.23.0 is required for this version of SciPy (detected version 1.24.3\n",
      "  warnings.warn(f\"A NumPy version >={np_minversion} and <{np_maxversion}\"\n"
     ]
    }
   ],
   "source": [
    "import os\n",
    "import sys \n",
    "import json\n",
    "import glob\n",
    "import random\n",
    "import collections\n",
    "import time\n",
    "import re\n",
    "\n",
    "import numpy as np\n",
    "import pandas as pd\n",
    "import pydicom\n",
    "from pydicom.pixel_data_handlers.util import apply_voi_lut\n",
    "import cv2\n",
    "import matplotlib.pyplot as plt\n",
    "import seaborn as sns\n",
    "\n",
    "import torch\n",
    "from torch import nn\n",
    "\n",
    "from torch.utils import data as torch_data\n",
    "from sklearn import model_selection as sk_model_selection\n",
    "from torch.nn import functional as torch_functional\n",
    "import torch.nn.functional as F\n",
    "\n",
    "from sklearn.model_selection import StratifiedKFold\n",
    "from sklearn.metrics import roc_auc_score"
   ]
  },
  {
   "cell_type": "code",
   "execution_count": 2,
   "id": "a43a8c79",
   "metadata": {
    "execution": {
     "iopub.execute_input": "2024-01-03T23:07:50.426391Z",
     "iopub.status.busy": "2024-01-03T23:07:50.425958Z",
     "iopub.status.idle": "2024-01-03T23:07:50.430679Z",
     "shell.execute_reply": "2024-01-03T23:07:50.429684Z"
    },
    "lines_to_end_of_cell_marker": 2,
    "lines_to_next_cell": 2,
    "papermill": {
     "duration": 0.01603,
     "end_time": "2024-01-03T23:07:50.432572",
     "exception": false,
     "start_time": "2024-01-03T23:07:50.416542",
     "status": "completed"
    },
    "tags": []
   },
   "outputs": [],
   "source": [
    "\n",
    "data_directory = '../input/rsna-miccai-brain-tumor-radiogenomic-classification'\n",
    "    \n",
    "mri_types = ['FLAIR','T1w','T1wCE','T2w']\n",
    "SIZE = 256\n",
    "NUM_IMAGES = 64\n"
   ]
  },
  {
   "cell_type": "markdown",
   "id": "82dbc120",
   "metadata": {
    "papermill": {
     "duration": 0.007885,
     "end_time": "2024-01-03T23:07:50.448507",
     "exception": false,
     "start_time": "2024-01-03T23:07:50.440622",
     "status": "completed"
    },
    "tags": []
   },
   "source": [
    "## Functions to load images"
   ]
  },
  {
   "cell_type": "code",
   "execution_count": 3,
   "id": "db4450d3",
   "metadata": {
    "execution": {
     "iopub.execute_input": "2024-01-03T23:07:50.466039Z",
     "iopub.status.busy": "2024-01-03T23:07:50.465513Z",
     "iopub.status.idle": "2024-01-03T23:07:51.693570Z",
     "shell.execute_reply": "2024-01-03T23:07:51.692575Z"
    },
    "papermill": {
     "duration": 1.239447,
     "end_time": "2024-01-03T23:07:51.696054",
     "exception": false,
     "start_time": "2024-01-03T23:07:50.456607",
     "status": "completed"
    },
    "tags": []
   },
   "outputs": [
    {
     "name": "stdout",
     "output_type": "stream",
     "text": [
      "(1, 256, 256, 64)\n",
      "0.0 1.0 0.07902179328632788 0.00023671822699371212\n"
     ]
    }
   ],
   "source": [
    "def load_dicom_image(path, img_size=SIZE, voi_lut=True, rotate=0):\n",
    "    dicom = pydicom.read_file(path)\n",
    "    data = dicom.pixel_array\n",
    "    if voi_lut:\n",
    "        data = apply_voi_lut(dicom.pixel_array, dicom)\n",
    "    else:\n",
    "        data = dicom.pixel_array\n",
    "        \n",
    "    if rotate > 0:\n",
    "        rot_choices = [0, cv2.ROTATE_90_CLOCKWISE, cv2.ROTATE_90_COUNTERCLOCKWISE, cv2.ROTATE_180]\n",
    "        data = cv2.rotate(data, rot_choices[rotate])\n",
    "        \n",
    "    data = cv2.resize(data, (img_size, img_size))\n",
    "    return data\n",
    "\n",
    "\n",
    "def load_dicom_images_3d(scan_id, num_imgs=NUM_IMAGES, img_size=SIZE, mri_type=\"FLAIR\", split=\"train\", rotate=0):\n",
    "\n",
    "    files = sorted(glob.glob(f\"{data_directory}/{split}/{scan_id}/{mri_type}/*.dcm\"), \n",
    "               key=lambda var:[int(x) if x.isdigit() else x for x in re.findall(r'[^0-9]|[0-9]+', var)])\n",
    "\n",
    "    middle = len(files)//2\n",
    "    num_imgs2 = num_imgs//2\n",
    "    p1 = max(0, middle - num_imgs2)\n",
    "    p2 = min(len(files), middle + num_imgs2)\n",
    "    img3d = np.stack([load_dicom_image(f, rotate=rotate) for f in files[p1:p2]]).T \n",
    "    if img3d.shape[-1] < num_imgs:\n",
    "        n_zero = np.zeros((img_size, img_size, num_imgs - img3d.shape[-1]))\n",
    "        img3d = np.concatenate((img3d,  n_zero), axis = -1)\n",
    "        \n",
    "    if np.min(img3d) < np.max(img3d):\n",
    "        img3d = img3d - np.min(img3d)\n",
    "        img3d = img3d / np.max(img3d)\n",
    "            \n",
    "    return np.expand_dims(img3d,0)\n",
    "\n",
    "a = load_dicom_images_3d(\"00000\")\n",
    "print(a.shape)\n",
    "print(np.min(a), np.max(a), np.mean(a), np.median(a))"
   ]
  },
  {
   "cell_type": "code",
   "execution_count": 4,
   "id": "98b5fcd8",
   "metadata": {
    "execution": {
     "iopub.execute_input": "2024-01-03T23:07:51.715742Z",
     "iopub.status.busy": "2024-01-03T23:07:51.715401Z",
     "iopub.status.idle": "2024-01-03T23:07:51.824528Z",
     "shell.execute_reply": "2024-01-03T23:07:51.823564Z"
    },
    "papermill": {
     "duration": 0.121851,
     "end_time": "2024-01-03T23:07:51.827148",
     "exception": false,
     "start_time": "2024-01-03T23:07:51.705297",
     "status": "completed"
    },
    "tags": []
   },
   "outputs": [],
   "source": [
    "def set_seed(seed):\n",
    "    random.seed(seed)\n",
    "    os.environ[\"PYTHONHASHSEED\"] = str(seed)\n",
    "    np.random.seed(seed)\n",
    "    torch.manual_seed(seed)\n",
    "    if torch.cuda.is_available():\n",
    "        torch.cuda.manual_seed_all(seed)\n",
    "        torch.backends.cudnn.deterministic = True\n",
    "\n",
    "set_seed(12)"
   ]
  },
  {
   "cell_type": "markdown",
   "id": "625993d8",
   "metadata": {
    "papermill": {
     "duration": 0.009361,
     "end_time": "2024-01-03T23:07:51.846216",
     "exception": false,
     "start_time": "2024-01-03T23:07:51.836855",
     "status": "completed"
    },
    "tags": []
   },
   "source": [
    "## train / test splits"
   ]
  },
  {
   "cell_type": "code",
   "execution_count": 5,
   "id": "51a0172e",
   "metadata": {
    "execution": {
     "iopub.execute_input": "2024-01-03T23:07:51.867192Z",
     "iopub.status.busy": "2024-01-03T23:07:51.866203Z",
     "iopub.status.idle": "2024-01-03T23:07:51.912476Z",
     "shell.execute_reply": "2024-01-03T23:07:51.911602Z"
    },
    "papermill": {
     "duration": 0.058923,
     "end_time": "2024-01-03T23:07:51.914566",
     "exception": false,
     "start_time": "2024-01-03T23:07:51.855643",
     "status": "completed"
    },
    "tags": []
   },
   "outputs": [
    {
     "data": {
      "text/html": [
       "<div>\n",
       "<style scoped>\n",
       "    .dataframe tbody tr th:only-of-type {\n",
       "        vertical-align: middle;\n",
       "    }\n",
       "\n",
       "    .dataframe tbody tr th {\n",
       "        vertical-align: top;\n",
       "    }\n",
       "\n",
       "    .dataframe thead th {\n",
       "        text-align: right;\n",
       "    }\n",
       "</style>\n",
       "<table border=\"1\" class=\"dataframe\">\n",
       "  <thead>\n",
       "    <tr style=\"text-align: right;\">\n",
       "      <th></th>\n",
       "      <th>BraTS21ID</th>\n",
       "      <th>MGMT_value</th>\n",
       "    </tr>\n",
       "  </thead>\n",
       "  <tbody>\n",
       "    <tr>\n",
       "      <th>0</th>\n",
       "      <td>0</td>\n",
       "      <td>1</td>\n",
       "    </tr>\n",
       "    <tr>\n",
       "      <th>1</th>\n",
       "      <td>2</td>\n",
       "      <td>1</td>\n",
       "    </tr>\n",
       "    <tr>\n",
       "      <th>2</th>\n",
       "      <td>3</td>\n",
       "      <td>0</td>\n",
       "    </tr>\n",
       "    <tr>\n",
       "      <th>3</th>\n",
       "      <td>5</td>\n",
       "      <td>1</td>\n",
       "    </tr>\n",
       "    <tr>\n",
       "      <th>4</th>\n",
       "      <td>6</td>\n",
       "      <td>1</td>\n",
       "    </tr>\n",
       "    <tr>\n",
       "      <th>...</th>\n",
       "      <td>...</td>\n",
       "      <td>...</td>\n",
       "    </tr>\n",
       "    <tr>\n",
       "      <th>580</th>\n",
       "      <td>1005</td>\n",
       "      <td>1</td>\n",
       "    </tr>\n",
       "    <tr>\n",
       "      <th>581</th>\n",
       "      <td>1007</td>\n",
       "      <td>1</td>\n",
       "    </tr>\n",
       "    <tr>\n",
       "      <th>582</th>\n",
       "      <td>1008</td>\n",
       "      <td>1</td>\n",
       "    </tr>\n",
       "    <tr>\n",
       "      <th>583</th>\n",
       "      <td>1009</td>\n",
       "      <td>0</td>\n",
       "    </tr>\n",
       "    <tr>\n",
       "      <th>584</th>\n",
       "      <td>1010</td>\n",
       "      <td>0</td>\n",
       "    </tr>\n",
       "  </tbody>\n",
       "</table>\n",
       "<p>585 rows × 2 columns</p>\n",
       "</div>"
      ],
      "text/plain": [
       "     BraTS21ID  MGMT_value\n",
       "0            0           1\n",
       "1            2           1\n",
       "2            3           0\n",
       "3            5           1\n",
       "4            6           1\n",
       "..         ...         ...\n",
       "580       1005           1\n",
       "581       1007           1\n",
       "582       1008           1\n",
       "583       1009           0\n",
       "584       1010           0\n",
       "\n",
       "[585 rows x 2 columns]"
      ]
     },
     "metadata": {},
     "output_type": "display_data"
    }
   ],
   "source": [
    "train_df = pd.read_csv(f\"{data_directory}/train_labels.csv\")\n",
    "display(train_df)\n",
    "\n",
    "df_train, df_valid = sk_model_selection.train_test_split(\n",
    "    train_df, \n",
    "    test_size=0.2, \n",
    "    random_state=12, \n",
    "    stratify=train_df[\"MGMT_value\"],\n",
    ")\n"
   ]
  },
  {
   "cell_type": "code",
   "execution_count": 6,
   "id": "a2961ee0",
   "metadata": {
    "execution": {
     "iopub.execute_input": "2024-01-03T23:07:51.933625Z",
     "iopub.status.busy": "2024-01-03T23:07:51.932936Z",
     "iopub.status.idle": "2024-01-03T23:07:51.941463Z",
     "shell.execute_reply": "2024-01-03T23:07:51.940553Z"
    },
    "papermill": {
     "duration": 0.020079,
     "end_time": "2024-01-03T23:07:51.943483",
     "exception": false,
     "start_time": "2024-01-03T23:07:51.923404",
     "status": "completed"
    },
    "tags": []
   },
   "outputs": [
    {
     "data": {
      "text/html": [
       "<div>\n",
       "<style scoped>\n",
       "    .dataframe tbody tr th:only-of-type {\n",
       "        vertical-align: middle;\n",
       "    }\n",
       "\n",
       "    .dataframe tbody tr th {\n",
       "        vertical-align: top;\n",
       "    }\n",
       "\n",
       "    .dataframe thead th {\n",
       "        text-align: right;\n",
       "    }\n",
       "</style>\n",
       "<table border=\"1\" class=\"dataframe\">\n",
       "  <thead>\n",
       "    <tr style=\"text-align: right;\">\n",
       "      <th></th>\n",
       "      <th>BraTS21ID</th>\n",
       "      <th>MGMT_value</th>\n",
       "    </tr>\n",
       "  </thead>\n",
       "  <tbody>\n",
       "    <tr>\n",
       "      <th>105</th>\n",
       "      <td>157</td>\n",
       "      <td>0</td>\n",
       "    </tr>\n",
       "    <tr>\n",
       "      <th>222</th>\n",
       "      <td>322</td>\n",
       "      <td>1</td>\n",
       "    </tr>\n",
       "    <tr>\n",
       "      <th>114</th>\n",
       "      <td>170</td>\n",
       "      <td>0</td>\n",
       "    </tr>\n",
       "    <tr>\n",
       "      <th>223</th>\n",
       "      <td>324</td>\n",
       "      <td>0</td>\n",
       "    </tr>\n",
       "    <tr>\n",
       "      <th>81</th>\n",
       "      <td>123</td>\n",
       "      <td>0</td>\n",
       "    </tr>\n",
       "  </tbody>\n",
       "</table>\n",
       "</div>"
      ],
      "text/plain": [
       "     BraTS21ID  MGMT_value\n",
       "105        157           0\n",
       "222        322           1\n",
       "114        170           0\n",
       "223        324           0\n",
       "81         123           0"
      ]
     },
     "execution_count": 6,
     "metadata": {},
     "output_type": "execute_result"
    }
   ],
   "source": [
    "df_train.tail()"
   ]
  },
  {
   "cell_type": "markdown",
   "id": "c8ce7964",
   "metadata": {
    "papermill": {
     "duration": 0.008305,
     "end_time": "2024-01-03T23:07:51.960543",
     "exception": false,
     "start_time": "2024-01-03T23:07:51.952238",
     "status": "completed"
    },
    "tags": []
   },
   "source": [
    "## Model and training classes"
   ]
  },
  {
   "cell_type": "code",
   "execution_count": 7,
   "id": "f2f97b2d",
   "metadata": {
    "execution": {
     "iopub.execute_input": "2024-01-03T23:07:51.980789Z",
     "iopub.status.busy": "2024-01-03T23:07:51.979803Z",
     "iopub.status.idle": "2024-01-03T23:07:51.990438Z",
     "shell.execute_reply": "2024-01-03T23:07:51.989348Z"
    },
    "papermill": {
     "duration": 0.02353,
     "end_time": "2024-01-03T23:07:51.992563",
     "exception": false,
     "start_time": "2024-01-03T23:07:51.969033",
     "status": "completed"
    },
    "tags": []
   },
   "outputs": [],
   "source": [
    "class Dataset(torch_data.Dataset):\n",
    "    def __init__(self, paths, targets=None, mri_type=None, label_smoothing=0.01, split=\"train\", augment=False):\n",
    "        self.paths = paths\n",
    "        self.targets = targets\n",
    "        self.mri_type = mri_type\n",
    "        self.label_smoothing = label_smoothing\n",
    "        self.split = split\n",
    "        self.augment = augment\n",
    "          \n",
    "    def __len__(self):\n",
    "        return len(self.paths)\n",
    "    \n",
    "    def __getitem__(self, index):\n",
    "        scan_id = self.paths[index]\n",
    "        if self.targets is None:\n",
    "            data = load_dicom_images_3d(str(scan_id).zfill(5), mri_type=self.mri_type[index], split=self.split)\n",
    "        else:\n",
    "            if self.augment:\n",
    "                rotation = np.random.randint(0,4)\n",
    "            else:\n",
    "                rotation = 0\n",
    "\n",
    "            data = load_dicom_images_3d(str(scan_id).zfill(5), mri_type=self.mri_type[index], split=\"train\", rotate=rotation)\n",
    "\n",
    "        if self.targets is None:\n",
    "            return {\"X\": torch.tensor(data).float(), \"id\": scan_id}\n",
    "        else:\n",
    "            y = torch.tensor(abs(self.targets[index]-self.label_smoothing), dtype=torch.float)\n",
    "            return {\"X\": torch.tensor(data).float(), \"y\": y}\n"
   ]
  },
  {
   "cell_type": "code",
   "execution_count": 8,
   "id": "ad58ac91",
   "metadata": {
    "execution": {
     "iopub.execute_input": "2024-01-03T23:07:52.012725Z",
     "iopub.status.busy": "2024-01-03T23:07:52.012358Z",
     "iopub.status.idle": "2024-01-03T23:08:25.125385Z",
     "shell.execute_reply": "2024-01-03T23:08:25.124334Z"
    },
    "papermill": {
     "duration": 33.125756,
     "end_time": "2024-01-03T23:08:25.127892",
     "exception": false,
     "start_time": "2024-01-03T23:07:52.002136",
     "status": "completed"
    },
    "tags": []
   },
   "outputs": [
    {
     "name": "stdout",
     "output_type": "stream",
     "text": [
      "Processing /kaggle/input/einops-030/einops-0.3.0-py2.py3-none-any.whl\r\n",
      "Installing collected packages: einops\r\n",
      "Successfully installed einops-0.3.0\r\n"
     ]
    }
   ],
   "source": [
    "!pip install ../input/einops-030/einops-0.3.0-py2.py3-none-any.whl"
   ]
  },
  {
   "cell_type": "code",
   "execution_count": 9,
   "id": "4aaf4071",
   "metadata": {
    "execution": {
     "iopub.execute_input": "2024-01-03T23:08:25.147973Z",
     "iopub.status.busy": "2024-01-03T23:08:25.147204Z",
     "iopub.status.idle": "2024-01-03T23:08:25.171871Z",
     "shell.execute_reply": "2024-01-03T23:08:25.171026Z"
    },
    "papermill": {
     "duration": 0.036715,
     "end_time": "2024-01-03T23:08:25.174033",
     "exception": false,
     "start_time": "2024-01-03T23:08:25.137318",
     "status": "completed"
    },
    "tags": []
   },
   "outputs": [],
   "source": [
    "from einops import rearrange, repeat\n",
    "from einops.layers.torch import Rearrange\n",
    "\n",
    "# helpers\n",
    "\n",
    "def pair(t):\n",
    "    return t if isinstance(t, tuple) else (t, t)\n",
    "\n",
    "# classes\n",
    "\n",
    "class PreNorm(nn.Module):\n",
    "    def __init__(self, dim, fn):\n",
    "        super().__init__()\n",
    "        self.norm = nn.LayerNorm(dim)\n",
    "        self.fn = fn\n",
    "    def forward(self, x, **kwargs):\n",
    "        return self.fn(self.norm(x), **kwargs)\n",
    "\n",
    "class FeedForward(nn.Module):\n",
    "    def __init__(self, dim, hidden_dim, dropout = 0.):\n",
    "        super().__init__()\n",
    "        self.net = nn.Sequential(\n",
    "            nn.Linear(dim, hidden_dim),\n",
    "            nn.GELU(),\n",
    "            nn.Dropout(dropout),\n",
    "            nn.Linear(hidden_dim, dim),\n",
    "            nn.Dropout(dropout)\n",
    "        )\n",
    "    def forward(self, x):\n",
    "        return self.net(x)\n",
    "\n",
    "class Attention(nn.Module):\n",
    "    def __init__(self, dim, heads = 8, dim_head = 64, dropout = 0.):\n",
    "        super().__init__()\n",
    "        inner_dim = dim_head *  heads\n",
    "        project_out = not (heads == 1 and dim_head == dim)\n",
    "\n",
    "        self.heads = heads\n",
    "        self.scale = dim_head ** -0.5\n",
    "\n",
    "        self.attend = nn.Softmax(dim = -1)\n",
    "        self.to_qkv = nn.Linear(dim, inner_dim * 3, bias = False)\n",
    "\n",
    "        self.to_out = nn.Sequential(\n",
    "            nn.Linear(inner_dim, dim),\n",
    "            nn.Dropout(dropout)\n",
    "        ) if project_out else nn.Identity()\n",
    "\n",
    "    def forward(self, x):\n",
    "        qkv = self.to_qkv(x).chunk(3, dim = -1)\n",
    "        q, k, v = map(lambda t: rearrange(t, 'b n (h d) -> b h n d', h = self.heads), qkv)\n",
    "\n",
    "        dots = torch.matmul(q, k.transpose(-1, -2)) * self.scale\n",
    "\n",
    "        attn = self.attend(dots)\n",
    "\n",
    "        out = torch.matmul(attn, v)\n",
    "        out = rearrange(out, 'b h n d -> b n (h d)')\n",
    "        return self.to_out(out)\n",
    "\n",
    "class Transformer(nn.Module):\n",
    "    def __init__(self, dim, depth, heads, dim_head, mlp_dim, dropout = 0.):\n",
    "        super().__init__()\n",
    "        self.layers = nn.ModuleList([])\n",
    "        mlp_dim = 2048\n",
    "        for _ in range(depth):\n",
    "            #print (dim, mlp_dim)\n",
    "            self.layers.append(nn.ModuleList([\n",
    "                PreNorm(dim, Attention(dim, heads = heads, dim_head = dim_head, dropout = dropout)),\n",
    "                PreNorm(dim, FeedForward(dim, mlp_dim, dropout = dropout))\n",
    "            ]))\n",
    "    def forward(self, x):\n",
    "        for attn, ff in self.layers:\n",
    "            x = attn(x) + x\n",
    "            x = ff(x) + x\n",
    "        return x\n"
   ]
  },
  {
   "cell_type": "markdown",
   "id": "3666e3bf",
   "metadata": {
    "papermill": {
     "duration": 0.010908,
     "end_time": "2024-01-03T23:08:25.193753",
     "exception": false,
     "start_time": "2024-01-03T23:08:25.182845",
     "status": "completed"
    },
    "tags": []
   },
   "source": [
    "### Vit Model change to 3D\n",
    "\n",
    "reference:\n",
    "https://github.com/lucidrains/vit-pytorch"
   ]
  },
  {
   "cell_type": "code",
   "execution_count": 10,
   "id": "d2701aa9",
   "metadata": {
    "execution": {
     "iopub.execute_input": "2024-01-03T23:08:25.213190Z",
     "iopub.status.busy": "2024-01-03T23:08:25.212629Z",
     "iopub.status.idle": "2024-01-03T23:08:25.225053Z",
     "shell.execute_reply": "2024-01-03T23:08:25.223949Z"
    },
    "papermill": {
     "duration": 0.024432,
     "end_time": "2024-01-03T23:08:25.226952",
     "exception": false,
     "start_time": "2024-01-03T23:08:25.202520",
     "status": "completed"
    },
    "tags": []
   },
   "outputs": [],
   "source": [
    "class Model(nn.Module):\n",
    "    def __init__(self, *, image_size, patch_size, num_classes, dim, depth, heads, mlp_dim, channels = 3, dropout = 0., emb_dropout = 0.):\n",
    "        super().__init__()\n",
    "        assert image_size % patch_size == 0, 'image dimensions must be divisible by the patch size'\n",
    "        num_patches = (image_size // patch_size) *(image_size // patch_size)* 2\n",
    "        patch_dim = channels * patch_size ** 3\n",
    "\n",
    "        self.patch_size = patch_size\n",
    "\n",
    "        self.pos_embedding = nn.Parameter(torch.randn(1, num_patches + 1, dim))\n",
    "        self.patch_to_embedding = nn.Linear(patch_dim, dim)\n",
    "        self.cls_token = nn.Parameter(torch.randn(1, 1, dim))\n",
    "        self.dropout = nn.Dropout(emb_dropout)\n",
    "        #print (mlp_dim)\n",
    "        self.transformer = Transformer(dim, depth, heads, mlp_dim, dropout)\n",
    "        #print (dim)\n",
    "        self.to_cls_token = nn.Identity()\n",
    "\n",
    "        self.mlp_head = nn.Sequential(\n",
    "            nn.LayerNorm(dim),\n",
    "            nn.Linear(dim, mlp_dim),\n",
    "            nn.GELU(),\n",
    "            nn.Dropout(dropout),\n",
    "            nn.Linear(mlp_dim, num_classes),\n",
    "            nn.Dropout(dropout)\n",
    "        )\n",
    "\n",
    "    def forward(self, img, mask = None):\n",
    "        p = self.patch_size\n",
    "        #print (img.shape)\n",
    "        x = rearrange(img, 'b c (h p1) (w p2) (d p3) -> b (h w d) (p1 p2 p3 c)', p1 = p, p2 = p, p3 = p)\n",
    "        #print (x.shape)\n",
    "        x = self.patch_to_embedding(x)\n",
    "        #print (x.shape)\n",
    "        cls_tokens = self.cls_token.expand(img.shape[0], -1, -1)\n",
    "        #print (cls_tokens.shape)\n",
    "        x = torch.cat((cls_tokens, x), dim=1)\n",
    "        #print (x.shape)\n",
    "        #print (self.pos_embedding.shape)\n",
    "        x += self.pos_embedding\n",
    "        x = self.dropout(x)\n",
    "\n",
    "        x = self.transformer(x)\n",
    "\n",
    "        x = self.to_cls_token(x[:, 0])\n",
    "        return self.mlp_head(x)"
   ]
  },
  {
   "cell_type": "code",
   "execution_count": 11,
   "id": "8438f766",
   "metadata": {
    "execution": {
     "iopub.execute_input": "2024-01-03T23:08:25.246052Z",
     "iopub.status.busy": "2024-01-03T23:08:25.245442Z",
     "iopub.status.idle": "2024-01-03T23:08:25.264940Z",
     "shell.execute_reply": "2024-01-03T23:08:25.264111Z"
    },
    "papermill": {
     "duration": 0.031197,
     "end_time": "2024-01-03T23:08:25.266884",
     "exception": false,
     "start_time": "2024-01-03T23:08:25.235687",
     "status": "completed"
    },
    "tags": []
   },
   "outputs": [],
   "source": [
    "\n",
    "class Trainer:\n",
    "    def __init__(\n",
    "        self, \n",
    "        model, \n",
    "        device, \n",
    "        optimizer, \n",
    "        criterion\n",
    "    ):\n",
    "        self.model = model\n",
    "        self.device = device\n",
    "        self.optimizer = optimizer\n",
    "        self.criterion = criterion\n",
    "\n",
    "        self.best_valid_score = np.inf\n",
    "        self.n_patience = 0\n",
    "        self.lastmodel = None\n",
    "        \n",
    "    def fit(self, epochs, train_loader, valid_loader, save_path, patience):        \n",
    "        for n_epoch in range(1, epochs + 1):\n",
    "            self.info_message(\"EPOCH: {}\", n_epoch)\n",
    "            \n",
    "            train_loss, train_time = self.train_epoch(train_loader)\n",
    "            valid_loss, valid_auc, valid_time = self.valid_epoch(valid_loader)\n",
    "            \n",
    "            self.info_message(\n",
    "                \"[Epoch Train: {}] loss: {:.4f}, time: {:.2f} s            \",\n",
    "                n_epoch, train_loss, train_time\n",
    "            )\n",
    "            \n",
    "            self.info_message(\n",
    "                \"[Epoch Valid: {}] loss: {:.4f}, auc: {:.4f}, time: {:.2f} s\",\n",
    "                n_epoch, valid_loss, valid_auc, valid_time\n",
    "            )\n",
    "\n",
    "            # if True:\n",
    "            #if self.best_valid_score < valid_auc: \n",
    "            if self.best_valid_score > valid_loss: \n",
    "                self.save_model(n_epoch, save_path, valid_loss, valid_auc)\n",
    "                self.info_message(\n",
    "                     \"auc improved from {:.4f} to {:.4f}. Saved model to '{}'\", \n",
    "                    self.best_valid_score, valid_loss, self.lastmodel\n",
    "                )\n",
    "                self.best_valid_score = valid_loss\n",
    "                self.n_patience = 0\n",
    "            else:\n",
    "                self.n_patience += 1\n",
    "            \n",
    "            if self.n_patience >= patience:\n",
    "                self.info_message(\"\\nValid auc didn't improve last {} epochs.\", patience)\n",
    "                break\n",
    "            \n",
    "    def train_epoch(self, train_loader):\n",
    "        self.model.train()\n",
    "        t = time.time()\n",
    "        sum_loss = 0\n",
    "\n",
    "        for step, batch in enumerate(train_loader, 1):\n",
    "            X = batch[\"X\"].to(self.device)\n",
    "            targets = batch[\"y\"].to(self.device)\n",
    "            self.optimizer.zero_grad()\n",
    "            outputs = self.model(X).squeeze(1)\n",
    "            \n",
    "            loss = self.criterion(outputs, targets)\n",
    "            loss.backward()\n",
    "\n",
    "            sum_loss += loss.detach().item()\n",
    "\n",
    "            self.optimizer.step()\n",
    "            \n",
    "            message = 'Train Step {}/{}, train_loss: {:.4f}'\n",
    "            self.info_message(message, step, len(train_loader), sum_loss/step, end=\"\\r\")\n",
    "        \n",
    "        return sum_loss/len(train_loader), int(time.time() - t)\n",
    "    \n",
    "    def valid_epoch(self, valid_loader):\n",
    "        self.model.eval()\n",
    "        t = time.time()\n",
    "        sum_loss = 0\n",
    "        y_all = []\n",
    "        outputs_all = []\n",
    "\n",
    "        for step, batch in enumerate(valid_loader, 1):\n",
    "            with torch.no_grad():\n",
    "                X = batch[\"X\"].to(self.device)\n",
    "                targets = batch[\"y\"].to(self.device)\n",
    "\n",
    "                outputs = self.model(X).squeeze(1)\n",
    "                loss = self.criterion(outputs, targets)\n",
    "\n",
    "                sum_loss += loss.detach().item()\n",
    "                y_all.extend(batch[\"y\"].tolist())\n",
    "                outputs_all.extend(torch.sigmoid(outputs).tolist())\n",
    "\n",
    "            message = 'Valid Step {}/{}, valid_loss: {:.4f}'\n",
    "            self.info_message(message, step, len(valid_loader), sum_loss/step, end=\"\\r\")\n",
    "            \n",
    "        y_all = [1 if x > 0.5 else 0 for x in y_all]\n",
    "        auc = roc_auc_score(y_all, outputs_all)\n",
    "        \n",
    "        return sum_loss/len(valid_loader), auc, int(time.time() - t)\n",
    "    \n",
    "    def save_model(self, n_epoch, save_path, loss, auc):\n",
    "        self.lastmodel = f\"{save_path}-best.pth\"\n",
    "        torch.save(\n",
    "            {\n",
    "                \"model_state_dict\": self.model.state_dict(),\n",
    "                \"optimizer_state_dict\": self.optimizer.state_dict(),\n",
    "                \"best_valid_score\": self.best_valid_score,\n",
    "                \"n_epoch\": n_epoch,\n",
    "            },\n",
    "            self.lastmodel,\n",
    "        )\n",
    "    \n",
    "    @staticmethod\n",
    "    def info_message(message, *args, end=\"\\n\"):\n",
    "        print(message.format(*args), end=end)\n"
   ]
  },
  {
   "cell_type": "markdown",
   "id": "b5ebd6bd",
   "metadata": {
    "papermill": {
     "duration": 0.008341,
     "end_time": "2024-01-03T23:08:25.283965",
     "exception": false,
     "start_time": "2024-01-03T23:08:25.275624",
     "status": "completed"
    },
    "tags": []
   },
   "source": [
    "## train models"
   ]
  },
  {
   "cell_type": "code",
   "execution_count": 12,
   "id": "8dd28261",
   "metadata": {
    "execution": {
     "iopub.execute_input": "2024-01-03T23:08:25.302333Z",
     "iopub.status.busy": "2024-01-03T23:08:25.302061Z",
     "iopub.status.idle": "2024-01-04T00:38:39.427126Z",
     "shell.execute_reply": "2024-01-04T00:38:39.425651Z"
    },
    "lines_to_next_cell": 2,
    "papermill": {
     "duration": 5414.138208,
     "end_time": "2024-01-04T00:38:39.430637",
     "exception": false,
     "start_time": "2024-01-03T23:08:25.292429",
     "status": "completed"
    },
    "tags": []
   },
   "outputs": [
    {
     "name": "stdout",
     "output_type": "stream",
     "text": [
      "(468, 3) (117, 3)\n"
     ]
    },
    {
     "data": {
      "text/html": [
       "<div>\n",
       "<style scoped>\n",
       "    .dataframe tbody tr th:only-of-type {\n",
       "        vertical-align: middle;\n",
       "    }\n",
       "\n",
       "    .dataframe tbody tr th {\n",
       "        vertical-align: top;\n",
       "    }\n",
       "\n",
       "    .dataframe thead th {\n",
       "        text-align: right;\n",
       "    }\n",
       "</style>\n",
       "<table border=\"1\" class=\"dataframe\">\n",
       "  <thead>\n",
       "    <tr style=\"text-align: right;\">\n",
       "      <th></th>\n",
       "      <th>BraTS21ID</th>\n",
       "      <th>MGMT_value</th>\n",
       "      <th>MRI_Type</th>\n",
       "    </tr>\n",
       "  </thead>\n",
       "  <tbody>\n",
       "    <tr>\n",
       "      <th>446</th>\n",
       "      <td>645</td>\n",
       "      <td>0</td>\n",
       "      <td>FLAIR</td>\n",
       "    </tr>\n",
       "    <tr>\n",
       "      <th>529</th>\n",
       "      <td>777</td>\n",
       "      <td>1</td>\n",
       "      <td>FLAIR</td>\n",
       "    </tr>\n",
       "    <tr>\n",
       "      <th>420</th>\n",
       "      <td>607</td>\n",
       "      <td>1</td>\n",
       "      <td>FLAIR</td>\n",
       "    </tr>\n",
       "    <tr>\n",
       "      <th>406</th>\n",
       "      <td>589</td>\n",
       "      <td>0</td>\n",
       "      <td>FLAIR</td>\n",
       "    </tr>\n",
       "    <tr>\n",
       "      <th>475</th>\n",
       "      <td>690</td>\n",
       "      <td>1</td>\n",
       "      <td>FLAIR</td>\n",
       "    </tr>\n",
       "  </tbody>\n",
       "</table>\n",
       "</div>"
      ],
      "text/plain": [
       "     BraTS21ID  MGMT_value MRI_Type\n",
       "446        645           0    FLAIR\n",
       "529        777           1    FLAIR\n",
       "420        607           1    FLAIR\n",
       "406        589           0    FLAIR\n",
       "475        690           1    FLAIR"
      ]
     },
     "metadata": {},
     "output_type": "display_data"
    },
    {
     "name": "stderr",
     "output_type": "stream",
     "text": [
      "/opt/conda/lib/python3.10/site-packages/torch/utils/data/dataloader.py:561: UserWarning: This DataLoader will create 8 worker processes in total. Our suggested max number of worker in current system is 4, which is smaller than what this DataLoader is going to create. Please be aware that excessive worker creation might get DataLoader running slow or even freeze, lower the worker number to avoid potential slowness/freeze if necessary.\n",
      "  warnings.warn(_create_warning_msg(\n"
     ]
    },
    {
     "name": "stdout",
     "output_type": "stream",
     "text": [
      "EPOCH: 1\n",
      "[Epoch Train: 1] loss: 0.8639, time: 90.00 s            \n",
      "[Epoch Valid: 1] loss: 0.6915, auc: 0.6200, time: 21.00 s\n",
      "auc improved from inf to 0.6915. Saved model to 'FLAIR-best.pth'\n",
      "EPOCH: 2\n"
     ]
    },
    {
     "name": "stderr",
     "output_type": "stream",
     "text": [
      "/opt/conda/lib/python3.10/site-packages/torch/utils/data/dataloader.py:561: UserWarning: This DataLoader will create 8 worker processes in total. Our suggested max number of worker in current system is 4, which is smaller than what this DataLoader is going to create. Please be aware that excessive worker creation might get DataLoader running slow or even freeze, lower the worker number to avoid potential slowness/freeze if necessary.\n",
      "  warnings.warn(_create_warning_msg(\n"
     ]
    },
    {
     "name": "stdout",
     "output_type": "stream",
     "text": [
      "[Epoch Train: 2] loss: 0.6983, time: 71.00 s            \n",
      "[Epoch Valid: 2] loss: 0.6918, auc: 0.6309, time: 17.00 s\n",
      "EPOCH: 3\n"
     ]
    },
    {
     "name": "stderr",
     "output_type": "stream",
     "text": [
      "/opt/conda/lib/python3.10/site-packages/torch/utils/data/dataloader.py:561: UserWarning: This DataLoader will create 8 worker processes in total. Our suggested max number of worker in current system is 4, which is smaller than what this DataLoader is going to create. Please be aware that excessive worker creation might get DataLoader running slow or even freeze, lower the worker number to avoid potential slowness/freeze if necessary.\n",
      "  warnings.warn(_create_warning_msg(\n"
     ]
    },
    {
     "name": "stdout",
     "output_type": "stream",
     "text": [
      "[Epoch Train: 3] loss: 0.6932, time: 71.00 s            \n",
      "[Epoch Valid: 3] loss: 0.6879, auc: 0.6206, time: 17.00 s\n",
      "auc improved from 0.6915 to 0.6879. Saved model to 'FLAIR-best.pth'\n",
      "EPOCH: 4\n"
     ]
    },
    {
     "name": "stderr",
     "output_type": "stream",
     "text": [
      "/opt/conda/lib/python3.10/site-packages/torch/utils/data/dataloader.py:561: UserWarning: This DataLoader will create 8 worker processes in total. Our suggested max number of worker in current system is 4, which is smaller than what this DataLoader is going to create. Please be aware that excessive worker creation might get DataLoader running slow or even freeze, lower the worker number to avoid potential slowness/freeze if necessary.\n",
      "  warnings.warn(_create_warning_msg(\n"
     ]
    },
    {
     "name": "stdout",
     "output_type": "stream",
     "text": [
      "[Epoch Train: 4] loss: 0.6936, time: 71.00 s            \n",
      "[Epoch Valid: 4] loss: 0.6907, auc: 0.5992, time: 17.00 s\n",
      "EPOCH: 5\n"
     ]
    },
    {
     "name": "stderr",
     "output_type": "stream",
     "text": [
      "/opt/conda/lib/python3.10/site-packages/torch/utils/data/dataloader.py:561: UserWarning: This DataLoader will create 8 worker processes in total. Our suggested max number of worker in current system is 4, which is smaller than what this DataLoader is going to create. Please be aware that excessive worker creation might get DataLoader running slow or even freeze, lower the worker number to avoid potential slowness/freeze if necessary.\n",
      "  warnings.warn(_create_warning_msg(\n"
     ]
    },
    {
     "name": "stdout",
     "output_type": "stream",
     "text": [
      "[Epoch Train: 5] loss: 0.9016, time: 71.00 s            \n",
      "[Epoch Valid: 5] loss: 0.7021, auc: 0.5334, time: 16.00 s\n",
      "EPOCH: 6\n"
     ]
    },
    {
     "name": "stderr",
     "output_type": "stream",
     "text": [
      "/opt/conda/lib/python3.10/site-packages/torch/utils/data/dataloader.py:561: UserWarning: This DataLoader will create 8 worker processes in total. Our suggested max number of worker in current system is 4, which is smaller than what this DataLoader is going to create. Please be aware that excessive worker creation might get DataLoader running slow or even freeze, lower the worker number to avoid potential slowness/freeze if necessary.\n",
      "  warnings.warn(_create_warning_msg(\n"
     ]
    },
    {
     "name": "stdout",
     "output_type": "stream",
     "text": [
      "[Epoch Train: 6] loss: 0.7287, time: 71.00 s            \n",
      "[Epoch Valid: 6] loss: 0.7011, auc: 0.5626, time: 16.00 s\n",
      "EPOCH: 7\n"
     ]
    },
    {
     "name": "stderr",
     "output_type": "stream",
     "text": [
      "/opt/conda/lib/python3.10/site-packages/torch/utils/data/dataloader.py:561: UserWarning: This DataLoader will create 8 worker processes in total. Our suggested max number of worker in current system is 4, which is smaller than what this DataLoader is going to create. Please be aware that excessive worker creation might get DataLoader running slow or even freeze, lower the worker number to avoid potential slowness/freeze if necessary.\n",
      "  warnings.warn(_create_warning_msg(\n"
     ]
    },
    {
     "name": "stdout",
     "output_type": "stream",
     "text": [
      "[Epoch Train: 7] loss: 0.6979, time: 71.00 s            \n",
      "[Epoch Valid: 7] loss: 0.6929, auc: 0.6022, time: 16.00 s\n",
      "EPOCH: 8\n"
     ]
    },
    {
     "name": "stderr",
     "output_type": "stream",
     "text": [
      "/opt/conda/lib/python3.10/site-packages/torch/utils/data/dataloader.py:561: UserWarning: This DataLoader will create 8 worker processes in total. Our suggested max number of worker in current system is 4, which is smaller than what this DataLoader is going to create. Please be aware that excessive worker creation might get DataLoader running slow or even freeze, lower the worker number to avoid potential slowness/freeze if necessary.\n",
      "  warnings.warn(_create_warning_msg(\n"
     ]
    },
    {
     "name": "stdout",
     "output_type": "stream",
     "text": [
      "[Epoch Train: 8] loss: 0.6941, time: 70.00 s            \n",
      "[Epoch Valid: 8] loss: 0.6933, auc: 0.5533, time: 16.00 s\n",
      "EPOCH: 9\n"
     ]
    },
    {
     "name": "stderr",
     "output_type": "stream",
     "text": [
      "/opt/conda/lib/python3.10/site-packages/torch/utils/data/dataloader.py:561: UserWarning: This DataLoader will create 8 worker processes in total. Our suggested max number of worker in current system is 4, which is smaller than what this DataLoader is going to create. Please be aware that excessive worker creation might get DataLoader running slow or even freeze, lower the worker number to avoid potential slowness/freeze if necessary.\n",
      "  warnings.warn(_create_warning_msg(\n"
     ]
    },
    {
     "name": "stdout",
     "output_type": "stream",
     "text": [
      "[Epoch Train: 9] loss: 0.6939, time: 72.00 s            \n",
      "[Epoch Valid: 9] loss: 0.6931, auc: 0.5331, time: 16.00 s\n",
      "EPOCH: 10\n"
     ]
    },
    {
     "name": "stderr",
     "output_type": "stream",
     "text": [
      "/opt/conda/lib/python3.10/site-packages/torch/utils/data/dataloader.py:561: UserWarning: This DataLoader will create 8 worker processes in total. Our suggested max number of worker in current system is 4, which is smaller than what this DataLoader is going to create. Please be aware that excessive worker creation might get DataLoader running slow or even freeze, lower the worker number to avoid potential slowness/freeze if necessary.\n",
      "  warnings.warn(_create_warning_msg(\n"
     ]
    },
    {
     "name": "stdout",
     "output_type": "stream",
     "text": [
      "[Epoch Train: 10] loss: 0.6929, time: 72.00 s            \n",
      "[Epoch Valid: 10] loss: 0.6927, auc: 0.5751, time: 16.00 s\n",
      "EPOCH: 11\n"
     ]
    },
    {
     "name": "stderr",
     "output_type": "stream",
     "text": [
      "/opt/conda/lib/python3.10/site-packages/torch/utils/data/dataloader.py:561: UserWarning: This DataLoader will create 8 worker processes in total. Our suggested max number of worker in current system is 4, which is smaller than what this DataLoader is going to create. Please be aware that excessive worker creation might get DataLoader running slow or even freeze, lower the worker number to avoid potential slowness/freeze if necessary.\n",
      "  warnings.warn(_create_warning_msg(\n"
     ]
    },
    {
     "name": "stdout",
     "output_type": "stream",
     "text": [
      "[Epoch Train: 11] loss: 0.6938, time: 71.00 s            \n",
      "[Epoch Valid: 11] loss: 0.6928, auc: 0.5779, time: 16.00 s\n",
      "EPOCH: 12\n"
     ]
    },
    {
     "name": "stderr",
     "output_type": "stream",
     "text": [
      "/opt/conda/lib/python3.10/site-packages/torch/utils/data/dataloader.py:561: UserWarning: This DataLoader will create 8 worker processes in total. Our suggested max number of worker in current system is 4, which is smaller than what this DataLoader is going to create. Please be aware that excessive worker creation might get DataLoader running slow or even freeze, lower the worker number to avoid potential slowness/freeze if necessary.\n",
      "  warnings.warn(_create_warning_msg(\n"
     ]
    },
    {
     "name": "stdout",
     "output_type": "stream",
     "text": [
      "[Epoch Train: 12] loss: 0.6937, time: 71.00 s            \n",
      "[Epoch Valid: 12] loss: 0.6926, auc: 0.5770, time: 16.00 s\n",
      "EPOCH: 13\n"
     ]
    },
    {
     "name": "stderr",
     "output_type": "stream",
     "text": [
      "/opt/conda/lib/python3.10/site-packages/torch/utils/data/dataloader.py:561: UserWarning: This DataLoader will create 8 worker processes in total. Our suggested max number of worker in current system is 4, which is smaller than what this DataLoader is going to create. Please be aware that excessive worker creation might get DataLoader running slow or even freeze, lower the worker number to avoid potential slowness/freeze if necessary.\n",
      "  warnings.warn(_create_warning_msg(\n"
     ]
    },
    {
     "name": "stdout",
     "output_type": "stream",
     "text": [
      "[Epoch Train: 13] loss: 0.7029, time: 72.00 s            \n",
      "[Epoch Valid: 13] loss: 0.6969, auc: 0.6355, time: 16.00 s\n",
      "EPOCH: 14\n"
     ]
    },
    {
     "name": "stderr",
     "output_type": "stream",
     "text": [
      "/opt/conda/lib/python3.10/site-packages/torch/utils/data/dataloader.py:561: UserWarning: This DataLoader will create 8 worker processes in total. Our suggested max number of worker in current system is 4, which is smaller than what this DataLoader is going to create. Please be aware that excessive worker creation might get DataLoader running slow or even freeze, lower the worker number to avoid potential slowness/freeze if necessary.\n",
      "  warnings.warn(_create_warning_msg(\n"
     ]
    },
    {
     "name": "stdout",
     "output_type": "stream",
     "text": [
      "[Epoch Train: 14] loss: 0.6952, time: 71.00 s            \n",
      "[Epoch Valid: 14] loss: 0.6931, auc: 0.5758, time: 17.00 s\n",
      "EPOCH: 15\n"
     ]
    },
    {
     "name": "stderr",
     "output_type": "stream",
     "text": [
      "/opt/conda/lib/python3.10/site-packages/torch/utils/data/dataloader.py:561: UserWarning: This DataLoader will create 8 worker processes in total. Our suggested max number of worker in current system is 4, which is smaller than what this DataLoader is going to create. Please be aware that excessive worker creation might get DataLoader running slow or even freeze, lower the worker number to avoid potential slowness/freeze if necessary.\n",
      "  warnings.warn(_create_warning_msg(\n"
     ]
    },
    {
     "name": "stdout",
     "output_type": "stream",
     "text": [
      "[Epoch Train: 15] loss: 0.6998, time: 72.00 s            \n",
      "[Epoch Valid: 15] loss: 0.6930, auc: 0.6210, time: 16.00 s\n",
      "(468, 3) (117, 3)\n"
     ]
    },
    {
     "data": {
      "text/html": [
       "<div>\n",
       "<style scoped>\n",
       "    .dataframe tbody tr th:only-of-type {\n",
       "        vertical-align: middle;\n",
       "    }\n",
       "\n",
       "    .dataframe tbody tr th {\n",
       "        vertical-align: top;\n",
       "    }\n",
       "\n",
       "    .dataframe thead th {\n",
       "        text-align: right;\n",
       "    }\n",
       "</style>\n",
       "<table border=\"1\" class=\"dataframe\">\n",
       "  <thead>\n",
       "    <tr style=\"text-align: right;\">\n",
       "      <th></th>\n",
       "      <th>BraTS21ID</th>\n",
       "      <th>MGMT_value</th>\n",
       "      <th>MRI_Type</th>\n",
       "    </tr>\n",
       "  </thead>\n",
       "  <tbody>\n",
       "    <tr>\n",
       "      <th>446</th>\n",
       "      <td>645</td>\n",
       "      <td>0</td>\n",
       "      <td>T1w</td>\n",
       "    </tr>\n",
       "    <tr>\n",
       "      <th>529</th>\n",
       "      <td>777</td>\n",
       "      <td>1</td>\n",
       "      <td>T1w</td>\n",
       "    </tr>\n",
       "    <tr>\n",
       "      <th>420</th>\n",
       "      <td>607</td>\n",
       "      <td>1</td>\n",
       "      <td>T1w</td>\n",
       "    </tr>\n",
       "    <tr>\n",
       "      <th>406</th>\n",
       "      <td>589</td>\n",
       "      <td>0</td>\n",
       "      <td>T1w</td>\n",
       "    </tr>\n",
       "    <tr>\n",
       "      <th>475</th>\n",
       "      <td>690</td>\n",
       "      <td>1</td>\n",
       "      <td>T1w</td>\n",
       "    </tr>\n",
       "  </tbody>\n",
       "</table>\n",
       "</div>"
      ],
      "text/plain": [
       "     BraTS21ID  MGMT_value MRI_Type\n",
       "446        645           0      T1w\n",
       "529        777           1      T1w\n",
       "420        607           1      T1w\n",
       "406        589           0      T1w\n",
       "475        690           1      T1w"
      ]
     },
     "metadata": {},
     "output_type": "display_data"
    },
    {
     "name": "stderr",
     "output_type": "stream",
     "text": [
      "/opt/conda/lib/python3.10/site-packages/torch/utils/data/dataloader.py:561: UserWarning: This DataLoader will create 8 worker processes in total. Our suggested max number of worker in current system is 4, which is smaller than what this DataLoader is going to create. Please be aware that excessive worker creation might get DataLoader running slow or even freeze, lower the worker number to avoid potential slowness/freeze if necessary.\n",
      "  warnings.warn(_create_warning_msg(\n"
     ]
    },
    {
     "name": "stdout",
     "output_type": "stream",
     "text": [
      "EPOCH: 1\n",
      "[Epoch Train: 1] loss: 0.7953, time: 76.00 s            \n",
      "[Epoch Valid: 1] loss: 0.6949, auc: 0.5695, time: 19.00 s\n",
      "auc improved from inf to 0.6949. Saved model to 'T1w-best.pth'\n",
      "EPOCH: 2\n"
     ]
    },
    {
     "name": "stderr",
     "output_type": "stream",
     "text": [
      "/opt/conda/lib/python3.10/site-packages/torch/utils/data/dataloader.py:561: UserWarning: This DataLoader will create 8 worker processes in total. Our suggested max number of worker in current system is 4, which is smaller than what this DataLoader is going to create. Please be aware that excessive worker creation might get DataLoader running slow or even freeze, lower the worker number to avoid potential slowness/freeze if necessary.\n",
      "  warnings.warn(_create_warning_msg(\n"
     ]
    },
    {
     "name": "stdout",
     "output_type": "stream",
     "text": [
      "[Epoch Train: 2] loss: 0.7048, time: 68.00 s            \n",
      "[Epoch Valid: 2] loss: 0.6937, auc: 0.5580, time: 17.00 s\n",
      "auc improved from 0.6949 to 0.6937. Saved model to 'T1w-best.pth'\n",
      "EPOCH: 3\n"
     ]
    },
    {
     "name": "stderr",
     "output_type": "stream",
     "text": [
      "/opt/conda/lib/python3.10/site-packages/torch/utils/data/dataloader.py:561: UserWarning: This DataLoader will create 8 worker processes in total. Our suggested max number of worker in current system is 4, which is smaller than what this DataLoader is going to create. Please be aware that excessive worker creation might get DataLoader running slow or even freeze, lower the worker number to avoid potential slowness/freeze if necessary.\n",
      "  warnings.warn(_create_warning_msg(\n"
     ]
    },
    {
     "name": "stdout",
     "output_type": "stream",
     "text": [
      "[Epoch Train: 3] loss: 0.6958, time: 67.00 s            \n",
      "[Epoch Valid: 3] loss: 0.6918, auc: 0.5691, time: 15.00 s\n",
      "auc improved from 0.6937 to 0.6918. Saved model to 'T1w-best.pth'\n",
      "EPOCH: 4\n"
     ]
    },
    {
     "name": "stderr",
     "output_type": "stream",
     "text": [
      "/opt/conda/lib/python3.10/site-packages/torch/utils/data/dataloader.py:561: UserWarning: This DataLoader will create 8 worker processes in total. Our suggested max number of worker in current system is 4, which is smaller than what this DataLoader is going to create. Please be aware that excessive worker creation might get DataLoader running slow or even freeze, lower the worker number to avoid potential slowness/freeze if necessary.\n",
      "  warnings.warn(_create_warning_msg(\n"
     ]
    },
    {
     "name": "stdout",
     "output_type": "stream",
     "text": [
      "[Epoch Train: 4] loss: 0.6928, time: 64.00 s            \n",
      "[Epoch Valid: 4] loss: 0.6920, auc: 0.5714, time: 15.00 s\n",
      "EPOCH: 5\n"
     ]
    },
    {
     "name": "stderr",
     "output_type": "stream",
     "text": [
      "/opt/conda/lib/python3.10/site-packages/torch/utils/data/dataloader.py:561: UserWarning: This DataLoader will create 8 worker processes in total. Our suggested max number of worker in current system is 4, which is smaller than what this DataLoader is going to create. Please be aware that excessive worker creation might get DataLoader running slow or even freeze, lower the worker number to avoid potential slowness/freeze if necessary.\n",
      "  warnings.warn(_create_warning_msg(\n"
     ]
    },
    {
     "name": "stdout",
     "output_type": "stream",
     "text": [
      "[Epoch Train: 5] loss: 0.7004, time: 63.00 s            \n",
      "[Epoch Valid: 5] loss: 0.7047, auc: 0.5828, time: 15.00 s\n",
      "EPOCH: 6\n"
     ]
    },
    {
     "name": "stderr",
     "output_type": "stream",
     "text": [
      "/opt/conda/lib/python3.10/site-packages/torch/utils/data/dataloader.py:561: UserWarning: This DataLoader will create 8 worker processes in total. Our suggested max number of worker in current system is 4, which is smaller than what this DataLoader is going to create. Please be aware that excessive worker creation might get DataLoader running slow or even freeze, lower the worker number to avoid potential slowness/freeze if necessary.\n",
      "  warnings.warn(_create_warning_msg(\n"
     ]
    },
    {
     "name": "stdout",
     "output_type": "stream",
     "text": [
      "[Epoch Train: 6] loss: 0.6965, time: 64.00 s            \n",
      "[Epoch Valid: 6] loss: 0.6913, auc: 0.5779, time: 15.00 s\n",
      "auc improved from 0.6918 to 0.6913. Saved model to 'T1w-best.pth'\n",
      "EPOCH: 7\n"
     ]
    },
    {
     "name": "stderr",
     "output_type": "stream",
     "text": [
      "/opt/conda/lib/python3.10/site-packages/torch/utils/data/dataloader.py:561: UserWarning: This DataLoader will create 8 worker processes in total. Our suggested max number of worker in current system is 4, which is smaller than what this DataLoader is going to create. Please be aware that excessive worker creation might get DataLoader running slow or even freeze, lower the worker number to avoid potential slowness/freeze if necessary.\n",
      "  warnings.warn(_create_warning_msg(\n"
     ]
    },
    {
     "name": "stdout",
     "output_type": "stream",
     "text": [
      "[Epoch Train: 7] loss: 0.6936, time: 63.00 s            \n",
      "[Epoch Valid: 7] loss: 0.6992, auc: 0.5129, time: 14.00 s\n",
      "EPOCH: 8\n"
     ]
    },
    {
     "name": "stderr",
     "output_type": "stream",
     "text": [
      "/opt/conda/lib/python3.10/site-packages/torch/utils/data/dataloader.py:561: UserWarning: This DataLoader will create 8 worker processes in total. Our suggested max number of worker in current system is 4, which is smaller than what this DataLoader is going to create. Please be aware that excessive worker creation might get DataLoader running slow or even freeze, lower the worker number to avoid potential slowness/freeze if necessary.\n",
      "  warnings.warn(_create_warning_msg(\n"
     ]
    },
    {
     "name": "stdout",
     "output_type": "stream",
     "text": [
      "[Epoch Train: 8] loss: 0.6937, time: 64.00 s            \n",
      "[Epoch Valid: 8] loss: 0.6920, auc: 0.5972, time: 14.00 s\n",
      "EPOCH: 9\n"
     ]
    },
    {
     "name": "stderr",
     "output_type": "stream",
     "text": [
      "/opt/conda/lib/python3.10/site-packages/torch/utils/data/dataloader.py:561: UserWarning: This DataLoader will create 8 worker processes in total. Our suggested max number of worker in current system is 4, which is smaller than what this DataLoader is going to create. Please be aware that excessive worker creation might get DataLoader running slow or even freeze, lower the worker number to avoid potential slowness/freeze if necessary.\n",
      "  warnings.warn(_create_warning_msg(\n"
     ]
    },
    {
     "name": "stdout",
     "output_type": "stream",
     "text": [
      "[Epoch Train: 9] loss: 0.6963, time: 62.00 s            \n",
      "[Epoch Valid: 9] loss: 0.7143, auc: 0.5987, time: 15.00 s\n",
      "EPOCH: 10\n"
     ]
    },
    {
     "name": "stderr",
     "output_type": "stream",
     "text": [
      "/opt/conda/lib/python3.10/site-packages/torch/utils/data/dataloader.py:561: UserWarning: This DataLoader will create 8 worker processes in total. Our suggested max number of worker in current system is 4, which is smaller than what this DataLoader is going to create. Please be aware that excessive worker creation might get DataLoader running slow or even freeze, lower the worker number to avoid potential slowness/freeze if necessary.\n",
      "  warnings.warn(_create_warning_msg(\n"
     ]
    },
    {
     "name": "stdout",
     "output_type": "stream",
     "text": [
      "[Epoch Train: 10] loss: 0.6965, time: 63.00 s            \n",
      "[Epoch Valid: 10] loss: 0.6910, auc: 0.5946, time: 14.00 s\n",
      "auc improved from 0.6913 to 0.6910. Saved model to 'T1w-best.pth'\n",
      "EPOCH: 11\n"
     ]
    },
    {
     "name": "stderr",
     "output_type": "stream",
     "text": [
      "/opt/conda/lib/python3.10/site-packages/torch/utils/data/dataloader.py:561: UserWarning: This DataLoader will create 8 worker processes in total. Our suggested max number of worker in current system is 4, which is smaller than what this DataLoader is going to create. Please be aware that excessive worker creation might get DataLoader running slow or even freeze, lower the worker number to avoid potential slowness/freeze if necessary.\n",
      "  warnings.warn(_create_warning_msg(\n"
     ]
    },
    {
     "name": "stdout",
     "output_type": "stream",
     "text": [
      "[Epoch Train: 11] loss: 0.6991, time: 63.00 s            \n",
      "[Epoch Valid: 11] loss: 0.6925, auc: 0.6203, time: 14.00 s\n",
      "EPOCH: 12\n"
     ]
    },
    {
     "name": "stderr",
     "output_type": "stream",
     "text": [
      "/opt/conda/lib/python3.10/site-packages/torch/utils/data/dataloader.py:561: UserWarning: This DataLoader will create 8 worker processes in total. Our suggested max number of worker in current system is 4, which is smaller than what this DataLoader is going to create. Please be aware that excessive worker creation might get DataLoader running slow or even freeze, lower the worker number to avoid potential slowness/freeze if necessary.\n",
      "  warnings.warn(_create_warning_msg(\n"
     ]
    },
    {
     "name": "stdout",
     "output_type": "stream",
     "text": [
      "[Epoch Train: 12] loss: 0.6967, time: 62.00 s            \n",
      "[Epoch Valid: 12] loss: 0.7610, auc: 0.4016, time: 14.00 s\n",
      "EPOCH: 13\n"
     ]
    },
    {
     "name": "stderr",
     "output_type": "stream",
     "text": [
      "/opt/conda/lib/python3.10/site-packages/torch/utils/data/dataloader.py:561: UserWarning: This DataLoader will create 8 worker processes in total. Our suggested max number of worker in current system is 4, which is smaller than what this DataLoader is going to create. Please be aware that excessive worker creation might get DataLoader running slow or even freeze, lower the worker number to avoid potential slowness/freeze if necessary.\n",
      "  warnings.warn(_create_warning_msg(\n"
     ]
    },
    {
     "name": "stdout",
     "output_type": "stream",
     "text": [
      "[Epoch Train: 13] loss: 0.6974, time: 62.00 s            \n",
      "[Epoch Valid: 13] loss: 0.6891, auc: 0.6150, time: 15.00 s\n",
      "auc improved from 0.6910 to 0.6891. Saved model to 'T1w-best.pth'\n",
      "EPOCH: 14\n"
     ]
    },
    {
     "name": "stderr",
     "output_type": "stream",
     "text": [
      "/opt/conda/lib/python3.10/site-packages/torch/utils/data/dataloader.py:561: UserWarning: This DataLoader will create 8 worker processes in total. Our suggested max number of worker in current system is 4, which is smaller than what this DataLoader is going to create. Please be aware that excessive worker creation might get DataLoader running slow or even freeze, lower the worker number to avoid potential slowness/freeze if necessary.\n",
      "  warnings.warn(_create_warning_msg(\n"
     ]
    },
    {
     "name": "stdout",
     "output_type": "stream",
     "text": [
      "[Epoch Train: 14] loss: 0.6925, time: 63.00 s            \n",
      "[Epoch Valid: 14] loss: 0.6910, auc: 0.5884, time: 14.00 s\n",
      "EPOCH: 15\n"
     ]
    },
    {
     "name": "stderr",
     "output_type": "stream",
     "text": [
      "/opt/conda/lib/python3.10/site-packages/torch/utils/data/dataloader.py:561: UserWarning: This DataLoader will create 8 worker processes in total. Our suggested max number of worker in current system is 4, which is smaller than what this DataLoader is going to create. Please be aware that excessive worker creation might get DataLoader running slow or even freeze, lower the worker number to avoid potential slowness/freeze if necessary.\n",
      "  warnings.warn(_create_warning_msg(\n"
     ]
    },
    {
     "name": "stdout",
     "output_type": "stream",
     "text": [
      "[Epoch Train: 15] loss: 0.6926, time: 63.00 s            \n",
      "[Epoch Valid: 15] loss: 0.6922, auc: 0.6028, time: 15.00 s\n",
      "(468, 3) (117, 3)\n"
     ]
    },
    {
     "data": {
      "text/html": [
       "<div>\n",
       "<style scoped>\n",
       "    .dataframe tbody tr th:only-of-type {\n",
       "        vertical-align: middle;\n",
       "    }\n",
       "\n",
       "    .dataframe tbody tr th {\n",
       "        vertical-align: top;\n",
       "    }\n",
       "\n",
       "    .dataframe thead th {\n",
       "        text-align: right;\n",
       "    }\n",
       "</style>\n",
       "<table border=\"1\" class=\"dataframe\">\n",
       "  <thead>\n",
       "    <tr style=\"text-align: right;\">\n",
       "      <th></th>\n",
       "      <th>BraTS21ID</th>\n",
       "      <th>MGMT_value</th>\n",
       "      <th>MRI_Type</th>\n",
       "    </tr>\n",
       "  </thead>\n",
       "  <tbody>\n",
       "    <tr>\n",
       "      <th>446</th>\n",
       "      <td>645</td>\n",
       "      <td>0</td>\n",
       "      <td>T1wCE</td>\n",
       "    </tr>\n",
       "    <tr>\n",
       "      <th>529</th>\n",
       "      <td>777</td>\n",
       "      <td>1</td>\n",
       "      <td>T1wCE</td>\n",
       "    </tr>\n",
       "    <tr>\n",
       "      <th>420</th>\n",
       "      <td>607</td>\n",
       "      <td>1</td>\n",
       "      <td>T1wCE</td>\n",
       "    </tr>\n",
       "    <tr>\n",
       "      <th>406</th>\n",
       "      <td>589</td>\n",
       "      <td>0</td>\n",
       "      <td>T1wCE</td>\n",
       "    </tr>\n",
       "    <tr>\n",
       "      <th>475</th>\n",
       "      <td>690</td>\n",
       "      <td>1</td>\n",
       "      <td>T1wCE</td>\n",
       "    </tr>\n",
       "  </tbody>\n",
       "</table>\n",
       "</div>"
      ],
      "text/plain": [
       "     BraTS21ID  MGMT_value MRI_Type\n",
       "446        645           0    T1wCE\n",
       "529        777           1    T1wCE\n",
       "420        607           1    T1wCE\n",
       "406        589           0    T1wCE\n",
       "475        690           1    T1wCE"
      ]
     },
     "metadata": {},
     "output_type": "display_data"
    },
    {
     "name": "stderr",
     "output_type": "stream",
     "text": [
      "/opt/conda/lib/python3.10/site-packages/torch/utils/data/dataloader.py:561: UserWarning: This DataLoader will create 8 worker processes in total. Our suggested max number of worker in current system is 4, which is smaller than what this DataLoader is going to create. Please be aware that excessive worker creation might get DataLoader running slow or even freeze, lower the worker number to avoid potential slowness/freeze if necessary.\n",
      "  warnings.warn(_create_warning_msg(\n"
     ]
    },
    {
     "name": "stdout",
     "output_type": "stream",
     "text": [
      "EPOCH: 1\n",
      "[Epoch Train: 1] loss: 0.8005, time: 84.00 s            \n",
      "[Epoch Valid: 1] loss: 0.6927, auc: 0.5984, time: 20.00 s\n",
      "auc improved from inf to 0.6927. Saved model to 'T1wCE-best.pth'\n",
      "EPOCH: 2\n"
     ]
    },
    {
     "name": "stderr",
     "output_type": "stream",
     "text": [
      "/opt/conda/lib/python3.10/site-packages/torch/utils/data/dataloader.py:561: UserWarning: This DataLoader will create 8 worker processes in total. Our suggested max number of worker in current system is 4, which is smaller than what this DataLoader is going to create. Please be aware that excessive worker creation might get DataLoader running slow or even freeze, lower the worker number to avoid potential slowness/freeze if necessary.\n",
      "  warnings.warn(_create_warning_msg(\n"
     ]
    },
    {
     "name": "stdout",
     "output_type": "stream",
     "text": [
      "[Epoch Train: 2] loss: 0.7027, time: 72.00 s            \n",
      "[Epoch Valid: 2] loss: 0.6839, auc: 0.6237, time: 16.00 s\n",
      "auc improved from 0.6927 to 0.6839. Saved model to 'T1wCE-best.pth'\n",
      "EPOCH: 3\n"
     ]
    },
    {
     "name": "stderr",
     "output_type": "stream",
     "text": [
      "/opt/conda/lib/python3.10/site-packages/torch/utils/data/dataloader.py:561: UserWarning: This DataLoader will create 8 worker processes in total. Our suggested max number of worker in current system is 4, which is smaller than what this DataLoader is going to create. Please be aware that excessive worker creation might get DataLoader running slow or even freeze, lower the worker number to avoid potential slowness/freeze if necessary.\n",
      "  warnings.warn(_create_warning_msg(\n"
     ]
    },
    {
     "name": "stdout",
     "output_type": "stream",
     "text": [
      "[Epoch Train: 3] loss: 0.6960, time: 72.00 s            \n",
      "[Epoch Valid: 3] loss: 0.7031, auc: 0.5943, time: 15.00 s\n",
      "EPOCH: 4\n"
     ]
    },
    {
     "name": "stderr",
     "output_type": "stream",
     "text": [
      "/opt/conda/lib/python3.10/site-packages/torch/utils/data/dataloader.py:561: UserWarning: This DataLoader will create 8 worker processes in total. Our suggested max number of worker in current system is 4, which is smaller than what this DataLoader is going to create. Please be aware that excessive worker creation might get DataLoader running slow or even freeze, lower the worker number to avoid potential slowness/freeze if necessary.\n",
      "  warnings.warn(_create_warning_msg(\n"
     ]
    },
    {
     "name": "stdout",
     "output_type": "stream",
     "text": [
      "[Epoch Train: 4] loss: 0.6991, time: 70.00 s            \n",
      "[Epoch Valid: 4] loss: 0.6892, auc: 0.6030, time: 16.00 s\n",
      "EPOCH: 5\n"
     ]
    },
    {
     "name": "stderr",
     "output_type": "stream",
     "text": [
      "/opt/conda/lib/python3.10/site-packages/torch/utils/data/dataloader.py:561: UserWarning: This DataLoader will create 8 worker processes in total. Our suggested max number of worker in current system is 4, which is smaller than what this DataLoader is going to create. Please be aware that excessive worker creation might get DataLoader running slow or even freeze, lower the worker number to avoid potential slowness/freeze if necessary.\n",
      "  warnings.warn(_create_warning_msg(\n"
     ]
    },
    {
     "name": "stdout",
     "output_type": "stream",
     "text": [
      "[Epoch Train: 5] loss: 0.6952, time: 69.00 s            \n",
      "[Epoch Valid: 5] loss: 0.6868, auc: 0.5843, time: 16.00 s\n",
      "EPOCH: 6\n"
     ]
    },
    {
     "name": "stderr",
     "output_type": "stream",
     "text": [
      "/opt/conda/lib/python3.10/site-packages/torch/utils/data/dataloader.py:561: UserWarning: This DataLoader will create 8 worker processes in total. Our suggested max number of worker in current system is 4, which is smaller than what this DataLoader is going to create. Please be aware that excessive worker creation might get DataLoader running slow or even freeze, lower the worker number to avoid potential slowness/freeze if necessary.\n",
      "  warnings.warn(_create_warning_msg(\n"
     ]
    },
    {
     "name": "stdout",
     "output_type": "stream",
     "text": [
      "[Epoch Train: 6] loss: 0.6951, time: 69.00 s            \n",
      "[Epoch Valid: 6] loss: 0.6901, auc: 0.5951, time: 16.00 s\n",
      "EPOCH: 7\n"
     ]
    },
    {
     "name": "stderr",
     "output_type": "stream",
     "text": [
      "/opt/conda/lib/python3.10/site-packages/torch/utils/data/dataloader.py:561: UserWarning: This DataLoader will create 8 worker processes in total. Our suggested max number of worker in current system is 4, which is smaller than what this DataLoader is going to create. Please be aware that excessive worker creation might get DataLoader running slow or even freeze, lower the worker number to avoid potential slowness/freeze if necessary.\n",
      "  warnings.warn(_create_warning_msg(\n"
     ]
    },
    {
     "name": "stdout",
     "output_type": "stream",
     "text": [
      "[Epoch Train: 7] loss: 0.6967, time: 69.00 s            \n",
      "[Epoch Valid: 7] loss: 0.6894, auc: 0.5928, time: 16.00 s\n",
      "EPOCH: 8\n"
     ]
    },
    {
     "name": "stderr",
     "output_type": "stream",
     "text": [
      "/opt/conda/lib/python3.10/site-packages/torch/utils/data/dataloader.py:561: UserWarning: This DataLoader will create 8 worker processes in total. Our suggested max number of worker in current system is 4, which is smaller than what this DataLoader is going to create. Please be aware that excessive worker creation might get DataLoader running slow or even freeze, lower the worker number to avoid potential slowness/freeze if necessary.\n",
      "  warnings.warn(_create_warning_msg(\n"
     ]
    },
    {
     "name": "stdout",
     "output_type": "stream",
     "text": [
      "[Epoch Train: 8] loss: 0.6929, time: 69.00 s            \n",
      "[Epoch Valid: 8] loss: 0.6877, auc: 0.6048, time: 16.00 s\n",
      "EPOCH: 9\n"
     ]
    },
    {
     "name": "stderr",
     "output_type": "stream",
     "text": [
      "/opt/conda/lib/python3.10/site-packages/torch/utils/data/dataloader.py:561: UserWarning: This DataLoader will create 8 worker processes in total. Our suggested max number of worker in current system is 4, which is smaller than what this DataLoader is going to create. Please be aware that excessive worker creation might get DataLoader running slow or even freeze, lower the worker number to avoid potential slowness/freeze if necessary.\n",
      "  warnings.warn(_create_warning_msg(\n"
     ]
    },
    {
     "name": "stdout",
     "output_type": "stream",
     "text": [
      "[Epoch Train: 9] loss: 0.6927, time: 69.00 s            \n",
      "[Epoch Valid: 9] loss: 0.6865, auc: 0.6010, time: 16.00 s\n",
      "EPOCH: 10\n"
     ]
    },
    {
     "name": "stderr",
     "output_type": "stream",
     "text": [
      "/opt/conda/lib/python3.10/site-packages/torch/utils/data/dataloader.py:561: UserWarning: This DataLoader will create 8 worker processes in total. Our suggested max number of worker in current system is 4, which is smaller than what this DataLoader is going to create. Please be aware that excessive worker creation might get DataLoader running slow or even freeze, lower the worker number to avoid potential slowness/freeze if necessary.\n",
      "  warnings.warn(_create_warning_msg(\n"
     ]
    },
    {
     "name": "stdout",
     "output_type": "stream",
     "text": [
      "[Epoch Train: 10] loss: 0.7103, time: 69.00 s            \n",
      "[Epoch Valid: 10] loss: 0.6981, auc: 0.4164, time: 16.00 s\n",
      "EPOCH: 11\n"
     ]
    },
    {
     "name": "stderr",
     "output_type": "stream",
     "text": [
      "/opt/conda/lib/python3.10/site-packages/torch/utils/data/dataloader.py:561: UserWarning: This DataLoader will create 8 worker processes in total. Our suggested max number of worker in current system is 4, which is smaller than what this DataLoader is going to create. Please be aware that excessive worker creation might get DataLoader running slow or even freeze, lower the worker number to avoid potential slowness/freeze if necessary.\n",
      "  warnings.warn(_create_warning_msg(\n"
     ]
    },
    {
     "name": "stdout",
     "output_type": "stream",
     "text": [
      "[Epoch Train: 11] loss: 0.6957, time: 69.00 s            \n",
      "[Epoch Valid: 11] loss: 0.6924, auc: 0.5448, time: 16.00 s\n",
      "EPOCH: 12\n"
     ]
    },
    {
     "name": "stderr",
     "output_type": "stream",
     "text": [
      "/opt/conda/lib/python3.10/site-packages/torch/utils/data/dataloader.py:561: UserWarning: This DataLoader will create 8 worker processes in total. Our suggested max number of worker in current system is 4, which is smaller than what this DataLoader is going to create. Please be aware that excessive worker creation might get DataLoader running slow or even freeze, lower the worker number to avoid potential slowness/freeze if necessary.\n",
      "  warnings.warn(_create_warning_msg(\n"
     ]
    },
    {
     "name": "stdout",
     "output_type": "stream",
     "text": [
      "[Epoch Train: 12] loss: 0.6948, time: 68.00 s            \n",
      "[Epoch Valid: 12] loss: 0.6937, auc: 0.5662, time: 16.00 s\n",
      "EPOCH: 13\n"
     ]
    },
    {
     "name": "stderr",
     "output_type": "stream",
     "text": [
      "/opt/conda/lib/python3.10/site-packages/torch/utils/data/dataloader.py:561: UserWarning: This DataLoader will create 8 worker processes in total. Our suggested max number of worker in current system is 4, which is smaller than what this DataLoader is going to create. Please be aware that excessive worker creation might get DataLoader running slow or even freeze, lower the worker number to avoid potential slowness/freeze if necessary.\n",
      "  warnings.warn(_create_warning_msg(\n"
     ]
    },
    {
     "name": "stdout",
     "output_type": "stream",
     "text": [
      "[Epoch Train: 13] loss: 0.6923, time: 69.00 s            \n",
      "[Epoch Valid: 13] loss: 0.6895, auc: 0.5749, time: 16.00 s\n",
      "EPOCH: 14\n"
     ]
    },
    {
     "name": "stderr",
     "output_type": "stream",
     "text": [
      "/opt/conda/lib/python3.10/site-packages/torch/utils/data/dataloader.py:561: UserWarning: This DataLoader will create 8 worker processes in total. Our suggested max number of worker in current system is 4, which is smaller than what this DataLoader is going to create. Please be aware that excessive worker creation might get DataLoader running slow or even freeze, lower the worker number to avoid potential slowness/freeze if necessary.\n",
      "  warnings.warn(_create_warning_msg(\n"
     ]
    },
    {
     "name": "stdout",
     "output_type": "stream",
     "text": [
      "[Epoch Train: 14] loss: 0.6934, time: 69.00 s            \n",
      "[Epoch Valid: 14] loss: 0.6922, auc: 0.5682, time: 15.00 s\n",
      "EPOCH: 15\n"
     ]
    },
    {
     "name": "stderr",
     "output_type": "stream",
     "text": [
      "/opt/conda/lib/python3.10/site-packages/torch/utils/data/dataloader.py:561: UserWarning: This DataLoader will create 8 worker processes in total. Our suggested max number of worker in current system is 4, which is smaller than what this DataLoader is going to create. Please be aware that excessive worker creation might get DataLoader running slow or even freeze, lower the worker number to avoid potential slowness/freeze if necessary.\n",
      "  warnings.warn(_create_warning_msg(\n"
     ]
    },
    {
     "name": "stdout",
     "output_type": "stream",
     "text": [
      "[Epoch Train: 15] loss: 0.6946, time: 68.00 s            \n",
      "[Epoch Valid: 15] loss: 0.6899, auc: 0.5723, time: 16.00 s\n",
      "(468, 3) (117, 3)\n"
     ]
    },
    {
     "data": {
      "text/html": [
       "<div>\n",
       "<style scoped>\n",
       "    .dataframe tbody tr th:only-of-type {\n",
       "        vertical-align: middle;\n",
       "    }\n",
       "\n",
       "    .dataframe tbody tr th {\n",
       "        vertical-align: top;\n",
       "    }\n",
       "\n",
       "    .dataframe thead th {\n",
       "        text-align: right;\n",
       "    }\n",
       "</style>\n",
       "<table border=\"1\" class=\"dataframe\">\n",
       "  <thead>\n",
       "    <tr style=\"text-align: right;\">\n",
       "      <th></th>\n",
       "      <th>BraTS21ID</th>\n",
       "      <th>MGMT_value</th>\n",
       "      <th>MRI_Type</th>\n",
       "    </tr>\n",
       "  </thead>\n",
       "  <tbody>\n",
       "    <tr>\n",
       "      <th>446</th>\n",
       "      <td>645</td>\n",
       "      <td>0</td>\n",
       "      <td>T2w</td>\n",
       "    </tr>\n",
       "    <tr>\n",
       "      <th>529</th>\n",
       "      <td>777</td>\n",
       "      <td>1</td>\n",
       "      <td>T2w</td>\n",
       "    </tr>\n",
       "    <tr>\n",
       "      <th>420</th>\n",
       "      <td>607</td>\n",
       "      <td>1</td>\n",
       "      <td>T2w</td>\n",
       "    </tr>\n",
       "    <tr>\n",
       "      <th>406</th>\n",
       "      <td>589</td>\n",
       "      <td>0</td>\n",
       "      <td>T2w</td>\n",
       "    </tr>\n",
       "    <tr>\n",
       "      <th>475</th>\n",
       "      <td>690</td>\n",
       "      <td>1</td>\n",
       "      <td>T2w</td>\n",
       "    </tr>\n",
       "  </tbody>\n",
       "</table>\n",
       "</div>"
      ],
      "text/plain": [
       "     BraTS21ID  MGMT_value MRI_Type\n",
       "446        645           0      T2w\n",
       "529        777           1      T2w\n",
       "420        607           1      T2w\n",
       "406        589           0      T2w\n",
       "475        690           1      T2w"
      ]
     },
     "metadata": {},
     "output_type": "display_data"
    },
    {
     "name": "stderr",
     "output_type": "stream",
     "text": [
      "/opt/conda/lib/python3.10/site-packages/torch/utils/data/dataloader.py:561: UserWarning: This DataLoader will create 8 worker processes in total. Our suggested max number of worker in current system is 4, which is smaller than what this DataLoader is going to create. Please be aware that excessive worker creation might get DataLoader running slow or even freeze, lower the worker number to avoid potential slowness/freeze if necessary.\n",
      "  warnings.warn(_create_warning_msg(\n"
     ]
    },
    {
     "name": "stdout",
     "output_type": "stream",
     "text": [
      "EPOCH: 1\n",
      "[Epoch Train: 1] loss: 0.7880, time: 93.00 s            \n",
      "[Epoch Valid: 1] loss: 0.6933, auc: 0.5840, time: 22.00 s\n",
      "auc improved from inf to 0.6933. Saved model to 'T2w-best.pth'\n",
      "EPOCH: 2\n"
     ]
    },
    {
     "name": "stderr",
     "output_type": "stream",
     "text": [
      "/opt/conda/lib/python3.10/site-packages/torch/utils/data/dataloader.py:561: UserWarning: This DataLoader will create 8 worker processes in total. Our suggested max number of worker in current system is 4, which is smaller than what this DataLoader is going to create. Please be aware that excessive worker creation might get DataLoader running slow or even freeze, lower the worker number to avoid potential slowness/freeze if necessary.\n",
      "  warnings.warn(_create_warning_msg(\n"
     ]
    },
    {
     "name": "stdout",
     "output_type": "stream",
     "text": [
      "[Epoch Train: 2] loss: 0.6967, time: 87.00 s            \n",
      "[Epoch Valid: 2] loss: 0.6904, auc: 0.5837, time: 20.00 s\n",
      "auc improved from 0.6933 to 0.6904. Saved model to 'T2w-best.pth'\n",
      "EPOCH: 3\n"
     ]
    },
    {
     "name": "stderr",
     "output_type": "stream",
     "text": [
      "/opt/conda/lib/python3.10/site-packages/torch/utils/data/dataloader.py:561: UserWarning: This DataLoader will create 8 worker processes in total. Our suggested max number of worker in current system is 4, which is smaller than what this DataLoader is going to create. Please be aware that excessive worker creation might get DataLoader running slow or even freeze, lower the worker number to avoid potential slowness/freeze if necessary.\n",
      "  warnings.warn(_create_warning_msg(\n"
     ]
    },
    {
     "name": "stdout",
     "output_type": "stream",
     "text": [
      "[Epoch Train: 3] loss: 0.7010, time: 80.00 s            \n",
      "[Epoch Valid: 3] loss: 0.6920, auc: 0.5849, time: 20.00 s\n",
      "EPOCH: 4\n"
     ]
    },
    {
     "name": "stderr",
     "output_type": "stream",
     "text": [
      "/opt/conda/lib/python3.10/site-packages/torch/utils/data/dataloader.py:561: UserWarning: This DataLoader will create 8 worker processes in total. Our suggested max number of worker in current system is 4, which is smaller than what this DataLoader is going to create. Please be aware that excessive worker creation might get DataLoader running slow or even freeze, lower the worker number to avoid potential slowness/freeze if necessary.\n",
      "  warnings.warn(_create_warning_msg(\n"
     ]
    },
    {
     "name": "stdout",
     "output_type": "stream",
     "text": [
      "[Epoch Train: 4] loss: 0.6934, time: 75.00 s            \n",
      "[Epoch Valid: 4] loss: 0.6911, auc: 0.5786, time: 17.00 s\n",
      "EPOCH: 5\n"
     ]
    },
    {
     "name": "stderr",
     "output_type": "stream",
     "text": [
      "/opt/conda/lib/python3.10/site-packages/torch/utils/data/dataloader.py:561: UserWarning: This DataLoader will create 8 worker processes in total. Our suggested max number of worker in current system is 4, which is smaller than what this DataLoader is going to create. Please be aware that excessive worker creation might get DataLoader running slow or even freeze, lower the worker number to avoid potential slowness/freeze if necessary.\n",
      "  warnings.warn(_create_warning_msg(\n"
     ]
    },
    {
     "name": "stdout",
     "output_type": "stream",
     "text": [
      "[Epoch Train: 5] loss: 0.7112, time: 75.00 s            \n",
      "[Epoch Valid: 5] loss: 0.6921, auc: 0.5686, time: 17.00 s\n",
      "EPOCH: 6\n"
     ]
    },
    {
     "name": "stderr",
     "output_type": "stream",
     "text": [
      "/opt/conda/lib/python3.10/site-packages/torch/utils/data/dataloader.py:561: UserWarning: This DataLoader will create 8 worker processes in total. Our suggested max number of worker in current system is 4, which is smaller than what this DataLoader is going to create. Please be aware that excessive worker creation might get DataLoader running slow or even freeze, lower the worker number to avoid potential slowness/freeze if necessary.\n",
      "  warnings.warn(_create_warning_msg(\n"
     ]
    },
    {
     "name": "stdout",
     "output_type": "stream",
     "text": [
      "[Epoch Train: 6] loss: 0.6993, time: 76.00 s            \n",
      "[Epoch Valid: 6] loss: 0.6929, auc: 0.5726, time: 17.00 s\n",
      "EPOCH: 7\n"
     ]
    },
    {
     "name": "stderr",
     "output_type": "stream",
     "text": [
      "/opt/conda/lib/python3.10/site-packages/torch/utils/data/dataloader.py:561: UserWarning: This DataLoader will create 8 worker processes in total. Our suggested max number of worker in current system is 4, which is smaller than what this DataLoader is going to create. Please be aware that excessive worker creation might get DataLoader running slow or even freeze, lower the worker number to avoid potential slowness/freeze if necessary.\n",
      "  warnings.warn(_create_warning_msg(\n"
     ]
    },
    {
     "name": "stdout",
     "output_type": "stream",
     "text": [
      "[Epoch Train: 7] loss: 0.6975, time: 73.00 s            \n",
      "[Epoch Valid: 7] loss: 0.6987, auc: 0.5732, time: 17.00 s\n",
      "EPOCH: 8\n"
     ]
    },
    {
     "name": "stderr",
     "output_type": "stream",
     "text": [
      "/opt/conda/lib/python3.10/site-packages/torch/utils/data/dataloader.py:561: UserWarning: This DataLoader will create 8 worker processes in total. Our suggested max number of worker in current system is 4, which is smaller than what this DataLoader is going to create. Please be aware that excessive worker creation might get DataLoader running slow or even freeze, lower the worker number to avoid potential slowness/freeze if necessary.\n",
      "  warnings.warn(_create_warning_msg(\n"
     ]
    },
    {
     "name": "stdout",
     "output_type": "stream",
     "text": [
      "[Epoch Train: 8] loss: 0.6950, time: 76.00 s            \n",
      "[Epoch Valid: 8] loss: 0.6926, auc: 0.5662, time: 16.00 s\n",
      "EPOCH: 9\n"
     ]
    },
    {
     "name": "stderr",
     "output_type": "stream",
     "text": [
      "/opt/conda/lib/python3.10/site-packages/torch/utils/data/dataloader.py:561: UserWarning: This DataLoader will create 8 worker processes in total. Our suggested max number of worker in current system is 4, which is smaller than what this DataLoader is going to create. Please be aware that excessive worker creation might get DataLoader running slow or even freeze, lower the worker number to avoid potential slowness/freeze if necessary.\n",
      "  warnings.warn(_create_warning_msg(\n"
     ]
    },
    {
     "name": "stdout",
     "output_type": "stream",
     "text": [
      "[Epoch Train: 9] loss: 0.6964, time: 73.00 s            \n",
      "[Epoch Valid: 9] loss: 0.6919, auc: 0.5878, time: 16.00 s\n",
      "EPOCH: 10\n"
     ]
    },
    {
     "name": "stderr",
     "output_type": "stream",
     "text": [
      "/opt/conda/lib/python3.10/site-packages/torch/utils/data/dataloader.py:561: UserWarning: This DataLoader will create 8 worker processes in total. Our suggested max number of worker in current system is 4, which is smaller than what this DataLoader is going to create. Please be aware that excessive worker creation might get DataLoader running slow or even freeze, lower the worker number to avoid potential slowness/freeze if necessary.\n",
      "  warnings.warn(_create_warning_msg(\n"
     ]
    },
    {
     "name": "stdout",
     "output_type": "stream",
     "text": [
      "[Epoch Train: 10] loss: 0.7039, time: 75.00 s            \n",
      "[Epoch Valid: 10] loss: 0.6922, auc: 0.5706, time: 17.00 s\n",
      "EPOCH: 11\n"
     ]
    },
    {
     "name": "stderr",
     "output_type": "stream",
     "text": [
      "/opt/conda/lib/python3.10/site-packages/torch/utils/data/dataloader.py:561: UserWarning: This DataLoader will create 8 worker processes in total. Our suggested max number of worker in current system is 4, which is smaller than what this DataLoader is going to create. Please be aware that excessive worker creation might get DataLoader running slow or even freeze, lower the worker number to avoid potential slowness/freeze if necessary.\n",
      "  warnings.warn(_create_warning_msg(\n"
     ]
    },
    {
     "name": "stdout",
     "output_type": "stream",
     "text": [
      "[Epoch Train: 11] loss: 0.6920, time: 73.00 s            \n",
      "[Epoch Valid: 11] loss: 0.7112, auc: 0.4227, time: 17.00 s\n",
      "EPOCH: 12\n"
     ]
    },
    {
     "name": "stderr",
     "output_type": "stream",
     "text": [
      "/opt/conda/lib/python3.10/site-packages/torch/utils/data/dataloader.py:561: UserWarning: This DataLoader will create 8 worker processes in total. Our suggested max number of worker in current system is 4, which is smaller than what this DataLoader is going to create. Please be aware that excessive worker creation might get DataLoader running slow or even freeze, lower the worker number to avoid potential slowness/freeze if necessary.\n",
      "  warnings.warn(_create_warning_msg(\n"
     ]
    },
    {
     "name": "stdout",
     "output_type": "stream",
     "text": [
      "[Epoch Train: 12] loss: 0.6950, time: 74.00 s            \n",
      "[Epoch Valid: 12] loss: 0.6924, auc: 0.5960, time: 17.00 s\n",
      "EPOCH: 13\n"
     ]
    },
    {
     "name": "stderr",
     "output_type": "stream",
     "text": [
      "/opt/conda/lib/python3.10/site-packages/torch/utils/data/dataloader.py:561: UserWarning: This DataLoader will create 8 worker processes in total. Our suggested max number of worker in current system is 4, which is smaller than what this DataLoader is going to create. Please be aware that excessive worker creation might get DataLoader running slow or even freeze, lower the worker number to avoid potential slowness/freeze if necessary.\n",
      "  warnings.warn(_create_warning_msg(\n"
     ]
    },
    {
     "name": "stdout",
     "output_type": "stream",
     "text": [
      "[Epoch Train: 13] loss: 0.6932, time: 73.00 s            \n",
      "[Epoch Valid: 13] loss: 0.6924, auc: 0.5970, time: 16.00 s\n",
      "EPOCH: 14\n"
     ]
    },
    {
     "name": "stderr",
     "output_type": "stream",
     "text": [
      "/opt/conda/lib/python3.10/site-packages/torch/utils/data/dataloader.py:561: UserWarning: This DataLoader will create 8 worker processes in total. Our suggested max number of worker in current system is 4, which is smaller than what this DataLoader is going to create. Please be aware that excessive worker creation might get DataLoader running slow or even freeze, lower the worker number to avoid potential slowness/freeze if necessary.\n",
      "  warnings.warn(_create_warning_msg(\n"
     ]
    },
    {
     "name": "stdout",
     "output_type": "stream",
     "text": [
      "[Epoch Train: 14] loss: 0.6982, time: 75.00 s            \n",
      "[Epoch Valid: 14] loss: 0.7006, auc: 0.5907, time: 16.00 s\n",
      "EPOCH: 15\n"
     ]
    },
    {
     "name": "stderr",
     "output_type": "stream",
     "text": [
      "/opt/conda/lib/python3.10/site-packages/torch/utils/data/dataloader.py:561: UserWarning: This DataLoader will create 8 worker processes in total. Our suggested max number of worker in current system is 4, which is smaller than what this DataLoader is going to create. Please be aware that excessive worker creation might get DataLoader running slow or even freeze, lower the worker number to avoid potential slowness/freeze if necessary.\n",
      "  warnings.warn(_create_warning_msg(\n"
     ]
    },
    {
     "name": "stdout",
     "output_type": "stream",
     "text": [
      "[Epoch Train: 15] loss: 0.7072, time: 77.00 s            \n",
      "[Epoch Valid: 15] loss: 0.6928, auc: 0.6130, time: 17.00 s\n",
      "['FLAIR-best.pth', 'T1w-best.pth', 'T1wCE-best.pth', 'T2w-best.pth']\n"
     ]
    }
   ],
   "source": [
    "\n",
    "device = torch.device(\"cuda\" if torch.cuda.is_available() else \"cpu\")\n",
    "\n",
    "def train_mri_type(df_train, df_valid, mri_type):\n",
    "    if mri_type==\"all\":\n",
    "        train_list = []\n",
    "        valid_list = []\n",
    "        for mri_type in mri_types:\n",
    "            df_train.loc[:,\"MRI_Type\"] = mri_type\n",
    "            train_list.append(df_train.copy())\n",
    "            df_valid.loc[:,\"MRI_Type\"] = mri_type\n",
    "            valid_list.append(df_valid.copy())\n",
    "\n",
    "        df_train = pd.concat(train_list)\n",
    "        df_valid = pd.concat(valid_list)\n",
    "    else:\n",
    "        df_train.loc[:,\"MRI_Type\"] = mri_type\n",
    "        df_valid.loc[:,\"MRI_Type\"] = mri_type\n",
    "\n",
    "    print(df_train.shape, df_valid.shape)\n",
    "    display(df_train.head())\n",
    "    \n",
    "    train_data_retriever = Dataset(\n",
    "        df_train[\"BraTS21ID\"].values, \n",
    "        df_train[\"MGMT_value\"].values, \n",
    "        df_train[\"MRI_Type\"].values,\n",
    "        augment=True\n",
    "    )\n",
    "\n",
    "    valid_data_retriever = Dataset(\n",
    "        df_valid[\"BraTS21ID\"].values, \n",
    "        df_valid[\"MGMT_value\"].values,\n",
    "        df_valid[\"MRI_Type\"].values\n",
    "    )\n",
    "\n",
    "    train_loader = torch_data.DataLoader(\n",
    "        train_data_retriever,\n",
    "        batch_size=4,\n",
    "        shuffle=True,\n",
    "        num_workers=8,pin_memory = True\n",
    "    )\n",
    "\n",
    "    valid_loader = torch_data.DataLoader(\n",
    "        valid_data_retriever, \n",
    "        batch_size=4,\n",
    "        shuffle=False,\n",
    "        num_workers=8,pin_memory = True\n",
    "    )\n",
    "\n",
    "    model = Model(\n",
    "        image_size = 256,\n",
    "        patch_size = 32,\n",
    "        num_classes = 1,\n",
    "        dim = 1024,\n",
    "        depth = 2,\n",
    "        heads = 16,\n",
    "        mlp_dim = 2048,\n",
    "        channels = 1,\n",
    "        dropout = 0.1,\n",
    "        emb_dropout = 0.1\n",
    "    )\n",
    "    model.to(device)\n",
    "\n",
    "    optimizer = torch.optim.Adam(model.parameters(), lr=0.001)\n",
    "\n",
    "\n",
    "    criterion = torch_functional.binary_cross_entropy_with_logits\n",
    "\n",
    "    trainer = Trainer(\n",
    "        model, \n",
    "        device, \n",
    "        optimizer, \n",
    "        criterion\n",
    "    )\n",
    "\n",
    "    history = trainer.fit(\n",
    "        15, \n",
    "        train_loader, \n",
    "        valid_loader, \n",
    "        f\"{mri_type}\", \n",
    "        15,\n",
    "    )\n",
    "    \n",
    "    return trainer.lastmodel\n",
    "\n",
    "modelfiles = None\n",
    "\n",
    "if not modelfiles:\n",
    "    modelfiles = [train_mri_type(df_train, df_valid, m) for m in mri_types]\n",
    "    print(modelfiles)\n"
   ]
  },
  {
   "cell_type": "markdown",
   "id": "2c8c164e",
   "metadata": {
    "papermill": {
     "duration": 0.710263,
     "end_time": "2024-01-04T00:38:40.828631",
     "exception": false,
     "start_time": "2024-01-04T00:38:40.118368",
     "status": "completed"
    },
    "tags": []
   },
   "source": [
    "## Predict function"
   ]
  },
  {
   "cell_type": "code",
   "execution_count": 13,
   "id": "8b5e901e",
   "metadata": {
    "execution": {
     "iopub.execute_input": "2024-01-04T00:38:42.119827Z",
     "iopub.status.busy": "2024-01-04T00:38:42.118903Z",
     "iopub.status.idle": "2024-01-04T00:38:42.130759Z",
     "shell.execute_reply": "2024-01-04T00:38:42.129994Z"
    },
    "papermill": {
     "duration": 0.655481,
     "end_time": "2024-01-04T00:38:42.132700",
     "exception": false,
     "start_time": "2024-01-04T00:38:41.477219",
     "status": "completed"
    },
    "tags": []
   },
   "outputs": [],
   "source": [
    "def predict(modelfile, df, mri_type, split):\n",
    "    print(\"Predict:\", modelfile, mri_type, df.shape)\n",
    "    df.loc[:,\"MRI_Type\"] = mri_type\n",
    "    data_retriever = Dataset(\n",
    "        df.index.values, \n",
    "        mri_type=df[\"MRI_Type\"].values,\n",
    "        split=split\n",
    "    )\n",
    "\n",
    "    data_loader = torch_data.DataLoader(\n",
    "        data_retriever,\n",
    "        batch_size=4,\n",
    "        shuffle=False,\n",
    "        num_workers=8,\n",
    "    )\n",
    "   \n",
    "    model = Model(\n",
    "        image_size = 256,\n",
    "        patch_size = 32,\n",
    "        num_classes = 1,\n",
    "        dim = 1024,\n",
    "        depth = 2,\n",
    "        heads = 16,\n",
    "        mlp_dim = 2048,\n",
    "        channels = 1,\n",
    "        dropout = 0.1,\n",
    "        emb_dropout = 0.1\n",
    "    )\n",
    "    model.to(device)\n",
    "    \n",
    "    checkpoint = torch.load(modelfile)\n",
    "    model.load_state_dict(checkpoint[\"model_state_dict\"])\n",
    "    model.eval()\n",
    "    \n",
    "    y_pred = []\n",
    "    ids = []\n",
    "\n",
    "    for e, batch in enumerate(data_loader,1):\n",
    "        print(f\"{e}/{len(data_loader)}\", end=\"\\r\")\n",
    "        with torch.no_grad():\n",
    "            tmp_pred = torch.sigmoid(model(batch[\"X\"].to(device))).cpu().numpy().squeeze()\n",
    "            if tmp_pred.size == 1:\n",
    "                y_pred.append(tmp_pred)\n",
    "            else:\n",
    "                y_pred.extend(tmp_pred.tolist())\n",
    "            ids.extend(batch[\"id\"].numpy().tolist())\n",
    "            \n",
    "    preddf = pd.DataFrame({\"BraTS21ID\": ids, \"MGMT_value\": y_pred}) \n",
    "    preddf = preddf.set_index(\"BraTS21ID\")\n",
    "    return preddf"
   ]
  },
  {
   "cell_type": "code",
   "execution_count": 14,
   "id": "8758784e",
   "metadata": {
    "execution": {
     "iopub.execute_input": "2024-01-04T00:38:43.500114Z",
     "iopub.status.busy": "2024-01-04T00:38:43.499378Z",
     "iopub.status.idle": "2024-01-04T00:38:43.506543Z",
     "shell.execute_reply": "2024-01-04T00:38:43.505667Z"
    },
    "papermill": {
     "duration": 0.661047,
     "end_time": "2024-01-04T00:38:43.508471",
     "exception": false,
     "start_time": "2024-01-04T00:38:42.847424",
     "status": "completed"
    },
    "tags": []
   },
   "outputs": [
    {
     "data": {
      "text/html": [
       "<a href='FLAIR-best.pth' target='_blank'>FLAIR-best.pth</a><br>"
      ],
      "text/plain": [
       "/kaggle/working/FLAIR-best.pth"
      ]
     },
     "execution_count": 14,
     "metadata": {},
     "output_type": "execute_result"
    }
   ],
   "source": [
    "from IPython.display import FileLink\n",
    "FileLink(r'T1w-best.pth')\n",
    "FileLink(r'T2w-best.pth')\n",
    "FileLink(r'T1wCE-best.pth')\n",
    "FileLink(r'FLAIR-best.pth')"
   ]
  },
  {
   "cell_type": "markdown",
   "id": "6984cd92",
   "metadata": {
    "papermill": {
     "duration": 0.648642,
     "end_time": "2024-01-04T00:38:44.812268",
     "exception": false,
     "start_time": "2024-01-04T00:38:44.163626",
     "status": "completed"
    },
    "tags": []
   },
   "source": [
    "## Ensemble for validation"
   ]
  },
  {
   "cell_type": "code",
   "execution_count": 15,
   "id": "3e4b23de",
   "metadata": {
    "execution": {
     "iopub.execute_input": "2024-01-04T00:38:46.203035Z",
     "iopub.status.busy": "2024-01-04T00:38:46.202083Z",
     "iopub.status.idle": "2024-01-04T00:45:14.059425Z",
     "shell.execute_reply": "2024-01-04T00:45:14.058065Z"
    },
    "papermill": {
     "duration": 388.522143,
     "end_time": "2024-01-04T00:45:14.062947",
     "exception": false,
     "start_time": "2024-01-04T00:38:45.540804",
     "status": "completed"
    },
    "tags": []
   },
   "outputs": [
    {
     "name": "stdout",
     "output_type": "stream",
     "text": [
      "Predict: /kaggle/input/vit-epocs-15/T1wCE-best.pth T1wCE (468, 7)\n"
     ]
    },
    {
     "name": "stderr",
     "output_type": "stream",
     "text": [
      "/opt/conda/lib/python3.10/site-packages/torch/utils/data/dataloader.py:561: UserWarning: This DataLoader will create 8 worker processes in total. Our suggested max number of worker in current system is 4, which is smaller than what this DataLoader is going to create. Please be aware that excessive worker creation might get DataLoader running slow or even freeze, lower the worker number to avoid potential slowness/freeze if necessary.\n",
      "  warnings.warn(_create_warning_msg(\n"
     ]
    },
    {
     "name": "stdout",
     "output_type": "stream",
     "text": [
      "Predict: /kaggle/input/vit-epocs-15/T2w-best.pth T2w (468, 7)\n",
      "Predict: /kaggle/input/vit-epocs-15/FLAIR-best.pth FLAIR (468, 7)\n",
      "Predict: /kaggle/input/vit-epocs-15/T1w-best.pth T1w (468, 7)\n",
      "117/117\r"
     ]
    },
    {
     "data": {
      "text/html": [
       "<div>\n",
       "<style scoped>\n",
       "    .dataframe tbody tr th:only-of-type {\n",
       "        vertical-align: middle;\n",
       "    }\n",
       "\n",
       "    .dataframe tbody tr th {\n",
       "        vertical-align: top;\n",
       "    }\n",
       "\n",
       "    .dataframe thead th {\n",
       "        text-align: right;\n",
       "    }\n",
       "</style>\n",
       "<table border=\"1\" class=\"dataframe\">\n",
       "  <thead>\n",
       "    <tr style=\"text-align: right;\">\n",
       "      <th></th>\n",
       "      <th>MGMT_value</th>\n",
       "      <th>MRI_Type</th>\n",
       "      <th>FLAIR</th>\n",
       "      <th>T1w</th>\n",
       "      <th>T1wCE</th>\n",
       "      <th>T2w</th>\n",
       "      <th>MGMT_pred</th>\n",
       "    </tr>\n",
       "    <tr>\n",
       "      <th>BraTS21ID</th>\n",
       "      <th></th>\n",
       "      <th></th>\n",
       "      <th></th>\n",
       "      <th></th>\n",
       "      <th></th>\n",
       "      <th></th>\n",
       "      <th></th>\n",
       "    </tr>\n",
       "  </thead>\n",
       "  <tbody>\n",
       "    <tr>\n",
       "      <th>645</th>\n",
       "      <td>0</td>\n",
       "      <td>T1w</td>\n",
       "      <td>0.513984</td>\n",
       "      <td>0.517244</td>\n",
       "      <td>0.518541</td>\n",
       "      <td>0.507177</td>\n",
       "      <td>0</td>\n",
       "    </tr>\n",
       "    <tr>\n",
       "      <th>777</th>\n",
       "      <td>1</td>\n",
       "      <td>T1w</td>\n",
       "      <td>0.509904</td>\n",
       "      <td>0.516882</td>\n",
       "      <td>0.522056</td>\n",
       "      <td>0.507054</td>\n",
       "      <td>0</td>\n",
       "    </tr>\n",
       "    <tr>\n",
       "      <th>607</th>\n",
       "      <td>1</td>\n",
       "      <td>T1w</td>\n",
       "      <td>0.508506</td>\n",
       "      <td>0.514823</td>\n",
       "      <td>0.518395</td>\n",
       "      <td>0.507094</td>\n",
       "      <td>0</td>\n",
       "    </tr>\n",
       "    <tr>\n",
       "      <th>589</th>\n",
       "      <td>0</td>\n",
       "      <td>T1w</td>\n",
       "      <td>0.484034</td>\n",
       "      <td>0.499213</td>\n",
       "      <td>0.447417</td>\n",
       "      <td>0.485581</td>\n",
       "      <td>0</td>\n",
       "    </tr>\n",
       "    <tr>\n",
       "      <th>690</th>\n",
       "      <td>1</td>\n",
       "      <td>T1w</td>\n",
       "      <td>0.513696</td>\n",
       "      <td>0.518201</td>\n",
       "      <td>0.522413</td>\n",
       "      <td>0.507059</td>\n",
       "      <td>0</td>\n",
       "    </tr>\n",
       "    <tr>\n",
       "      <th>...</th>\n",
       "      <td>...</td>\n",
       "      <td>...</td>\n",
       "      <td>...</td>\n",
       "      <td>...</td>\n",
       "      <td>...</td>\n",
       "      <td>...</td>\n",
       "      <td>...</td>\n",
       "    </tr>\n",
       "    <tr>\n",
       "      <th>157</th>\n",
       "      <td>0</td>\n",
       "      <td>T1w</td>\n",
       "      <td>0.513767</td>\n",
       "      <td>0.503505</td>\n",
       "      <td>0.474066</td>\n",
       "      <td>0.489073</td>\n",
       "      <td>0</td>\n",
       "    </tr>\n",
       "    <tr>\n",
       "      <th>322</th>\n",
       "      <td>1</td>\n",
       "      <td>T1w</td>\n",
       "      <td>0.487679</td>\n",
       "      <td>0.500835</td>\n",
       "      <td>0.484243</td>\n",
       "      <td>0.489287</td>\n",
       "      <td>0</td>\n",
       "    </tr>\n",
       "    <tr>\n",
       "      <th>170</th>\n",
       "      <td>0</td>\n",
       "      <td>T1w</td>\n",
       "      <td>0.512727</td>\n",
       "      <td>0.500103</td>\n",
       "      <td>0.466686</td>\n",
       "      <td>0.487031</td>\n",
       "      <td>0</td>\n",
       "    </tr>\n",
       "    <tr>\n",
       "      <th>324</th>\n",
       "      <td>0</td>\n",
       "      <td>T1w</td>\n",
       "      <td>0.486636</td>\n",
       "      <td>0.498377</td>\n",
       "      <td>0.471784</td>\n",
       "      <td>0.489801</td>\n",
       "      <td>0</td>\n",
       "    </tr>\n",
       "    <tr>\n",
       "      <th>123</th>\n",
       "      <td>0</td>\n",
       "      <td>T1w</td>\n",
       "      <td>0.484685</td>\n",
       "      <td>0.501296</td>\n",
       "      <td>0.446928</td>\n",
       "      <td>0.484997</td>\n",
       "      <td>0</td>\n",
       "    </tr>\n",
       "  </tbody>\n",
       "</table>\n",
       "<p>468 rows × 7 columns</p>\n",
       "</div>"
      ],
      "text/plain": [
       "           MGMT_value MRI_Type     FLAIR       T1w     T1wCE       T2w  \\\n",
       "BraTS21ID                                                                \n",
       "645                 0      T1w  0.513984  0.517244  0.518541  0.507177   \n",
       "777                 1      T1w  0.509904  0.516882  0.522056  0.507054   \n",
       "607                 1      T1w  0.508506  0.514823  0.518395  0.507094   \n",
       "589                 0      T1w  0.484034  0.499213  0.447417  0.485581   \n",
       "690                 1      T1w  0.513696  0.518201  0.522413  0.507059   \n",
       "...               ...      ...       ...       ...       ...       ...   \n",
       "157                 0      T1w  0.513767  0.503505  0.474066  0.489073   \n",
       "322                 1      T1w  0.487679  0.500835  0.484243  0.489287   \n",
       "170                 0      T1w  0.512727  0.500103  0.466686  0.487031   \n",
       "324                 0      T1w  0.486636  0.498377  0.471784  0.489801   \n",
       "123                 0      T1w  0.484685  0.501296  0.446928  0.484997   \n",
       "\n",
       "           MGMT_pred  \n",
       "BraTS21ID             \n",
       "645                0  \n",
       "777                0  \n",
       "607                0  \n",
       "589                0  \n",
       "690                0  \n",
       "...              ...  \n",
       "157                0  \n",
       "322                0  \n",
       "170                0  \n",
       "324                0  \n",
       "123                0  \n",
       "\n",
       "[468 rows x 7 columns]"
      ]
     },
     "execution_count": 15,
     "metadata": {},
     "output_type": "execute_result"
    }
   ],
   "source": [
    "import xgboost as xgb\n",
    "df_train = df_train.set_index(\"BraTS21ID\")\n",
    "\n",
    "\n",
    "df_train[\"FLAIR\"] = 0\n",
    "df_train[\"T1w\"] = 0\n",
    "df_train[\"T1wCE\"] = 0\n",
    "df_train[\"T2w\"] = 0\n",
    "df_train[\"MGMT_pred\"] = 0\n",
    "\n",
    "modelfiles = [\"/kaggle/input/vit-epocs-15/T1wCE-best.pth\",\"/kaggle/input/vit-epocs-15/T2w-best.pth\",\"/kaggle/input/vit-epocs-15/FLAIR-best.pth\",\"/kaggle/input/vit-epocs-15/T1w-best.pth\"]\n",
    "mri_types = [\"T1wCE\",\"T2w\",\"FLAIR\",\"T1w\"]\n",
    "\n",
    "for m, mtype in zip(modelfiles,  mri_types):\n",
    "    pred = predict(m, df_train, mtype, \"train\")\n",
    "    df_train[mtype] = pred[\"MGMT_value\"]\n",
    "df_train\n",
    "\n",
    "\n"
   ]
  },
  {
   "cell_type": "code",
   "execution_count": 16,
   "id": "b8b89ffa",
   "metadata": {
    "execution": {
     "iopub.execute_input": "2024-01-04T00:45:15.451203Z",
     "iopub.status.busy": "2024-01-04T00:45:15.450236Z",
     "iopub.status.idle": "2024-01-04T00:45:15.777902Z",
     "shell.execute_reply": "2024-01-04T00:45:15.776973Z"
    },
    "papermill": {
     "duration": 1.025958,
     "end_time": "2024-01-04T00:45:15.780941",
     "exception": false,
     "start_time": "2024-01-04T00:45:14.754983",
     "status": "completed"
    },
    "tags": []
   },
   "outputs": [
    {
     "name": "stdout",
     "output_type": "stream",
     "text": [
      "Ensemble Accuracy: [0.52255049 0.52255049 0.52255049 0.48057225 0.52255049 0.56823487\n",
      " 0.52255049 0.48057225 0.52255049 0.52255049 0.52255049 0.52255049\n",
      " 0.52489266 0.48057225 0.56823487 0.52255049 0.48057225 0.48057225\n",
      " 0.52255049 0.52255049 0.56823487 0.48057225 0.52255049 0.52255049\n",
      " 0.48057225 0.48057225 0.52255049 0.56823487 0.52255049 0.52255049\n",
      " 0.48057225 0.52255049 0.48057225 0.56823487 0.52255049 0.48057225\n",
      " 0.48057225 0.52255049 0.52489266 0.4593421  0.52255049 0.52255049\n",
      " 0.52255049 0.4593421  0.48057225 0.48057225 0.52489266 0.52255049\n",
      " 0.52255049 0.52255049 0.52255049 0.52255049 0.52255049 0.48057225\n",
      " 0.48057225 0.52255049 0.52255049 0.48057225 0.48057225 0.56823487\n",
      " 0.52255049 0.52255049 0.52255049 0.52255049 0.52255049 0.56823487\n",
      " 0.52255049 0.48057225 0.48057225 0.48057225 0.52255049 0.48057225\n",
      " 0.52255049 0.52255049 0.48057225 0.52255049 0.48057225 0.48057225\n",
      " 0.48057225 0.56823487 0.48057225 0.52255049 0.52489266 0.52255049\n",
      " 0.48057225 0.56823487 0.52489266 0.52255049 0.52255049 0.48057225\n",
      " 0.48057225 0.52255049 0.52489266 0.48057225 0.48057225 0.48057225\n",
      " 0.48057225 0.48057225 0.48057225 0.52255049 0.52255049 0.48057225\n",
      " 0.52255049 0.4593421  0.52255049 0.52255049 0.52255049 0.48057225\n",
      " 0.52255049 0.52255049 0.48057225 0.52255049 0.48057225 0.48057225\n",
      " 0.48057225 0.48057225 0.52489266 0.52255049 0.52255049 0.52255049\n",
      " 0.52255049 0.48057225 0.48057225 0.48057225 0.48057225 0.48057225\n",
      " 0.52255049 0.52255049 0.52255049 0.48057225 0.52489266 0.56823487\n",
      " 0.48057225 0.48057225 0.48057225 0.48057225 0.52255049 0.48057225\n",
      " 0.48057225 0.48057225 0.56823487 0.56823487 0.52255049 0.48057225\n",
      " 0.52255049 0.56823487 0.52255049 0.52255049 0.56823487 0.48057225\n",
      " 0.48057225 0.48057225 0.52255049 0.52255049 0.52489266 0.52255049\n",
      " 0.48057225 0.52255049 0.52255049 0.48057225 0.48057225 0.52255049\n",
      " 0.52255049 0.48057225 0.48057225 0.48057225 0.48057225 0.52255049\n",
      " 0.48057225 0.52255049 0.48057225 0.48057225 0.52489266 0.48057225\n",
      " 0.48057225 0.48057225 0.52255049 0.52255049 0.56823487 0.52489266\n",
      " 0.52255049 0.52255049 0.48057225 0.52255049 0.48057225 0.56823487\n",
      " 0.52255049 0.48057225 0.56823487 0.56823487 0.48057225 0.48057225\n",
      " 0.52255049 0.52489266 0.52255049 0.48057225 0.48057225 0.52489266\n",
      " 0.52255049 0.48057225 0.48057225 0.56823487 0.52255049 0.52255049\n",
      " 0.52255049 0.52255049 0.4593421  0.52255049 0.4593421  0.48057225\n",
      " 0.48057225 0.52255049 0.56823487 0.52255049 0.52255049 0.52255049\n",
      " 0.56823487 0.52255049 0.52255049 0.52489266 0.52489266 0.52255049\n",
      " 0.48057225 0.52255049 0.48057225 0.48057225 0.52255049 0.48057225\n",
      " 0.52255049 0.52255049 0.52255049 0.48057225 0.52255049 0.52255049\n",
      " 0.48057225 0.52255049 0.48057225 0.48057225 0.48057225 0.48057225\n",
      " 0.4593421  0.56823487 0.52489266 0.48057225 0.48057225 0.48057225\n",
      " 0.48057225 0.52255049 0.48057225 0.52255049 0.52255049 0.48057225\n",
      " 0.48057225 0.52255049 0.52255049 0.48057225 0.52255049 0.48057225\n",
      " 0.4593421  0.52255049 0.48057225 0.52255049 0.48057225 0.4593421\n",
      " 0.52255049 0.52255049 0.48057225 0.52255049 0.56823487 0.52255049\n",
      " 0.52255049 0.48057225 0.52255049 0.48057225 0.4593421  0.52255049\n",
      " 0.52489266 0.48057225 0.48057225 0.52255049 0.52255049 0.52255049\n",
      " 0.52255049 0.48057225 0.4593421  0.56823487 0.48057225 0.48057225\n",
      " 0.56823487 0.52255049 0.48057225 0.52255049 0.52255049 0.52255049\n",
      " 0.52255049 0.48057225 0.48057225 0.48057225 0.52255049 0.52255049\n",
      " 0.52255049 0.48057225 0.52255049 0.52489266 0.52255049 0.56823487\n",
      " 0.48057225 0.52255049 0.52489266 0.52255049 0.52255049 0.52255049\n",
      " 0.52255049 0.48057225 0.48057225 0.48057225 0.48057225 0.52255049\n",
      " 0.48057225 0.48057225 0.52489266 0.52255049 0.48057225 0.52255049\n",
      " 0.48057225 0.52255049 0.48057225 0.48057225 0.52489266 0.56823487\n",
      " 0.48057225 0.52255049 0.48057225 0.52489266 0.52255049 0.52255049\n",
      " 0.52255049 0.48057225 0.52255049 0.48057225 0.48057225 0.52255049\n",
      " 0.52255049 0.48057225 0.48057225 0.48057225 0.48057225 0.48057225\n",
      " 0.52255049 0.52255049 0.4593421  0.52255049 0.4593421  0.48057225\n",
      " 0.52489266 0.52255049 0.52255049 0.48057225 0.48057225 0.52255049\n",
      " 0.48057225 0.4593421  0.52255049 0.52255049 0.52255049 0.48057225\n",
      " 0.52255049 0.48057225 0.52255049 0.52255049 0.48057225 0.52489266\n",
      " 0.48057225 0.52255049 0.48057225 0.52255049 0.52255049 0.48057225\n",
      " 0.52255049 0.52255049 0.4593421  0.52255049 0.48057225 0.48057225\n",
      " 0.48057225 0.48057225 0.56823487 0.52255049 0.52255049 0.48057225\n",
      " 0.52255049 0.52255049 0.52255049 0.52255049 0.52255049 0.52489266\n",
      " 0.48057225 0.48057225 0.48057225 0.4593421  0.52489266 0.48057225\n",
      " 0.52255049 0.52255049 0.52255049 0.52255049 0.52255049 0.56823487\n",
      " 0.48057225 0.52255049 0.48057225 0.52255049 0.48057225 0.52489266\n",
      " 0.52255049 0.48057225 0.52255049 0.48057225 0.52255049 0.4593421\n",
      " 0.52255049 0.4593421  0.48057225 0.56823487 0.56823487 0.48057225\n",
      " 0.48057225 0.52255049 0.52255049 0.52255049 0.48057225 0.52255049\n",
      " 0.52255049 0.52255049 0.52255049 0.48057225 0.48057225 0.48057225\n",
      " 0.52255049 0.52255049 0.48057225 0.56823487 0.48057225 0.48057225\n",
      " 0.52255049 0.48057225 0.52255049 0.52255049 0.52255049 0.48057225\n",
      " 0.48057225 0.52255049 0.52255049 0.48057225 0.52255049 0.52489266\n",
      " 0.48057225 0.52255049 0.48057225 0.52255049 0.48057225 0.48057225\n",
      " 0.52255049 0.48057225 0.48057225 0.48057225 0.48057225 0.48057225]\n"
     ]
    },
    {
     "name": "stderr",
     "output_type": "stream",
     "text": [
      "/opt/conda/lib/python3.10/site-packages/sklearn/ensemble/_base.py:166: FutureWarning: `base_estimator` was renamed to `estimator` in version 1.2 and will be removed in 1.4.\n",
      "  warnings.warn(\n"
     ]
    }
   ],
   "source": [
    "from sklearn.ensemble import AdaBoostClassifier\n",
    "from sklearn.tree import DecisionTreeClassifier\n",
    "from sklearn.metrics import accuracy_score\n",
    "\n",
    "\n",
    "base_learner = DecisionTreeClassifier(max_depth=1)\n",
    "\n",
    "\n",
    "boosted_model = AdaBoostClassifier(base_estimator=base_learner, n_estimators=4)\n",
    "\n",
    "\n",
    "boosted_model.fit(df_train[mri_types], df_train[\"MGMT_value\"])\n",
    "\n",
    "ensemble_predictions = boosted_model.predict_proba(df_train[mri_types])[:,1]\n",
    "\n",
    "\n",
    "\n",
    "print(f'Ensemble Accuracy: {ensemble_predictions}')"
   ]
  },
  {
   "cell_type": "code",
   "execution_count": 17,
   "id": "605797e6",
   "metadata": {
    "execution": {
     "iopub.execute_input": "2024-01-04T00:45:17.198450Z",
     "iopub.status.busy": "2024-01-04T00:45:17.197707Z",
     "iopub.status.idle": "2024-01-04T00:48:31.973421Z",
     "shell.execute_reply": "2024-01-04T00:48:31.972232Z"
    },
    "papermill": {
     "duration": 195.454517,
     "end_time": "2024-01-04T00:48:31.976623",
     "exception": false,
     "start_time": "2024-01-04T00:45:16.522106",
     "status": "completed"
    },
    "tags": []
   },
   "outputs": [
    {
     "name": "stdout",
     "output_type": "stream",
     "text": [
      "Predict: /kaggle/input/vit-epocs-15/T1wCE-best.pth T1wCE (117, 7)\n"
     ]
    },
    {
     "name": "stderr",
     "output_type": "stream",
     "text": [
      "/opt/conda/lib/python3.10/site-packages/torch/utils/data/dataloader.py:561: UserWarning: This DataLoader will create 8 worker processes in total. Our suggested max number of worker in current system is 4, which is smaller than what this DataLoader is going to create. Please be aware that excessive worker creation might get DataLoader running slow or even freeze, lower the worker number to avoid potential slowness/freeze if necessary.\n",
      "  warnings.warn(_create_warning_msg(\n"
     ]
    },
    {
     "name": "stdout",
     "output_type": "stream",
     "text": [
      "Predict: /kaggle/input/vit-epocs-15/T2w-best.pth T2w (117, 7)\n",
      "Predict: /kaggle/input/vit-epocs-15/FLAIR-best.pth FLAIR (117, 7)\n",
      "Predict: /kaggle/input/vit-epocs-15/T1w-best.pth T1w (117, 7)\n",
      "Validation ensemble AUC: 0.5613\n"
     ]
    },
    {
     "name": "stderr",
     "output_type": "stream",
     "text": [
      "/opt/conda/lib/python3.10/site-packages/seaborn/_oldcore.py:1119: FutureWarning: use_inf_as_na option is deprecated and will be removed in a future version. Convert inf values to NaN before operating instead.\n",
      "  with pd.option_context('mode.use_inf_as_na', True):\n"
     ]
    },
    {
     "data": {
      "text/plain": [
       "<seaborn.axisgrid.FacetGrid at 0x7f7db5f71cf0>"
      ]
     },
     "execution_count": 17,
     "metadata": {},
     "output_type": "execute_result"
    },
    {
     "data": {
      "image/png": "[encoded data removed]",
      "text/plain": [
       "<Figure size 500x500 with 1 Axes>"
      ]
     },
     "metadata": {},
     "output_type": "display_data"
    }
   ],
   "source": [
    "df_valid = df_valid.set_index(\"BraTS21ID\")\n",
    "df_valid[\"FLAIR\"] = 0\n",
    "df_valid[\"T1w\"] = 0\n",
    "df_valid[\"T1wCE\"] = 0\n",
    "df_valid[\"T2w\"] = 0\n",
    "df_valid[\"MGMT_pred\"] = 0\n",
    "\n",
    "for m, mtype in zip(modelfiles,  mri_types):\n",
    "    pred = predict(m, df_valid, mtype, \"train\")\n",
    "    df_valid[mtype] = pred[\"MGMT_value\"]\n",
    "df_valid[\"MGMT_pred\"] = boosted_model.predict_proba(df_valid[mri_types])[:,1]\n",
    "auc = roc_auc_score(df_valid[\"MGMT_value\"], df_valid[\"MGMT_pred\"])\n",
    "print(f\"Validation ensemble AUC: {auc:.4f}\")\n",
    "sns.displot(df_valid[\"MGMT_pred\"])"
   ]
  },
  {
   "cell_type": "markdown",
   "id": "1fc5fc41",
   "metadata": {
    "papermill": {
     "duration": 0.767266,
     "end_time": "2024-01-04T00:48:33.420377",
     "exception": false,
     "start_time": "2024-01-04T00:48:32.653111",
     "status": "completed"
    },
    "tags": []
   },
   "source": [
    "## Ensemble for submission"
   ]
  },
  {
   "cell_type": "code",
   "execution_count": 18,
   "id": "ff531e23",
   "metadata": {
    "execution": {
     "iopub.execute_input": "2024-01-04T00:48:34.783996Z",
     "iopub.status.busy": "2024-01-04T00:48:34.783629Z",
     "iopub.status.idle": "2024-01-04T00:51:37.427807Z",
     "shell.execute_reply": "2024-01-04T00:51:37.426861Z"
    },
    "papermill": {
     "duration": 183.327905,
     "end_time": "2024-01-04T00:51:37.430322",
     "exception": false,
     "start_time": "2024-01-04T00:48:34.102417",
     "status": "completed"
    },
    "tags": []
   },
   "outputs": [
    {
     "name": "stdout",
     "output_type": "stream",
     "text": [
      "Predict: /kaggle/input/vit-epocs-15/T1wCE-best.pth T1wCE (87, 5)\n"
     ]
    },
    {
     "name": "stderr",
     "output_type": "stream",
     "text": [
      "/opt/conda/lib/python3.10/site-packages/torch/utils/data/dataloader.py:561: UserWarning: This DataLoader will create 8 worker processes in total. Our suggested max number of worker in current system is 4, which is smaller than what this DataLoader is going to create. Please be aware that excessive worker creation might get DataLoader running slow or even freeze, lower the worker number to avoid potential slowness/freeze if necessary.\n",
      "  warnings.warn(_create_warning_msg(\n"
     ]
    },
    {
     "name": "stdout",
     "output_type": "stream",
     "text": [
      "Predict: /kaggle/input/vit-epocs-15/T2w-best.pth T2w (87, 6)\n",
      "Predict: /kaggle/input/vit-epocs-15/FLAIR-best.pth FLAIR (87, 6)\n",
      "Predict: /kaggle/input/vit-epocs-15/T1w-best.pth T1w (87, 6)\n",
      "22/22\r"
     ]
    }
   ],
   "source": [
    "submission = pd.read_csv(f\"{data_directory}/sample_submission.csv\", index_col=\"BraTS21ID\")\n",
    "submission[\"FLAIR\"] = 0\n",
    "submission[\"T1w\"] = 0\n",
    "submission[\"T1wCE\"] = 0\n",
    "submission[\"T2w\"] = 0\n",
    "\n",
    "submission[\"MGMT_value\"] = 0\n",
    "for m, mtype in zip(modelfiles, mri_types):\n",
    "    pred = predict(m, submission, mtype, split=\"test\")\n",
    "    submission[mtype] = pred[\"MGMT_value\"]\n",
    "submission[\"MGMT_value\"] = boosted_model.predict_proba(submission[mri_types])[:,1]\n",
    "\n",
    "submission[\"MGMT_value\"].to_csv(\"submission.csv\")"
   ]
  },
  {
   "cell_type": "code",
   "execution_count": null,
   "id": "3b622dba",
   "metadata": {
    "papermill": {
     "duration": 0.749738,
     "end_time": "2024-01-04T00:51:38.862781",
     "exception": false,
     "start_time": "2024-01-04T00:51:38.113043",
     "status": "completed"
    },
    "tags": []
   },
   "outputs": [],
   "source": []
  },
  {
   "cell_type": "code",
   "execution_count": 19,
   "id": "74a9d131",
   "metadata": {
    "execution": {
     "iopub.execute_input": "2024-01-04T00:51:40.284328Z",
     "iopub.status.busy": "2024-01-04T00:51:40.283516Z",
     "iopub.status.idle": "2024-01-04T00:51:40.302662Z",
     "shell.execute_reply": "2024-01-04T00:51:40.301679Z"
    },
    "papermill": {
     "duration": 0.714051,
     "end_time": "2024-01-04T00:51:40.304695",
     "exception": false,
     "start_time": "2024-01-04T00:51:39.590644",
     "status": "completed"
    },
    "tags": []
   },
   "outputs": [
    {
     "data": {
      "text/html": [
       "<div>\n",
       "<style scoped>\n",
       "    .dataframe tbody tr th:only-of-type {\n",
       "        vertical-align: middle;\n",
       "    }\n",
       "\n",
       "    .dataframe tbody tr th {\n",
       "        vertical-align: top;\n",
       "    }\n",
       "\n",
       "    .dataframe thead th {\n",
       "        text-align: right;\n",
       "    }\n",
       "</style>\n",
       "<table border=\"1\" class=\"dataframe\">\n",
       "  <thead>\n",
       "    <tr style=\"text-align: right;\">\n",
       "      <th></th>\n",
       "      <th>MGMT_value</th>\n",
       "      <th>FLAIR</th>\n",
       "      <th>T1w</th>\n",
       "      <th>T1wCE</th>\n",
       "      <th>T2w</th>\n",
       "      <th>MRI_Type</th>\n",
       "    </tr>\n",
       "    <tr>\n",
       "      <th>BraTS21ID</th>\n",
       "      <th></th>\n",
       "      <th></th>\n",
       "      <th></th>\n",
       "      <th></th>\n",
       "      <th></th>\n",
       "      <th></th>\n",
       "    </tr>\n",
       "  </thead>\n",
       "  <tbody>\n",
       "    <tr>\n",
       "      <th>1</th>\n",
       "      <td>0.480572</td>\n",
       "      <td>0.511039</td>\n",
       "      <td>0.507638</td>\n",
       "      <td>0.518801</td>\n",
       "      <td>0.506880</td>\n",
       "      <td>T1w</td>\n",
       "    </tr>\n",
       "    <tr>\n",
       "      <th>13</th>\n",
       "      <td>0.522550</td>\n",
       "      <td>0.514016</td>\n",
       "      <td>0.516039</td>\n",
       "      <td>0.518801</td>\n",
       "      <td>0.507159</td>\n",
       "      <td>T1w</td>\n",
       "    </tr>\n",
       "    <tr>\n",
       "      <th>15</th>\n",
       "      <td>0.522550</td>\n",
       "      <td>0.513839</td>\n",
       "      <td>0.518631</td>\n",
       "      <td>0.518025</td>\n",
       "      <td>0.507046</td>\n",
       "      <td>T1w</td>\n",
       "    </tr>\n",
       "    <tr>\n",
       "      <th>27</th>\n",
       "      <td>0.568235</td>\n",
       "      <td>0.511589</td>\n",
       "      <td>0.519966</td>\n",
       "      <td>0.521178</td>\n",
       "      <td>0.506979</td>\n",
       "      <td>T1w</td>\n",
       "    </tr>\n",
       "    <tr>\n",
       "      <th>37</th>\n",
       "      <td>0.522550</td>\n",
       "      <td>0.512096</td>\n",
       "      <td>0.519107</td>\n",
       "      <td>0.501645</td>\n",
       "      <td>0.507073</td>\n",
       "      <td>T1w</td>\n",
       "    </tr>\n",
       "    <tr>\n",
       "      <th>...</th>\n",
       "      <td>...</td>\n",
       "      <td>...</td>\n",
       "      <td>...</td>\n",
       "      <td>...</td>\n",
       "      <td>...</td>\n",
       "      <td>...</td>\n",
       "    </tr>\n",
       "    <tr>\n",
       "      <th>826</th>\n",
       "      <td>0.480572</td>\n",
       "      <td>0.489216</td>\n",
       "      <td>0.499787</td>\n",
       "      <td>0.464380</td>\n",
       "      <td>0.502250</td>\n",
       "      <td>T1w</td>\n",
       "    </tr>\n",
       "    <tr>\n",
       "      <th>829</th>\n",
       "      <td>0.480572</td>\n",
       "      <td>0.511188</td>\n",
       "      <td>0.500790</td>\n",
       "      <td>0.508221</td>\n",
       "      <td>0.506918</td>\n",
       "      <td>T1w</td>\n",
       "    </tr>\n",
       "    <tr>\n",
       "      <th>833</th>\n",
       "      <td>0.480572</td>\n",
       "      <td>0.487473</td>\n",
       "      <td>0.498842</td>\n",
       "      <td>0.471598</td>\n",
       "      <td>0.498738</td>\n",
       "      <td>T1w</td>\n",
       "    </tr>\n",
       "    <tr>\n",
       "      <th>997</th>\n",
       "      <td>0.522550</td>\n",
       "      <td>0.498478</td>\n",
       "      <td>0.517631</td>\n",
       "      <td>0.512273</td>\n",
       "      <td>0.502100</td>\n",
       "      <td>T1w</td>\n",
       "    </tr>\n",
       "    <tr>\n",
       "      <th>1006</th>\n",
       "      <td>0.522550</td>\n",
       "      <td>0.513922</td>\n",
       "      <td>0.517368</td>\n",
       "      <td>0.522389</td>\n",
       "      <td>0.506803</td>\n",
       "      <td>T1w</td>\n",
       "    </tr>\n",
       "  </tbody>\n",
       "</table>\n",
       "<p>87 rows × 6 columns</p>\n",
       "</div>"
      ],
      "text/plain": [
       "           MGMT_value     FLAIR       T1w     T1wCE       T2w MRI_Type\n",
       "BraTS21ID                                                             \n",
       "1            0.480572  0.511039  0.507638  0.518801  0.506880      T1w\n",
       "13           0.522550  0.514016  0.516039  0.518801  0.507159      T1w\n",
       "15           0.522550  0.513839  0.518631  0.518025  0.507046      T1w\n",
       "27           0.568235  0.511589  0.519966  0.521178  0.506979      T1w\n",
       "37           0.522550  0.512096  0.519107  0.501645  0.507073      T1w\n",
       "...               ...       ...       ...       ...       ...      ...\n",
       "826          0.480572  0.489216  0.499787  0.464380  0.502250      T1w\n",
       "829          0.480572  0.511188  0.500790  0.508221  0.506918      T1w\n",
       "833          0.480572  0.487473  0.498842  0.471598  0.498738      T1w\n",
       "997          0.522550  0.498478  0.517631  0.512273  0.502100      T1w\n",
       "1006         0.522550  0.513922  0.517368  0.522389  0.506803      T1w\n",
       "\n",
       "[87 rows x 6 columns]"
      ]
     },
     "execution_count": 19,
     "metadata": {},
     "output_type": "execute_result"
    }
   ],
   "source": [
    "submission"
   ]
  },
  {
   "cell_type": "code",
   "execution_count": 20,
   "id": "5712fbdb",
   "metadata": {
    "execution": {
     "iopub.execute_input": "2024-01-04T00:51:41.734044Z",
     "iopub.status.busy": "2024-01-04T00:51:41.733142Z",
     "iopub.status.idle": "2024-01-04T00:51:42.140180Z",
     "shell.execute_reply": "2024-01-04T00:51:42.139298Z"
    },
    "papermill": {
     "duration": 1.090044,
     "end_time": "2024-01-04T00:51:42.142193",
     "exception": false,
     "start_time": "2024-01-04T00:51:41.052149",
     "status": "completed"
    },
    "tags": []
   },
   "outputs": [
    {
     "name": "stderr",
     "output_type": "stream",
     "text": [
      "/opt/conda/lib/python3.10/site-packages/seaborn/_oldcore.py:1119: FutureWarning: use_inf_as_na option is deprecated and will be removed in a future version. Convert inf values to NaN before operating instead.\n",
      "  with pd.option_context('mode.use_inf_as_na', True):\n"
     ]
    },
    {
     "data": {
      "text/plain": [
       "<seaborn.axisgrid.FacetGrid at 0x7f7e88b06e90>"
      ]
     },
     "execution_count": 20,
     "metadata": {},
     "output_type": "execute_result"
    },
    {
     "data": {
      "image/png": "[encoded data removed]",
      "text/plain": [
       "<Figure size 500x500 with 1 Axes>"
      ]
     },
     "metadata": {},
     "output_type": "display_data"
    }
   ],
   "source": [
    "sns.displot(submission[\"MGMT_value\"])"
   ]
  }
 ],
 "metadata": {
  "kaggle": {
   "accelerator": "nvidiaTeslaT4",
   "dataSources": [
    {
     "databundleVersionId": 2420395,
     "sourceId": 29653,
     "sourceType": "competition"
    },
    {
     "datasetId": 1046169,
     "sourceId": 1760030,
     "sourceType": "datasetVersion"
    },
    {
     "datasetId": 1466252,
     "sourceId": 2423144,
     "sourceType": "datasetVersion"
    },
    {
     "datasetId": 4257026,
     "sourceId": 7333124,
     "sourceType": "datasetVersion"
    }
   ],
   "dockerImageVersionId": 30627,
   "isGpuEnabled": true,
   "isInternetEnabled": false,
   "language": "python",
   "sourceType": "notebook"
  },
  "kernelspec": {
   "display_name": "Python 3",
   "language": "python",
   "name": "python3"
  },
  "language_info": {
   "codemirror_mode": {
    "name": "ipython",
    "version": 3
   },
   "file_extension": ".py",
   "mimetype": "text/x-python",
   "name": "python",
   "nbconvert_exporter": "python",
   "pygments_lexer": "ipython3",
   "version": "3.10.12"
  },
  "papermill": {
   "default_parameters": {},
   "duration": 6244.392539,
   "end_time": "2024-01-04T00:51:45.631786",
   "environment_variables": {},
   "exception": null,
   "input_path": "__notebook__.ipynb",
   "output_path": "__notebook__.ipynb",
   "parameters": {},
   "start_time": "2024-01-03T23:07:41.239247",
   "version": "2.4.0"
  }
 },
 "nbformat": 4,
 "nbformat_minor": 5
}
