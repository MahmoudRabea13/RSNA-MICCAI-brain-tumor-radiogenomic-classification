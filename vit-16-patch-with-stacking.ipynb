{
 "cells": [
  {
   "cell_type": "markdown",
   "id": "ed12e9b2",
   "metadata": {
    "papermill": {
     "duration": 0.009305,
     "end_time": "2024-01-04T13:36:09.503082",
     "exception": false,
     "start_time": "2024-01-04T13:36:09.493777",
     "status": "completed"
    },
    "tags": []
   },
   "source": [
    "## Use stacked images (3D) and Vit model"
   ]
  },
  {
   "cell_type": "code",
   "execution_count": 1,
   "id": "b6630d33",
   "metadata": {
    "execution": {
     "iopub.execute_input": "2024-01-04T13:36:09.521791Z",
     "iopub.status.busy": "2024-01-04T13:36:09.521469Z",
     "iopub.status.idle": "2024-01-04T13:36:16.476601Z",
     "shell.execute_reply": "2024-01-04T13:36:16.475731Z"
    },
    "papermill": {
     "duration": 6.967476,
     "end_time": "2024-01-04T13:36:16.479141",
     "exception": false,
     "start_time": "2024-01-04T13:36:09.511665",
     "status": "completed"
    },
    "tags": []
   },
   "outputs": [
    {
     "name": "stderr",
     "output_type": "stream",
     "text": [
      "/opt/conda/lib/python3.10/site-packages/scipy/__init__.py:146: UserWarning: A NumPy version >=1.16.5 and <1.23.0 is required for this version of SciPy (detected version 1.24.3\n",
      "  warnings.warn(f\"A NumPy version >={np_minversion} and <{np_maxversion}\"\n"
     ]
    }
   ],
   "source": [
    "import os\n",
    "import sys \n",
    "import json\n",
    "import glob\n",
    "import random\n",
    "import collections\n",
    "import time\n",
    "import re\n",
    "\n",
    "import numpy as np\n",
    "import pandas as pd\n",
    "import pydicom\n",
    "from pydicom.pixel_data_handlers.util import apply_voi_lut\n",
    "import cv2\n",
    "import matplotlib.pyplot as plt\n",
    "import seaborn as sns\n",
    "\n",
    "import torch\n",
    "from torch import nn\n",
    "from torch.utils import data as torch_data\n",
    "from sklearn import model_selection as sk_model_selection\n",
    "from torch.nn import functional as torch_functional\n",
    "import torch.nn.functional as F\n",
    "\n",
    "from sklearn.model_selection import StratifiedKFold\n",
    "from sklearn.metrics import roc_auc_score"
   ]
  },
  {
   "cell_type": "code",
   "execution_count": 2,
   "id": "3a6dd52d",
   "metadata": {
    "execution": {
     "iopub.execute_input": "2024-01-04T13:36:16.498991Z",
     "iopub.status.busy": "2024-01-04T13:36:16.498567Z",
     "iopub.status.idle": "2024-01-04T13:36:16.503027Z",
     "shell.execute_reply": "2024-01-04T13:36:16.502077Z"
    },
    "lines_to_end_of_cell_marker": 2,
    "lines_to_next_cell": 2,
    "papermill": {
     "duration": 0.017026,
     "end_time": "2024-01-04T13:36:16.505034",
     "exception": false,
     "start_time": "2024-01-04T13:36:16.488008",
     "status": "completed"
    },
    "tags": []
   },
   "outputs": [],
   "source": [
    "\n",
    "data_directory = '../input/rsna-miccai-brain-tumor-radiogenomic-classification'\n",
    "    \n",
    "mri_types = ['FLAIR','T1w','T1wCE','T2w']\n",
    "SIZE = 256\n",
    "NUM_IMAGES = 64\n"
   ]
  },
  {
   "cell_type": "markdown",
   "id": "89dfbdb0",
   "metadata": {
    "papermill": {
     "duration": 0.008429,
     "end_time": "2024-01-04T13:36:16.521981",
     "exception": false,
     "start_time": "2024-01-04T13:36:16.513552",
     "status": "completed"
    },
    "tags": []
   },
   "source": [
    "## Functions to load images"
   ]
  },
  {
   "cell_type": "code",
   "execution_count": 3,
   "id": "18968581",
   "metadata": {
    "execution": {
     "iopub.execute_input": "2024-01-04T13:36:16.540886Z",
     "iopub.status.busy": "2024-01-04T13:36:16.540599Z",
     "iopub.status.idle": "2024-01-04T13:36:17.700442Z",
     "shell.execute_reply": "2024-01-04T13:36:17.699407Z"
    },
    "papermill": {
     "duration": 1.172304,
     "end_time": "2024-01-04T13:36:17.703061",
     "exception": false,
     "start_time": "2024-01-04T13:36:16.530757",
     "status": "completed"
    },
    "tags": []
   },
   "outputs": [
    {
     "name": "stdout",
     "output_type": "stream",
     "text": [
      "(1, 256, 256, 64)\n",
      "0.0 1.0 0.07902179328632788 0.00023671822699371212\n"
     ]
    }
   ],
   "source": [
    "def load_dicom_image(path, img_size=SIZE, voi_lut=True, rotate=0):\n",
    "    dicom = pydicom.read_file(path)\n",
    "    data = dicom.pixel_array\n",
    "    if voi_lut:\n",
    "        data = apply_voi_lut(dicom.pixel_array, dicom)\n",
    "    else:\n",
    "        data = dicom.pixel_array\n",
    "        \n",
    "    if rotate > 0:\n",
    "        rot_choices = [0, cv2.ROTATE_90_CLOCKWISE, cv2.ROTATE_90_COUNTERCLOCKWISE, cv2.ROTATE_180]\n",
    "        data = cv2.rotate(data, rot_choices[rotate])\n",
    "        \n",
    "    data = cv2.resize(data, (img_size, img_size))\n",
    "    return data\n",
    "\n",
    "\n",
    "def load_dicom_images_3d(scan_id, num_imgs=NUM_IMAGES, img_size=SIZE, mri_type=\"FLAIR\", split=\"train\", rotate=0):\n",
    "\n",
    "    files = sorted(glob.glob(f\"{data_directory}/{split}/{scan_id}/{mri_type}/*.dcm\"), \n",
    "               key=lambda var:[int(x) if x.isdigit() else x for x in re.findall(r'[^0-9]|[0-9]+', var)])\n",
    "\n",
    "    middle = len(files)//2\n",
    "    num_imgs2 = num_imgs//2\n",
    "    p1 = max(0, middle - num_imgs2)\n",
    "    p2 = min(len(files), middle + num_imgs2)\n",
    "    img3d = np.stack([load_dicom_image(f, rotate=rotate) for f in files[p1:p2]]).T \n",
    "    if img3d.shape[-1] < num_imgs:\n",
    "        n_zero = np.zeros((img_size, img_size, num_imgs - img3d.shape[-1]))\n",
    "        img3d = np.concatenate((img3d,  n_zero), axis = -1)\n",
    "        \n",
    "    if np.min(img3d) < np.max(img3d):\n",
    "        img3d = img3d - np.min(img3d)\n",
    "        img3d = img3d / np.max(img3d)\n",
    "            \n",
    "    return np.expand_dims(img3d,0)\n",
    "\n",
    "a = load_dicom_images_3d(\"00000\")\n",
    "print(a.shape)\n",
    "print(np.min(a), np.max(a), np.mean(a), np.median(a))"
   ]
  },
  {
   "cell_type": "code",
   "execution_count": 4,
   "id": "b8d95a49",
   "metadata": {
    "execution": {
     "iopub.execute_input": "2024-01-04T13:36:17.722957Z",
     "iopub.status.busy": "2024-01-04T13:36:17.722659Z",
     "iopub.status.idle": "2024-01-04T13:36:17.841419Z",
     "shell.execute_reply": "2024-01-04T13:36:17.840622Z"
    },
    "papermill": {
     "duration": 0.131047,
     "end_time": "2024-01-04T13:36:17.843622",
     "exception": false,
     "start_time": "2024-01-04T13:36:17.712575",
     "status": "completed"
    },
    "tags": []
   },
   "outputs": [],
   "source": [
    "def set_seed(seed):\n",
    "    random.seed(seed)\n",
    "    os.environ[\"PYTHONHASHSEED\"] = str(seed)\n",
    "    np.random.seed(seed)\n",
    "    torch.manual_seed(seed)\n",
    "    if torch.cuda.is_available():\n",
    "        torch.cuda.manual_seed_all(seed)\n",
    "        torch.backends.cudnn.deterministic = True\n",
    "\n",
    "set_seed(12)"
   ]
  },
  {
   "cell_type": "markdown",
   "id": "64a81730",
   "metadata": {
    "papermill": {
     "duration": 0.008416,
     "end_time": "2024-01-04T13:36:17.860937",
     "exception": false,
     "start_time": "2024-01-04T13:36:17.852521",
     "status": "completed"
    },
    "tags": []
   },
   "source": [
    "## train / test splits"
   ]
  },
  {
   "cell_type": "code",
   "execution_count": 5,
   "id": "3c10029a",
   "metadata": {
    "execution": {
     "iopub.execute_input": "2024-01-04T13:36:17.879328Z",
     "iopub.status.busy": "2024-01-04T13:36:17.879027Z",
     "iopub.status.idle": "2024-01-04T13:36:17.933274Z",
     "shell.execute_reply": "2024-01-04T13:36:17.932544Z"
    },
    "papermill": {
     "duration": 0.065683,
     "end_time": "2024-01-04T13:36:17.935256",
     "exception": false,
     "start_time": "2024-01-04T13:36:17.869573",
     "status": "completed"
    },
    "tags": []
   },
   "outputs": [
    {
     "data": {
      "text/html": [
       "<div>\n",
       "<style scoped>\n",
       "    .dataframe tbody tr th:only-of-type {\n",
       "        vertical-align: middle;\n",
       "    }\n",
       "\n",
       "    .dataframe tbody tr th {\n",
       "        vertical-align: top;\n",
       "    }\n",
       "\n",
       "    .dataframe thead th {\n",
       "        text-align: right;\n",
       "    }\n",
       "</style>\n",
       "<table border=\"1\" class=\"dataframe\">\n",
       "  <thead>\n",
       "    <tr style=\"text-align: right;\">\n",
       "      <th></th>\n",
       "      <th>BraTS21ID</th>\n",
       "      <th>MGMT_value</th>\n",
       "    </tr>\n",
       "  </thead>\n",
       "  <tbody>\n",
       "    <tr>\n",
       "      <th>0</th>\n",
       "      <td>0</td>\n",
       "      <td>1</td>\n",
       "    </tr>\n",
       "    <tr>\n",
       "      <th>1</th>\n",
       "      <td>2</td>\n",
       "      <td>1</td>\n",
       "    </tr>\n",
       "    <tr>\n",
       "      <th>2</th>\n",
       "      <td>3</td>\n",
       "      <td>0</td>\n",
       "    </tr>\n",
       "    <tr>\n",
       "      <th>3</th>\n",
       "      <td>5</td>\n",
       "      <td>1</td>\n",
       "    </tr>\n",
       "    <tr>\n",
       "      <th>4</th>\n",
       "      <td>6</td>\n",
       "      <td>1</td>\n",
       "    </tr>\n",
       "    <tr>\n",
       "      <th>...</th>\n",
       "      <td>...</td>\n",
       "      <td>...</td>\n",
       "    </tr>\n",
       "    <tr>\n",
       "      <th>580</th>\n",
       "      <td>1005</td>\n",
       "      <td>1</td>\n",
       "    </tr>\n",
       "    <tr>\n",
       "      <th>581</th>\n",
       "      <td>1007</td>\n",
       "      <td>1</td>\n",
       "    </tr>\n",
       "    <tr>\n",
       "      <th>582</th>\n",
       "      <td>1008</td>\n",
       "      <td>1</td>\n",
       "    </tr>\n",
       "    <tr>\n",
       "      <th>583</th>\n",
       "      <td>1009</td>\n",
       "      <td>0</td>\n",
       "    </tr>\n",
       "    <tr>\n",
       "      <th>584</th>\n",
       "      <td>1010</td>\n",
       "      <td>0</td>\n",
       "    </tr>\n",
       "  </tbody>\n",
       "</table>\n",
       "<p>585 rows × 2 columns</p>\n",
       "</div>"
      ],
      "text/plain": [
       "     BraTS21ID  MGMT_value\n",
       "0            0           1\n",
       "1            2           1\n",
       "2            3           0\n",
       "3            5           1\n",
       "4            6           1\n",
       "..         ...         ...\n",
       "580       1005           1\n",
       "581       1007           1\n",
       "582       1008           1\n",
       "583       1009           0\n",
       "584       1010           0\n",
       "\n",
       "[585 rows x 2 columns]"
      ]
     },
     "metadata": {},
     "output_type": "display_data"
    }
   ],
   "source": [
    "train_df = pd.read_csv(f\"{data_directory}/train_labels.csv\")\n",
    "display(train_df)\n",
    "\n",
    "df_train, df_valid = sk_model_selection.train_test_split(\n",
    "    train_df, \n",
    "    test_size=0.2, \n",
    "    random_state=12, \n",
    "    stratify=train_df[\"MGMT_value\"],\n",
    ")\n"
   ]
  },
  {
   "cell_type": "code",
   "execution_count": 6,
   "id": "e02b6c68",
   "metadata": {
    "execution": {
     "iopub.execute_input": "2024-01-04T13:36:17.955157Z",
     "iopub.status.busy": "2024-01-04T13:36:17.954847Z",
     "iopub.status.idle": "2024-01-04T13:36:17.963412Z",
     "shell.execute_reply": "2024-01-04T13:36:17.962438Z"
    },
    "papermill": {
     "duration": 0.020412,
     "end_time": "2024-01-04T13:36:17.965424",
     "exception": false,
     "start_time": "2024-01-04T13:36:17.945012",
     "status": "completed"
    },
    "tags": []
   },
   "outputs": [
    {
     "data": {
      "text/html": [
       "<div>\n",
       "<style scoped>\n",
       "    .dataframe tbody tr th:only-of-type {\n",
       "        vertical-align: middle;\n",
       "    }\n",
       "\n",
       "    .dataframe tbody tr th {\n",
       "        vertical-align: top;\n",
       "    }\n",
       "\n",
       "    .dataframe thead th {\n",
       "        text-align: right;\n",
       "    }\n",
       "</style>\n",
       "<table border=\"1\" class=\"dataframe\">\n",
       "  <thead>\n",
       "    <tr style=\"text-align: right;\">\n",
       "      <th></th>\n",
       "      <th>BraTS21ID</th>\n",
       "      <th>MGMT_value</th>\n",
       "    </tr>\n",
       "  </thead>\n",
       "  <tbody>\n",
       "    <tr>\n",
       "      <th>105</th>\n",
       "      <td>157</td>\n",
       "      <td>0</td>\n",
       "    </tr>\n",
       "    <tr>\n",
       "      <th>222</th>\n",
       "      <td>322</td>\n",
       "      <td>1</td>\n",
       "    </tr>\n",
       "    <tr>\n",
       "      <th>114</th>\n",
       "      <td>170</td>\n",
       "      <td>0</td>\n",
       "    </tr>\n",
       "    <tr>\n",
       "      <th>223</th>\n",
       "      <td>324</td>\n",
       "      <td>0</td>\n",
       "    </tr>\n",
       "    <tr>\n",
       "      <th>81</th>\n",
       "      <td>123</td>\n",
       "      <td>0</td>\n",
       "    </tr>\n",
       "  </tbody>\n",
       "</table>\n",
       "</div>"
      ],
      "text/plain": [
       "     BraTS21ID  MGMT_value\n",
       "105        157           0\n",
       "222        322           1\n",
       "114        170           0\n",
       "223        324           0\n",
       "81         123           0"
      ]
     },
     "execution_count": 6,
     "metadata": {},
     "output_type": "execute_result"
    }
   ],
   "source": [
    "df_train.tail()"
   ]
  },
  {
   "cell_type": "markdown",
   "id": "98cb0ecf",
   "metadata": {
    "papermill": {
     "duration": 0.009681,
     "end_time": "2024-01-04T13:36:17.984810",
     "exception": false,
     "start_time": "2024-01-04T13:36:17.975129",
     "status": "completed"
    },
    "tags": []
   },
   "source": [
    "## Model and training classes"
   ]
  },
  {
   "cell_type": "code",
   "execution_count": 7,
   "id": "43d3bf16",
   "metadata": {
    "execution": {
     "iopub.execute_input": "2024-01-04T13:36:18.004098Z",
     "iopub.status.busy": "2024-01-04T13:36:18.003793Z",
     "iopub.status.idle": "2024-01-04T13:36:18.013137Z",
     "shell.execute_reply": "2024-01-04T13:36:18.012288Z"
    },
    "papermill": {
     "duration": 0.021536,
     "end_time": "2024-01-04T13:36:18.015186",
     "exception": false,
     "start_time": "2024-01-04T13:36:17.993650",
     "status": "completed"
    },
    "tags": []
   },
   "outputs": [],
   "source": [
    "class Dataset(torch_data.Dataset):\n",
    "    def __init__(self, paths, targets=None, mri_type=None, label_smoothing=0.01, split=\"train\", augment=False):\n",
    "        self.paths = paths\n",
    "        self.targets = targets\n",
    "        self.mri_type = mri_type\n",
    "        self.label_smoothing = label_smoothing\n",
    "        self.split = split\n",
    "        self.augment = augment\n",
    "          \n",
    "    def __len__(self):\n",
    "        return len(self.paths)\n",
    "    \n",
    "    def __getitem__(self, index):\n",
    "        scan_id = self.paths[index]\n",
    "        if self.targets is None:\n",
    "            data = load_dicom_images_3d(str(scan_id).zfill(5), mri_type=self.mri_type[index], split=self.split)\n",
    "        else:\n",
    "            if self.augment:\n",
    "                rotation = np.random.randint(0,4)\n",
    "            else:\n",
    "                rotation = 0\n",
    "\n",
    "            data = load_dicom_images_3d(str(scan_id).zfill(5), mri_type=self.mri_type[index], split=\"train\", rotate=rotation)\n",
    "\n",
    "        if self.targets is None:\n",
    "            return {\"X\": torch.tensor(data).float(), \"id\": scan_id}\n",
    "        else:\n",
    "            y = torch.tensor(abs(self.targets[index]-self.label_smoothing), dtype=torch.float)\n",
    "            return {\"X\": torch.tensor(data).float(), \"y\": y}\n"
   ]
  },
  {
   "cell_type": "code",
   "execution_count": 8,
   "id": "39aa247e",
   "metadata": {
    "execution": {
     "iopub.execute_input": "2024-01-04T13:36:18.034944Z",
     "iopub.status.busy": "2024-01-04T13:36:18.034650Z",
     "iopub.status.idle": "2024-01-04T13:36:51.863197Z",
     "shell.execute_reply": "2024-01-04T13:36:51.862196Z"
    },
    "papermill": {
     "duration": 33.841228,
     "end_time": "2024-01-04T13:36:51.865729",
     "exception": false,
     "start_time": "2024-01-04T13:36:18.024501",
     "status": "completed"
    },
    "tags": []
   },
   "outputs": [
    {
     "name": "stdout",
     "output_type": "stream",
     "text": [
      "Processing /kaggle/input/einops-030/einops-0.3.0-py2.py3-none-any.whl\r\n",
      "Installing collected packages: einops\r\n",
      "Successfully installed einops-0.3.0\r\n"
     ]
    }
   ],
   "source": [
    "!pip install ../input/einops-030/einops-0.3.0-py2.py3-none-any.whl"
   ]
  },
  {
   "cell_type": "code",
   "execution_count": 9,
   "id": "0eab377f",
   "metadata": {
    "execution": {
     "iopub.execute_input": "2024-01-04T13:36:51.887602Z",
     "iopub.status.busy": "2024-01-04T13:36:51.887242Z",
     "iopub.status.idle": "2024-01-04T13:36:51.911870Z",
     "shell.execute_reply": "2024-01-04T13:36:51.911076Z"
    },
    "papermill": {
     "duration": 0.037801,
     "end_time": "2024-01-04T13:36:51.913753",
     "exception": false,
     "start_time": "2024-01-04T13:36:51.875952",
     "status": "completed"
    },
    "tags": []
   },
   "outputs": [],
   "source": [
    "from einops import rearrange, repeat\n",
    "from einops.layers.torch import Rearrange\n",
    "\n",
    "# helpers\n",
    "\n",
    "def pair(t):\n",
    "    return t if isinstance(t, tuple) else (t, t)\n",
    "\n",
    "# classes\n",
    "\n",
    "class PreNorm(nn.Module):\n",
    "    def __init__(self, dim, fn):\n",
    "        super().__init__()\n",
    "        self.norm = nn.LayerNorm(dim)\n",
    "        self.fn = fn\n",
    "    def forward(self, x, **kwargs):\n",
    "        return self.fn(self.norm(x), **kwargs)\n",
    "\n",
    "class FeedForward(nn.Module):\n",
    "    def __init__(self, dim, hidden_dim, dropout = 0.):\n",
    "        super().__init__()\n",
    "        self.net = nn.Sequential(\n",
    "            nn.Linear(dim, hidden_dim),\n",
    "            nn.GELU(),\n",
    "            nn.Dropout(dropout),\n",
    "            nn.Linear(hidden_dim, dim),\n",
    "            nn.Dropout(dropout)\n",
    "        )\n",
    "    def forward(self, x):\n",
    "        return self.net(x)\n",
    "\n",
    "class Attention(nn.Module):\n",
    "    def __init__(self, dim, heads = 8, dim_head = 64, dropout = 0.):\n",
    "        super().__init__()\n",
    "        inner_dim = dim_head *  heads\n",
    "        project_out = not (heads == 1 and dim_head == dim)\n",
    "\n",
    "        self.heads = heads\n",
    "        self.scale = dim_head ** -0.5\n",
    "\n",
    "        self.attend = nn.Softmax(dim = -1)\n",
    "        self.to_qkv = nn.Linear(dim, inner_dim * 3, bias = False)\n",
    "\n",
    "        self.to_out = nn.Sequential(\n",
    "            nn.Linear(inner_dim, dim),\n",
    "            nn.Dropout(dropout)\n",
    "        ) if project_out else nn.Identity()\n",
    "\n",
    "    def forward(self, x):\n",
    "        qkv = self.to_qkv(x).chunk(3, dim = -1)\n",
    "        q, k, v = map(lambda t: rearrange(t, 'b n (h d) -> b h n d', h = self.heads), qkv)\n",
    "\n",
    "        dots = torch.matmul(q, k.transpose(-1, -2)) * self.scale\n",
    "\n",
    "        attn = self.attend(dots)\n",
    "\n",
    "        out = torch.matmul(attn, v)\n",
    "        out = rearrange(out, 'b h n d -> b n (h d)')\n",
    "        return self.to_out(out)\n",
    "\n",
    "class Transformer(nn.Module):\n",
    "    def __init__(self, dim, depth, heads, dim_head, mlp_dim, dropout = 0.):\n",
    "        super().__init__()\n",
    "        self.layers = nn.ModuleList([])\n",
    "        #mlp_dim = 2048\n",
    "        for _ in range(depth):\n",
    "            #print (dim, mlp_dim)\n",
    "            self.layers.append(nn.ModuleList([\n",
    "                PreNorm(dim, Attention(dim, heads = heads, dim_head = dim_head, dropout = dropout)),\n",
    "                PreNorm(dim, FeedForward(dim, mlp_dim, dropout = dropout))\n",
    "            ]))\n",
    "    def forward(self, x):\n",
    "        for attn, ff in self.layers:\n",
    "            x = attn(x) + x\n",
    "            x = ff(x) + x\n",
    "        return x\n"
   ]
  },
  {
   "cell_type": "markdown",
   "id": "4d947937",
   "metadata": {
    "papermill": {
     "duration": 0.009437,
     "end_time": "2024-01-04T13:36:51.932878",
     "exception": false,
     "start_time": "2024-01-04T13:36:51.923441",
     "status": "completed"
    },
    "tags": []
   },
   "source": [
    "### Vit Model change to 3D\n",
    "\n",
    "reference:\n",
    "https://github.com/lucidrains/vit-pytorch"
   ]
  },
  {
   "cell_type": "code",
   "execution_count": 10,
   "id": "f2ee545c",
   "metadata": {
    "execution": {
     "iopub.execute_input": "2024-01-04T13:36:51.954738Z",
     "iopub.status.busy": "2024-01-04T13:36:51.954450Z",
     "iopub.status.idle": "2024-01-04T13:36:51.966258Z",
     "shell.execute_reply": "2024-01-04T13:36:51.965416Z"
    },
    "papermill": {
     "duration": 0.025098,
     "end_time": "2024-01-04T13:36:51.968222",
     "exception": false,
     "start_time": "2024-01-04T13:36:51.943124",
     "status": "completed"
    },
    "tags": []
   },
   "outputs": [],
   "source": [
    "class Model(nn.Module):\n",
    "    def __init__(self, *, image_size, frames ,patch_size, num_classes, dim, depth, heads, mlp_dim,dim_head, channels = 3, dropout = 0., emb_dropout = 0.):\n",
    "        super().__init__()\n",
    "        assert image_size % patch_size == 0, 'image dimensions must be divisible by the patch size'\n",
    "        num_patches = (image_size // patch_size) *(image_size // patch_size)* (frames // patch_size)\n",
    "        patch_dim = channels * patch_size ** 3\n",
    "\n",
    "        self.patch_size = patch_size\n",
    "\n",
    "        self.pos_embedding = nn.Parameter(torch.randn(1, num_patches + 1, dim))\n",
    "        self.patch_to_embedding = nn.Linear(patch_dim, dim)\n",
    "        self.cls_token = nn.Parameter(torch.randn(1, 1, dim))\n",
    "        self.dropout = nn.Dropout(emb_dropout)\n",
    "        #print (mlp_dim)\n",
    "        self.transformer = Transformer(dim, depth, heads, dim_head, mlp_dim, dropout)\n",
    "        #print (dim)\n",
    "        self.to_cls_token = nn.Identity()\n",
    "\n",
    "        self.mlp_head = nn.Sequential(\n",
    "            nn.LayerNorm(dim),\n",
    "            nn.Linear(dim, mlp_dim),\n",
    "            nn.GELU(),\n",
    "            nn.Dropout(dropout),\n",
    "            nn.Linear(mlp_dim, num_classes),\n",
    "            nn.Dropout(dropout)\n",
    "        )\n",
    "\n",
    "    def forward(self, img, mask = None):\n",
    "        p = self.patch_size\n",
    "        #print (img.shape)\n",
    "        x = rearrange(img, 'b c (h p1) (w p2) (d p3) -> b (h w d) (p1 p2 p3 c)', p1 = p, p2 = p, p3 = p)\n",
    "        #print (x.shape)\n",
    "        x = self.patch_to_embedding(x)\n",
    "        #print (x.shape)\n",
    "        cls_tokens = self.cls_token.expand(img.shape[0], -1, -1)\n",
    "        #print (cls_tokens.shape)\n",
    "        x = torch.cat((cls_tokens, x), dim=1)\n",
    "        #print (x.shape)\n",
    "        #print (self.pos_embedding.shape)\n",
    "        x += self.pos_embedding\n",
    "        x = self.dropout(x)\n",
    "\n",
    "        x = self.transformer(x)\n",
    "\n",
    "        x = self.to_cls_token(x[:, 0])\n",
    "        return self.mlp_head(x)"
   ]
  },
  {
   "cell_type": "code",
   "execution_count": 11,
   "id": "a333d932",
   "metadata": {
    "execution": {
     "iopub.execute_input": "2024-01-04T13:36:51.989316Z",
     "iopub.status.busy": "2024-01-04T13:36:51.988603Z",
     "iopub.status.idle": "2024-01-04T13:36:52.013484Z",
     "shell.execute_reply": "2024-01-04T13:36:52.012501Z"
    },
    "papermill": {
     "duration": 0.03774,
     "end_time": "2024-01-04T13:36:52.015646",
     "exception": false,
     "start_time": "2024-01-04T13:36:51.977906",
     "status": "completed"
    },
    "tags": []
   },
   "outputs": [],
   "source": [
    "class Trainer:\n",
    "    def __init__(\n",
    "        self, \n",
    "        model, \n",
    "        device, \n",
    "        optimizer, \n",
    "        criterion\n",
    "    ):\n",
    "        self.model = model\n",
    "        self.device = device\n",
    "        self.optimizer = optimizer\n",
    "        self.criterion = criterion\n",
    "\n",
    "        self.best_valid_score = np.inf\n",
    "        self.n_patience = 0\n",
    "        self.lastmodel = None\n",
    "        \n",
    "    def fit(self, epochs, train_loader, valid_loader, save_path, patience):        \n",
    "        for n_epoch in range(1, epochs + 1):\n",
    "            self.info_message(\"EPOCH: {}\", n_epoch)\n",
    "            \n",
    "            train_loss, train_time = self.train_epoch(train_loader)\n",
    "            valid_loss, valid_auc, valid_time = self.valid_epoch(valid_loader)\n",
    "            \n",
    "            self.info_message(\n",
    "                \"[Epoch Train: {}] loss: {:.4f}, time: {:.2f} s            \",\n",
    "                n_epoch, train_loss, train_time\n",
    "            )\n",
    "            \n",
    "            self.info_message(\n",
    "                \"[Epoch Valid: {}] loss: {:.4f}, auc: {:.4f}, time: {:.2f} s\",\n",
    "                n_epoch, valid_loss, valid_auc, valid_time\n",
    "            )\n",
    "\n",
    "            # if True:\n",
    "            #if self.best_valid_score < valid_auc: \n",
    "            if self.best_valid_score > valid_loss: \n",
    "                self.save_model(n_epoch, save_path, valid_loss, valid_auc)\n",
    "                self.info_message(\n",
    "                     \"auc improved from {:.4f} to {:.4f}. Saved model to '{}'\", \n",
    "                    self.best_valid_score, valid_loss, self.lastmodel\n",
    "                )\n",
    "                self.best_valid_score = valid_loss\n",
    "                self.n_patience = 0\n",
    "            else:\n",
    "                self.n_patience += 1\n",
    "            \n",
    "            if self.n_patience >= patience:\n",
    "                self.info_message(\"\\nValid auc didn't improve last {} epochs.\", patience)\n",
    "                break\n",
    "            \n",
    "    def train_epoch(self, train_loader):\n",
    "        self.model.train()\n",
    "        t = time.time()\n",
    "        sum_loss = 0\n",
    "\n",
    "        for step, batch in enumerate(train_loader, 1):\n",
    "            X = batch[\"X\"].to(self.device)\n",
    "            targets = batch[\"y\"].to(self.device)\n",
    "            self.optimizer.zero_grad()\n",
    "            outputs = self.model(X).squeeze(1)\n",
    "            \n",
    "            loss = self.criterion(outputs, targets)\n",
    "            loss.backward()\n",
    "\n",
    "            sum_loss += loss.detach().item()\n",
    "\n",
    "            self.optimizer.step()\n",
    "            \n",
    "            message = 'Train Step {}/{}, train_loss: {:.4f}'\n",
    "            self.info_message(message, step, len(train_loader), sum_loss/step, end=\"\\r\")\n",
    "        \n",
    "        return sum_loss/len(train_loader), int(time.time() - t)\n",
    "    \n",
    "    def valid_epoch(self, valid_loader):\n",
    "        self.model.eval()\n",
    "        t = time.time()\n",
    "        sum_loss = 0\n",
    "        y_all = []\n",
    "        outputs_all = []\n",
    "\n",
    "        for step, batch in enumerate(valid_loader, 1):\n",
    "            with torch.no_grad():\n",
    "                X = batch[\"X\"].to(self.device)\n",
    "                targets = batch[\"y\"].to(self.device)\n",
    "\n",
    "                outputs = self.model(X).squeeze(1)\n",
    "                loss = self.criterion(outputs, targets)\n",
    "\n",
    "                sum_loss += loss.detach().item()\n",
    "                y_all.extend(batch[\"y\"].tolist())\n",
    "                outputs_all.extend(torch.sigmoid(outputs).tolist())\n",
    "\n",
    "            message = 'Valid Step {}/{}, valid_loss: {:.4f}'\n",
    "            self.info_message(message, step, len(valid_loader), sum_loss/step, end=\"\\r\")\n",
    "            \n",
    "        y_all = [1 if x > 0.5 else 0 for x in y_all]\n",
    "        auc = roc_auc_score(y_all, outputs_all)\n",
    "        \n",
    "        return sum_loss/len(valid_loader), auc, int(time.time() - t)\n",
    "    \n",
    "    def save_model(self, n_epoch, save_path, loss, auc):\n",
    "        self.lastmodel = f\"{save_path}-best.pth\"\n",
    "        torch.save(\n",
    "            {\n",
    "                \"model_state_dict\": self.model.state_dict(),\n",
    "                \"optimizer_state_dict\": self.optimizer.state_dict(),\n",
    "                \"best_valid_score\": self.best_valid_score,\n",
    "                \"n_epoch\": n_epoch,\n",
    "            },\n",
    "            self.lastmodel,\n",
    "        )\n",
    "    \n",
    "    @staticmethod\n",
    "    def info_message(message, *args, end=\"\\n\"):\n",
    "        print(message.format(*args), end=end)"
   ]
  },
  {
   "cell_type": "code",
   "execution_count": 12,
   "id": "760ecc41",
   "metadata": {
    "execution": {
     "iopub.execute_input": "2024-01-04T13:36:52.036275Z",
     "iopub.status.busy": "2024-01-04T13:36:52.035991Z",
     "iopub.status.idle": "2024-01-04T13:36:52.042029Z",
     "shell.execute_reply": "2024-01-04T13:36:52.041183Z"
    },
    "papermill": {
     "duration": 0.018819,
     "end_time": "2024-01-04T13:36:52.044136",
     "exception": false,
     "start_time": "2024-01-04T13:36:52.025317",
     "status": "completed"
    },
    "tags": []
   },
   "outputs": [
    {
     "data": {
      "text/html": [
       "Path (<tt>FLAIR-best.pth</tt>) doesn't exist. It may still be in the process of being generated, or you may have the incorrect path."
      ],
      "text/plain": [
       "/kaggle/working/FLAIR-best.pth"
      ]
     },
     "execution_count": 12,
     "metadata": {},
     "output_type": "execute_result"
    }
   ],
   "source": [
    "from IPython.display import FileLink\n",
    "FileLink(r'FLAIR-best.pth')"
   ]
  },
  {
   "cell_type": "markdown",
   "id": "fd783473",
   "metadata": {
    "papermill": {
     "duration": 0.009842,
     "end_time": "2024-01-04T13:36:52.063896",
     "exception": false,
     "start_time": "2024-01-04T13:36:52.054054",
     "status": "completed"
    },
    "tags": []
   },
   "source": [
    "## train models"
   ]
  },
  {
   "cell_type": "code",
   "execution_count": 13,
   "id": "4f76b33e",
   "metadata": {
    "execution": {
     "iopub.execute_input": "2024-01-04T13:36:52.085645Z",
     "iopub.status.busy": "2024-01-04T13:36:52.085314Z",
     "iopub.status.idle": "2024-01-04T14:34:18.565775Z",
     "shell.execute_reply": "2024-01-04T14:34:18.564443Z"
    },
    "lines_to_next_cell": 2,
    "papermill": {
     "duration": 3446.500003,
     "end_time": "2024-01-04T14:34:18.573943",
     "exception": false,
     "start_time": "2024-01-04T13:36:52.073940",
     "status": "completed"
    },
    "tags": []
   },
   "outputs": [
    {
     "name": "stdout",
     "output_type": "stream",
     "text": [
      "(468, 3) (117, 3)\n"
     ]
    },
    {
     "data": {
      "text/html": [
       "<div>\n",
       "<style scoped>\n",
       "    .dataframe tbody tr th:only-of-type {\n",
       "        vertical-align: middle;\n",
       "    }\n",
       "\n",
       "    .dataframe tbody tr th {\n",
       "        vertical-align: top;\n",
       "    }\n",
       "\n",
       "    .dataframe thead th {\n",
       "        text-align: right;\n",
       "    }\n",
       "</style>\n",
       "<table border=\"1\" class=\"dataframe\">\n",
       "  <thead>\n",
       "    <tr style=\"text-align: right;\">\n",
       "      <th></th>\n",
       "      <th>BraTS21ID</th>\n",
       "      <th>MGMT_value</th>\n",
       "      <th>MRI_Type</th>\n",
       "    </tr>\n",
       "  </thead>\n",
       "  <tbody>\n",
       "    <tr>\n",
       "      <th>446</th>\n",
       "      <td>645</td>\n",
       "      <td>0</td>\n",
       "      <td>FLAIR</td>\n",
       "    </tr>\n",
       "    <tr>\n",
       "      <th>529</th>\n",
       "      <td>777</td>\n",
       "      <td>1</td>\n",
       "      <td>FLAIR</td>\n",
       "    </tr>\n",
       "    <tr>\n",
       "      <th>420</th>\n",
       "      <td>607</td>\n",
       "      <td>1</td>\n",
       "      <td>FLAIR</td>\n",
       "    </tr>\n",
       "    <tr>\n",
       "      <th>406</th>\n",
       "      <td>589</td>\n",
       "      <td>0</td>\n",
       "      <td>FLAIR</td>\n",
       "    </tr>\n",
       "    <tr>\n",
       "      <th>475</th>\n",
       "      <td>690</td>\n",
       "      <td>1</td>\n",
       "      <td>FLAIR</td>\n",
       "    </tr>\n",
       "  </tbody>\n",
       "</table>\n",
       "</div>"
      ],
      "text/plain": [
       "     BraTS21ID  MGMT_value MRI_Type\n",
       "446        645           0    FLAIR\n",
       "529        777           1    FLAIR\n",
       "420        607           1    FLAIR\n",
       "406        589           0    FLAIR\n",
       "475        690           1    FLAIR"
      ]
     },
     "metadata": {},
     "output_type": "display_data"
    },
    {
     "name": "stderr",
     "output_type": "stream",
     "text": [
      "/opt/conda/lib/python3.10/site-packages/torch/utils/data/dataloader.py:561: UserWarning: This DataLoader will create 8 worker processes in total. Our suggested max number of worker in current system is 4, which is smaller than what this DataLoader is going to create. Please be aware that excessive worker creation might get DataLoader running slow or even freeze, lower the worker number to avoid potential slowness/freeze if necessary.\n",
      "  warnings.warn(_create_warning_msg(\n"
     ]
    },
    {
     "name": "stdout",
     "output_type": "stream",
     "text": [
      "EPOCH: 1\n",
      "[Epoch Train: 1] loss: 0.8353, time: 87.00 s            \n",
      "[Epoch Valid: 1] loss: 0.6950, auc: 0.6385, time: 21.00 s\n",
      "auc improved from inf to 0.6950. Saved model to 'FLAIR-best.pth'\n",
      "EPOCH: 2\n"
     ]
    },
    {
     "name": "stderr",
     "output_type": "stream",
     "text": [
      "/opt/conda/lib/python3.10/site-packages/torch/utils/data/dataloader.py:561: UserWarning: This DataLoader will create 8 worker processes in total. Our suggested max number of worker in current system is 4, which is smaller than what this DataLoader is going to create. Please be aware that excessive worker creation might get DataLoader running slow or even freeze, lower the worker number to avoid potential slowness/freeze if necessary.\n",
      "  warnings.warn(_create_warning_msg(\n"
     ]
    },
    {
     "name": "stdout",
     "output_type": "stream",
     "text": [
      "[Epoch Train: 2] loss: 0.7034, time: 70.00 s            \n",
      "[Epoch Valid: 2] loss: 0.6932, auc: 0.6080, time: 16.00 s\n",
      "auc improved from 0.6950 to 0.6932. Saved model to 'FLAIR-best.pth'\n",
      "EPOCH: 3\n"
     ]
    },
    {
     "name": "stderr",
     "output_type": "stream",
     "text": [
      "/opt/conda/lib/python3.10/site-packages/torch/utils/data/dataloader.py:561: UserWarning: This DataLoader will create 8 worker processes in total. Our suggested max number of worker in current system is 4, which is smaller than what this DataLoader is going to create. Please be aware that excessive worker creation might get DataLoader running slow or even freeze, lower the worker number to avoid potential slowness/freeze if necessary.\n",
      "  warnings.warn(_create_warning_msg(\n"
     ]
    },
    {
     "name": "stdout",
     "output_type": "stream",
     "text": [
      "[Epoch Train: 3] loss: 0.6919, time: 70.00 s            \n",
      "[Epoch Valid: 3] loss: 0.8070, auc: 0.4444, time: 16.00 s\n",
      "EPOCH: 4\n"
     ]
    },
    {
     "name": "stderr",
     "output_type": "stream",
     "text": [
      "/opt/conda/lib/python3.10/site-packages/torch/utils/data/dataloader.py:561: UserWarning: This DataLoader will create 8 worker processes in total. Our suggested max number of worker in current system is 4, which is smaller than what this DataLoader is going to create. Please be aware that excessive worker creation might get DataLoader running slow or even freeze, lower the worker number to avoid potential slowness/freeze if necessary.\n",
      "  warnings.warn(_create_warning_msg(\n"
     ]
    },
    {
     "name": "stdout",
     "output_type": "stream",
     "text": [
      "[Epoch Train: 4] loss: 0.6974, time: 70.00 s            \n",
      "[Epoch Valid: 4] loss: 0.6948, auc: 0.5362, time: 16.00 s\n",
      "EPOCH: 5\n"
     ]
    },
    {
     "name": "stderr",
     "output_type": "stream",
     "text": [
      "/opt/conda/lib/python3.10/site-packages/torch/utils/data/dataloader.py:561: UserWarning: This DataLoader will create 8 worker processes in total. Our suggested max number of worker in current system is 4, which is smaller than what this DataLoader is going to create. Please be aware that excessive worker creation might get DataLoader running slow or even freeze, lower the worker number to avoid potential slowness/freeze if necessary.\n",
      "  warnings.warn(_create_warning_msg(\n"
     ]
    },
    {
     "name": "stdout",
     "output_type": "stream",
     "text": [
      "[Epoch Train: 5] loss: 0.6941, time: 69.00 s            \n",
      "[Epoch Valid: 5] loss: 0.6930, auc: 0.5833, time: 16.00 s\n",
      "auc improved from 0.6932 to 0.6930. Saved model to 'FLAIR-best.pth'\n",
      "EPOCH: 6\n"
     ]
    },
    {
     "name": "stderr",
     "output_type": "stream",
     "text": [
      "/opt/conda/lib/python3.10/site-packages/torch/utils/data/dataloader.py:561: UserWarning: This DataLoader will create 8 worker processes in total. Our suggested max number of worker in current system is 4, which is smaller than what this DataLoader is going to create. Please be aware that excessive worker creation might get DataLoader running slow or even freeze, lower the worker number to avoid potential slowness/freeze if necessary.\n",
      "  warnings.warn(_create_warning_msg(\n"
     ]
    },
    {
     "name": "stdout",
     "output_type": "stream",
     "text": [
      "[Epoch Train: 6] loss: 0.7236, time: 68.00 s            \n",
      "[Epoch Valid: 6] loss: 0.7545, auc: 0.5927, time: 16.00 s\n",
      "EPOCH: 7\n"
     ]
    },
    {
     "name": "stderr",
     "output_type": "stream",
     "text": [
      "/opt/conda/lib/python3.10/site-packages/torch/utils/data/dataloader.py:561: UserWarning: This DataLoader will create 8 worker processes in total. Our suggested max number of worker in current system is 4, which is smaller than what this DataLoader is going to create. Please be aware that excessive worker creation might get DataLoader running slow or even freeze, lower the worker number to avoid potential slowness/freeze if necessary.\n",
      "  warnings.warn(_create_warning_msg(\n"
     ]
    },
    {
     "name": "stdout",
     "output_type": "stream",
     "text": [
      "[Epoch Train: 7] loss: 0.6986, time: 69.00 s            \n",
      "[Epoch Valid: 7] loss: 0.6930, auc: 0.6636, time: 16.00 s\n",
      "auc improved from 0.6930 to 0.6930. Saved model to 'FLAIR-best.pth'\n",
      "EPOCH: 8\n"
     ]
    },
    {
     "name": "stderr",
     "output_type": "stream",
     "text": [
      "/opt/conda/lib/python3.10/site-packages/torch/utils/data/dataloader.py:561: UserWarning: This DataLoader will create 8 worker processes in total. Our suggested max number of worker in current system is 4, which is smaller than what this DataLoader is going to create. Please be aware that excessive worker creation might get DataLoader running slow or even freeze, lower the worker number to avoid potential slowness/freeze if necessary.\n",
      "  warnings.warn(_create_warning_msg(\n"
     ]
    },
    {
     "name": "stdout",
     "output_type": "stream",
     "text": [
      "[Epoch Train: 8] loss: 0.6925, time: 70.00 s            \n",
      "[Epoch Valid: 8] loss: 0.6930, auc: 0.4409, time: 16.00 s\n",
      "EPOCH: 9\n"
     ]
    },
    {
     "name": "stderr",
     "output_type": "stream",
     "text": [
      "/opt/conda/lib/python3.10/site-packages/torch/utils/data/dataloader.py:561: UserWarning: This DataLoader will create 8 worker processes in total. Our suggested max number of worker in current system is 4, which is smaller than what this DataLoader is going to create. Please be aware that excessive worker creation might get DataLoader running slow or even freeze, lower the worker number to avoid potential slowness/freeze if necessary.\n",
      "  warnings.warn(_create_warning_msg(\n"
     ]
    },
    {
     "name": "stdout",
     "output_type": "stream",
     "text": [
      "[Epoch Train: 9] loss: 0.6924, time: 70.00 s            \n",
      "[Epoch Valid: 9] loss: 0.7144, auc: 0.6051, time: 16.00 s\n",
      "EPOCH: 10\n"
     ]
    },
    {
     "name": "stderr",
     "output_type": "stream",
     "text": [
      "/opt/conda/lib/python3.10/site-packages/torch/utils/data/dataloader.py:561: UserWarning: This DataLoader will create 8 worker processes in total. Our suggested max number of worker in current system is 4, which is smaller than what this DataLoader is going to create. Please be aware that excessive worker creation might get DataLoader running slow or even freeze, lower the worker number to avoid potential slowness/freeze if necessary.\n",
      "  warnings.warn(_create_warning_msg(\n"
     ]
    },
    {
     "name": "stdout",
     "output_type": "stream",
     "text": [
      "[Epoch Train: 10] loss: 0.6922, time: 69.00 s            \n",
      "[Epoch Valid: 10] loss: 0.6933, auc: 0.6148, time: 16.00 s\n",
      "(468, 3) (117, 3)\n"
     ]
    },
    {
     "data": {
      "text/html": [
       "<div>\n",
       "<style scoped>\n",
       "    .dataframe tbody tr th:only-of-type {\n",
       "        vertical-align: middle;\n",
       "    }\n",
       "\n",
       "    .dataframe tbody tr th {\n",
       "        vertical-align: top;\n",
       "    }\n",
       "\n",
       "    .dataframe thead th {\n",
       "        text-align: right;\n",
       "    }\n",
       "</style>\n",
       "<table border=\"1\" class=\"dataframe\">\n",
       "  <thead>\n",
       "    <tr style=\"text-align: right;\">\n",
       "      <th></th>\n",
       "      <th>BraTS21ID</th>\n",
       "      <th>MGMT_value</th>\n",
       "      <th>MRI_Type</th>\n",
       "    </tr>\n",
       "  </thead>\n",
       "  <tbody>\n",
       "    <tr>\n",
       "      <th>446</th>\n",
       "      <td>645</td>\n",
       "      <td>0</td>\n",
       "      <td>T1w</td>\n",
       "    </tr>\n",
       "    <tr>\n",
       "      <th>529</th>\n",
       "      <td>777</td>\n",
       "      <td>1</td>\n",
       "      <td>T1w</td>\n",
       "    </tr>\n",
       "    <tr>\n",
       "      <th>420</th>\n",
       "      <td>607</td>\n",
       "      <td>1</td>\n",
       "      <td>T1w</td>\n",
       "    </tr>\n",
       "    <tr>\n",
       "      <th>406</th>\n",
       "      <td>589</td>\n",
       "      <td>0</td>\n",
       "      <td>T1w</td>\n",
       "    </tr>\n",
       "    <tr>\n",
       "      <th>475</th>\n",
       "      <td>690</td>\n",
       "      <td>1</td>\n",
       "      <td>T1w</td>\n",
       "    </tr>\n",
       "  </tbody>\n",
       "</table>\n",
       "</div>"
      ],
      "text/plain": [
       "     BraTS21ID  MGMT_value MRI_Type\n",
       "446        645           0      T1w\n",
       "529        777           1      T1w\n",
       "420        607           1      T1w\n",
       "406        589           0      T1w\n",
       "475        690           1      T1w"
      ]
     },
     "metadata": {},
     "output_type": "display_data"
    },
    {
     "name": "stderr",
     "output_type": "stream",
     "text": [
      "/opt/conda/lib/python3.10/site-packages/torch/utils/data/dataloader.py:561: UserWarning: This DataLoader will create 8 worker processes in total. Our suggested max number of worker in current system is 4, which is smaller than what this DataLoader is going to create. Please be aware that excessive worker creation might get DataLoader running slow or even freeze, lower the worker number to avoid potential slowness/freeze if necessary.\n",
      "  warnings.warn(_create_warning_msg(\n"
     ]
    },
    {
     "name": "stdout",
     "output_type": "stream",
     "text": [
      "EPOCH: 1\n",
      "[Epoch Train: 1] loss: 0.8471, time: 71.00 s            \n",
      "[Epoch Valid: 1] loss: 0.8003, auc: 0.6136, time: 18.00 s\n",
      "auc improved from inf to 0.8003. Saved model to 'T1w-best.pth'\n",
      "EPOCH: 2\n"
     ]
    },
    {
     "name": "stderr",
     "output_type": "stream",
     "text": [
      "/opt/conda/lib/python3.10/site-packages/torch/utils/data/dataloader.py:561: UserWarning: This DataLoader will create 8 worker processes in total. Our suggested max number of worker in current system is 4, which is smaller than what this DataLoader is going to create. Please be aware that excessive worker creation might get DataLoader running slow or even freeze, lower the worker number to avoid potential slowness/freeze if necessary.\n",
      "  warnings.warn(_create_warning_msg(\n"
     ]
    },
    {
     "name": "stdout",
     "output_type": "stream",
     "text": [
      "[Epoch Train: 2] loss: 0.7234, time: 60.00 s            \n",
      "[Epoch Valid: 2] loss: 0.7166, auc: 0.5562, time: 14.00 s\n",
      "auc improved from 0.8003 to 0.7166. Saved model to 'T1w-best.pth'\n",
      "EPOCH: 3\n"
     ]
    },
    {
     "name": "stderr",
     "output_type": "stream",
     "text": [
      "/opt/conda/lib/python3.10/site-packages/torch/utils/data/dataloader.py:561: UserWarning: This DataLoader will create 8 worker processes in total. Our suggested max number of worker in current system is 4, which is smaller than what this DataLoader is going to create. Please be aware that excessive worker creation might get DataLoader running slow or even freeze, lower the worker number to avoid potential slowness/freeze if necessary.\n",
      "  warnings.warn(_create_warning_msg(\n"
     ]
    },
    {
     "name": "stdout",
     "output_type": "stream",
     "text": [
      "[Epoch Train: 3] loss: 0.7155, time: 58.00 s            \n",
      "[Epoch Valid: 3] loss: 0.6933, auc: 0.4618, time: 14.00 s\n",
      "auc improved from 0.7166 to 0.6933. Saved model to 'T1w-best.pth'\n",
      "EPOCH: 4\n"
     ]
    },
    {
     "name": "stderr",
     "output_type": "stream",
     "text": [
      "/opt/conda/lib/python3.10/site-packages/torch/utils/data/dataloader.py:561: UserWarning: This DataLoader will create 8 worker processes in total. Our suggested max number of worker in current system is 4, which is smaller than what this DataLoader is going to create. Please be aware that excessive worker creation might get DataLoader running slow or even freeze, lower the worker number to avoid potential slowness/freeze if necessary.\n",
      "  warnings.warn(_create_warning_msg(\n"
     ]
    },
    {
     "name": "stdout",
     "output_type": "stream",
     "text": [
      "[Epoch Train: 4] loss: 0.7012, time: 59.00 s            \n",
      "[Epoch Valid: 4] loss: 0.6930, auc: 0.5899, time: 14.00 s\n",
      "auc improved from 0.6933 to 0.6930. Saved model to 'T1w-best.pth'\n",
      "EPOCH: 5\n"
     ]
    },
    {
     "name": "stderr",
     "output_type": "stream",
     "text": [
      "/opt/conda/lib/python3.10/site-packages/torch/utils/data/dataloader.py:561: UserWarning: This DataLoader will create 8 worker processes in total. Our suggested max number of worker in current system is 4, which is smaller than what this DataLoader is going to create. Please be aware that excessive worker creation might get DataLoader running slow or even freeze, lower the worker number to avoid potential slowness/freeze if necessary.\n",
      "  warnings.warn(_create_warning_msg(\n"
     ]
    },
    {
     "name": "stdout",
     "output_type": "stream",
     "text": [
      "[Epoch Train: 5] loss: 0.6935, time: 59.00 s            \n",
      "[Epoch Valid: 5] loss: 0.6923, auc: 0.5746, time: 14.00 s\n",
      "auc improved from 0.6930 to 0.6923. Saved model to 'T1w-best.pth'\n",
      "EPOCH: 6\n"
     ]
    },
    {
     "name": "stderr",
     "output_type": "stream",
     "text": [
      "/opt/conda/lib/python3.10/site-packages/torch/utils/data/dataloader.py:561: UserWarning: This DataLoader will create 8 worker processes in total. Our suggested max number of worker in current system is 4, which is smaller than what this DataLoader is going to create. Please be aware that excessive worker creation might get DataLoader running slow or even freeze, lower the worker number to avoid potential slowness/freeze if necessary.\n",
      "  warnings.warn(_create_warning_msg(\n"
     ]
    },
    {
     "name": "stdout",
     "output_type": "stream",
     "text": [
      "[Epoch Train: 6] loss: 0.6956, time: 60.00 s            \n",
      "[Epoch Valid: 6] loss: 0.6930, auc: 0.5237, time: 14.00 s\n",
      "EPOCH: 7\n"
     ]
    },
    {
     "name": "stderr",
     "output_type": "stream",
     "text": [
      "/opt/conda/lib/python3.10/site-packages/torch/utils/data/dataloader.py:561: UserWarning: This DataLoader will create 8 worker processes in total. Our suggested max number of worker in current system is 4, which is smaller than what this DataLoader is going to create. Please be aware that excessive worker creation might get DataLoader running slow or even freeze, lower the worker number to avoid potential slowness/freeze if necessary.\n",
      "  warnings.warn(_create_warning_msg(\n"
     ]
    },
    {
     "name": "stdout",
     "output_type": "stream",
     "text": [
      "[Epoch Train: 7] loss: 0.6918, time: 60.00 s            \n",
      "[Epoch Valid: 7] loss: 0.6930, auc: 0.5446, time: 14.00 s\n",
      "EPOCH: 8\n"
     ]
    },
    {
     "name": "stderr",
     "output_type": "stream",
     "text": [
      "/opt/conda/lib/python3.10/site-packages/torch/utils/data/dataloader.py:561: UserWarning: This DataLoader will create 8 worker processes in total. Our suggested max number of worker in current system is 4, which is smaller than what this DataLoader is going to create. Please be aware that excessive worker creation might get DataLoader running slow or even freeze, lower the worker number to avoid potential slowness/freeze if necessary.\n",
      "  warnings.warn(_create_warning_msg(\n"
     ]
    },
    {
     "name": "stdout",
     "output_type": "stream",
     "text": [
      "[Epoch Train: 8] loss: 0.6920, time: 59.00 s            \n",
      "[Epoch Valid: 8] loss: 0.6928, auc: 0.5629, time: 14.00 s\n",
      "EPOCH: 9\n"
     ]
    },
    {
     "name": "stderr",
     "output_type": "stream",
     "text": [
      "/opt/conda/lib/python3.10/site-packages/torch/utils/data/dataloader.py:561: UserWarning: This DataLoader will create 8 worker processes in total. Our suggested max number of worker in current system is 4, which is smaller than what this DataLoader is going to create. Please be aware that excessive worker creation might get DataLoader running slow or even freeze, lower the worker number to avoid potential slowness/freeze if necessary.\n",
      "  warnings.warn(_create_warning_msg(\n"
     ]
    },
    {
     "name": "stdout",
     "output_type": "stream",
     "text": [
      "[Epoch Train: 9] loss: 0.6922, time: 60.00 s            \n",
      "[Epoch Valid: 9] loss: 0.6928, auc: 0.5480, time: 14.00 s\n",
      "EPOCH: 10\n"
     ]
    },
    {
     "name": "stderr",
     "output_type": "stream",
     "text": [
      "/opt/conda/lib/python3.10/site-packages/torch/utils/data/dataloader.py:561: UserWarning: This DataLoader will create 8 worker processes in total. Our suggested max number of worker in current system is 4, which is smaller than what this DataLoader is going to create. Please be aware that excessive worker creation might get DataLoader running slow or even freeze, lower the worker number to avoid potential slowness/freeze if necessary.\n",
      "  warnings.warn(_create_warning_msg(\n"
     ]
    },
    {
     "name": "stdout",
     "output_type": "stream",
     "text": [
      "[Epoch Train: 10] loss: 0.6945, time: 61.00 s            \n",
      "[Epoch Valid: 10] loss: 0.6929, auc: 0.6126, time: 14.00 s\n",
      "(468, 3) (117, 3)\n"
     ]
    },
    {
     "data": {
      "text/html": [
       "<div>\n",
       "<style scoped>\n",
       "    .dataframe tbody tr th:only-of-type {\n",
       "        vertical-align: middle;\n",
       "    }\n",
       "\n",
       "    .dataframe tbody tr th {\n",
       "        vertical-align: top;\n",
       "    }\n",
       "\n",
       "    .dataframe thead th {\n",
       "        text-align: right;\n",
       "    }\n",
       "</style>\n",
       "<table border=\"1\" class=\"dataframe\">\n",
       "  <thead>\n",
       "    <tr style=\"text-align: right;\">\n",
       "      <th></th>\n",
       "      <th>BraTS21ID</th>\n",
       "      <th>MGMT_value</th>\n",
       "      <th>MRI_Type</th>\n",
       "    </tr>\n",
       "  </thead>\n",
       "  <tbody>\n",
       "    <tr>\n",
       "      <th>446</th>\n",
       "      <td>645</td>\n",
       "      <td>0</td>\n",
       "      <td>T1wCE</td>\n",
       "    </tr>\n",
       "    <tr>\n",
       "      <th>529</th>\n",
       "      <td>777</td>\n",
       "      <td>1</td>\n",
       "      <td>T1wCE</td>\n",
       "    </tr>\n",
       "    <tr>\n",
       "      <th>420</th>\n",
       "      <td>607</td>\n",
       "      <td>1</td>\n",
       "      <td>T1wCE</td>\n",
       "    </tr>\n",
       "    <tr>\n",
       "      <th>406</th>\n",
       "      <td>589</td>\n",
       "      <td>0</td>\n",
       "      <td>T1wCE</td>\n",
       "    </tr>\n",
       "    <tr>\n",
       "      <th>475</th>\n",
       "      <td>690</td>\n",
       "      <td>1</td>\n",
       "      <td>T1wCE</td>\n",
       "    </tr>\n",
       "  </tbody>\n",
       "</table>\n",
       "</div>"
      ],
      "text/plain": [
       "     BraTS21ID  MGMT_value MRI_Type\n",
       "446        645           0    T1wCE\n",
       "529        777           1    T1wCE\n",
       "420        607           1    T1wCE\n",
       "406        589           0    T1wCE\n",
       "475        690           1    T1wCE"
      ]
     },
     "metadata": {},
     "output_type": "display_data"
    },
    {
     "name": "stderr",
     "output_type": "stream",
     "text": [
      "/opt/conda/lib/python3.10/site-packages/torch/utils/data/dataloader.py:561: UserWarning: This DataLoader will create 8 worker processes in total. Our suggested max number of worker in current system is 4, which is smaller than what this DataLoader is going to create. Please be aware that excessive worker creation might get DataLoader running slow or even freeze, lower the worker number to avoid potential slowness/freeze if necessary.\n",
      "  warnings.warn(_create_warning_msg(\n"
     ]
    },
    {
     "name": "stdout",
     "output_type": "stream",
     "text": [
      "EPOCH: 1\n",
      "[Epoch Train: 1] loss: 0.8226, time: 83.00 s            \n",
      "[Epoch Valid: 1] loss: 0.6999, auc: 0.5626, time: 20.00 s\n",
      "auc improved from inf to 0.6999. Saved model to 'T1wCE-best.pth'\n",
      "EPOCH: 2\n"
     ]
    },
    {
     "name": "stderr",
     "output_type": "stream",
     "text": [
      "/opt/conda/lib/python3.10/site-packages/torch/utils/data/dataloader.py:561: UserWarning: This DataLoader will create 8 worker processes in total. Our suggested max number of worker in current system is 4, which is smaller than what this DataLoader is going to create. Please be aware that excessive worker creation might get DataLoader running slow or even freeze, lower the worker number to avoid potential slowness/freeze if necessary.\n",
      "  warnings.warn(_create_warning_msg(\n"
     ]
    },
    {
     "name": "stdout",
     "output_type": "stream",
     "text": [
      "[Epoch Train: 2] loss: 0.7019, time: 70.00 s            \n",
      "[Epoch Valid: 2] loss: 0.6931, auc: 0.4201, time: 18.00 s\n",
      "auc improved from 0.6999 to 0.6931. Saved model to 'T1wCE-best.pth'\n",
      "EPOCH: 3\n"
     ]
    },
    {
     "name": "stderr",
     "output_type": "stream",
     "text": [
      "/opt/conda/lib/python3.10/site-packages/torch/utils/data/dataloader.py:561: UserWarning: This DataLoader will create 8 worker processes in total. Our suggested max number of worker in current system is 4, which is smaller than what this DataLoader is going to create. Please be aware that excessive worker creation might get DataLoader running slow or even freeze, lower the worker number to avoid potential slowness/freeze if necessary.\n",
      "  warnings.warn(_create_warning_msg(\n"
     ]
    },
    {
     "name": "stdout",
     "output_type": "stream",
     "text": [
      "[Epoch Train: 3] loss: 0.6981, time: 69.00 s            \n",
      "[Epoch Valid: 3] loss: 0.6931, auc: 0.4081, time: 15.00 s\n",
      "auc improved from 0.6931 to 0.6931. Saved model to 'T1wCE-best.pth'\n",
      "EPOCH: 4\n"
     ]
    },
    {
     "name": "stderr",
     "output_type": "stream",
     "text": [
      "/opt/conda/lib/python3.10/site-packages/torch/utils/data/dataloader.py:561: UserWarning: This DataLoader will create 8 worker processes in total. Our suggested max number of worker in current system is 4, which is smaller than what this DataLoader is going to create. Please be aware that excessive worker creation might get DataLoader running slow or even freeze, lower the worker number to avoid potential slowness/freeze if necessary.\n",
      "  warnings.warn(_create_warning_msg(\n"
     ]
    },
    {
     "name": "stdout",
     "output_type": "stream",
     "text": [
      "[Epoch Train: 4] loss: 0.7007, time: 65.00 s            \n",
      "[Epoch Valid: 4] loss: 0.6934, auc: 0.5360, time: 16.00 s\n",
      "EPOCH: 5\n"
     ]
    },
    {
     "name": "stderr",
     "output_type": "stream",
     "text": [
      "/opt/conda/lib/python3.10/site-packages/torch/utils/data/dataloader.py:561: UserWarning: This DataLoader will create 8 worker processes in total. Our suggested max number of worker in current system is 4, which is smaller than what this DataLoader is going to create. Please be aware that excessive worker creation might get DataLoader running slow or even freeze, lower the worker number to avoid potential slowness/freeze if necessary.\n",
      "  warnings.warn(_create_warning_msg(\n"
     ]
    },
    {
     "name": "stdout",
     "output_type": "stream",
     "text": [
      "[Epoch Train: 5] loss: 0.6936, time: 64.00 s            \n",
      "[Epoch Valid: 5] loss: 0.6930, auc: 0.4807, time: 15.00 s\n",
      "auc improved from 0.6931 to 0.6930. Saved model to 'T1wCE-best.pth'\n",
      "EPOCH: 6\n"
     ]
    },
    {
     "name": "stderr",
     "output_type": "stream",
     "text": [
      "/opt/conda/lib/python3.10/site-packages/torch/utils/data/dataloader.py:561: UserWarning: This DataLoader will create 8 worker processes in total. Our suggested max number of worker in current system is 4, which is smaller than what this DataLoader is going to create. Please be aware that excessive worker creation might get DataLoader running slow or even freeze, lower the worker number to avoid potential slowness/freeze if necessary.\n",
      "  warnings.warn(_create_warning_msg(\n"
     ]
    },
    {
     "name": "stdout",
     "output_type": "stream",
     "text": [
      "[Epoch Train: 6] loss: 0.6931, time: 66.00 s            \n",
      "[Epoch Valid: 6] loss: 0.6930, auc: 0.5907, time: 16.00 s\n",
      "EPOCH: 7\n"
     ]
    },
    {
     "name": "stderr",
     "output_type": "stream",
     "text": [
      "/opt/conda/lib/python3.10/site-packages/torch/utils/data/dataloader.py:561: UserWarning: This DataLoader will create 8 worker processes in total. Our suggested max number of worker in current system is 4, which is smaller than what this DataLoader is going to create. Please be aware that excessive worker creation might get DataLoader running slow or even freeze, lower the worker number to avoid potential slowness/freeze if necessary.\n",
      "  warnings.warn(_create_warning_msg(\n"
     ]
    },
    {
     "name": "stdout",
     "output_type": "stream",
     "text": [
      "[Epoch Train: 7] loss: 0.6930, time: 68.00 s            \n",
      "[Epoch Valid: 7] loss: 0.6979, auc: 0.4153, time: 15.00 s\n",
      "EPOCH: 8\n"
     ]
    },
    {
     "name": "stderr",
     "output_type": "stream",
     "text": [
      "/opt/conda/lib/python3.10/site-packages/torch/utils/data/dataloader.py:561: UserWarning: This DataLoader will create 8 worker processes in total. Our suggested max number of worker in current system is 4, which is smaller than what this DataLoader is going to create. Please be aware that excessive worker creation might get DataLoader running slow or even freeze, lower the worker number to avoid potential slowness/freeze if necessary.\n",
      "  warnings.warn(_create_warning_msg(\n"
     ]
    },
    {
     "name": "stdout",
     "output_type": "stream",
     "text": [
      "[Epoch Train: 8] loss: 0.6964, time: 65.00 s            \n",
      "[Epoch Valid: 8] loss: 0.6941, auc: 0.5430, time: 15.00 s\n",
      "EPOCH: 9\n"
     ]
    },
    {
     "name": "stderr",
     "output_type": "stream",
     "text": [
      "/opt/conda/lib/python3.10/site-packages/torch/utils/data/dataloader.py:561: UserWarning: This DataLoader will create 8 worker processes in total. Our suggested max number of worker in current system is 4, which is smaller than what this DataLoader is going to create. Please be aware that excessive worker creation might get DataLoader running slow or even freeze, lower the worker number to avoid potential slowness/freeze if necessary.\n",
      "  warnings.warn(_create_warning_msg(\n"
     ]
    },
    {
     "name": "stdout",
     "output_type": "stream",
     "text": [
      "[Epoch Train: 9] loss: 0.6992, time: 68.00 s            \n",
      "[Epoch Valid: 9] loss: 0.6981, auc: 0.4180, time: 16.00 s\n",
      "EPOCH: 10\n"
     ]
    },
    {
     "name": "stderr",
     "output_type": "stream",
     "text": [
      "/opt/conda/lib/python3.10/site-packages/torch/utils/data/dataloader.py:561: UserWarning: This DataLoader will create 8 worker processes in total. Our suggested max number of worker in current system is 4, which is smaller than what this DataLoader is going to create. Please be aware that excessive worker creation might get DataLoader running slow or even freeze, lower the worker number to avoid potential slowness/freeze if necessary.\n",
      "  warnings.warn(_create_warning_msg(\n"
     ]
    },
    {
     "name": "stdout",
     "output_type": "stream",
     "text": [
      "[Epoch Train: 10] loss: 0.6960, time: 68.00 s            \n",
      "[Epoch Valid: 10] loss: 0.6935, auc: 0.5704, time: 15.00 s\n",
      "(468, 3) (117, 3)\n"
     ]
    },
    {
     "data": {
      "text/html": [
       "<div>\n",
       "<style scoped>\n",
       "    .dataframe tbody tr th:only-of-type {\n",
       "        vertical-align: middle;\n",
       "    }\n",
       "\n",
       "    .dataframe tbody tr th {\n",
       "        vertical-align: top;\n",
       "    }\n",
       "\n",
       "    .dataframe thead th {\n",
       "        text-align: right;\n",
       "    }\n",
       "</style>\n",
       "<table border=\"1\" class=\"dataframe\">\n",
       "  <thead>\n",
       "    <tr style=\"text-align: right;\">\n",
       "      <th></th>\n",
       "      <th>BraTS21ID</th>\n",
       "      <th>MGMT_value</th>\n",
       "      <th>MRI_Type</th>\n",
       "    </tr>\n",
       "  </thead>\n",
       "  <tbody>\n",
       "    <tr>\n",
       "      <th>446</th>\n",
       "      <td>645</td>\n",
       "      <td>0</td>\n",
       "      <td>T2w</td>\n",
       "    </tr>\n",
       "    <tr>\n",
       "      <th>529</th>\n",
       "      <td>777</td>\n",
       "      <td>1</td>\n",
       "      <td>T2w</td>\n",
       "    </tr>\n",
       "    <tr>\n",
       "      <th>420</th>\n",
       "      <td>607</td>\n",
       "      <td>1</td>\n",
       "      <td>T2w</td>\n",
       "    </tr>\n",
       "    <tr>\n",
       "      <th>406</th>\n",
       "      <td>589</td>\n",
       "      <td>0</td>\n",
       "      <td>T2w</td>\n",
       "    </tr>\n",
       "    <tr>\n",
       "      <th>475</th>\n",
       "      <td>690</td>\n",
       "      <td>1</td>\n",
       "      <td>T2w</td>\n",
       "    </tr>\n",
       "  </tbody>\n",
       "</table>\n",
       "</div>"
      ],
      "text/plain": [
       "     BraTS21ID  MGMT_value MRI_Type\n",
       "446        645           0      T2w\n",
       "529        777           1      T2w\n",
       "420        607           1      T2w\n",
       "406        589           0      T2w\n",
       "475        690           1      T2w"
      ]
     },
     "metadata": {},
     "output_type": "display_data"
    },
    {
     "name": "stderr",
     "output_type": "stream",
     "text": [
      "/opt/conda/lib/python3.10/site-packages/torch/utils/data/dataloader.py:561: UserWarning: This DataLoader will create 8 worker processes in total. Our suggested max number of worker in current system is 4, which is smaller than what this DataLoader is going to create. Please be aware that excessive worker creation might get DataLoader running slow or even freeze, lower the worker number to avoid potential slowness/freeze if necessary.\n",
      "  warnings.warn(_create_warning_msg(\n"
     ]
    },
    {
     "name": "stdout",
     "output_type": "stream",
     "text": [
      "EPOCH: 1\n",
      "[Epoch Train: 1] loss: 0.8814, time: 86.00 s            \n",
      "[Epoch Valid: 1] loss: 0.7164, auc: 0.5647, time: 21.00 s\n",
      "auc improved from inf to 0.7164. Saved model to 'T2w-best.pth'\n",
      "EPOCH: 2\n"
     ]
    },
    {
     "name": "stderr",
     "output_type": "stream",
     "text": [
      "/opt/conda/lib/python3.10/site-packages/torch/utils/data/dataloader.py:561: UserWarning: This DataLoader will create 8 worker processes in total. Our suggested max number of worker in current system is 4, which is smaller than what this DataLoader is going to create. Please be aware that excessive worker creation might get DataLoader running slow or even freeze, lower the worker number to avoid potential slowness/freeze if necessary.\n",
      "  warnings.warn(_create_warning_msg(\n"
     ]
    },
    {
     "name": "stdout",
     "output_type": "stream",
     "text": [
      "[Epoch Train: 2] loss: 0.6999, time: 71.00 s            \n",
      "[Epoch Valid: 2] loss: 0.6927, auc: 0.5811, time: 15.00 s\n",
      "auc improved from 0.7164 to 0.6927. Saved model to 'T2w-best.pth'\n",
      "EPOCH: 3\n"
     ]
    },
    {
     "name": "stderr",
     "output_type": "stream",
     "text": [
      "/opt/conda/lib/python3.10/site-packages/torch/utils/data/dataloader.py:561: UserWarning: This DataLoader will create 8 worker processes in total. Our suggested max number of worker in current system is 4, which is smaller than what this DataLoader is going to create. Please be aware that excessive worker creation might get DataLoader running slow or even freeze, lower the worker number to avoid potential slowness/freeze if necessary.\n",
      "  warnings.warn(_create_warning_msg(\n"
     ]
    },
    {
     "name": "stdout",
     "output_type": "stream",
     "text": [
      "[Epoch Train: 3] loss: 0.6952, time: 73.00 s            \n",
      "[Epoch Valid: 3] loss: 0.6936, auc: 0.5665, time: 16.00 s\n",
      "EPOCH: 4\n"
     ]
    },
    {
     "name": "stderr",
     "output_type": "stream",
     "text": [
      "/opt/conda/lib/python3.10/site-packages/torch/utils/data/dataloader.py:561: UserWarning: This DataLoader will create 8 worker processes in total. Our suggested max number of worker in current system is 4, which is smaller than what this DataLoader is going to create. Please be aware that excessive worker creation might get DataLoader running slow or even freeze, lower the worker number to avoid potential slowness/freeze if necessary.\n",
      "  warnings.warn(_create_warning_msg(\n"
     ]
    },
    {
     "name": "stdout",
     "output_type": "stream",
     "text": [
      "[Epoch Train: 4] loss: 0.6969, time: 74.00 s            \n",
      "[Epoch Valid: 4] loss: 0.6933, auc: 0.4977, time: 16.00 s\n",
      "EPOCH: 5\n"
     ]
    },
    {
     "name": "stderr",
     "output_type": "stream",
     "text": [
      "/opt/conda/lib/python3.10/site-packages/torch/utils/data/dataloader.py:561: UserWarning: This DataLoader will create 8 worker processes in total. Our suggested max number of worker in current system is 4, which is smaller than what this DataLoader is going to create. Please be aware that excessive worker creation might get DataLoader running slow or even freeze, lower the worker number to avoid potential slowness/freeze if necessary.\n",
      "  warnings.warn(_create_warning_msg(\n"
     ]
    },
    {
     "name": "stdout",
     "output_type": "stream",
     "text": [
      "[Epoch Train: 5] loss: 0.6955, time: 72.00 s            \n",
      "[Epoch Valid: 5] loss: 0.6930, auc: 0.5474, time: 17.00 s\n",
      "EPOCH: 6\n"
     ]
    },
    {
     "name": "stderr",
     "output_type": "stream",
     "text": [
      "/opt/conda/lib/python3.10/site-packages/torch/utils/data/dataloader.py:561: UserWarning: This DataLoader will create 8 worker processes in total. Our suggested max number of worker in current system is 4, which is smaller than what this DataLoader is going to create. Please be aware that excessive worker creation might get DataLoader running slow or even freeze, lower the worker number to avoid potential slowness/freeze if necessary.\n",
      "  warnings.warn(_create_warning_msg(\n"
     ]
    },
    {
     "name": "stdout",
     "output_type": "stream",
     "text": [
      "[Epoch Train: 6] loss: 0.6938, time: 72.00 s            \n",
      "[Epoch Valid: 6] loss: 0.6930, auc: 0.6177, time: 16.00 s\n",
      "EPOCH: 7\n"
     ]
    },
    {
     "name": "stderr",
     "output_type": "stream",
     "text": [
      "/opt/conda/lib/python3.10/site-packages/torch/utils/data/dataloader.py:561: UserWarning: This DataLoader will create 8 worker processes in total. Our suggested max number of worker in current system is 4, which is smaller than what this DataLoader is going to create. Please be aware that excessive worker creation might get DataLoader running slow or even freeze, lower the worker number to avoid potential slowness/freeze if necessary.\n",
      "  warnings.warn(_create_warning_msg(\n"
     ]
    },
    {
     "name": "stdout",
     "output_type": "stream",
     "text": [
      "[Epoch Train: 7] loss: 0.6923, time: 72.00 s            \n",
      "[Epoch Valid: 7] loss: 0.6929, auc: 0.6445, time: 16.00 s\n",
      "EPOCH: 8\n"
     ]
    },
    {
     "name": "stderr",
     "output_type": "stream",
     "text": [
      "/opt/conda/lib/python3.10/site-packages/torch/utils/data/dataloader.py:561: UserWarning: This DataLoader will create 8 worker processes in total. Our suggested max number of worker in current system is 4, which is smaller than what this DataLoader is going to create. Please be aware that excessive worker creation might get DataLoader running slow or even freeze, lower the worker number to avoid potential slowness/freeze if necessary.\n",
      "  warnings.warn(_create_warning_msg(\n"
     ]
    },
    {
     "name": "stdout",
     "output_type": "stream",
     "text": [
      "[Epoch Train: 8] loss: 0.6950, time: 74.00 s            \n",
      "[Epoch Valid: 8] loss: 0.6930, auc: 0.6511, time: 16.00 s\n",
      "EPOCH: 9\n"
     ]
    },
    {
     "name": "stderr",
     "output_type": "stream",
     "text": [
      "/opt/conda/lib/python3.10/site-packages/torch/utils/data/dataloader.py:561: UserWarning: This DataLoader will create 8 worker processes in total. Our suggested max number of worker in current system is 4, which is smaller than what this DataLoader is going to create. Please be aware that excessive worker creation might get DataLoader running slow or even freeze, lower the worker number to avoid potential slowness/freeze if necessary.\n",
      "  warnings.warn(_create_warning_msg(\n"
     ]
    },
    {
     "name": "stdout",
     "output_type": "stream",
     "text": [
      "[Epoch Train: 9] loss: 0.6934, time: 72.00 s            \n",
      "[Epoch Valid: 9] loss: 0.6928, auc: 0.6424, time: 17.00 s\n",
      "EPOCH: 10\n"
     ]
    },
    {
     "name": "stderr",
     "output_type": "stream",
     "text": [
      "/opt/conda/lib/python3.10/site-packages/torch/utils/data/dataloader.py:561: UserWarning: This DataLoader will create 8 worker processes in total. Our suggested max number of worker in current system is 4, which is smaller than what this DataLoader is going to create. Please be aware that excessive worker creation might get DataLoader running slow or even freeze, lower the worker number to avoid potential slowness/freeze if necessary.\n",
      "  warnings.warn(_create_warning_msg(\n"
     ]
    },
    {
     "name": "stdout",
     "output_type": "stream",
     "text": [
      "[Epoch Train: 10] loss: 0.6944, time: 73.00 s            \n",
      "[Epoch Valid: 10] loss: 0.6928, auc: 0.6446, time: 17.00 s\n",
      "['FLAIR-best.pth', 'T1w-best.pth', 'T1wCE-best.pth', 'T2w-best.pth']\n"
     ]
    }
   ],
   "source": [
    "device = torch.device(\"cuda\" if torch.cuda.is_available() else \"cpu\")\n",
    "\n",
    "def train_mri_type(df_train, df_valid, mri_type):\n",
    "    if mri_type==\"all\":\n",
    "        train_list = []\n",
    "        valid_list = []\n",
    "        for mri_type in mri_types:\n",
    "            df_train.loc[:,\"MRI_Type\"] = mri_type\n",
    "            train_list.append(df_train.copy())\n",
    "            df_valid.loc[:,\"MRI_Type\"] = mri_type\n",
    "            valid_list.append(df_valid.copy())\n",
    "\n",
    "        df_train = pd.concat(train_list)\n",
    "        df_valid = pd.concat(valid_list)\n",
    "    else:\n",
    "        df_train.loc[:,\"MRI_Type\"] = mri_type\n",
    "        df_valid.loc[:,\"MRI_Type\"] = mri_type\n",
    "\n",
    "    print(df_train.shape, df_valid.shape)\n",
    "    display(df_train.head())\n",
    "    \n",
    "    train_data_retriever = Dataset(\n",
    "        df_train[\"BraTS21ID\"].values, \n",
    "        df_train[\"MGMT_value\"].values, \n",
    "        df_train[\"MRI_Type\"].values,\n",
    "        augment=True\n",
    "    )\n",
    "\n",
    "    valid_data_retriever = Dataset(\n",
    "        df_valid[\"BraTS21ID\"].values, \n",
    "        df_valid[\"MGMT_value\"].values,\n",
    "        df_valid[\"MRI_Type\"].values\n",
    "    )\n",
    "\n",
    "    train_loader = torch_data.DataLoader(\n",
    "        train_data_retriever,\n",
    "        batch_size=4,\n",
    "        shuffle=True,\n",
    "        num_workers=8,pin_memory = True\n",
    "    )\n",
    "\n",
    "    valid_loader = torch_data.DataLoader(\n",
    "        valid_data_retriever, \n",
    "        batch_size=4,\n",
    "        shuffle=False,\n",
    "        num_workers=8,pin_memory = True\n",
    "    )\n",
    "\n",
    "    model = Model(\n",
    "        image_size = 256,\n",
    "        frames = 64,\n",
    "        patch_size = 16,\n",
    "        num_classes = 1,\n",
    "        dim = 2048,\n",
    "        dim_head=64,\n",
    "        depth = 2,\n",
    "        heads = 16,\n",
    "        mlp_dim = 2048,\n",
    "        channels = 1,\n",
    "        dropout = 0.1,\n",
    "        emb_dropout = 0.1\n",
    "    )\n",
    "    model.to(device)\n",
    "\n",
    "    optimizer = torch.optim.Adam(model.parameters(), lr=0.001)\n",
    "\n",
    "\n",
    "    criterion = torch_functional.binary_cross_entropy_with_logits\n",
    "\n",
    "    trainer = Trainer(\n",
    "        model, \n",
    "        device, \n",
    "        optimizer, \n",
    "        criterion\n",
    "    )\n",
    "\n",
    "    history = trainer.fit(\n",
    "        10, \n",
    "        train_loader, \n",
    "        valid_loader, \n",
    "        f\"{mri_type}\", \n",
    "        10,\n",
    "    )\n",
    "    \n",
    "    return trainer.lastmodel\n",
    "\n",
    "modelfiles = None\n",
    "\n",
    "if not modelfiles:\n",
    "    modelfiles = [train_mri_type(df_train, df_valid, m) for m in mri_types]\n",
    "    print(modelfiles)\n"
   ]
  },
  {
   "cell_type": "markdown",
   "id": "18a6f240",
   "metadata": {
    "papermill": {
     "duration": 0.433983,
     "end_time": "2024-01-04T14:34:19.519558",
     "exception": false,
     "start_time": "2024-01-04T14:34:19.085575",
     "status": "completed"
    },
    "tags": []
   },
   "source": [
    "## Predict function"
   ]
  },
  {
   "cell_type": "code",
   "execution_count": 14,
   "id": "6e9d8423",
   "metadata": {
    "execution": {
     "iopub.execute_input": "2024-01-04T14:34:20.422048Z",
     "iopub.status.busy": "2024-01-04T14:34:20.421107Z",
     "iopub.status.idle": "2024-01-04T14:34:20.436725Z",
     "shell.execute_reply": "2024-01-04T14:34:20.435643Z"
    },
    "papermill": {
     "duration": 0.472292,
     "end_time": "2024-01-04T14:34:20.438730",
     "exception": false,
     "start_time": "2024-01-04T14:34:19.966438",
     "status": "completed"
    },
    "tags": []
   },
   "outputs": [],
   "source": [
    "def predict(modelfile, df, mri_type, split):\n",
    "    print(\"Predict:\", modelfile, mri_type, df.shape)\n",
    "    df.loc[:,\"MRI_Type\"] = mri_type\n",
    "    data_retriever = Dataset(\n",
    "        df.index.values, \n",
    "        mri_type=df[\"MRI_Type\"].values,\n",
    "        split=split\n",
    "    )\n",
    "\n",
    "    data_loader = torch_data.DataLoader(\n",
    "        data_retriever,\n",
    "        batch_size=4,\n",
    "        shuffle=False,\n",
    "        num_workers=8,\n",
    "    )\n",
    "   \n",
    "    model = Model(\n",
    "        image_size = 256,\n",
    "        frames = 64,\n",
    "        patch_size = 16,\n",
    "        num_classes = 1,\n",
    "        dim = 2048,\n",
    "        dim_head=64,\n",
    "        depth = 2,\n",
    "        heads = 16,\n",
    "        mlp_dim = 2048,\n",
    "        channels = 1,\n",
    "        dropout = 0.1,\n",
    "        emb_dropout = 0.1\n",
    "    )\n",
    "    model.to(device)\n",
    "    \n",
    "    checkpoint = torch.load(modelfile)\n",
    "    model.load_state_dict(checkpoint[\"model_state_dict\"])\n",
    "    model.eval()\n",
    "    \n",
    "    y_pred = []\n",
    "    ids = []\n",
    "\n",
    "    for e, batch in enumerate(data_loader,1):\n",
    "        print(f\"{e}/{len(data_loader)}\", end=\"\\r\")\n",
    "        with torch.no_grad():\n",
    "            tmp_pred = torch.sigmoid(model(batch[\"X\"].to(device))).cpu().numpy().squeeze()\n",
    "            if tmp_pred.size == 1:\n",
    "                y_pred.append(tmp_pred)\n",
    "            else:\n",
    "                y_pred.extend(tmp_pred.tolist())\n",
    "            ids.extend(batch[\"id\"].numpy().tolist())\n",
    "            \n",
    "    preddf = pd.DataFrame({\"BraTS21ID\": ids, \"MGMT_value\": y_pred}) \n",
    "    preddf = preddf.set_index(\"BraTS21ID\")\n",
    "    return preddf"
   ]
  },
  {
   "cell_type": "markdown",
   "id": "304f6810",
   "metadata": {
    "papermill": {
     "duration": 0.43993,
     "end_time": "2024-01-04T14:34:21.329814",
     "exception": false,
     "start_time": "2024-01-04T14:34:20.889884",
     "status": "completed"
    },
    "tags": []
   },
   "source": [
    "## Ensemble for validation"
   ]
  },
  {
   "cell_type": "code",
   "execution_count": 15,
   "id": "4a6bd1c2",
   "metadata": {
    "execution": {
     "iopub.execute_input": "2024-01-04T14:34:22.305626Z",
     "iopub.status.busy": "2024-01-04T14:34:22.305228Z",
     "iopub.status.idle": "2024-01-04T14:34:22.554729Z",
     "shell.execute_reply": "2024-01-04T14:34:22.553663Z"
    },
    "papermill": {
     "duration": 0.71885,
     "end_time": "2024-01-04T14:34:22.557326",
     "exception": false,
     "start_time": "2024-01-04T14:34:21.838476",
     "status": "completed"
    },
    "tags": []
   },
   "outputs": [],
   "source": [
    "from sklearn.linear_model import LogisticRegression\n",
    "\n",
    "# Create an logit model\n",
    "logit = LogisticRegression()\n",
    "\n"
   ]
  },
  {
   "cell_type": "code",
   "execution_count": 16,
   "id": "d3fd364a",
   "metadata": {
    "execution": {
     "iopub.execute_input": "2024-01-04T14:34:23.437638Z",
     "iopub.status.busy": "2024-01-04T14:34:23.436792Z",
     "iopub.status.idle": "2024-01-04T14:39:14.985440Z",
     "shell.execute_reply": "2024-01-04T14:39:14.984349Z"
    },
    "papermill": {
     "duration": 292.001722,
     "end_time": "2024-01-04T14:39:14.990563",
     "exception": false,
     "start_time": "2024-01-04T14:34:22.988841",
     "status": "completed"
    },
    "tags": []
   },
   "outputs": [
    {
     "name": "stdout",
     "output_type": "stream",
     "text": [
      "Predict: /kaggle/working/T1wCE-best.pth T1wCE (468, 7)\n"
     ]
    },
    {
     "name": "stderr",
     "output_type": "stream",
     "text": [
      "/opt/conda/lib/python3.10/site-packages/torch/utils/data/dataloader.py:561: UserWarning: This DataLoader will create 8 worker processes in total. Our suggested max number of worker in current system is 4, which is smaller than what this DataLoader is going to create. Please be aware that excessive worker creation might get DataLoader running slow or even freeze, lower the worker number to avoid potential slowness/freeze if necessary.\n",
      "  warnings.warn(_create_warning_msg(\n"
     ]
    },
    {
     "name": "stdout",
     "output_type": "stream",
     "text": [
      "Predict: /kaggle/working/T2w-best.pth T2w (468, 7)\n",
      "Predict: /kaggle/working/FLAIR-best.pth FLAIR (468, 7)\n",
      "Predict: /kaggle/working/T1w-best.pth T1w (468, 7)\n",
      "117/117\r"
     ]
    }
   ],
   "source": [
    "\n",
    "modelfiles = [\"/kaggle/working/T1wCE-best.pth\",\"/kaggle/working/T2w-best.pth\",\"/kaggle/working/FLAIR-best.pth\",\"/kaggle/working/T1w-best.pth\"]\n",
    "mri_types = [\"T1wCE\",\"T2w\",\"FLAIR\",\"T1w\"]\n",
    "\n",
    "df_train[\"FLAIR\"] = 0\n",
    "df_train[\"T1w\"] = 0\n",
    "df_train[\"T1wCE\"] = 0\n",
    "df_train[\"T2w\"] = 0\n",
    "\n",
    "\n",
    "df_train = df_train.set_index(\"BraTS21ID\")\n",
    "df_train[\"MGMT_pred\"] = 0\n",
    "for m, mtype in zip(modelfiles,  mri_types):\n",
    "    pred = predict(m, df_train, mtype, \"train\")\n",
    "    df_train[mtype] = pred[\"MGMT_value\"]\n",
    "\n",
    "    \n",
    "\n"
   ]
  },
  {
   "cell_type": "code",
   "execution_count": 17,
   "id": "86e17e5e",
   "metadata": {
    "execution": {
     "iopub.execute_input": "2024-01-04T14:39:15.941947Z",
     "iopub.status.busy": "2024-01-04T14:39:15.941537Z",
     "iopub.status.idle": "2024-01-04T14:39:16.002385Z",
     "shell.execute_reply": "2024-01-04T14:39:16.001588Z"
    },
    "papermill": {
     "duration": 0.556883,
     "end_time": "2024-01-04T14:39:16.004870",
     "exception": false,
     "start_time": "2024-01-04T14:39:15.447987",
     "status": "completed"
    },
    "tags": []
   },
   "outputs": [
    {
     "data": {
      "text/html": [
       "<style>#sk-container-id-1 {color: black;background-color: white;}#sk-container-id-1 pre{padding: 0;}#sk-container-id-1 div.sk-toggleable {background-color: white;}#sk-container-id-1 label.sk-toggleable__label {cursor: pointer;display: block;width: 100%;margin-bottom: 0;padding: 0.3em;box-sizing: border-box;text-align: center;}#sk-container-id-1 label.sk-toggleable__label-arrow:before {content: \"▸\";float: left;margin-right: 0.25em;color: #696969;}#sk-container-id-1 label.sk-toggleable__label-arrow:hover:before {color: black;}#sk-container-id-1 div.sk-estimator:hover label.sk-toggleable__label-arrow:before {color: black;}#sk-container-id-1 div.sk-toggleable__content {max-height: 0;max-width: 0;overflow: hidden;text-align: left;background-color: #f0f8ff;}#sk-container-id-1 div.sk-toggleable__content pre {margin: 0.2em;color: black;border-radius: 0.25em;background-color: #f0f8ff;}#sk-container-id-1 input.sk-toggleable__control:checked~div.sk-toggleable__content {max-height: 200px;max-width: 100%;overflow: auto;}#sk-container-id-1 input.sk-toggleable__control:checked~label.sk-toggleable__label-arrow:before {content: \"▾\";}#sk-container-id-1 div.sk-estimator input.sk-toggleable__control:checked~label.sk-toggleable__label {background-color: #d4ebff;}#sk-container-id-1 div.sk-label input.sk-toggleable__control:checked~label.sk-toggleable__label {background-color: #d4ebff;}#sk-container-id-1 input.sk-hidden--visually {border: 0;clip: rect(1px 1px 1px 1px);clip: rect(1px, 1px, 1px, 1px);height: 1px;margin: -1px;overflow: hidden;padding: 0;position: absolute;width: 1px;}#sk-container-id-1 div.sk-estimator {font-family: monospace;background-color: #f0f8ff;border: 1px dotted black;border-radius: 0.25em;box-sizing: border-box;margin-bottom: 0.5em;}#sk-container-id-1 div.sk-estimator:hover {background-color: #d4ebff;}#sk-container-id-1 div.sk-parallel-item::after {content: \"\";width: 100%;border-bottom: 1px solid gray;flex-grow: 1;}#sk-container-id-1 div.sk-label:hover label.sk-toggleable__label {background-color: #d4ebff;}#sk-container-id-1 div.sk-serial::before {content: \"\";position: absolute;border-left: 1px solid gray;box-sizing: border-box;top: 0;bottom: 0;left: 50%;z-index: 0;}#sk-container-id-1 div.sk-serial {display: flex;flex-direction: column;align-items: center;background-color: white;padding-right: 0.2em;padding-left: 0.2em;position: relative;}#sk-container-id-1 div.sk-item {position: relative;z-index: 1;}#sk-container-id-1 div.sk-parallel {display: flex;align-items: stretch;justify-content: center;background-color: white;position: relative;}#sk-container-id-1 div.sk-item::before, #sk-container-id-1 div.sk-parallel-item::before {content: \"\";position: absolute;border-left: 1px solid gray;box-sizing: border-box;top: 0;bottom: 0;left: 50%;z-index: -1;}#sk-container-id-1 div.sk-parallel-item {display: flex;flex-direction: column;z-index: 1;position: relative;background-color: white;}#sk-container-id-1 div.sk-parallel-item:first-child::after {align-self: flex-end;width: 50%;}#sk-container-id-1 div.sk-parallel-item:last-child::after {align-self: flex-start;width: 50%;}#sk-container-id-1 div.sk-parallel-item:only-child::after {width: 0;}#sk-container-id-1 div.sk-dashed-wrapped {border: 1px dashed gray;margin: 0 0.4em 0.5em 0.4em;box-sizing: border-box;padding-bottom: 0.4em;background-color: white;}#sk-container-id-1 div.sk-label label {font-family: monospace;font-weight: bold;display: inline-block;line-height: 1.2em;}#sk-container-id-1 div.sk-label-container {text-align: center;}#sk-container-id-1 div.sk-container {/* jupyter's `normalize.less` sets `[hidden] { display: none; }` but bootstrap.min.css set `[hidden] { display: none !important; }` so we also need the `!important` here to be able to override the default hidden behavior on the sphinx rendered scikit-learn.org. See: https://github.com/scikit-learn/scikit-learn/issues/21755 */display: inline-block !important;position: relative;}#sk-container-id-1 div.sk-text-repr-fallback {display: none;}</style><div id=\"sk-container-id-1\" class=\"sk-top-container\"><div class=\"sk-text-repr-fallback\"><pre>LogisticRegression()</pre><b>In a Jupyter environment, please rerun this cell to show the HTML representation or trust the notebook. <br />On GitHub, the HTML representation is unable to render, please try loading this page with nbviewer.org.</b></div><div class=\"sk-container\" hidden><div class=\"sk-item\"><div class=\"sk-estimator sk-toggleable\"><input class=\"sk-toggleable__control sk-hidden--visually\" id=\"sk-estimator-id-1\" type=\"checkbox\" checked><label for=\"sk-estimator-id-1\" class=\"sk-toggleable__label sk-toggleable__label-arrow\">LogisticRegression</label><div class=\"sk-toggleable__content\"><pre>LogisticRegression()</pre></div></div></div></div></div>"
      ],
      "text/plain": [
       "LogisticRegression()"
      ]
     },
     "execution_count": 17,
     "metadata": {},
     "output_type": "execute_result"
    }
   ],
   "source": [
    "# Train the model\n",
    "logit.fit(df_train[mri_types], df_train[\"MGMT_value\"])\n",
    "\n"
   ]
  },
  {
   "cell_type": "code",
   "execution_count": null,
   "id": "ceefcc5a",
   "metadata": {
    "papermill": {
     "duration": 0.46148,
     "end_time": "2024-01-04T14:39:16.923345",
     "exception": false,
     "start_time": "2024-01-04T14:39:16.461865",
     "status": "completed"
    },
    "tags": []
   },
   "outputs": [],
   "source": [
    "\n",
    "\n",
    "\n"
   ]
  },
  {
   "cell_type": "code",
   "execution_count": 18,
   "id": "95ad9114",
   "metadata": {
    "execution": {
     "iopub.execute_input": "2024-01-04T14:39:17.921307Z",
     "iopub.status.busy": "2024-01-04T14:39:17.920952Z",
     "iopub.status.idle": "2024-01-04T14:40:48.535316Z",
     "shell.execute_reply": "2024-01-04T14:40:48.534272Z"
    },
    "papermill": {
     "duration": 91.100473,
     "end_time": "2024-01-04T14:40:48.537808",
     "exception": false,
     "start_time": "2024-01-04T14:39:17.437335",
     "status": "completed"
    },
    "tags": []
   },
   "outputs": [
    {
     "name": "stdout",
     "output_type": "stream",
     "text": [
      "Predict: /kaggle/working/T1wCE-best.pth T1wCE (117, 7)\n"
     ]
    },
    {
     "name": "stderr",
     "output_type": "stream",
     "text": [
      "/opt/conda/lib/python3.10/site-packages/torch/utils/data/dataloader.py:561: UserWarning: This DataLoader will create 8 worker processes in total. Our suggested max number of worker in current system is 4, which is smaller than what this DataLoader is going to create. Please be aware that excessive worker creation might get DataLoader running slow or even freeze, lower the worker number to avoid potential slowness/freeze if necessary.\n",
      "  warnings.warn(_create_warning_msg(\n"
     ]
    },
    {
     "name": "stdout",
     "output_type": "stream",
     "text": [
      "Predict: /kaggle/working/T2w-best.pth T2w (117, 7)\n",
      "Predict: /kaggle/working/FLAIR-best.pth FLAIR (117, 7)\n",
      "Predict: /kaggle/working/T1w-best.pth T1w (117, 7)\n",
      "Validation ensemble AUC: 0.5735\n"
     ]
    },
    {
     "name": "stderr",
     "output_type": "stream",
     "text": [
      "/opt/conda/lib/python3.10/site-packages/seaborn/_oldcore.py:1119: FutureWarning: use_inf_as_na option is deprecated and will be removed in a future version. Convert inf values to NaN before operating instead.\n",
      "  with pd.option_context('mode.use_inf_as_na', True):\n"
     ]
    },
    {
     "data": {
      "text/plain": [
       "<seaborn.axisgrid.FacetGrid at 0x7fd72bd8a890>"
      ]
     },
     "execution_count": 18,
     "metadata": {},
     "output_type": "execute_result"
    },
    {
     "data": {
      "image/png": "[encoded data removed]",
      "text/plain": [
       "<Figure size 500x500 with 1 Axes>"
      ]
     },
     "metadata": {},
     "output_type": "display_data"
    }
   ],
   "source": [
    "\n",
    "df_valid[\"FLAIR\"] = 0\n",
    "df_valid[\"T1w\"] = 0\n",
    "df_valid[\"T1wCE\"] = 0\n",
    "df_valid[\"T2w\"] = 0\n",
    "\n",
    "\n",
    "df_valid = df_valid.set_index(\"BraTS21ID\")\n",
    "df_valid[\"MGMT_pred\"] = 0\n",
    "for m, mtype in zip(modelfiles,  mri_types):\n",
    "    pred = predict(m, df_valid, mtype, \"train\")\n",
    "    df_valid[mtype] = pred[\"MGMT_value\"]\n",
    "\n",
    "df_valid[\"MGMT_pred\"] = logit.predict_proba(df_valid[mri_types])[:,1]    \n",
    "auc = roc_auc_score(df_valid[\"MGMT_value\"], df_valid[\"MGMT_pred\"])\n",
    "print(f\"Validation ensemble AUC: {auc:.4f}\")\n",
    "sns.displot(df_valid[\"MGMT_pred\"])"
   ]
  },
  {
   "cell_type": "markdown",
   "id": "4a287d8e",
   "metadata": {
    "papermill": {
     "duration": 0.559315,
     "end_time": "2024-01-04T14:40:49.615537",
     "exception": false,
     "start_time": "2024-01-04T14:40:49.056222",
     "status": "completed"
    },
    "tags": []
   },
   "source": [
    "## Ensemble for submission"
   ]
  },
  {
   "cell_type": "code",
   "execution_count": 19,
   "id": "881f837d",
   "metadata": {
    "execution": {
     "iopub.execute_input": "2024-01-04T14:40:50.607234Z",
     "iopub.status.busy": "2024-01-04T14:40:50.606451Z",
     "iopub.status.idle": "2024-01-04T14:42:06.010385Z",
     "shell.execute_reply": "2024-01-04T14:42:06.009326Z"
    },
    "papermill": {
     "duration": 75.892835,
     "end_time": "2024-01-04T14:42:06.012834",
     "exception": false,
     "start_time": "2024-01-04T14:40:50.119999",
     "status": "completed"
    },
    "tags": []
   },
   "outputs": [
    {
     "name": "stdout",
     "output_type": "stream",
     "text": [
      "Predict: /kaggle/working/T1wCE-best.pth T1wCE (87, 5)\n"
     ]
    },
    {
     "name": "stderr",
     "output_type": "stream",
     "text": [
      "/opt/conda/lib/python3.10/site-packages/torch/utils/data/dataloader.py:561: UserWarning: This DataLoader will create 8 worker processes in total. Our suggested max number of worker in current system is 4, which is smaller than what this DataLoader is going to create. Please be aware that excessive worker creation might get DataLoader running slow or even freeze, lower the worker number to avoid potential slowness/freeze if necessary.\n",
      "  warnings.warn(_create_warning_msg(\n"
     ]
    },
    {
     "name": "stdout",
     "output_type": "stream",
     "text": [
      "Predict: /kaggle/working/T2w-best.pth T2w (87, 6)\n",
      "Predict: /kaggle/working/FLAIR-best.pth FLAIR (87, 6)\n",
      "Predict: /kaggle/working/T1w-best.pth T1w (87, 6)\n",
      "22/22\r"
     ]
    }
   ],
   "source": [
    "submission = pd.read_csv(f\"{data_directory}/sample_submission.csv\", index_col=\"BraTS21ID\")\n",
    "\n",
    "submission[\"FLAIR\"] = 0\n",
    "submission[\"T1w\"] = 0\n",
    "submission[\"T1wCE\"] = 0\n",
    "submission[\"T2w\"] = 0\n",
    "\n",
    "\n",
    "submission[\"MGMT_value\"] = 0\n",
    "for m, mtype in zip(modelfiles, mri_types):\n",
    "    pred = predict(m, submission, mtype, split=\"test\")\n",
    "    submission[mtype] = pred[\"MGMT_value\"]\n",
    "\n",
    "submission[\"MGMT_value\"] = logit.predict_proba(submission[mri_types])[:,1] \n",
    "submission[\"MGMT_value\"].to_csv(\"submission.csv\")"
   ]
  },
  {
   "cell_type": "code",
   "execution_count": null,
   "id": "c1be39a3",
   "metadata": {
    "papermill": {
     "duration": 0.525863,
     "end_time": "2024-01-04T14:42:07.128666",
     "exception": false,
     "start_time": "2024-01-04T14:42:06.602803",
     "status": "completed"
    },
    "tags": []
   },
   "outputs": [],
   "source": []
  },
  {
   "cell_type": "code",
   "execution_count": 20,
   "id": "9f05078e",
   "metadata": {
    "execution": {
     "iopub.execute_input": "2024-01-04T14:42:08.171830Z",
     "iopub.status.busy": "2024-01-04T14:42:08.171425Z",
     "iopub.status.idle": "2024-01-04T14:42:08.192272Z",
     "shell.execute_reply": "2024-01-04T14:42:08.191324Z"
    },
    "papermill": {
     "duration": 0.554541,
     "end_time": "2024-01-04T14:42:08.194722",
     "exception": false,
     "start_time": "2024-01-04T14:42:07.640181",
     "status": "completed"
    },
    "tags": []
   },
   "outputs": [
    {
     "data": {
      "text/html": [
       "<div>\n",
       "<style scoped>\n",
       "    .dataframe tbody tr th:only-of-type {\n",
       "        vertical-align: middle;\n",
       "    }\n",
       "\n",
       "    .dataframe tbody tr th {\n",
       "        vertical-align: top;\n",
       "    }\n",
       "\n",
       "    .dataframe thead th {\n",
       "        text-align: right;\n",
       "    }\n",
       "</style>\n",
       "<table border=\"1\" class=\"dataframe\">\n",
       "  <thead>\n",
       "    <tr style=\"text-align: right;\">\n",
       "      <th></th>\n",
       "      <th>MGMT_value</th>\n",
       "      <th>FLAIR</th>\n",
       "      <th>T1w</th>\n",
       "      <th>T1wCE</th>\n",
       "      <th>T2w</th>\n",
       "      <th>MRI_Type</th>\n",
       "    </tr>\n",
       "    <tr>\n",
       "      <th>BraTS21ID</th>\n",
       "      <th></th>\n",
       "      <th></th>\n",
       "      <th></th>\n",
       "      <th></th>\n",
       "      <th></th>\n",
       "      <th></th>\n",
       "    </tr>\n",
       "  </thead>\n",
       "  <tbody>\n",
       "    <tr>\n",
       "      <th>1</th>\n",
       "      <td>0.525825</td>\n",
       "      <td>0.509052</td>\n",
       "      <td>0.519894</td>\n",
       "      <td>0.506812</td>\n",
       "      <td>0.521693</td>\n",
       "      <td>T1w</td>\n",
       "    </tr>\n",
       "    <tr>\n",
       "      <th>13</th>\n",
       "      <td>0.525822</td>\n",
       "      <td>0.509053</td>\n",
       "      <td>0.519746</td>\n",
       "      <td>0.506805</td>\n",
       "      <td>0.521644</td>\n",
       "      <td>T1w</td>\n",
       "    </tr>\n",
       "    <tr>\n",
       "      <th>15</th>\n",
       "      <td>0.525828</td>\n",
       "      <td>0.509023</td>\n",
       "      <td>0.519776</td>\n",
       "      <td>0.506804</td>\n",
       "      <td>0.522063</td>\n",
       "      <td>T1w</td>\n",
       "    </tr>\n",
       "    <tr>\n",
       "      <th>27</th>\n",
       "      <td>0.525820</td>\n",
       "      <td>0.509048</td>\n",
       "      <td>0.519611</td>\n",
       "      <td>0.506809</td>\n",
       "      <td>0.521687</td>\n",
       "      <td>T1w</td>\n",
       "    </tr>\n",
       "    <tr>\n",
       "      <th>37</th>\n",
       "      <td>0.525729</td>\n",
       "      <td>0.509057</td>\n",
       "      <td>0.514929</td>\n",
       "      <td>0.506804</td>\n",
       "      <td>0.521739</td>\n",
       "      <td>T1w</td>\n",
       "    </tr>\n",
       "    <tr>\n",
       "      <th>...</th>\n",
       "      <td>...</td>\n",
       "      <td>...</td>\n",
       "      <td>...</td>\n",
       "      <td>...</td>\n",
       "      <td>...</td>\n",
       "      <td>...</td>\n",
       "    </tr>\n",
       "    <tr>\n",
       "      <th>826</th>\n",
       "      <td>0.525631</td>\n",
       "      <td>0.508996</td>\n",
       "      <td>0.512654</td>\n",
       "      <td>0.506827</td>\n",
       "      <td>0.517448</td>\n",
       "      <td>T1w</td>\n",
       "    </tr>\n",
       "    <tr>\n",
       "      <th>829</th>\n",
       "      <td>0.525627</td>\n",
       "      <td>0.509045</td>\n",
       "      <td>0.509814</td>\n",
       "      <td>0.506800</td>\n",
       "      <td>0.521611</td>\n",
       "      <td>T1w</td>\n",
       "    </tr>\n",
       "    <tr>\n",
       "      <th>833</th>\n",
       "      <td>0.525540</td>\n",
       "      <td>0.508974</td>\n",
       "      <td>0.508609</td>\n",
       "      <td>0.506794</td>\n",
       "      <td>0.516496</td>\n",
       "      <td>T1w</td>\n",
       "    </tr>\n",
       "    <tr>\n",
       "      <th>997</th>\n",
       "      <td>0.525774</td>\n",
       "      <td>0.509042</td>\n",
       "      <td>0.519708</td>\n",
       "      <td>0.506831</td>\n",
       "      <td>0.517912</td>\n",
       "      <td>T1w</td>\n",
       "    </tr>\n",
       "    <tr>\n",
       "      <th>1006</th>\n",
       "      <td>0.525628</td>\n",
       "      <td>0.509047</td>\n",
       "      <td>0.509789</td>\n",
       "      <td>0.506803</td>\n",
       "      <td>0.521667</td>\n",
       "      <td>T1w</td>\n",
       "    </tr>\n",
       "  </tbody>\n",
       "</table>\n",
       "<p>87 rows × 6 columns</p>\n",
       "</div>"
      ],
      "text/plain": [
       "           MGMT_value     FLAIR       T1w     T1wCE       T2w MRI_Type\n",
       "BraTS21ID                                                             \n",
       "1            0.525825  0.509052  0.519894  0.506812  0.521693      T1w\n",
       "13           0.525822  0.509053  0.519746  0.506805  0.521644      T1w\n",
       "15           0.525828  0.509023  0.519776  0.506804  0.522063      T1w\n",
       "27           0.525820  0.509048  0.519611  0.506809  0.521687      T1w\n",
       "37           0.525729  0.509057  0.514929  0.506804  0.521739      T1w\n",
       "...               ...       ...       ...       ...       ...      ...\n",
       "826          0.525631  0.508996  0.512654  0.506827  0.517448      T1w\n",
       "829          0.525627  0.509045  0.509814  0.506800  0.521611      T1w\n",
       "833          0.525540  0.508974  0.508609  0.506794  0.516496      T1w\n",
       "997          0.525774  0.509042  0.519708  0.506831  0.517912      T1w\n",
       "1006         0.525628  0.509047  0.509789  0.506803  0.521667      T1w\n",
       "\n",
       "[87 rows x 6 columns]"
      ]
     },
     "execution_count": 20,
     "metadata": {},
     "output_type": "execute_result"
    }
   ],
   "source": [
    "submission"
   ]
  },
  {
   "cell_type": "code",
   "execution_count": 21,
   "id": "50338167",
   "metadata": {
    "execution": {
     "iopub.execute_input": "2024-01-04T14:42:09.250471Z",
     "iopub.status.busy": "2024-01-04T14:42:09.250072Z",
     "iopub.status.idle": "2024-01-04T14:42:09.720894Z",
     "shell.execute_reply": "2024-01-04T14:42:09.719510Z"
    },
    "papermill": {
     "duration": 1.005591,
     "end_time": "2024-01-04T14:42:09.724012",
     "exception": false,
     "start_time": "2024-01-04T14:42:08.718421",
     "status": "completed"
    },
    "tags": []
   },
   "outputs": [
    {
     "name": "stderr",
     "output_type": "stream",
     "text": [
      "/opt/conda/lib/python3.10/site-packages/seaborn/_oldcore.py:1119: FutureWarning: use_inf_as_na option is deprecated and will be removed in a future version. Convert inf values to NaN before operating instead.\n",
      "  with pd.option_context('mode.use_inf_as_na', True):\n"
     ]
    },
    {
     "data": {
      "text/plain": [
       "<seaborn.axisgrid.FacetGrid at 0x7fd80cfd3d30>"
      ]
     },
     "execution_count": 21,
     "metadata": {},
     "output_type": "execute_result"
    },
    {
     "data": {
      "image/png": "[encoded data removed]",
      "text/plain": [
       "<Figure size 500x500 with 1 Axes>"
      ]
     },
     "metadata": {},
     "output_type": "display_data"
    }
   ],
   "source": [
    "sns.displot(submission[\"MGMT_value\"])"
   ]
  },
  {
   "cell_type": "code",
   "execution_count": null,
   "id": "66d90575",
   "metadata": {
    "papermill": {
     "duration": 0.524799,
     "end_time": "2024-01-04T14:42:10.894486",
     "exception": false,
     "start_time": "2024-01-04T14:42:10.369687",
     "status": "completed"
    },
    "tags": []
   },
   "outputs": [],
   "source": []
  }
 ],
 "metadata": {
  "kaggle": {
   "accelerator": "nvidiaTeslaT4",
   "dataSources": [
    {
     "databundleVersionId": 2420395,
     "sourceId": 29653,
     "sourceType": "competition"
    },
    {
     "datasetId": 1046169,
     "sourceId": 1760030,
     "sourceType": "datasetVersion"
    },
    {
     "datasetId": 1466252,
     "sourceId": 2423144,
     "sourceType": "datasetVersion"
    },
    {
     "datasetId": 4257150,
     "sourceId": 7333347,
     "sourceType": "datasetVersion"
    }
   ],
   "dockerImageVersionId": 30627,
   "isGpuEnabled": true,
   "isInternetEnabled": false,
   "language": "python",
   "sourceType": "notebook"
  },
  "kernelspec": {
   "display_name": "Python 3",
   "language": "python",
   "name": "python3"
  },
  "language_info": {
   "codemirror_mode": {
    "name": "ipython",
    "version": 3
   },
   "file_extension": ".py",
   "mimetype": "text/x-python",
   "name": "python",
   "nbconvert_exporter": "python",
   "pygments_lexer": "ipython3",
   "version": "3.10.12"
  },
  "papermill": {
   "default_parameters": {},
   "duration": 3969.213062,
   "end_time": "2024-01-04T14:42:14.991999",
   "environment_variables": {},
   "exception": null,
   "input_path": "__notebook__.ipynb",
   "output_path": "__notebook__.ipynb",
   "parameters": {},
   "start_time": "2024-01-04T13:36:05.778937",
   "version": "2.4.0"
  }
 },
 "nbformat": 4,
 "nbformat_minor": 5
}
